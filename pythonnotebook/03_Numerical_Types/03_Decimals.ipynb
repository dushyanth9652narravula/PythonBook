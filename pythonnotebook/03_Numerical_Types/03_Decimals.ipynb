{
 "cells": [
  {
   "cell_type": "markdown",
   "id": "883cbad2",
   "metadata": {},
   "source": [
    "# Decimals"
   ]
  }
 ],
 "metadata": {
  "language_info": {
   "name": "python"
  }
 },
 "nbformat": 4,
 "nbformat_minor": 5
}
