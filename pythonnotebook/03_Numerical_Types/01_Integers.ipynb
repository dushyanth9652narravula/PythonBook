{
 "cells": [
  {
   "cell_type": "markdown",
   "id": "4a055733",
   "metadata": {},
   "source": [
    "# Integers"
   ]
  },
  {
   "cell_type": "markdown",
   "id": "9a51a104",
   "metadata": {},
   "source": []
  }
 ],
 "metadata": {
  "language_info": {
   "name": "python"
  }
 },
 "nbformat": 4,
 "nbformat_minor": 5
}
