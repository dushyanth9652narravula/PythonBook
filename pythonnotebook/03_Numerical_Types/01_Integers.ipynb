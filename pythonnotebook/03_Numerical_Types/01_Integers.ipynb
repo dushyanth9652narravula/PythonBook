{
 "cells": [
  {
   "cell_type": "markdown",
   "id": "4a055733",
   "metadata": {},
   "source": [
    "# Numeric Data Types in Python"
   ]
  },
  {
   "cell_type": "markdown",
   "id": "8d510325",
   "metadata": {},
   "source": [
    "## Introduction to Numeric Data Types in Python\n",
    "\n",
    "- In Python, we majorly have 5 numeric data types. Those are :\n",
    "\n",
    "  1. **Integers Numbers (Z)** : Integer values are 0,1,2,-2 etc. In python we call it as `int`.\n",
    "  2. **Rational Numbers (Q)** : The numbers which are in p/q form i.e {p/q | p,q belongs to Z where q!=0}. In python rational numbers are represented by `Fractions` class.\n",
    "  3. **Real Numbers (R)** : Real Numbers are just decimal numbers. In python we represent real numbers as `float`, `Decimal` etc.\n",
    "  4. **Complex Numbers (C)** : The numbers which are in te form of {a+ib | a,b belongs to R}. In python, we represent complex numbers with `complex` class.\n",
    "  5. **Boolean Values** : Boolean Values are just True(1) or False(0). In python, we represent these numbers with `bool` class. "
   ]
  }
 ],
 "metadata": {
  "language_info": {
   "name": "python"
  }
 },
 "nbformat": 4,
 "nbformat_minor": 5
}
