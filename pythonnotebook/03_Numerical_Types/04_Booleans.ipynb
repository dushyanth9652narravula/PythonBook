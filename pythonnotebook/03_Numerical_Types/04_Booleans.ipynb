{
 "cells": [
  {
   "cell_type": "markdown",
   "id": "85d10993",
   "metadata": {},
   "source": [
    "# Booleans"
   ]
  }
 ],
 "metadata": {
  "language_info": {
   "name": "python"
  }
 },
 "nbformat": 4,
 "nbformat_minor": 5
}
