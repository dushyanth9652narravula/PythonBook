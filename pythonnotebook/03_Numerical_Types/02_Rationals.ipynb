{
 "cells": [
  {
   "cell_type": "markdown",
   "id": "8cf0dcab",
   "metadata": {},
   "source": [
    "# Rationals"
   ]
  },
  {
   "cell_type": "markdown",
   "id": "f93e355c",
   "metadata": {},
   "source": []
  }
 ],
 "metadata": {
  "language_info": {
   "name": "python"
  }
 },
 "nbformat": 4,
 "nbformat_minor": 5
}
