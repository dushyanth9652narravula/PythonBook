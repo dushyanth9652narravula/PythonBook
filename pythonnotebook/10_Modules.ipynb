{
 "cells": [
  {
   "cell_type": "markdown",
   "id": "4ee24985",
   "metadata": {},
   "source": [
    "# Modules\n",
    "\n",
    "## Introduction\n",
    "\n",
    "- In python, a module is a file contianing python code that can define the functions, classes, and variables and can also include runnable code. Modules helps organize code into seperate files for better structure and reusability.\n",
    "\n",
    "- Generally we have different type of modules which are `Standard Library Module` which are also called as `builtins`. These modules are written in C. Even some of the `builtin` modules are written in python such as `Fractions` etc. There are some modules called `Third Party Modules` which are installed via pip such as `numpy`, `pandas` etc. In python we have custom modules which are create by our own such `.py` file. Every `.py` file is a module.\n",
    "\n",
    "- We know everything is an object in python. So modules are also objects. These are objects of type `ModuleType`. When you run `type(module_name)` , it would return the `<module_name module path> (if it is builtin then you see builtin instead of path).\n",
    "\n",
    "- Every module as seperate namespace. Each and every attribute and methods of this module (such as functions, classes, variables) are stored in this namespace. We can get the namespace of the module by calling its `__dict__` property. So the syntax is `module_name.__dict__` which return a dictionary containing modules attributes, methods, classes labels and their corresponding objects. In general an object which has namespace can able to create its attributes at run time also.\n",
    "\n",
    "- To get the namespace of global scope we use `globals()` function which is a builtin function in builtin module. To get the namespace of the local scope we use `locals()` method.\n",
    "\n",
    "- Generally all the modules we have loaded into a python scripts are stored in `sys.modules` cache. So when python encounters an import statement then it first checks for that module in sys.module. If it finds there then it returns te corresponding module object. If it can't find in sys.modules then it checks in sys.path which contains path of all modules and then python loads the source code from the sys.path and executes that code and create module object for that source code and then store it in sys.module.\n",
    "\n",
    "- `sys.module` is an dictionary where key are module names and corresponding values are module objects."
   ]
  },
  {
   "cell_type": "code",
   "execution_count": 7,
   "id": "363f2013",
   "metadata": {},
   "outputs": [
    {
     "data": {
      "text/plain": [
       "{'__name__': '__main__',\n",
       " '__doc__': 'Automatically created module for IPython interactive environment',\n",
       " '__package__': None,\n",
       " '__loader__': None,\n",
       " '__spec__': None,\n",
       " '__builtin__': <module 'builtins' (built-in)>,\n",
       " '__builtins__': <module 'builtins' (built-in)>,\n",
       " '_ih': ['',\n",
       "  'globals()',\n",
       "  'type(__main__)',\n",
       "  'type(__name__)',\n",
       "  \"type(gloabls()['__name__'])\",\n",
       "  \"type(globals()['__name__'])\",\n",
       "  'modules.__dict__',\n",
       "  '# Now lets see the global present in the current module\\n\\nglobals()'],\n",
       " '_oh': {1: {...}, 3: str, 5: str},\n",
       " '_dh': [WindowsPath('f:/DushyanthData/PythonBook/pythonnotebook')],\n",
       " 'In': ['',\n",
       "  'globals()',\n",
       "  'type(__main__)',\n",
       "  'type(__name__)',\n",
       "  \"type(gloabls()['__name__'])\",\n",
       "  \"type(globals()['__name__'])\",\n",
       "  'modules.__dict__',\n",
       "  '# Now lets see the global present in the current module\\n\\nglobals()'],\n",
       " 'Out': {1: {...}, 3: str, 5: str},\n",
       " 'get_ipython': <bound method InteractiveShell.get_ipython of <ipykernel.zmqshell.ZMQInteractiveShell object at 0x00000137CDADF940>>,\n",
       " 'exit': <IPython.core.autocall.ZMQExitAutocall at 0x137cdb1c400>,\n",
       " 'quit': <IPython.core.autocall.ZMQExitAutocall at 0x137cdb1c400>,\n",
       " 'open': <function io.open(file, mode='r', buffering=-1, encoding=None, errors=None, newline=None, closefd=True, opener=None)>,\n",
       " '_': str,\n",
       " '__': str,\n",
       " '___': {...},\n",
       " '__vsc_ipynb_file__': 'f:\\\\DushyanthData\\\\PythonBook\\\\pythonnotebook\\\\10_Modules.ipynb',\n",
       " '_i': 'modules.__dict__',\n",
       " '_ii': \"type(globals()['__name__'])\",\n",
       " '_iii': \"type(gloabls()['__name__'])\",\n",
       " '_i1': 'globals()',\n",
       " '_1': {...},\n",
       " '_i2': 'type(__main__)',\n",
       " '_i3': 'type(__name__)',\n",
       " '_3': str,\n",
       " '_i4': \"type(gloabls()['__name__'])\",\n",
       " '_i5': \"type(globals()['__name__'])\",\n",
       " '_5': str,\n",
       " '_i6': 'modules.__dict__',\n",
       " '_i7': '# Now lets see the global present in the current module\\n\\nglobals()'}"
      ]
     },
     "execution_count": 7,
     "metadata": {},
     "output_type": "execute_result"
    }
   ],
   "source": [
    "# Now lets see the global present in the current module\n",
    "\n",
    "globals()"
   ]
  },
  {
   "cell_type": "code",
   "execution_count": null,
   "id": "1b3d47ea",
   "metadata": {},
   "outputs": [
    {
     "data": {
      "text/plain": [
       "{'__name__': 'builtins',\n",
       " '__doc__': \"Built-in functions, exceptions, and other objects.\\n\\nNoteworthy: None is the `nil' object; Ellipsis represents `...' in slices.\",\n",
       " '__package__': '',\n",
       " '__loader__': _frozen_importlib.BuiltinImporter,\n",
       " '__spec__': ModuleSpec(name='builtins', loader=<class '_frozen_importlib.BuiltinImporter'>, origin='built-in'),\n",
       " '__build_class__': <function __build_class__>,\n",
       " '__import__': <function __import__>,\n",
       " 'abs': <function abs(x, /)>,\n",
       " 'all': <function all(iterable, /)>,\n",
       " 'any': <function any(iterable, /)>,\n",
       " 'ascii': <function ascii(obj, /)>,\n",
       " 'bin': <function bin(number, /)>,\n",
       " 'breakpoint': <function breakpoint>,\n",
       " 'callable': <function callable(obj, /)>,\n",
       " 'chr': <function chr(i, /)>,\n",
       " 'compile': <function compile(source, filename, mode, flags=0, dont_inherit=False, optimize=-1, *, _feature_version=-1)>,\n",
       " 'delattr': <function delattr(obj, name, /)>,\n",
       " 'dir': <function dir>,\n",
       " 'divmod': <function divmod(x, y, /)>,\n",
       " 'eval': <function eval(source, globals=None, locals=None, /)>,\n",
       " 'exec': <function exec(source, globals=None, locals=None, /)>,\n",
       " 'format': <function format(value, format_spec='', /)>,\n",
       " 'getattr': <function getattr>,\n",
       " 'globals': <function globals()>,\n",
       " 'hasattr': <function hasattr(obj, name, /)>,\n",
       " 'hash': <function hash(obj, /)>,\n",
       " 'hex': <function hex(number, /)>,\n",
       " 'id': <function id(obj, /)>,\n",
       " 'input': <bound method Kernel.raw_input of <ipykernel.ipkernel.IPythonKernel object at 0x00000137CD6BB520>>,\n",
       " 'isinstance': <function isinstance(obj, class_or_tuple, /)>,\n",
       " 'issubclass': <function issubclass(cls, class_or_tuple, /)>,\n",
       " 'iter': <function iter>,\n",
       " 'aiter': <function aiter(async_iterable, /)>,\n",
       " 'len': <function len(obj, /)>,\n",
       " 'locals': <function locals()>,\n",
       " 'max': <function max>,\n",
       " 'min': <function min>,\n",
       " 'next': <function next>,\n",
       " 'anext': <function anext>,\n",
       " 'oct': <function oct(number, /)>,\n",
       " 'ord': <function ord(c, /)>,\n",
       " 'pow': <function pow(base, exp, mod=None)>,\n",
       " 'print': <function print>,\n",
       " 'repr': <function repr(obj, /)>,\n",
       " 'round': <function round(number, ndigits=None)>,\n",
       " 'setattr': <function setattr(obj, name, value, /)>,\n",
       " 'sorted': <function sorted(iterable, /, *, key=None, reverse=False)>,\n",
       " 'sum': <function sum(iterable, /, start=0)>,\n",
       " 'vars': <function vars>,\n",
       " 'None': None,\n",
       " 'Ellipsis': Ellipsis,\n",
       " 'NotImplemented': NotImplemented,\n",
       " 'False': False,\n",
       " 'True': True,\n",
       " 'bool': bool,\n",
       " 'memoryview': memoryview,\n",
       " 'bytearray': bytearray,\n",
       " 'bytes': bytes,\n",
       " 'classmethod': classmethod,\n",
       " 'complex': complex,\n",
       " 'dict': dict,\n",
       " 'enumerate': enumerate,\n",
       " 'filter': filter,\n",
       " 'float': float,\n",
       " 'frozenset': frozenset,\n",
       " 'property': property,\n",
       " 'int': int,\n",
       " 'list': list,\n",
       " 'map': map,\n",
       " 'object': object,\n",
       " 'range': range,\n",
       " 'reversed': reversed,\n",
       " 'set': set,\n",
       " 'slice': slice,\n",
       " 'staticmethod': staticmethod,\n",
       " 'str': str,\n",
       " 'super': super,\n",
       " 'tuple': tuple,\n",
       " 'type': type,\n",
       " 'zip': zip,\n",
       " '__debug__': True,\n",
       " 'BaseException': BaseException,\n",
       " 'Exception': Exception,\n",
       " 'TypeError': TypeError,\n",
       " 'StopAsyncIteration': StopAsyncIteration,\n",
       " 'StopIteration': StopIteration,\n",
       " 'GeneratorExit': GeneratorExit,\n",
       " 'SystemExit': SystemExit,\n",
       " 'KeyboardInterrupt': KeyboardInterrupt,\n",
       " 'ImportError': ImportError,\n",
       " 'ModuleNotFoundError': ModuleNotFoundError,\n",
       " 'OSError': OSError,\n",
       " 'EnvironmentError': OSError,\n",
       " 'IOError': OSError,\n",
       " 'WindowsError': OSError,\n",
       " 'EOFError': EOFError,\n",
       " 'RuntimeError': RuntimeError,\n",
       " 'RecursionError': RecursionError,\n",
       " 'NotImplementedError': NotImplementedError,\n",
       " 'NameError': NameError,\n",
       " 'UnboundLocalError': UnboundLocalError,\n",
       " 'AttributeError': AttributeError,\n",
       " 'SyntaxError': SyntaxError,\n",
       " 'IndentationError': IndentationError,\n",
       " 'TabError': TabError,\n",
       " 'LookupError': LookupError,\n",
       " 'IndexError': IndexError,\n",
       " 'KeyError': KeyError,\n",
       " 'ValueError': ValueError,\n",
       " 'UnicodeError': UnicodeError,\n",
       " 'UnicodeEncodeError': UnicodeEncodeError,\n",
       " 'UnicodeDecodeError': UnicodeDecodeError,\n",
       " 'UnicodeTranslateError': UnicodeTranslateError,\n",
       " 'AssertionError': AssertionError,\n",
       " 'ArithmeticError': ArithmeticError,\n",
       " 'FloatingPointError': FloatingPointError,\n",
       " 'OverflowError': OverflowError,\n",
       " 'ZeroDivisionError': ZeroDivisionError,\n",
       " 'SystemError': SystemError,\n",
       " 'ReferenceError': ReferenceError,\n",
       " 'MemoryError': MemoryError,\n",
       " 'BufferError': BufferError,\n",
       " 'Warning': Warning,\n",
       " 'UserWarning': UserWarning,\n",
       " 'EncodingWarning': EncodingWarning,\n",
       " 'DeprecationWarning': DeprecationWarning,\n",
       " 'PendingDeprecationWarning': PendingDeprecationWarning,\n",
       " 'SyntaxWarning': SyntaxWarning,\n",
       " 'RuntimeWarning': RuntimeWarning,\n",
       " 'FutureWarning': FutureWarning,\n",
       " 'ImportWarning': ImportWarning,\n",
       " 'UnicodeWarning': UnicodeWarning,\n",
       " 'BytesWarning': BytesWarning,\n",
       " 'ResourceWarning': ResourceWarning,\n",
       " 'ConnectionError': ConnectionError,\n",
       " 'BlockingIOError': BlockingIOError,\n",
       " 'BrokenPipeError': BrokenPipeError,\n",
       " 'ChildProcessError': ChildProcessError,\n",
       " 'ConnectionAbortedError': ConnectionAbortedError,\n",
       " 'ConnectionRefusedError': ConnectionRefusedError,\n",
       " 'ConnectionResetError': ConnectionResetError,\n",
       " 'FileExistsError': FileExistsError,\n",
       " 'FileNotFoundError': FileNotFoundError,\n",
       " 'IsADirectoryError': IsADirectoryError,\n",
       " 'NotADirectoryError': NotADirectoryError,\n",
       " 'InterruptedError': InterruptedError,\n",
       " 'PermissionError': PermissionError,\n",
       " 'ProcessLookupError': ProcessLookupError,\n",
       " 'TimeoutError': TimeoutError,\n",
       " 'open': <function io.open(file, mode='r', buffering=-1, encoding=None, errors=None, newline=None, closefd=True, opener=None)>,\n",
       " 'copyright': Copyright (c) 2001-2021 Python Software Foundation.\n",
       " All Rights Reserved.\n",
       " \n",
       " Copyright (c) 2000 BeOpen.com.\n",
       " All Rights Reserved.\n",
       " \n",
       " Copyright (c) 1995-2001 Corporation for National Research Initiatives.\n",
       " All Rights Reserved.\n",
       " \n",
       " Copyright (c) 1991-1995 Stichting Mathematisch Centrum, Amsterdam.\n",
       " All Rights Reserved.,\n",
       " 'credits':     Thanks to CWI, CNRI, BeOpen.com, Zope Corporation and a cast of thousands\n",
       "     for supporting Python development.  See www.python.org for more information.,\n",
       " 'license': Type license() to see the full license text,\n",
       " 'help': Type help() for interactive help, or help(object) for help about object.,\n",
       " 'execfile': <function _pydev_bundle._pydev_execfile.execfile(file, glob=None, loc=None)>,\n",
       " 'runfile': <function _pydev_bundle.pydev_umd.runfile(filename, args=None, wdir=None, namespace=None)>,\n",
       " '__IPYTHON__': True,\n",
       " 'display': <function IPython.core.display_functions.display(*objs, include=None, exclude=None, metadata=None, transient=None, display_id=None, raw=False, clear=False, **kwargs)>,\n",
       " 'get_ipython': <bound method InteractiveShell.get_ipython of <ipykernel.zmqshell.ZMQInteractiveShell object at 0x00000137CDADF940>>}"
      ]
     },
     "execution_count": 8,
     "metadata": {},
     "output_type": "execute_result"
    }
   ],
   "source": [
    "# In the namespace of global scope we can see buitins module .\n",
    "\n",
    "# So now lets check the namesapce of that __builtins__ module\n",
    "\n",
    "__builtins__.__dict__\n",
    "\n",
    "# Here we can see all the methods and attributes defined in this builtins module"
   ]
  },
  {
   "cell_type": "code",
   "execution_count": null,
   "id": "f83ad9a6",
   "metadata": {},
   "outputs": [
    {
     "data": {
      "text/plain": [
       "<module 'math' (built-in)>"
      ]
     },
     "execution_count": 9,
     "metadata": {},
     "output_type": "execute_result"
    }
   ],
   "source": [
    "# Now lets import the standard library modules in python\n",
    "\n",
    "import math, fractions\n",
    "\n",
    "math\n",
    "\n",
    "# We can see its type is module and it is built-in"
   ]
  },
  {
   "cell_type": "code",
   "execution_count": null,
   "id": "d91bcbde",
   "metadata": {},
   "outputs": [
    {
     "data": {
      "text/plain": [
       "<module 'fractions' from 'C:\\\\Users\\\\HP\\\\AppData\\\\Local\\\\Programs\\\\Python\\\\Python310\\\\lib\\\\fractions.py'>"
      ]
     },
     "execution_count": 10,
     "metadata": {},
     "output_type": "execute_result"
    }
   ],
   "source": [
    "fractions\n",
    "\n",
    "# We can see its type is module is located at the below specified path and loaded this module from that path."
   ]
  },
  {
   "cell_type": "code",
   "execution_count": 11,
   "id": "d2b62c53",
   "metadata": {},
   "outputs": [
    {
     "data": {
      "text/plain": [
       "{'__name__': 'math',\n",
       " '__doc__': 'This module provides access to the mathematical functions\\ndefined by the C standard.',\n",
       " '__package__': '',\n",
       " '__loader__': _frozen_importlib.BuiltinImporter,\n",
       " '__spec__': ModuleSpec(name='math', loader=<class '_frozen_importlib.BuiltinImporter'>, origin='built-in'),\n",
       " 'acos': <function math.acos(x, /)>,\n",
       " 'acosh': <function math.acosh(x, /)>,\n",
       " 'asin': <function math.asin(x, /)>,\n",
       " 'asinh': <function math.asinh(x, /)>,\n",
       " 'atan': <function math.atan(x, /)>,\n",
       " 'atan2': <function math.atan2(y, x, /)>,\n",
       " 'atanh': <function math.atanh(x, /)>,\n",
       " 'ceil': <function math.ceil(x, /)>,\n",
       " 'copysign': <function math.copysign(x, y, /)>,\n",
       " 'cos': <function math.cos(x, /)>,\n",
       " 'cosh': <function math.cosh(x, /)>,\n",
       " 'degrees': <function math.degrees(x, /)>,\n",
       " 'dist': <function math.dist(p, q, /)>,\n",
       " 'erf': <function math.erf(x, /)>,\n",
       " 'erfc': <function math.erfc(x, /)>,\n",
       " 'exp': <function math.exp(x, /)>,\n",
       " 'expm1': <function math.expm1(x, /)>,\n",
       " 'fabs': <function math.fabs(x, /)>,\n",
       " 'factorial': <function math.factorial(x, /)>,\n",
       " 'floor': <function math.floor(x, /)>,\n",
       " 'fmod': <function math.fmod(x, y, /)>,\n",
       " 'frexp': <function math.frexp(x, /)>,\n",
       " 'fsum': <function math.fsum(seq, /)>,\n",
       " 'gamma': <function math.gamma(x, /)>,\n",
       " 'gcd': <function math.gcd(*integers)>,\n",
       " 'hypot': <function math.hypot>,\n",
       " 'isclose': <function math.isclose(a, b, *, rel_tol=1e-09, abs_tol=0.0)>,\n",
       " 'isfinite': <function math.isfinite(x, /)>,\n",
       " 'isinf': <function math.isinf(x, /)>,\n",
       " 'isnan': <function math.isnan(x, /)>,\n",
       " 'isqrt': <function math.isqrt(n, /)>,\n",
       " 'lcm': <function math.lcm(*integers)>,\n",
       " 'ldexp': <function math.ldexp(x, i, /)>,\n",
       " 'lgamma': <function math.lgamma(x, /)>,\n",
       " 'log': <function math.log>,\n",
       " 'log1p': <function math.log1p(x, /)>,\n",
       " 'log10': <function math.log10(x, /)>,\n",
       " 'log2': <function math.log2(x, /)>,\n",
       " 'modf': <function math.modf(x, /)>,\n",
       " 'pow': <function math.pow(x, y, /)>,\n",
       " 'radians': <function math.radians(x, /)>,\n",
       " 'remainder': <function math.remainder(x, y, /)>,\n",
       " 'sin': <function math.sin(x, /)>,\n",
       " 'sinh': <function math.sinh(x, /)>,\n",
       " 'sqrt': <function math.sqrt(x, /)>,\n",
       " 'tan': <function math.tan(x, /)>,\n",
       " 'tanh': <function math.tanh(x, /)>,\n",
       " 'trunc': <function math.trunc(x, /)>,\n",
       " 'prod': <function math.prod(iterable, /, *, start=1)>,\n",
       " 'perm': <function math.perm(n, k=None, /)>,\n",
       " 'comb': <function math.comb(n, k, /)>,\n",
       " 'nextafter': <function math.nextafter(x, y, /)>,\n",
       " 'ulp': <function math.ulp(x, /)>,\n",
       " 'pi': 3.141592653589793,\n",
       " 'e': 2.718281828459045,\n",
       " 'tau': 6.283185307179586,\n",
       " 'inf': inf,\n",
       " 'nan': nan}"
      ]
     },
     "execution_count": 11,
     "metadata": {},
     "output_type": "execute_result"
    }
   ],
   "source": [
    "# So now lets see what are te attributes and methods in both these modules\n",
    "\n",
    "math.__dict__"
   ]
  },
  {
   "cell_type": "code",
   "execution_count": 12,
   "id": "70ac131c",
   "metadata": {},
   "outputs": [
    {
     "data": {
      "text/plain": [
       "1.4142135623730951"
      ]
     },
     "execution_count": 12,
     "metadata": {},
     "output_type": "execute_result"
    }
   ],
   "source": [
    "# As we can see math module contains so many attributs and functions. now lets access some of the functions in math\n",
    "\n",
    "math.sqrt(2)"
   ]
  },
  {
   "cell_type": "code",
   "execution_count": 13,
   "id": "576839f1",
   "metadata": {},
   "outputs": [
    {
     "data": {
      "text/plain": [
       "{'__name__': 'math',\n",
       " '__doc__': 'This module provides access to the mathematical functions\\ndefined by the C standard.',\n",
       " '__package__': '',\n",
       " '__loader__': _frozen_importlib.BuiltinImporter,\n",
       " '__spec__': ModuleSpec(name='math', loader=<class '_frozen_importlib.BuiltinImporter'>, origin='built-in'),\n",
       " 'acos': <function math.acos(x, /)>,\n",
       " 'acosh': <function math.acosh(x, /)>,\n",
       " 'asin': <function math.asin(x, /)>,\n",
       " 'asinh': <function math.asinh(x, /)>,\n",
       " 'atan': <function math.atan(x, /)>,\n",
       " 'atan2': <function math.atan2(y, x, /)>,\n",
       " 'atanh': <function math.atanh(x, /)>,\n",
       " 'ceil': <function math.ceil(x, /)>,\n",
       " 'copysign': <function math.copysign(x, y, /)>,\n",
       " 'cos': <function math.cos(x, /)>,\n",
       " 'cosh': <function math.cosh(x, /)>,\n",
       " 'degrees': <function math.degrees(x, /)>,\n",
       " 'dist': <function math.dist(p, q, /)>,\n",
       " 'erf': <function math.erf(x, /)>,\n",
       " 'erfc': <function math.erfc(x, /)>,\n",
       " 'exp': <function math.exp(x, /)>,\n",
       " 'expm1': <function math.expm1(x, /)>,\n",
       " 'fabs': <function math.fabs(x, /)>,\n",
       " 'factorial': <function math.factorial(x, /)>,\n",
       " 'floor': <function math.floor(x, /)>,\n",
       " 'fmod': <function math.fmod(x, y, /)>,\n",
       " 'frexp': <function math.frexp(x, /)>,\n",
       " 'fsum': <function math.fsum(seq, /)>,\n",
       " 'gamma': <function math.gamma(x, /)>,\n",
       " 'gcd': <function math.gcd(*integers)>,\n",
       " 'hypot': <function math.hypot>,\n",
       " 'isclose': <function math.isclose(a, b, *, rel_tol=1e-09, abs_tol=0.0)>,\n",
       " 'isfinite': <function math.isfinite(x, /)>,\n",
       " 'isinf': <function math.isinf(x, /)>,\n",
       " 'isnan': <function math.isnan(x, /)>,\n",
       " 'isqrt': <function math.isqrt(n, /)>,\n",
       " 'lcm': <function math.lcm(*integers)>,\n",
       " 'ldexp': <function math.ldexp(x, i, /)>,\n",
       " 'lgamma': <function math.lgamma(x, /)>,\n",
       " 'log': <function math.log>,\n",
       " 'log1p': <function math.log1p(x, /)>,\n",
       " 'log10': <function math.log10(x, /)>,\n",
       " 'log2': <function math.log2(x, /)>,\n",
       " 'modf': <function math.modf(x, /)>,\n",
       " 'pow': <function math.pow(x, y, /)>,\n",
       " 'radians': <function math.radians(x, /)>,\n",
       " 'remainder': <function math.remainder(x, y, /)>,\n",
       " 'sin': <function math.sin(x, /)>,\n",
       " 'sinh': <function math.sinh(x, /)>,\n",
       " 'sqrt': <function math.sqrt(x, /)>,\n",
       " 'tan': <function math.tan(x, /)>,\n",
       " 'tanh': <function math.tanh(x, /)>,\n",
       " 'trunc': <function math.trunc(x, /)>,\n",
       " 'prod': <function math.prod(iterable, /, *, start=1)>,\n",
       " 'perm': <function math.perm(n, k=None, /)>,\n",
       " 'comb': <function math.comb(n, k, /)>,\n",
       " 'nextafter': <function math.nextafter(x, y, /)>,\n",
       " 'ulp': <function math.ulp(x, /)>,\n",
       " 'pi': 3.141592653589793,\n",
       " 'e': 2.718281828459045,\n",
       " 'tau': 6.283185307179586,\n",
       " 'inf': inf,\n",
       " 'nan': nan,\n",
       " 'speak': <function __main__.<lambda>(x)>}"
      ]
     },
     "execution_count": 13,
     "metadata": {},
     "output_type": "execute_result"
    }
   ],
   "source": [
    "# We can add some more attributes to this module by ourselves.\n",
    "\n",
    "math.speak = lambda x : \"Hello {0}\".format(x)\n",
    "\n",
    "# Now lets check it is present in math namespace or not\n",
    "\n",
    "math.__dict__"
   ]
  },
  {
   "cell_type": "code",
   "execution_count": 14,
   "id": "51871728",
   "metadata": {},
   "outputs": [
    {
     "data": {
      "text/plain": [
       "'Hello World'"
      ]
     },
     "execution_count": 14,
     "metadata": {},
     "output_type": "execute_result"
    }
   ],
   "source": [
    "# If you see the above output, speak method is added to the namespace of the math module\n",
    "\n",
    "# Now lets access that method\n",
    "\n",
    "math.speak(\"World\")"
   ]
  },
  {
   "cell_type": "code",
   "execution_count": 15,
   "id": "077b02d6",
   "metadata": {},
   "outputs": [
    {
     "data": {
      "text/plain": [
       "'Hello Sir'"
      ]
     },
     "execution_count": 15,
     "metadata": {},
     "output_type": "execute_result"
    }
   ],
   "source": [
    "math.speak(\"Sir\")"
   ]
  },
  {
   "cell_type": "code",
   "execution_count": null,
   "id": "456a9e37",
   "metadata": {},
   "outputs": [
    {
     "data": {
      "text/plain": [
       "{'sys': <module 'sys' (built-in)>,\n",
       " 'builtins': <module 'builtins' (built-in)>,\n",
       " '_frozen_importlib': <module '_frozen_importlib' (frozen)>,\n",
       " '_imp': <module '_imp' (built-in)>,\n",
       " '_thread': <module '_thread' (built-in)>,\n",
       " '_warnings': <module '_warnings' (built-in)>,\n",
       " '_weakref': <module '_weakref' (built-in)>,\n",
       " '_io': <module '_io' (built-in)>,\n",
       " 'marshal': <module 'marshal' (built-in)>,\n",
       " 'nt': <module 'nt' (built-in)>,\n",
       " 'winreg': <module 'winreg' (built-in)>,\n",
       " '_frozen_importlib_external': <module '_frozen_importlib_external' (frozen)>,\n",
       " 'time': <module 'time' (built-in)>,\n",
       " 'zipimport': <module 'zipimport' (frozen)>,\n",
       " '_codecs': <module '_codecs' (built-in)>,\n",
       " 'codecs': <module 'codecs' from 'C:\\\\Users\\\\HP\\\\AppData\\\\Local\\\\Programs\\\\Python\\\\Python310\\\\lib\\\\codecs.py'>,\n",
       " 'encodings.aliases': <module 'encodings.aliases' from 'C:\\\\Users\\\\HP\\\\AppData\\\\Local\\\\Programs\\\\Python\\\\Python310\\\\lib\\\\encodings\\\\aliases.py'>,\n",
       " 'encodings': <module 'encodings' from 'C:\\\\Users\\\\HP\\\\AppData\\\\Local\\\\Programs\\\\Python\\\\Python310\\\\lib\\\\encodings\\\\__init__.py'>,\n",
       " 'encodings.utf_8': <module 'encodings.utf_8' from 'C:\\\\Users\\\\HP\\\\AppData\\\\Local\\\\Programs\\\\Python\\\\Python310\\\\lib\\\\encodings\\\\utf_8.py'>,\n",
       " '_signal': <module '_signal' (built-in)>,\n",
       " '_abc': <module '_abc' (built-in)>,\n",
       " 'abc': <module 'abc' from 'C:\\\\Users\\\\HP\\\\AppData\\\\Local\\\\Programs\\\\Python\\\\Python310\\\\lib\\\\abc.py'>,\n",
       " 'io': <module 'io' from 'C:\\\\Users\\\\HP\\\\AppData\\\\Local\\\\Programs\\\\Python\\\\Python310\\\\lib\\\\io.py'>,\n",
       " '__main__': <module '__main__'>,\n",
       " '_stat': <module '_stat' (built-in)>,\n",
       " 'stat': <module 'stat' from 'C:\\\\Users\\\\HP\\\\AppData\\\\Local\\\\Programs\\\\Python\\\\Python310\\\\lib\\\\stat.py'>,\n",
       " '_collections_abc': <module '_collections_abc' from 'C:\\\\Users\\\\HP\\\\AppData\\\\Local\\\\Programs\\\\Python\\\\Python310\\\\lib\\\\_collections_abc.py'>,\n",
       " 'genericpath': <module 'genericpath' from 'C:\\\\Users\\\\HP\\\\AppData\\\\Local\\\\Programs\\\\Python\\\\Python310\\\\lib\\\\genericpath.py'>,\n",
       " 'ntpath': <module 'ntpath' from 'C:\\\\Users\\\\HP\\\\AppData\\\\Local\\\\Programs\\\\Python\\\\Python310\\\\lib\\\\ntpath.py'>,\n",
       " 'os.path': <module 'ntpath' from 'C:\\\\Users\\\\HP\\\\AppData\\\\Local\\\\Programs\\\\Python\\\\Python310\\\\lib\\\\ntpath.py'>,\n",
       " 'os': <module 'os' from 'C:\\\\Users\\\\HP\\\\AppData\\\\Local\\\\Programs\\\\Python\\\\Python310\\\\lib\\\\os.py'>,\n",
       " '_sitebuiltins': <module '_sitebuiltins' from 'C:\\\\Users\\\\HP\\\\AppData\\\\Local\\\\Programs\\\\Python\\\\Python310\\\\lib\\\\_sitebuiltins.py'>,\n",
       " 'encodings.cp1252': <module 'encodings.cp1252' from 'C:\\\\Users\\\\HP\\\\AppData\\\\Local\\\\Programs\\\\Python\\\\Python310\\\\lib\\\\encodings\\\\cp1252.py'>,\n",
       " 'pywin32_system32': <module 'pywin32_system32' (<_frozen_importlib_external._NamespaceLoader object at 0x00000137C93CD4E0>)>,\n",
       " 'pywin32_bootstrap': <module 'pywin32_bootstrap' from 'f:\\\\DushyanthData\\\\PythonBook\\\\Python\\\\lib\\\\site-packages\\\\win32\\\\lib\\\\pywin32_bootstrap.py'>,\n",
       " 'types': <module 'types' from 'C:\\\\Users\\\\HP\\\\AppData\\\\Local\\\\Programs\\\\Python\\\\Python310\\\\lib\\\\types.py'>,\n",
       " 'importlib._bootstrap': <module '_frozen_importlib' (frozen)>,\n",
       " 'importlib._bootstrap_external': <module '_frozen_importlib_external' (frozen)>,\n",
       " 'warnings': <module 'warnings' from 'C:\\\\Users\\\\HP\\\\AppData\\\\Local\\\\Programs\\\\Python\\\\Python310\\\\lib\\\\warnings.py'>,\n",
       " 'importlib': <module 'importlib' from 'C:\\\\Users\\\\HP\\\\AppData\\\\Local\\\\Programs\\\\Python\\\\Python310\\\\lib\\\\importlib\\\\__init__.py'>,\n",
       " 'importlib._abc': <module 'importlib._abc' from 'C:\\\\Users\\\\HP\\\\AppData\\\\Local\\\\Programs\\\\Python\\\\Python310\\\\lib\\\\importlib\\\\_abc.py'>,\n",
       " 'itertools': <module 'itertools' (built-in)>,\n",
       " 'keyword': <module 'keyword' from 'C:\\\\Users\\\\HP\\\\AppData\\\\Local\\\\Programs\\\\Python\\\\Python310\\\\lib\\\\keyword.py'>,\n",
       " '_operator': <module '_operator' (built-in)>,\n",
       " 'operator': <module 'operator' from 'C:\\\\Users\\\\HP\\\\AppData\\\\Local\\\\Programs\\\\Python\\\\Python310\\\\lib\\\\operator.py'>,\n",
       " 'reprlib': <module 'reprlib' from 'C:\\\\Users\\\\HP\\\\AppData\\\\Local\\\\Programs\\\\Python\\\\Python310\\\\lib\\\\reprlib.py'>,\n",
       " '_collections': <module '_collections' (built-in)>,\n",
       " 'collections': <module 'collections' from 'C:\\\\Users\\\\HP\\\\AppData\\\\Local\\\\Programs\\\\Python\\\\Python310\\\\lib\\\\collections\\\\__init__.py'>,\n",
       " '_functools': <module '_functools' (built-in)>,\n",
       " 'functools': <module 'functools' from 'C:\\\\Users\\\\HP\\\\AppData\\\\Local\\\\Programs\\\\Python\\\\Python310\\\\lib\\\\functools.py'>,\n",
       " 'contextlib': <module 'contextlib' from 'C:\\\\Users\\\\HP\\\\AppData\\\\Local\\\\Programs\\\\Python\\\\Python310\\\\lib\\\\contextlib.py'>,\n",
       " 'importlib.util': <module 'importlib.util' from 'C:\\\\Users\\\\HP\\\\AppData\\\\Local\\\\Programs\\\\Python\\\\Python310\\\\lib\\\\importlib\\\\util.py'>,\n",
       " 'importlib.machinery': <module 'importlib.machinery' from 'C:\\\\Users\\\\HP\\\\AppData\\\\Local\\\\Programs\\\\Python\\\\Python310\\\\lib\\\\importlib\\\\machinery.py'>,\n",
       " 'sphinxcontrib': <module 'sphinxcontrib' (<_frozen_importlib_external._NamespaceLoader object at 0x00000137C93CE950>)>,\n",
       " 'site': <module 'site' from 'C:\\\\Users\\\\HP\\\\AppData\\\\Local\\\\Programs\\\\Python\\\\Python310\\\\lib\\\\site.py'>,\n",
       " 'runpy': <module 'runpy' from 'C:\\\\Users\\\\HP\\\\AppData\\\\Local\\\\Programs\\\\Python\\\\Python310\\\\lib\\\\runpy.py'>,\n",
       " 'posixpath': <module 'posixpath' from 'C:\\\\Users\\\\HP\\\\AppData\\\\Local\\\\Programs\\\\Python\\\\Python310\\\\lib\\\\posixpath.py'>,\n",
       " 'enum': <module 'enum' from 'C:\\\\Users\\\\HP\\\\AppData\\\\Local\\\\Programs\\\\Python\\\\Python310\\\\lib\\\\enum.py'>,\n",
       " '_sre': <module '_sre' (built-in)>,\n",
       " 'sre_constants': <module 'sre_constants' from 'C:\\\\Users\\\\HP\\\\AppData\\\\Local\\\\Programs\\\\Python\\\\Python310\\\\lib\\\\sre_constants.py'>,\n",
       " 'sre_parse': <module 'sre_parse' from 'C:\\\\Users\\\\HP\\\\AppData\\\\Local\\\\Programs\\\\Python\\\\Python310\\\\lib\\\\sre_parse.py'>,\n",
       " 'sre_compile': <module 'sre_compile' from 'C:\\\\Users\\\\HP\\\\AppData\\\\Local\\\\Programs\\\\Python\\\\Python310\\\\lib\\\\sre_compile.py'>,\n",
       " '_locale': <module '_locale' (built-in)>,\n",
       " 'copyreg': <module 'copyreg' from 'C:\\\\Users\\\\HP\\\\AppData\\\\Local\\\\Programs\\\\Python\\\\Python310\\\\lib\\\\copyreg.py'>,\n",
       " 're': <module 're' from 'C:\\\\Users\\\\HP\\\\AppData\\\\Local\\\\Programs\\\\Python\\\\Python310\\\\lib\\\\re.py'>,\n",
       " 'fnmatch': <module 'fnmatch' from 'C:\\\\Users\\\\HP\\\\AppData\\\\Local\\\\Programs\\\\Python\\\\Python310\\\\lib\\\\fnmatch.py'>,\n",
       " 'errno': <module 'errno' (built-in)>,\n",
       " 'urllib': <module 'urllib' from 'C:\\\\Users\\\\HP\\\\AppData\\\\Local\\\\Programs\\\\Python\\\\Python310\\\\lib\\\\urllib\\\\__init__.py'>,\n",
       " 'urllib.parse': <module 'urllib.parse' from 'C:\\\\Users\\\\HP\\\\AppData\\\\Local\\\\Programs\\\\Python\\\\Python310\\\\lib\\\\urllib\\\\parse.py'>,\n",
       " 'pathlib': <module 'pathlib' from 'C:\\\\Users\\\\HP\\\\AppData\\\\Local\\\\Programs\\\\Python\\\\Python310\\\\lib\\\\pathlib.py'>,\n",
       " 'collections.abc': <module 'collections.abc' from 'C:\\\\Users\\\\HP\\\\AppData\\\\Local\\\\Programs\\\\Python\\\\Python310\\\\lib\\\\collections\\\\abc.py'>,\n",
       " 'typing.io': typing.io,\n",
       " 'typing.re': typing.re,\n",
       " 'typing': <module 'typing' from 'C:\\\\Users\\\\HP\\\\AppData\\\\Local\\\\Programs\\\\Python\\\\Python310\\\\lib\\\\typing.py'>,\n",
       " 'ipykernel._version': <module 'ipykernel._version' from 'f:\\\\DushyanthData\\\\PythonBook\\\\Python\\\\lib\\\\site-packages\\\\ipykernel\\\\_version.py'>,\n",
       " '__future__': <module '__future__' from 'C:\\\\Users\\\\HP\\\\AppData\\\\Local\\\\Programs\\\\Python\\\\Python310\\\\lib\\\\__future__.py'>,\n",
       " '_json': <module '_json' (built-in)>,\n",
       " 'json.scanner': <module 'json.scanner' from 'C:\\\\Users\\\\HP\\\\AppData\\\\Local\\\\Programs\\\\Python\\\\Python310\\\\lib\\\\json\\\\scanner.py'>,\n",
       " 'json.decoder': <module 'json.decoder' from 'C:\\\\Users\\\\HP\\\\AppData\\\\Local\\\\Programs\\\\Python\\\\Python310\\\\lib\\\\json\\\\decoder.py'>,\n",
       " 'json.encoder': <module 'json.encoder' from 'C:\\\\Users\\\\HP\\\\AppData\\\\Local\\\\Programs\\\\Python\\\\Python310\\\\lib\\\\json\\\\encoder.py'>,\n",
       " 'json': <module 'json' from 'C:\\\\Users\\\\HP\\\\AppData\\\\Local\\\\Programs\\\\Python\\\\Python310\\\\lib\\\\json\\\\__init__.py'>,\n",
       " 'signal': <module 'signal' from 'C:\\\\Users\\\\HP\\\\AppData\\\\Local\\\\Programs\\\\Python\\\\Python310\\\\lib\\\\signal.py'>,\n",
       " '_weakrefset': <module '_weakrefset' from 'C:\\\\Users\\\\HP\\\\AppData\\\\Local\\\\Programs\\\\Python\\\\Python310\\\\lib\\\\_weakrefset.py'>,\n",
       " 'threading': <module 'threading' from 'C:\\\\Users\\\\HP\\\\AppData\\\\Local\\\\Programs\\\\Python\\\\Python310\\\\lib\\\\threading.py'>,\n",
       " 'msvcrt': <module 'msvcrt' (built-in)>,\n",
       " '_winapi': <module '_winapi' (built-in)>,\n",
       " 'subprocess': <module 'subprocess' from 'C:\\\\Users\\\\HP\\\\AppData\\\\Local\\\\Programs\\\\Python\\\\Python310\\\\lib\\\\subprocess.py'>,\n",
       " 'jupyter_client._version': <module 'jupyter_client._version' from 'f:\\\\DushyanthData\\\\PythonBook\\\\Python\\\\lib\\\\site-packages\\\\jupyter_client\\\\_version.py'>,\n",
       " 'platform': <module 'platform' from 'C:\\\\Users\\\\HP\\\\AppData\\\\Local\\\\Programs\\\\Python\\\\Python310\\\\lib\\\\platform.py'>,\n",
       " 'zmq.backend.select': <module 'zmq.backend.select' from 'f:\\\\DushyanthData\\\\PythonBook\\\\Python\\\\lib\\\\site-packages\\\\zmq\\\\backend\\\\select.py'>,\n",
       " 'cython_runtime': <module 'cython_runtime'>,\n",
       " '_cython_3_0_12': <module '_cython_3_0_12'>,\n",
       " 'weakref': <module 'weakref' from 'C:\\\\Users\\\\HP\\\\AppData\\\\Local\\\\Programs\\\\Python\\\\Python310\\\\lib\\\\weakref.py'>,\n",
       " 'zmq.constants': <module 'zmq.constants' from 'f:\\\\DushyanthData\\\\PythonBook\\\\Python\\\\lib\\\\site-packages\\\\zmq\\\\constants.py'>,\n",
       " 'zmq.error': <module 'zmq.error' from 'f:\\\\DushyanthData\\\\PythonBook\\\\Python\\\\lib\\\\site-packages\\\\zmq\\\\error.py'>,\n",
       " 'zmq.backend.cython._zmq': <module 'zmq.backend.cython._zmq' from 'f:\\\\DushyanthData\\\\PythonBook\\\\Python\\\\lib\\\\site-packages\\\\zmq\\\\backend\\\\cython\\\\_zmq.cp310-win_amd64.pyd'>,\n",
       " 'zmq.backend.cython': <module 'zmq.backend.cython' from 'f:\\\\DushyanthData\\\\PythonBook\\\\Python\\\\lib\\\\site-packages\\\\zmq\\\\backend\\\\cython\\\\__init__.py'>,\n",
       " 'zmq.backend': <module 'zmq.backend' from 'f:\\\\DushyanthData\\\\PythonBook\\\\Python\\\\lib\\\\site-packages\\\\zmq\\\\backend\\\\__init__.py'>,\n",
       " 'atexit': <module 'atexit' (built-in)>,\n",
       " 'zmq._typing': <module 'zmq._typing' from 'f:\\\\DushyanthData\\\\PythonBook\\\\Python\\\\lib\\\\site-packages\\\\zmq\\\\_typing.py'>,\n",
       " 'zmq.utils': <module 'zmq.utils' from 'f:\\\\DushyanthData\\\\PythonBook\\\\Python\\\\lib\\\\site-packages\\\\zmq\\\\utils\\\\__init__.py'>,\n",
       " 'zmq.utils.interop': <module 'zmq.utils.interop' from 'f:\\\\DushyanthData\\\\PythonBook\\\\Python\\\\lib\\\\site-packages\\\\zmq\\\\utils\\\\interop.py'>,\n",
       " 'zmq.sugar.attrsettr': <module 'zmq.sugar.attrsettr' from 'f:\\\\DushyanthData\\\\PythonBook\\\\Python\\\\lib\\\\site-packages\\\\zmq\\\\sugar\\\\attrsettr.py'>,\n",
       " '_struct': <module '_struct' (built-in)>,\n",
       " 'struct': <module 'struct' from 'C:\\\\Users\\\\HP\\\\AppData\\\\Local\\\\Programs\\\\Python\\\\Python310\\\\lib\\\\struct.py'>,\n",
       " '_compat_pickle': <module '_compat_pickle' from 'C:\\\\Users\\\\HP\\\\AppData\\\\Local\\\\Programs\\\\Python\\\\Python310\\\\lib\\\\_compat_pickle.py'>,\n",
       " '_pickle': <module '_pickle' (built-in)>,\n",
       " 'pickle': <module 'pickle' from 'C:\\\\Users\\\\HP\\\\AppData\\\\Local\\\\Programs\\\\Python\\\\Python310\\\\lib\\\\pickle.py'>,\n",
       " 'math': <module 'math' (built-in)>,\n",
       " '_bisect': <module '_bisect' (built-in)>,\n",
       " 'bisect': <module 'bisect' from 'C:\\\\Users\\\\HP\\\\AppData\\\\Local\\\\Programs\\\\Python\\\\Python310\\\\lib\\\\bisect.py'>,\n",
       " '_random': <module '_random' (built-in)>,\n",
       " '_sha512': <module '_sha512' (built-in)>,\n",
       " 'random': <module 'random' from 'C:\\\\Users\\\\HP\\\\AppData\\\\Local\\\\Programs\\\\Python\\\\Python310\\\\lib\\\\random.py'>,\n",
       " 'zmq.utils.jsonapi': <module 'zmq.utils.jsonapi' from 'f:\\\\DushyanthData\\\\PythonBook\\\\Python\\\\lib\\\\site-packages\\\\zmq\\\\utils\\\\jsonapi.py'>,\n",
       " 'zmq.sugar.poll': <module 'zmq.sugar.poll' from 'f:\\\\DushyanthData\\\\PythonBook\\\\Python\\\\lib\\\\site-packages\\\\zmq\\\\sugar\\\\poll.py'>,\n",
       " 'zmq.sugar.socket': <module 'zmq.sugar.socket' from 'f:\\\\DushyanthData\\\\PythonBook\\\\Python\\\\lib\\\\site-packages\\\\zmq\\\\sugar\\\\socket.py'>,\n",
       " 'zmq.sugar.context': <module 'zmq.sugar.context' from 'f:\\\\DushyanthData\\\\PythonBook\\\\Python\\\\lib\\\\site-packages\\\\zmq\\\\sugar\\\\context.py'>,\n",
       " 'zmq.sugar.frame': <module 'zmq.sugar.frame' from 'f:\\\\DushyanthData\\\\PythonBook\\\\Python\\\\lib\\\\site-packages\\\\zmq\\\\sugar\\\\frame.py'>,\n",
       " 'zmq.sugar.tracker': <module 'zmq.sugar.tracker' from 'f:\\\\DushyanthData\\\\PythonBook\\\\Python\\\\lib\\\\site-packages\\\\zmq\\\\sugar\\\\tracker.py'>,\n",
       " 'zmq.sugar.version': <module 'zmq.sugar.version' from 'f:\\\\DushyanthData\\\\PythonBook\\\\Python\\\\lib\\\\site-packages\\\\zmq\\\\sugar\\\\version.py'>,\n",
       " 'zmq.sugar.stopwatch': <module 'zmq.sugar.stopwatch' from 'f:\\\\DushyanthData\\\\PythonBook\\\\Python\\\\lib\\\\site-packages\\\\zmq\\\\sugar\\\\stopwatch.py'>,\n",
       " 'zmq.sugar': <module 'zmq.sugar' from 'f:\\\\DushyanthData\\\\PythonBook\\\\Python\\\\lib\\\\site-packages\\\\zmq\\\\sugar\\\\__init__.py'>,\n",
       " 'zmq': <module 'zmq' from 'f:\\\\DushyanthData\\\\PythonBook\\\\Python\\\\lib\\\\site-packages\\\\zmq\\\\__init__.py'>,\n",
       " 'concurrent': <module 'concurrent' from 'C:\\\\Users\\\\HP\\\\AppData\\\\Local\\\\Programs\\\\Python\\\\Python310\\\\lib\\\\concurrent\\\\__init__.py'>,\n",
       " 'token': <module 'token' from 'C:\\\\Users\\\\HP\\\\AppData\\\\Local\\\\Programs\\\\Python\\\\Python310\\\\lib\\\\token.py'>,\n",
       " 'tokenize': <module 'tokenize' from 'C:\\\\Users\\\\HP\\\\AppData\\\\Local\\\\Programs\\\\Python\\\\Python310\\\\lib\\\\tokenize.py'>,\n",
       " 'linecache': <module 'linecache' from 'C:\\\\Users\\\\HP\\\\AppData\\\\Local\\\\Programs\\\\Python\\\\Python310\\\\lib\\\\linecache.py'>,\n",
       " 'traceback': <module 'traceback' from 'C:\\\\Users\\\\HP\\\\AppData\\\\Local\\\\Programs\\\\Python\\\\Python310\\\\lib\\\\traceback.py'>,\n",
       " '_string': <module '_string' (built-in)>,\n",
       " 'string': <module 'string' from 'C:\\\\Users\\\\HP\\\\AppData\\\\Local\\\\Programs\\\\Python\\\\Python310\\\\lib\\\\string.py'>,\n",
       " 'logging': <module 'logging' from 'C:\\\\Users\\\\HP\\\\AppData\\\\Local\\\\Programs\\\\Python\\\\Python310\\\\lib\\\\logging\\\\__init__.py'>,\n",
       " 'concurrent.futures._base': <module 'concurrent.futures._base' from 'C:\\\\Users\\\\HP\\\\AppData\\\\Local\\\\Programs\\\\Python\\\\Python310\\\\lib\\\\concurrent\\\\futures\\\\_base.py'>,\n",
       " 'concurrent.futures': <module 'concurrent.futures' from 'C:\\\\Users\\\\HP\\\\AppData\\\\Local\\\\Programs\\\\Python\\\\Python310\\\\lib\\\\concurrent\\\\futures\\\\__init__.py'>,\n",
       " '_heapq': <module '_heapq' (built-in)>,\n",
       " 'heapq': <module 'heapq' from 'C:\\\\Users\\\\HP\\\\AppData\\\\Local\\\\Programs\\\\Python\\\\Python310\\\\lib\\\\heapq.py'>,\n",
       " '_socket': <module '_socket' from 'C:\\\\Users\\\\HP\\\\AppData\\\\Local\\\\Programs\\\\Python\\\\Python310\\\\DLLs\\\\_socket.pyd'>,\n",
       " 'select': <module 'select' from 'C:\\\\Users\\\\HP\\\\AppData\\\\Local\\\\Programs\\\\Python\\\\Python310\\\\DLLs\\\\select.pyd'>,\n",
       " 'selectors': <module 'selectors' from 'C:\\\\Users\\\\HP\\\\AppData\\\\Local\\\\Programs\\\\Python\\\\Python310\\\\lib\\\\selectors.py'>,\n",
       " 'socket': <module 'socket' from 'C:\\\\Users\\\\HP\\\\AppData\\\\Local\\\\Programs\\\\Python\\\\Python310\\\\lib\\\\socket.py'>,\n",
       " '_ssl': <module '_ssl' from 'C:\\\\Users\\\\HP\\\\AppData\\\\Local\\\\Programs\\\\Python\\\\Python310\\\\DLLs\\\\_ssl.pyd'>,\n",
       " 'binascii': <module 'binascii' (built-in)>,\n",
       " 'base64': <module 'base64' from 'C:\\\\Users\\\\HP\\\\AppData\\\\Local\\\\Programs\\\\Python\\\\Python310\\\\lib\\\\base64.py'>,\n",
       " 'ssl': <module 'ssl' from 'C:\\\\Users\\\\HP\\\\AppData\\\\Local\\\\Programs\\\\Python\\\\Python310\\\\lib\\\\ssl.py'>,\n",
       " 'asyncio.constants': <module 'asyncio.constants' from 'C:\\\\Users\\\\HP\\\\AppData\\\\Local\\\\Programs\\\\Python\\\\Python310\\\\lib\\\\asyncio\\\\constants.py'>,\n",
       " '_ast': <module '_ast' (built-in)>,\n",
       " 'ast': <module 'ast' from 'C:\\\\Users\\\\HP\\\\AppData\\\\Local\\\\Programs\\\\Python\\\\Python310\\\\lib\\\\ast.py'>,\n",
       " '_opcode': <module '_opcode' (built-in)>,\n",
       " 'opcode': <module 'opcode' from 'C:\\\\Users\\\\HP\\\\AppData\\\\Local\\\\Programs\\\\Python\\\\Python310\\\\lib\\\\opcode.py'>,\n",
       " 'dis': <module 'dis' from 'C:\\\\Users\\\\HP\\\\AppData\\\\Local\\\\Programs\\\\Python\\\\Python310\\\\lib\\\\dis.py'>,\n",
       " 'inspect': <module 'inspect' from 'C:\\\\Users\\\\HP\\\\AppData\\\\Local\\\\Programs\\\\Python\\\\Python310\\\\lib\\\\inspect.py'>,\n",
       " 'asyncio.format_helpers': <module 'asyncio.format_helpers' from 'C:\\\\Users\\\\HP\\\\AppData\\\\Local\\\\Programs\\\\Python\\\\Python310\\\\lib\\\\asyncio\\\\format_helpers.py'>,\n",
       " 'asyncio.base_futures': <module 'asyncio.base_futures' from 'C:\\\\Users\\\\HP\\\\AppData\\\\Local\\\\Programs\\\\Python\\\\Python310\\\\lib\\\\asyncio\\\\base_futures.py'>,\n",
       " 'asyncio.log': <module 'asyncio.log' from 'C:\\\\Users\\\\HP\\\\AppData\\\\Local\\\\Programs\\\\Python\\\\Python310\\\\lib\\\\asyncio\\\\log.py'>,\n",
       " 'asyncio.coroutines': <module 'asyncio.coroutines' from 'C:\\\\Users\\\\HP\\\\AppData\\\\Local\\\\Programs\\\\Python\\\\Python310\\\\lib\\\\asyncio\\\\coroutines.py'>,\n",
       " '_contextvars': <module '_contextvars' (built-in)>,\n",
       " 'contextvars': <module 'contextvars' from 'C:\\\\Users\\\\HP\\\\AppData\\\\Local\\\\Programs\\\\Python\\\\Python310\\\\lib\\\\contextvars.py'>,\n",
       " 'asyncio.exceptions': <module 'asyncio.exceptions' from 'C:\\\\Users\\\\HP\\\\AppData\\\\Local\\\\Programs\\\\Python\\\\Python310\\\\lib\\\\asyncio\\\\exceptions.py'>,\n",
       " 'asyncio.base_tasks': <module 'asyncio.base_tasks' from 'C:\\\\Users\\\\HP\\\\AppData\\\\Local\\\\Programs\\\\Python\\\\Python310\\\\lib\\\\asyncio\\\\base_tasks.py'>,\n",
       " '_asyncio': <module '_asyncio' from 'C:\\\\Users\\\\HP\\\\AppData\\\\Local\\\\Programs\\\\Python\\\\Python310\\\\DLLs\\\\_asyncio.pyd'>,\n",
       " 'asyncio.events': <module 'asyncio.events' from 'C:\\\\Users\\\\HP\\\\AppData\\\\Local\\\\Programs\\\\Python\\\\Python310\\\\lib\\\\asyncio\\\\events.py'>,\n",
       " 'asyncio.futures': <module 'asyncio.futures' from 'C:\\\\Users\\\\HP\\\\AppData\\\\Local\\\\Programs\\\\Python\\\\Python310\\\\lib\\\\asyncio\\\\futures.py'>,\n",
       " 'asyncio.protocols': <module 'asyncio.protocols' from 'C:\\\\Users\\\\HP\\\\AppData\\\\Local\\\\Programs\\\\Python\\\\Python310\\\\lib\\\\asyncio\\\\protocols.py'>,\n",
       " 'asyncio.transports': <module 'asyncio.transports' from 'C:\\\\Users\\\\HP\\\\AppData\\\\Local\\\\Programs\\\\Python\\\\Python310\\\\lib\\\\asyncio\\\\transports.py'>,\n",
       " 'asyncio.sslproto': <module 'asyncio.sslproto' from 'C:\\\\Users\\\\HP\\\\AppData\\\\Local\\\\Programs\\\\Python\\\\Python310\\\\lib\\\\asyncio\\\\sslproto.py'>,\n",
       " 'asyncio.mixins': <module 'asyncio.mixins' from 'C:\\\\Users\\\\HP\\\\AppData\\\\Local\\\\Programs\\\\Python\\\\Python310\\\\lib\\\\asyncio\\\\mixins.py'>,\n",
       " 'asyncio.locks': <module 'asyncio.locks' from 'C:\\\\Users\\\\HP\\\\AppData\\\\Local\\\\Programs\\\\Python\\\\Python310\\\\lib\\\\asyncio\\\\locks.py'>,\n",
       " 'asyncio.tasks': <module 'asyncio.tasks' from 'C:\\\\Users\\\\HP\\\\AppData\\\\Local\\\\Programs\\\\Python\\\\Python310\\\\lib\\\\asyncio\\\\tasks.py'>,\n",
       " 'asyncio.staggered': <module 'asyncio.staggered' from 'C:\\\\Users\\\\HP\\\\AppData\\\\Local\\\\Programs\\\\Python\\\\Python310\\\\lib\\\\asyncio\\\\staggered.py'>,\n",
       " 'asyncio.trsock': <module 'asyncio.trsock' from 'C:\\\\Users\\\\HP\\\\AppData\\\\Local\\\\Programs\\\\Python\\\\Python310\\\\lib\\\\asyncio\\\\trsock.py'>,\n",
       " 'asyncio.base_events': <module 'asyncio.base_events' from 'C:\\\\Users\\\\HP\\\\AppData\\\\Local\\\\Programs\\\\Python\\\\Python310\\\\lib\\\\asyncio\\\\base_events.py'>,\n",
       " 'asyncio.runners': <module 'asyncio.runners' from 'C:\\\\Users\\\\HP\\\\AppData\\\\Local\\\\Programs\\\\Python\\\\Python310\\\\lib\\\\asyncio\\\\runners.py'>,\n",
       " 'asyncio.queues': <module 'asyncio.queues' from 'C:\\\\Users\\\\HP\\\\AppData\\\\Local\\\\Programs\\\\Python\\\\Python310\\\\lib\\\\asyncio\\\\queues.py'>,\n",
       " 'asyncio.streams': <module 'asyncio.streams' from 'C:\\\\Users\\\\HP\\\\AppData\\\\Local\\\\Programs\\\\Python\\\\Python310\\\\lib\\\\asyncio\\\\streams.py'>,\n",
       " 'asyncio.subprocess': <module 'asyncio.subprocess' from 'C:\\\\Users\\\\HP\\\\AppData\\\\Local\\\\Programs\\\\Python\\\\Python310\\\\lib\\\\asyncio\\\\subprocess.py'>,\n",
       " 'asyncio.threads': <module 'asyncio.threads' from 'C:\\\\Users\\\\HP\\\\AppData\\\\Local\\\\Programs\\\\Python\\\\Python310\\\\lib\\\\asyncio\\\\threads.py'>,\n",
       " '_overlapped': <module '_overlapped' from 'C:\\\\Users\\\\HP\\\\AppData\\\\Local\\\\Programs\\\\Python\\\\Python310\\\\DLLs\\\\_overlapped.pyd'>,\n",
       " 'asyncio.base_subprocess': <module 'asyncio.base_subprocess' from 'C:\\\\Users\\\\HP\\\\AppData\\\\Local\\\\Programs\\\\Python\\\\Python310\\\\lib\\\\asyncio\\\\base_subprocess.py'>,\n",
       " 'asyncio.proactor_events': <module 'asyncio.proactor_events' from 'C:\\\\Users\\\\HP\\\\AppData\\\\Local\\\\Programs\\\\Python\\\\Python310\\\\lib\\\\asyncio\\\\proactor_events.py'>,\n",
       " 'asyncio.selector_events': <module 'asyncio.selector_events' from 'C:\\\\Users\\\\HP\\\\AppData\\\\Local\\\\Programs\\\\Python\\\\Python310\\\\lib\\\\asyncio\\\\selector_events.py'>,\n",
       " 'zlib': <module 'zlib' (built-in)>,\n",
       " '_compression': <module '_compression' from 'C:\\\\Users\\\\HP\\\\AppData\\\\Local\\\\Programs\\\\Python\\\\Python310\\\\lib\\\\_compression.py'>,\n",
       " '_bz2': <module '_bz2' from 'C:\\\\Users\\\\HP\\\\AppData\\\\Local\\\\Programs\\\\Python\\\\Python310\\\\DLLs\\\\_bz2.pyd'>,\n",
       " 'bz2': <module 'bz2' from 'C:\\\\Users\\\\HP\\\\AppData\\\\Local\\\\Programs\\\\Python\\\\Python310\\\\lib\\\\bz2.py'>,\n",
       " '_lzma': <module '_lzma' from 'C:\\\\Users\\\\HP\\\\AppData\\\\Local\\\\Programs\\\\Python\\\\Python310\\\\DLLs\\\\_lzma.pyd'>,\n",
       " 'lzma': <module 'lzma' from 'C:\\\\Users\\\\HP\\\\AppData\\\\Local\\\\Programs\\\\Python\\\\Python310\\\\lib\\\\lzma.py'>,\n",
       " 'shutil': <module 'shutil' from 'C:\\\\Users\\\\HP\\\\AppData\\\\Local\\\\Programs\\\\Python\\\\Python310\\\\lib\\\\shutil.py'>,\n",
       " 'tempfile': <module 'tempfile' from 'C:\\\\Users\\\\HP\\\\AppData\\\\Local\\\\Programs\\\\Python\\\\Python310\\\\lib\\\\tempfile.py'>,\n",
       " 'asyncio.windows_utils': <module 'asyncio.windows_utils' from 'C:\\\\Users\\\\HP\\\\AppData\\\\Local\\\\Programs\\\\Python\\\\Python310\\\\lib\\\\asyncio\\\\windows_utils.py'>,\n",
       " 'asyncio.windows_events': <module 'asyncio.windows_events' from 'C:\\\\Users\\\\HP\\\\AppData\\\\Local\\\\Programs\\\\Python\\\\Python310\\\\lib\\\\asyncio\\\\windows_events.py'>,\n",
       " 'asyncio': <module 'asyncio' from 'C:\\\\Users\\\\HP\\\\AppData\\\\Local\\\\Programs\\\\Python\\\\Python310\\\\lib\\\\asyncio\\\\__init__.py'>,\n",
       " 'zmq._future': <module 'zmq._future' from 'f:\\\\DushyanthData\\\\PythonBook\\\\Python\\\\lib\\\\site-packages\\\\zmq\\\\_future.py'>,\n",
       " 'zmq.asyncio': <module 'zmq.asyncio' from 'f:\\\\DushyanthData\\\\PythonBook\\\\Python\\\\lib\\\\site-packages\\\\zmq\\\\asyncio.py'>,\n",
       " 'traitlets.utils': <module 'traitlets.utils' from 'f:\\\\DushyanthData\\\\PythonBook\\\\Python\\\\lib\\\\site-packages\\\\traitlets\\\\utils\\\\__init__.py'>,\n",
       " 'traitlets.utils.bunch': <module 'traitlets.utils.bunch' from 'f:\\\\DushyanthData\\\\PythonBook\\\\Python\\\\lib\\\\site-packages\\\\traitlets\\\\utils\\\\bunch.py'>,\n",
       " 'traitlets.utils.descriptions': <module 'traitlets.utils.descriptions' from 'f:\\\\DushyanthData\\\\PythonBook\\\\Python\\\\lib\\\\site-packages\\\\traitlets\\\\utils\\\\descriptions.py'>,\n",
       " 'traitlets.utils.getargspec': <module 'traitlets.utils.getargspec' from 'f:\\\\DushyanthData\\\\PythonBook\\\\Python\\\\lib\\\\site-packages\\\\traitlets\\\\utils\\\\getargspec.py'>,\n",
       " 'traitlets.utils.importstring': <module 'traitlets.utils.importstring' from 'f:\\\\DushyanthData\\\\PythonBook\\\\Python\\\\lib\\\\site-packages\\\\traitlets\\\\utils\\\\importstring.py'>,\n",
       " 'traitlets.utils.sentinel': <module 'traitlets.utils.sentinel' from 'f:\\\\DushyanthData\\\\PythonBook\\\\Python\\\\lib\\\\site-packages\\\\traitlets\\\\utils\\\\sentinel.py'>,\n",
       " 'traitlets.utils.warnings': <module 'traitlets.utils.warnings' from 'f:\\\\DushyanthData\\\\PythonBook\\\\Python\\\\lib\\\\site-packages\\\\traitlets\\\\utils\\\\warnings.py'>,\n",
       " 'traitlets.traitlets': <module 'traitlets.traitlets' from 'f:\\\\DushyanthData\\\\PythonBook\\\\Python\\\\lib\\\\site-packages\\\\traitlets\\\\traitlets.py'>,\n",
       " 'traitlets._version': <module 'traitlets._version' from 'f:\\\\DushyanthData\\\\PythonBook\\\\Python\\\\lib\\\\site-packages\\\\traitlets\\\\_version.py'>,\n",
       " 'copy': <module 'copy' from 'C:\\\\Users\\\\HP\\\\AppData\\\\Local\\\\Programs\\\\Python\\\\Python310\\\\lib\\\\copy.py'>,\n",
       " 'traitlets.utils.decorators': <module 'traitlets.utils.decorators' from 'f:\\\\DushyanthData\\\\PythonBook\\\\Python\\\\lib\\\\site-packages\\\\traitlets\\\\utils\\\\decorators.py'>,\n",
       " 'traitlets': <module 'traitlets' from 'f:\\\\DushyanthData\\\\PythonBook\\\\Python\\\\lib\\\\site-packages\\\\traitlets\\\\__init__.py'>,\n",
       " '_queue': <module '_queue' from 'C:\\\\Users\\\\HP\\\\AppData\\\\Local\\\\Programs\\\\Python\\\\Python310\\\\DLLs\\\\_queue.pyd'>,\n",
       " 'queue': <module 'queue' from 'C:\\\\Users\\\\HP\\\\AppData\\\\Local\\\\Programs\\\\Python\\\\Python310\\\\lib\\\\queue.py'>,\n",
       " 'jupyter_core.version': <module 'jupyter_core.version' from 'f:\\\\DushyanthData\\\\PythonBook\\\\Python\\\\lib\\\\site-packages\\\\jupyter_core\\\\version.py'>,\n",
       " 'jupyter_core': <module 'jupyter_core' from 'f:\\\\DushyanthData\\\\PythonBook\\\\Python\\\\lib\\\\site-packages\\\\jupyter_core\\\\__init__.py'>,\n",
       " 'jupyter_core.utils': <module 'jupyter_core.utils' from 'f:\\\\DushyanthData\\\\PythonBook\\\\Python\\\\lib\\\\site-packages\\\\jupyter_core\\\\utils\\\\__init__.py'>,\n",
       " 'jupyter_client.channelsabc': <module 'jupyter_client.channelsabc' from 'f:\\\\DushyanthData\\\\PythonBook\\\\Python\\\\lib\\\\site-packages\\\\jupyter_client\\\\channelsabc.py'>,\n",
       " '_hashlib': <module '_hashlib' from 'C:\\\\Users\\\\HP\\\\AppData\\\\Local\\\\Programs\\\\Python\\\\Python310\\\\DLLs\\\\_hashlib.pyd'>,\n",
       " '_blake2': <module '_blake2' (built-in)>,\n",
       " 'hashlib': <module 'hashlib' from 'C:\\\\Users\\\\HP\\\\AppData\\\\Local\\\\Programs\\\\Python\\\\Python310\\\\lib\\\\hashlib.py'>,\n",
       " 'hmac': <module 'hmac' from 'C:\\\\Users\\\\HP\\\\AppData\\\\Local\\\\Programs\\\\Python\\\\Python310\\\\lib\\\\hmac.py'>,\n",
       " 'dataclasses': <module 'dataclasses' from 'C:\\\\Users\\\\HP\\\\AppData\\\\Local\\\\Programs\\\\Python\\\\Python310\\\\lib\\\\dataclasses.py'>,\n",
       " 'pprint': <module 'pprint' from 'C:\\\\Users\\\\HP\\\\AppData\\\\Local\\\\Programs\\\\Python\\\\Python310\\\\lib\\\\pprint.py'>,\n",
       " '_datetime': <module '_datetime' (built-in)>,\n",
       " 'datetime': <module 'datetime' from 'C:\\\\Users\\\\HP\\\\AppData\\\\Local\\\\Programs\\\\Python\\\\Python310\\\\lib\\\\datetime.py'>,\n",
       " 'tornado': <module 'tornado' from 'f:\\\\DushyanthData\\\\PythonBook\\\\Python\\\\lib\\\\site-packages\\\\tornado\\\\__init__.py'>,\n",
       " 'numbers': <module 'numbers' from 'C:\\\\Users\\\\HP\\\\AppData\\\\Local\\\\Programs\\\\Python\\\\Python310\\\\lib\\\\numbers.py'>,\n",
       " 'logging.handlers': <module 'logging.handlers' from 'C:\\\\Users\\\\HP\\\\AppData\\\\Local\\\\Programs\\\\Python\\\\Python310\\\\lib\\\\logging\\\\handlers.py'>,\n",
       " 'html.entities': <module 'html.entities' from 'C:\\\\Users\\\\HP\\\\AppData\\\\Local\\\\Programs\\\\Python\\\\Python310\\\\lib\\\\html\\\\entities.py'>,\n",
       " 'html': <module 'html' from 'C:\\\\Users\\\\HP\\\\AppData\\\\Local\\\\Programs\\\\Python\\\\Python310\\\\lib\\\\html\\\\__init__.py'>,\n",
       " 'array': <module 'array' (built-in)>,\n",
       " 'tornado.speedups': <module 'tornado.speedups' from 'f:\\\\DushyanthData\\\\PythonBook\\\\Python\\\\lib\\\\site-packages\\\\tornado\\\\speedups.pyd'>,\n",
       " 'tornado.util': <module 'tornado.util' from 'f:\\\\DushyanthData\\\\PythonBook\\\\Python\\\\lib\\\\site-packages\\\\tornado\\\\util.py'>,\n",
       " 'tornado.escape': <module 'tornado.escape' from 'f:\\\\DushyanthData\\\\PythonBook\\\\Python\\\\lib\\\\site-packages\\\\tornado\\\\escape.py'>,\n",
       " 'colorama.ansi': <module 'colorama.ansi' from 'f:\\\\DushyanthData\\\\PythonBook\\\\Python\\\\lib\\\\site-packages\\\\colorama\\\\ansi.py'>,\n",
       " '_ctypes': <module '_ctypes' from 'C:\\\\Users\\\\HP\\\\AppData\\\\Local\\\\Programs\\\\Python\\\\Python310\\\\DLLs\\\\_ctypes.pyd'>,\n",
       " 'ctypes._endian': <module 'ctypes._endian' from 'C:\\\\Users\\\\HP\\\\AppData\\\\Local\\\\Programs\\\\Python\\\\Python310\\\\lib\\\\ctypes\\\\_endian.py'>,\n",
       " 'ctypes': <module 'ctypes' from 'C:\\\\Users\\\\HP\\\\AppData\\\\Local\\\\Programs\\\\Python\\\\Python310\\\\lib\\\\ctypes\\\\__init__.py'>,\n",
       " 'ctypes.wintypes': <module 'ctypes.wintypes' from 'C:\\\\Users\\\\HP\\\\AppData\\\\Local\\\\Programs\\\\Python\\\\Python310\\\\lib\\\\ctypes\\\\wintypes.py'>,\n",
       " 'colorama.win32': <module 'colorama.win32' from 'f:\\\\DushyanthData\\\\PythonBook\\\\Python\\\\lib\\\\site-packages\\\\colorama\\\\win32.py'>,\n",
       " 'colorama.winterm': <module 'colorama.winterm' from 'f:\\\\DushyanthData\\\\PythonBook\\\\Python\\\\lib\\\\site-packages\\\\colorama\\\\winterm.py'>,\n",
       " 'colorama.ansitowin32': <module 'colorama.ansitowin32' from 'f:\\\\DushyanthData\\\\PythonBook\\\\Python\\\\lib\\\\site-packages\\\\colorama\\\\ansitowin32.py'>,\n",
       " 'colorama.initialise': <module 'colorama.initialise' from 'f:\\\\DushyanthData\\\\PythonBook\\\\Python\\\\lib\\\\site-packages\\\\colorama\\\\initialise.py'>,\n",
       " 'colorama': <module 'colorama' from 'f:\\\\DushyanthData\\\\PythonBook\\\\Python\\\\lib\\\\site-packages\\\\colorama\\\\__init__.py'>,\n",
       " 'tornado.log': <module 'tornado.log' from 'f:\\\\DushyanthData\\\\PythonBook\\\\Python\\\\lib\\\\site-packages\\\\tornado\\\\log.py'>,\n",
       " 'tornado.concurrent': <module 'tornado.concurrent' from 'f:\\\\DushyanthData\\\\PythonBook\\\\Python\\\\lib\\\\site-packages\\\\tornado\\\\concurrent.py'>,\n",
       " 'tornado.ioloop': <module 'tornado.ioloop' from 'f:\\\\DushyanthData\\\\PythonBook\\\\Python\\\\lib\\\\site-packages\\\\tornado\\\\ioloop.py'>,\n",
       " 'socketserver': <module 'socketserver' from 'C:\\\\Users\\\\HP\\\\AppData\\\\Local\\\\Programs\\\\Python\\\\Python310\\\\lib\\\\socketserver.py'>,\n",
       " 'logging.config': <module 'logging.config' from 'C:\\\\Users\\\\HP\\\\AppData\\\\Local\\\\Programs\\\\Python\\\\Python310\\\\lib\\\\logging\\\\config.py'>,\n",
       " 'textwrap': <module 'textwrap' from 'C:\\\\Users\\\\HP\\\\AppData\\\\Local\\\\Programs\\\\Python\\\\Python310\\\\lib\\\\textwrap.py'>,\n",
       " 'traitlets.utils.text': <module 'traitlets.utils.text' from 'f:\\\\DushyanthData\\\\PythonBook\\\\Python\\\\lib\\\\site-packages\\\\traitlets\\\\utils\\\\text.py'>,\n",
       " 'gettext': <module 'gettext' from 'C:\\\\Users\\\\HP\\\\AppData\\\\Local\\\\Programs\\\\Python\\\\Python310\\\\lib\\\\gettext.py'>,\n",
       " 'argparse': <module 'argparse' from 'C:\\\\Users\\\\HP\\\\AppData\\\\Local\\\\Programs\\\\Python\\\\Python310\\\\lib\\\\argparse.py'>,\n",
       " 'traitlets.config.loader': <module 'traitlets.config.loader' from 'f:\\\\DushyanthData\\\\PythonBook\\\\Python\\\\lib\\\\site-packages\\\\traitlets\\\\config\\\\loader.py'>,\n",
       " 'traitlets.config.configurable': <module 'traitlets.config.configurable' from 'f:\\\\DushyanthData\\\\PythonBook\\\\Python\\\\lib\\\\site-packages\\\\traitlets\\\\config\\\\configurable.py'>,\n",
       " 'traitlets.utils.nested_update': <module 'traitlets.utils.nested_update' from 'f:\\\\DushyanthData\\\\PythonBook\\\\Python\\\\lib\\\\site-packages\\\\traitlets\\\\utils\\\\nested_update.py'>,\n",
       " 'traitlets.config.application': <module 'traitlets.config.application' from 'f:\\\\DushyanthData\\\\PythonBook\\\\Python\\\\lib\\\\site-packages\\\\traitlets\\\\config\\\\application.py'>,\n",
       " 'traitlets.config': <module 'traitlets.config' from 'f:\\\\DushyanthData\\\\PythonBook\\\\Python\\\\lib\\\\site-packages\\\\traitlets\\\\config\\\\__init__.py'>,\n",
       " 'traitlets.log': <module 'traitlets.log' from 'f:\\\\DushyanthData\\\\PythonBook\\\\Python\\\\lib\\\\site-packages\\\\traitlets\\\\log.py'>,\n",
       " 'zmq.eventloop': <module 'zmq.eventloop' from 'f:\\\\DushyanthData\\\\PythonBook\\\\Python\\\\lib\\\\site-packages\\\\zmq\\\\eventloop\\\\__init__.py'>,\n",
       " 'zmq.eventloop.zmqstream': <module 'zmq.eventloop.zmqstream' from 'f:\\\\DushyanthData\\\\PythonBook\\\\Python\\\\lib\\\\site-packages\\\\zmq\\\\eventloop\\\\zmqstream.py'>,\n",
       " 'jupyter_client.adapter': <module 'jupyter_client.adapter' from 'f:\\\\DushyanthData\\\\PythonBook\\\\Python\\\\lib\\\\site-packages\\\\jupyter_client\\\\adapter.py'>,\n",
       " 'dateutil._version': <module 'dateutil._version' from 'f:\\\\DushyanthData\\\\PythonBook\\\\Python\\\\lib\\\\site-packages\\\\dateutil\\\\_version.py'>,\n",
       " 'dateutil': <module 'dateutil' from 'f:\\\\DushyanthData\\\\PythonBook\\\\Python\\\\lib\\\\site-packages\\\\dateutil\\\\__init__.py'>,\n",
       " 'locale': <module 'locale' from 'C:\\\\Users\\\\HP\\\\AppData\\\\Local\\\\Programs\\\\Python\\\\Python310\\\\lib\\\\locale.py'>,\n",
       " 'calendar': <module 'calendar' from 'C:\\\\Users\\\\HP\\\\AppData\\\\Local\\\\Programs\\\\Python\\\\Python310\\\\lib\\\\calendar.py'>,\n",
       " 'six': <module 'six' from 'f:\\\\DushyanthData\\\\PythonBook\\\\Python\\\\lib\\\\site-packages\\\\six.py'>,\n",
       " '_decimal': <module '_decimal' from 'C:\\\\Users\\\\HP\\\\AppData\\\\Local\\\\Programs\\\\Python\\\\Python310\\\\DLLs\\\\_decimal.pyd'>,\n",
       " 'decimal': <module 'decimal' from 'C:\\\\Users\\\\HP\\\\AppData\\\\Local\\\\Programs\\\\Python\\\\Python310\\\\lib\\\\decimal.py'>,\n",
       " 'dateutil._common': <module 'dateutil._common' from 'f:\\\\DushyanthData\\\\PythonBook\\\\Python\\\\lib\\\\site-packages\\\\dateutil\\\\_common.py'>,\n",
       " 'dateutil.relativedelta': <module 'dateutil.relativedelta' from 'f:\\\\DushyanthData\\\\PythonBook\\\\Python\\\\lib\\\\site-packages\\\\dateutil\\\\relativedelta.py'>,\n",
       " 'six.moves': <module 'six.moves' (<six._SixMetaPathImporter object at 0x00000137CBD886A0>)>,\n",
       " 'dateutil.tz._common': <module 'dateutil.tz._common' from 'f:\\\\DushyanthData\\\\PythonBook\\\\Python\\\\lib\\\\site-packages\\\\dateutil\\\\tz\\\\_common.py'>,\n",
       " 'dateutil.tz._factories': <module 'dateutil.tz._factories' from 'f:\\\\DushyanthData\\\\PythonBook\\\\Python\\\\lib\\\\site-packages\\\\dateutil\\\\tz\\\\_factories.py'>,\n",
       " 'dateutil.tz.win': <module 'dateutil.tz.win' from 'f:\\\\DushyanthData\\\\PythonBook\\\\Python\\\\lib\\\\site-packages\\\\dateutil\\\\tz\\\\win.py'>,\n",
       " 'dateutil.tz.tz': <module 'dateutil.tz.tz' from 'f:\\\\DushyanthData\\\\PythonBook\\\\Python\\\\lib\\\\site-packages\\\\dateutil\\\\tz\\\\tz.py'>,\n",
       " 'dateutil.tz': <module 'dateutil.tz' from 'f:\\\\DushyanthData\\\\PythonBook\\\\Python\\\\lib\\\\site-packages\\\\dateutil\\\\tz\\\\__init__.py'>,\n",
       " 'dateutil.parser._parser': <module 'dateutil.parser._parser' from 'f:\\\\DushyanthData\\\\PythonBook\\\\Python\\\\lib\\\\site-packages\\\\dateutil\\\\parser\\\\_parser.py'>,\n",
       " 'dateutil.parser.isoparser': <module 'dateutil.parser.isoparser' from 'f:\\\\DushyanthData\\\\PythonBook\\\\Python\\\\lib\\\\site-packages\\\\dateutil\\\\parser\\\\isoparser.py'>,\n",
       " 'dateutil.parser': <module 'dateutil.parser' from 'f:\\\\DushyanthData\\\\PythonBook\\\\Python\\\\lib\\\\site-packages\\\\dateutil\\\\parser\\\\__init__.py'>,\n",
       " '_strptime': <module '_strptime' from 'C:\\\\Users\\\\HP\\\\AppData\\\\Local\\\\Programs\\\\Python\\\\Python310\\\\lib\\\\_strptime.py'>,\n",
       " 'jupyter_client.jsonutil': <module 'jupyter_client.jsonutil' from 'f:\\\\DushyanthData\\\\PythonBook\\\\Python\\\\lib\\\\site-packages\\\\jupyter_client\\\\jsonutil.py'>,\n",
       " 'jupyter_client.session': <module 'jupyter_client.session' from 'f:\\\\DushyanthData\\\\PythonBook\\\\Python\\\\lib\\\\site-packages\\\\jupyter_client\\\\session.py'>,\n",
       " 'jupyter_client.channels': <module 'jupyter_client.channels' from 'f:\\\\DushyanthData\\\\PythonBook\\\\Python\\\\lib\\\\site-packages\\\\jupyter_client\\\\channels.py'>,\n",
       " 'getpass': <module 'getpass' from 'C:\\\\Users\\\\HP\\\\AppData\\\\Local\\\\Programs\\\\Python\\\\Python310\\\\lib\\\\getpass.py'>,\n",
       " 'jupyter_client.clientabc': <module 'jupyter_client.clientabc' from 'f:\\\\DushyanthData\\\\PythonBook\\\\Python\\\\lib\\\\site-packages\\\\jupyter_client\\\\clientabc.py'>,\n",
       " 'glob': <module 'glob' from 'C:\\\\Users\\\\HP\\\\AppData\\\\Local\\\\Programs\\\\Python\\\\Python310\\\\lib\\\\glob.py'>,\n",
       " 'platformdirs.api': <module 'platformdirs.api' from 'f:\\\\DushyanthData\\\\PythonBook\\\\Python\\\\lib\\\\site-packages\\\\platformdirs\\\\api.py'>,\n",
       " 'platformdirs.version': <module 'platformdirs.version' from 'f:\\\\DushyanthData\\\\PythonBook\\\\Python\\\\lib\\\\site-packages\\\\platformdirs\\\\version.py'>,\n",
       " 'platformdirs.windows': <module 'platformdirs.windows' from 'f:\\\\DushyanthData\\\\PythonBook\\\\Python\\\\lib\\\\site-packages\\\\platformdirs\\\\windows.py'>,\n",
       " 'platformdirs': <module 'platformdirs' from 'f:\\\\DushyanthData\\\\PythonBook\\\\Python\\\\lib\\\\site-packages\\\\platformdirs\\\\__init__.py'>,\n",
       " 'jupyter_core.paths': <module 'jupyter_core.paths' from 'f:\\\\DushyanthData\\\\PythonBook\\\\Python\\\\lib\\\\site-packages\\\\jupyter_core\\\\paths.py'>,\n",
       " 'jupyter_client.localinterfaces': <module 'jupyter_client.localinterfaces' from 'f:\\\\DushyanthData\\\\PythonBook\\\\Python\\\\lib\\\\site-packages\\\\jupyter_client\\\\localinterfaces.py'>,\n",
       " 'jupyter_client.utils': <module 'jupyter_client.utils' from 'f:\\\\DushyanthData\\\\PythonBook\\\\Python\\\\lib\\\\site-packages\\\\jupyter_client\\\\utils.py'>,\n",
       " 'jupyter_client.connect': <module 'jupyter_client.connect' from 'f:\\\\DushyanthData\\\\PythonBook\\\\Python\\\\lib\\\\site-packages\\\\jupyter_client\\\\connect.py'>,\n",
       " 'jupyter_client.client': <module 'jupyter_client.client' from 'f:\\\\DushyanthData\\\\PythonBook\\\\Python\\\\lib\\\\site-packages\\\\jupyter_client\\\\client.py'>,\n",
       " 'jupyter_client.asynchronous.client': <module 'jupyter_client.asynchronous.client' from 'f:\\\\DushyanthData\\\\PythonBook\\\\Python\\\\lib\\\\site-packages\\\\jupyter_client\\\\asynchronous\\\\client.py'>,\n",
       " 'jupyter_client.asynchronous': <module 'jupyter_client.asynchronous' from 'f:\\\\DushyanthData\\\\PythonBook\\\\Python\\\\lib\\\\site-packages\\\\jupyter_client\\\\asynchronous\\\\__init__.py'>,\n",
       " 'jupyter_client.blocking.client': <module 'jupyter_client.blocking.client' from 'f:\\\\DushyanthData\\\\PythonBook\\\\Python\\\\lib\\\\site-packages\\\\jupyter_client\\\\blocking\\\\client.py'>,\n",
       " 'jupyter_client.blocking': <module 'jupyter_client.blocking' from 'f:\\\\DushyanthData\\\\PythonBook\\\\Python\\\\lib\\\\site-packages\\\\jupyter_client\\\\blocking\\\\__init__.py'>,\n",
       " 'jupyter_client.launcher': <module 'jupyter_client.launcher' from 'f:\\\\DushyanthData\\\\PythonBook\\\\Python\\\\lib\\\\site-packages\\\\jupyter_client\\\\launcher.py'>,\n",
       " '_uuid': <module '_uuid' from 'C:\\\\Users\\\\HP\\\\AppData\\\\Local\\\\Programs\\\\Python\\\\Python310\\\\DLLs\\\\_uuid.pyd'>,\n",
       " 'uuid': <module 'uuid' from 'C:\\\\Users\\\\HP\\\\AppData\\\\Local\\\\Programs\\\\Python\\\\Python310\\\\lib\\\\uuid.py'>,\n",
       " '_csv': <module '_csv' (built-in)>,\n",
       " 'csv': <module 'csv' from 'C:\\\\Users\\\\HP\\\\AppData\\\\Local\\\\Programs\\\\Python\\\\Python310\\\\lib\\\\csv.py'>,\n",
       " 'email': <module 'email' from 'C:\\\\Users\\\\HP\\\\AppData\\\\Local\\\\Programs\\\\Python\\\\Python310\\\\lib\\\\email\\\\__init__.py'>,\n",
       " 'zipfile': <module 'zipfile' from 'C:\\\\Users\\\\HP\\\\AppData\\\\Local\\\\Programs\\\\Python\\\\Python310\\\\lib\\\\zipfile.py'>,\n",
       " 'uu': <module 'uu' from 'C:\\\\Users\\\\HP\\\\AppData\\\\Local\\\\Programs\\\\Python\\\\Python310\\\\lib\\\\uu.py'>,\n",
       " 'quopri': <module 'quopri' from 'C:\\\\Users\\\\HP\\\\AppData\\\\Local\\\\Programs\\\\Python\\\\Python310\\\\lib\\\\quopri.py'>,\n",
       " 'email._parseaddr': <module 'email._parseaddr' from 'C:\\\\Users\\\\HP\\\\AppData\\\\Local\\\\Programs\\\\Python\\\\Python310\\\\lib\\\\email\\\\_parseaddr.py'>,\n",
       " 'email.base64mime': <module 'email.base64mime' from 'C:\\\\Users\\\\HP\\\\AppData\\\\Local\\\\Programs\\\\Python\\\\Python310\\\\lib\\\\email\\\\base64mime.py'>,\n",
       " 'email.quoprimime': <module 'email.quoprimime' from 'C:\\\\Users\\\\HP\\\\AppData\\\\Local\\\\Programs\\\\Python\\\\Python310\\\\lib\\\\email\\\\quoprimime.py'>,\n",
       " 'email.errors': <module 'email.errors' from 'C:\\\\Users\\\\HP\\\\AppData\\\\Local\\\\Programs\\\\Python\\\\Python310\\\\lib\\\\email\\\\errors.py'>,\n",
       " 'email.encoders': <module 'email.encoders' from 'C:\\\\Users\\\\HP\\\\AppData\\\\Local\\\\Programs\\\\Python\\\\Python310\\\\lib\\\\email\\\\encoders.py'>,\n",
       " 'email.charset': <module 'email.charset' from 'C:\\\\Users\\\\HP\\\\AppData\\\\Local\\\\Programs\\\\Python\\\\Python310\\\\lib\\\\email\\\\charset.py'>,\n",
       " 'email.utils': <module 'email.utils' from 'C:\\\\Users\\\\HP\\\\AppData\\\\Local\\\\Programs\\\\Python\\\\Python310\\\\lib\\\\email\\\\utils.py'>,\n",
       " 'email.header': <module 'email.header' from 'C:\\\\Users\\\\HP\\\\AppData\\\\Local\\\\Programs\\\\Python\\\\Python310\\\\lib\\\\email\\\\header.py'>,\n",
       " 'email._policybase': <module 'email._policybase' from 'C:\\\\Users\\\\HP\\\\AppData\\\\Local\\\\Programs\\\\Python\\\\Python310\\\\lib\\\\email\\\\_policybase.py'>,\n",
       " 'email._encoded_words': <module 'email._encoded_words' from 'C:\\\\Users\\\\HP\\\\AppData\\\\Local\\\\Programs\\\\Python\\\\Python310\\\\lib\\\\email\\\\_encoded_words.py'>,\n",
       " 'email.iterators': <module 'email.iterators' from 'C:\\\\Users\\\\HP\\\\AppData\\\\Local\\\\Programs\\\\Python\\\\Python310\\\\lib\\\\email\\\\iterators.py'>,\n",
       " 'email.message': <module 'email.message' from 'C:\\\\Users\\\\HP\\\\AppData\\\\Local\\\\Programs\\\\Python\\\\Python310\\\\lib\\\\email\\\\message.py'>,\n",
       " 'importlib.metadata._functools': <module 'importlib.metadata._functools' from 'C:\\\\Users\\\\HP\\\\AppData\\\\Local\\\\Programs\\\\Python\\\\Python310\\\\lib\\\\importlib\\\\metadata\\\\_functools.py'>,\n",
       " 'importlib.metadata._text': <module 'importlib.metadata._text' from 'C:\\\\Users\\\\HP\\\\AppData\\\\Local\\\\Programs\\\\Python\\\\Python310\\\\lib\\\\importlib\\\\metadata\\\\_text.py'>,\n",
       " 'importlib.metadata._adapters': <module 'importlib.metadata._adapters' from 'C:\\\\Users\\\\HP\\\\AppData\\\\Local\\\\Programs\\\\Python\\\\Python310\\\\lib\\\\importlib\\\\metadata\\\\_adapters.py'>,\n",
       " 'importlib.metadata._meta': <module 'importlib.metadata._meta' from 'C:\\\\Users\\\\HP\\\\AppData\\\\Local\\\\Programs\\\\Python\\\\Python310\\\\lib\\\\importlib\\\\metadata\\\\_meta.py'>,\n",
       " 'importlib.metadata._collections': <module 'importlib.metadata._collections' from 'C:\\\\Users\\\\HP\\\\AppData\\\\Local\\\\Programs\\\\Python\\\\Python310\\\\lib\\\\importlib\\\\metadata\\\\_collections.py'>,\n",
       " 'importlib.metadata._itertools': <module 'importlib.metadata._itertools' from 'C:\\\\Users\\\\HP\\\\AppData\\\\Local\\\\Programs\\\\Python\\\\Python310\\\\lib\\\\importlib\\\\metadata\\\\_itertools.py'>,\n",
       " 'importlib.abc': <module 'importlib.abc' from 'C:\\\\Users\\\\HP\\\\AppData\\\\Local\\\\Programs\\\\Python\\\\Python310\\\\lib\\\\importlib\\\\abc.py'>,\n",
       " 'importlib.metadata': <module 'importlib.metadata' from 'C:\\\\Users\\\\HP\\\\AppData\\\\Local\\\\Programs\\\\Python\\\\Python310\\\\lib\\\\importlib\\\\metadata\\\\__init__.py'>,\n",
       " 'jupyter_client.provisioning.provisioner_base': <module 'jupyter_client.provisioning.provisioner_base' from 'f:\\\\DushyanthData\\\\PythonBook\\\\Python\\\\lib\\\\site-packages\\\\jupyter_client\\\\provisioning\\\\provisioner_base.py'>,\n",
       " 'jupyter_client.provisioning.factory': <module 'jupyter_client.provisioning.factory' from 'f:\\\\DushyanthData\\\\PythonBook\\\\Python\\\\lib\\\\site-packages\\\\jupyter_client\\\\provisioning\\\\factory.py'>,\n",
       " 'jupyter_client.provisioning.local_provisioner': <module 'jupyter_client.provisioning.local_provisioner' from 'f:\\\\DushyanthData\\\\PythonBook\\\\Python\\\\lib\\\\site-packages\\\\jupyter_client\\\\provisioning\\\\local_provisioner.py'>,\n",
       " 'jupyter_client.provisioning': <module 'jupyter_client.provisioning' from 'f:\\\\DushyanthData\\\\PythonBook\\\\Python\\\\lib\\\\site-packages\\\\jupyter_client\\\\provisioning\\\\__init__.py'>,\n",
       " 'jupyter_client.kernelspec': <module 'jupyter_client.kernelspec' from 'f:\\\\DushyanthData\\\\PythonBook\\\\Python\\\\lib\\\\site-packages\\\\jupyter_client\\\\kernelspec.py'>,\n",
       " 'jupyter_client.managerabc': <module 'jupyter_client.managerabc' from 'f:\\\\DushyanthData\\\\PythonBook\\\\Python\\\\lib\\\\site-packages\\\\jupyter_client\\\\managerabc.py'>,\n",
       " 'jupyter_client.manager': <module 'jupyter_client.manager' from 'f:\\\\DushyanthData\\\\PythonBook\\\\Python\\\\lib\\\\site-packages\\\\jupyter_client\\\\manager.py'>,\n",
       " 'jupyter_client.multikernelmanager': <module 'jupyter_client.multikernelmanager' from 'f:\\\\DushyanthData\\\\PythonBook\\\\Python\\\\lib\\\\site-packages\\\\jupyter_client\\\\multikernelmanager.py'>,\n",
       " 'jupyter_client': <module 'jupyter_client' from 'f:\\\\DushyanthData\\\\PythonBook\\\\Python\\\\lib\\\\site-packages\\\\jupyter_client\\\\__init__.py'>,\n",
       " 'ipykernel.connect': <module 'ipykernel.connect' from 'f:\\\\DushyanthData\\\\PythonBook\\\\Python\\\\lib\\\\site-packages\\\\ipykernel\\\\connect.py'>,\n",
       " 'ipykernel': <module 'ipykernel' from 'f:\\\\DushyanthData\\\\PythonBook\\\\Python\\\\lib\\\\site-packages\\\\ipykernel\\\\__init__.py'>,\n",
       " 'IPython.core': <module 'IPython.core' from 'f:\\\\DushyanthData\\\\PythonBook\\\\Python\\\\lib\\\\site-packages\\\\IPython\\\\core\\\\__init__.py'>,\n",
       " 'IPython.core.getipython': <module 'IPython.core.getipython' from 'f:\\\\DushyanthData\\\\PythonBook\\\\Python\\\\lib\\\\site-packages\\\\IPython\\\\core\\\\getipython.py'>,\n",
       " 'IPython.core.release': <module 'IPython.core.release' from 'f:\\\\DushyanthData\\\\PythonBook\\\\Python\\\\lib\\\\site-packages\\\\IPython\\\\core\\\\release.py'>,\n",
       " 'pkgutil': <module 'pkgutil' from 'C:\\\\Users\\\\HP\\\\AppData\\\\Local\\\\Programs\\\\Python\\\\Python310\\\\lib\\\\pkgutil.py'>,\n",
       " 'sysconfig': <module 'sysconfig' from 'C:\\\\Users\\\\HP\\\\AppData\\\\Local\\\\Programs\\\\Python\\\\Python310\\\\lib\\\\sysconfig.py'>,\n",
       " 'pydoc': <module 'pydoc' from 'C:\\\\Users\\\\HP\\\\AppData\\\\Local\\\\Programs\\\\Python\\\\Python310\\\\lib\\\\pydoc.py'>,\n",
       " 'executing.executing': <module 'executing.executing' from 'f:\\\\DushyanthData\\\\PythonBook\\\\Python\\\\lib\\\\site-packages\\\\executing\\\\executing.py'>,\n",
       " 'executing._pytest_utils': <module 'executing._pytest_utils' from 'f:\\\\DushyanthData\\\\PythonBook\\\\Python\\\\lib\\\\site-packages\\\\executing\\\\_pytest_utils.py'>,\n",
       " 'executing.version': <module 'executing.version' from 'f:\\\\DushyanthData\\\\PythonBook\\\\Python\\\\lib\\\\site-packages\\\\executing\\\\version.py'>,\n",
       " 'executing': <module 'executing' from 'f:\\\\DushyanthData\\\\PythonBook\\\\Python\\\\lib\\\\site-packages\\\\executing\\\\__init__.py'>,\n",
       " 'asttokens.line_numbers': <module 'asttokens.line_numbers' from 'f:\\\\DushyanthData\\\\PythonBook\\\\Python\\\\lib\\\\site-packages\\\\asttokens\\\\line_numbers.py'>,\n",
       " 'asttokens.util': <module 'asttokens.util' from 'f:\\\\DushyanthData\\\\PythonBook\\\\Python\\\\lib\\\\site-packages\\\\asttokens\\\\util.py'>,\n",
       " 'asttokens.asttokens': <module 'asttokens.asttokens' from 'f:\\\\DushyanthData\\\\PythonBook\\\\Python\\\\lib\\\\site-packages\\\\asttokens\\\\asttokens.py'>,\n",
       " 'asttokens': <module 'asttokens' from 'f:\\\\DushyanthData\\\\PythonBook\\\\Python\\\\lib\\\\site-packages\\\\asttokens\\\\__init__.py'>,\n",
       " 'fractions': <module 'fractions' from 'C:\\\\Users\\\\HP\\\\AppData\\\\Local\\\\Programs\\\\Python\\\\Python310\\\\lib\\\\fractions.py'>,\n",
       " 'pure_eval.utils': <module 'pure_eval.utils' from 'f:\\\\DushyanthData\\\\PythonBook\\\\Python\\\\lib\\\\site-packages\\\\pure_eval\\\\utils.py'>,\n",
       " 'pure_eval.my_getattr_static': <module 'pure_eval.my_getattr_static' from 'f:\\\\DushyanthData\\\\PythonBook\\\\Python\\\\lib\\\\site-packages\\\\pure_eval\\\\my_getattr_static.py'>,\n",
       " 'pure_eval.core': <module 'pure_eval.core' from 'f:\\\\DushyanthData\\\\PythonBook\\\\Python\\\\lib\\\\site-packages\\\\pure_eval\\\\core.py'>,\n",
       " 'pure_eval.version': <module 'pure_eval.version' from 'f:\\\\DushyanthData\\\\PythonBook\\\\Python\\\\lib\\\\site-packages\\\\pure_eval\\\\version.py'>,\n",
       " 'pure_eval': <module 'pure_eval' from 'f:\\\\DushyanthData\\\\PythonBook\\\\Python\\\\lib\\\\site-packages\\\\pure_eval\\\\__init__.py'>,\n",
       " 'stack_data.utils': <module 'stack_data.utils' from 'f:\\\\DushyanthData\\\\PythonBook\\\\Python\\\\lib\\\\site-packages\\\\stack_data\\\\utils.py'>,\n",
       " 'stack_data.core': <module 'stack_data.core' from 'f:\\\\DushyanthData\\\\PythonBook\\\\Python\\\\lib\\\\site-packages\\\\stack_data\\\\core.py'>,\n",
       " 'stack_data.formatting': <module 'stack_data.formatting' from 'f:\\\\DushyanthData\\\\PythonBook\\\\Python\\\\lib\\\\site-packages\\\\stack_data\\\\formatting.py'>,\n",
       " 'stack_data.serializing': <module 'stack_data.serializing' from 'f:\\\\DushyanthData\\\\PythonBook\\\\Python\\\\lib\\\\site-packages\\\\stack_data\\\\serializing.py'>,\n",
       " 'stack_data.version': <module 'stack_data.version' from 'f:\\\\DushyanthData\\\\PythonBook\\\\Python\\\\lib\\\\site-packages\\\\stack_data\\\\version.py'>,\n",
       " 'stack_data': <module 'stack_data' from 'f:\\\\DushyanthData\\\\PythonBook\\\\Python\\\\lib\\\\site-packages\\\\stack_data\\\\__init__.py'>,\n",
       " 'pygments': <module 'pygments' from 'f:\\\\DushyanthData\\\\PythonBook\\\\Python\\\\lib\\\\site-packages\\\\pygments\\\\__init__.py'>,\n",
       " 'pygments.formatters._mapping': <module 'pygments.formatters._mapping' from 'f:\\\\DushyanthData\\\\PythonBook\\\\Python\\\\lib\\\\site-packages\\\\pygments\\\\formatters\\\\_mapping.py'>,\n",
       " 'pygments.plugin': <module 'pygments.plugin' from 'f:\\\\DushyanthData\\\\PythonBook\\\\Python\\\\lib\\\\site-packages\\\\pygments\\\\plugin.py'>,\n",
       " 'pygments.util': <module 'pygments.util' from 'f:\\\\DushyanthData\\\\PythonBook\\\\Python\\\\lib\\\\site-packages\\\\pygments\\\\util.py'>,\n",
       " 'pygments.formatters': <module 'pygments.formatters' from 'f:\\\\DushyanthData\\\\PythonBook\\\\Python\\\\lib\\\\site-packages\\\\pygments\\\\formatters\\\\__init__.py'>,\n",
       " 'pygments.styles._mapping': <module 'pygments.styles._mapping' from 'f:\\\\DushyanthData\\\\PythonBook\\\\Python\\\\lib\\\\site-packages\\\\pygments\\\\styles\\\\_mapping.py'>,\n",
       " 'pygments.styles': <module 'pygments.styles' from 'f:\\\\DushyanthData\\\\PythonBook\\\\Python\\\\lib\\\\site-packages\\\\pygments\\\\styles\\\\__init__.py'>,\n",
       " 'pygments.formatter': <module 'pygments.formatter' from 'f:\\\\DushyanthData\\\\PythonBook\\\\Python\\\\lib\\\\site-packages\\\\pygments\\\\formatter.py'>,\n",
       " 'pygments.console': <module 'pygments.console' from 'f:\\\\DushyanthData\\\\PythonBook\\\\Python\\\\lib\\\\site-packages\\\\pygments\\\\console.py'>,\n",
       " 'pygments.token': <module 'pygments.token' from 'f:\\\\DushyanthData\\\\PythonBook\\\\Python\\\\lib\\\\site-packages\\\\pygments\\\\token.py'>,\n",
       " 'pygments.style': <module 'pygments.style' from 'f:\\\\DushyanthData\\\\PythonBook\\\\Python\\\\lib\\\\site-packages\\\\pygments\\\\style.py'>,\n",
       " 'pygments.formatters.terminal256': <module 'pygments.formatters.terminal256' from 'f:\\\\DushyanthData\\\\PythonBook\\\\Python\\\\lib\\\\site-packages\\\\pygments\\\\formatters\\\\terminal256.py'>,\n",
       " 'IPython.utils': <module 'IPython.utils' from 'f:\\\\DushyanthData\\\\PythonBook\\\\Python\\\\lib\\\\site-packages\\\\IPython\\\\utils\\\\__init__.py'>,\n",
       " 'IPython.utils.colorable': <module 'IPython.utils.colorable' from 'f:\\\\DushyanthData\\\\PythonBook\\\\Python\\\\lib\\\\site-packages\\\\IPython\\\\utils\\\\colorable.py'>,\n",
       " 'IPython.utils.ipstruct': <module 'IPython.utils.ipstruct' from 'f:\\\\DushyanthData\\\\PythonBook\\\\Python\\\\lib\\\\site-packages\\\\IPython\\\\utils\\\\ipstruct.py'>,\n",
       " 'IPython.utils.coloransi': <module 'IPython.utils.coloransi' from 'f:\\\\DushyanthData\\\\PythonBook\\\\Python\\\\lib\\\\site-packages\\\\IPython\\\\utils\\\\coloransi.py'>,\n",
       " 'IPython.core.excolors': <module 'IPython.core.excolors' from 'f:\\\\DushyanthData\\\\PythonBook\\\\Python\\\\lib\\\\site-packages\\\\IPython\\\\core\\\\excolors.py'>,\n",
       " 'IPython.utils.PyColorize': <module 'IPython.utils.PyColorize' from 'f:\\\\DushyanthData\\\\PythonBook\\\\Python\\\\lib\\\\site-packages\\\\IPython\\\\utils\\\\PyColorize.py'>,\n",
       " 'IPython.utils.encoding': <module 'IPython.utils.encoding' from 'f:\\\\DushyanthData\\\\PythonBook\\\\Python\\\\lib\\\\site-packages\\\\IPython\\\\utils\\\\encoding.py'>,\n",
       " 'IPython.utils.py3compat': <module 'IPython.utils.py3compat' from 'f:\\\\DushyanthData\\\\PythonBook\\\\Python\\\\lib\\\\site-packages\\\\IPython\\\\utils\\\\py3compat.py'>,\n",
       " 'cmd': <module 'cmd' from 'C:\\\\Users\\\\HP\\\\AppData\\\\Local\\\\Programs\\\\Python\\\\Python310\\\\lib\\\\cmd.py'>,\n",
       " 'bdb': <module 'bdb' from 'C:\\\\Users\\\\HP\\\\AppData\\\\Local\\\\Programs\\\\Python\\\\Python310\\\\lib\\\\bdb.py'>,\n",
       " 'codeop': <module 'codeop' from 'C:\\\\Users\\\\HP\\\\AppData\\\\Local\\\\Programs\\\\Python\\\\Python310\\\\lib\\\\codeop.py'>,\n",
       " 'code': <module 'code' from 'C:\\\\Users\\\\HP\\\\AppData\\\\Local\\\\Programs\\\\Python\\\\Python310\\\\lib\\\\code.py'>,\n",
       " 'pdb': <module 'pdb' from 'C:\\\\Users\\\\HP\\\\AppData\\\\Local\\\\Programs\\\\Python\\\\Python310\\\\lib\\\\pdb.py'>,\n",
       " 'IPython.core.debugger': <module 'IPython.core.debugger' from 'f:\\\\DushyanthData\\\\PythonBook\\\\Python\\\\lib\\\\site-packages\\\\IPython\\\\core\\\\debugger.py'>,\n",
       " 'IPython.core.display_trap': <module 'IPython.core.display_trap' from 'f:\\\\DushyanthData\\\\PythonBook\\\\Python\\\\lib\\\\site-packages\\\\IPython\\\\core\\\\display_trap.py'>,\n",
       " 'shlex': <module 'shlex' from 'C:\\\\Users\\\\HP\\\\AppData\\\\Local\\\\Programs\\\\Python\\\\Python310\\\\lib\\\\shlex.py'>,\n",
       " 'IPython.utils._process_common': <module 'IPython.utils._process_common' from 'f:\\\\DushyanthData\\\\PythonBook\\\\Python\\\\lib\\\\site-packages\\\\IPython\\\\utils\\\\_process_common.py'>,\n",
       " 'IPython.utils._process_win32': <module 'IPython.utils._process_win32' from 'f:\\\\DushyanthData\\\\PythonBook\\\\Python\\\\lib\\\\site-packages\\\\IPython\\\\utils\\\\_process_win32.py'>,\n",
       " 'IPython.utils.process': <module 'IPython.utils.process' from 'f:\\\\DushyanthData\\\\PythonBook\\\\Python\\\\lib\\\\site-packages\\\\IPython\\\\utils\\\\process.py'>,\n",
       " 'IPython.utils.path': <module 'IPython.utils.path' from 'f:\\\\DushyanthData\\\\PythonBook\\\\Python\\\\lib\\\\site-packages\\\\IPython\\\\utils\\\\path.py'>,\n",
       " 'IPython.utils.terminal': <module 'IPython.utils.terminal' from 'f:\\\\DushyanthData\\\\PythonBook\\\\Python\\\\lib\\\\site-packages\\\\IPython\\\\utils\\\\terminal.py'>,\n",
       " 'IPython.core.ultratb': <module 'IPython.core.ultratb' from 'f:\\\\DushyanthData\\\\PythonBook\\\\Python\\\\lib\\\\site-packages\\\\IPython\\\\core\\\\ultratb.py'>,\n",
       " 'IPython.utils._sysinfo': <module 'IPython.utils._sysinfo' from 'f:\\\\DushyanthData\\\\PythonBook\\\\Python\\\\lib\\\\site-packages\\\\IPython\\\\utils\\\\_sysinfo.py'>,\n",
       " 'IPython.utils.sysinfo': <module 'IPython.utils.sysinfo' from 'f:\\\\DushyanthData\\\\PythonBook\\\\Python\\\\lib\\\\site-packages\\\\IPython\\\\utils\\\\sysinfo.py'>,\n",
       " 'IPython.core.crashhandler': <module 'IPython.core.crashhandler' from 'f:\\\\DushyanthData\\\\PythonBook\\\\Python\\\\lib\\\\site-packages\\\\IPython\\\\core\\\\crashhandler.py'>,\n",
       " 'IPython.utils.importstring': <module 'IPython.utils.importstring' from 'f:\\\\DushyanthData\\\\PythonBook\\\\Python\\\\lib\\\\site-packages\\\\IPython\\\\utils\\\\importstring.py'>,\n",
       " 'IPython.paths': <module 'IPython.paths' from 'f:\\\\DushyanthData\\\\PythonBook\\\\Python\\\\lib\\\\site-packages\\\\IPython\\\\paths.py'>,\n",
       " 'IPython.core.profiledir': <module 'IPython.core.profiledir' from 'f:\\\\DushyanthData\\\\PythonBook\\\\Python\\\\lib\\\\site-packages\\\\IPython\\\\core\\\\profiledir.py'>,\n",
       " 'IPython.core.application': <module 'IPython.core.application' from 'f:\\\\DushyanthData\\\\PythonBook\\\\Python\\\\lib\\\\site-packages\\\\IPython\\\\core\\\\application.py'>,\n",
       " 'IPython.terminal': <module 'IPython.terminal' from 'f:\\\\DushyanthData\\\\PythonBook\\\\Python\\\\lib\\\\site-packages\\\\IPython\\\\terminal\\\\__init__.py'>,\n",
       " 'IPython.core.compilerop': <module 'IPython.core.compilerop' from 'f:\\\\DushyanthData\\\\PythonBook\\\\Python\\\\lib\\\\site-packages\\\\IPython\\\\core\\\\compilerop.py'>,\n",
       " 'IPython.core.error': <module 'IPython.core.error' from 'f:\\\\DushyanthData\\\\PythonBook\\\\Python\\\\lib\\\\site-packages\\\\IPython\\\\core\\\\error.py'>,\n",
       " 'IPython.utils.docs': <module 'IPython.utils.docs' from 'f:\\\\DushyanthData\\\\PythonBook\\\\Python\\\\lib\\\\site-packages\\\\IPython\\\\utils\\\\docs.py'>,\n",
       " 'IPython.utils.decorators': <module 'IPython.utils.decorators' from 'f:\\\\DushyanthData\\\\PythonBook\\\\Python\\\\lib\\\\site-packages\\\\IPython\\\\utils\\\\decorators.py'>,\n",
       " 'typing_extensions': <module 'typing_extensions' from 'f:\\\\DushyanthData\\\\PythonBook\\\\Python\\\\lib\\\\site-packages\\\\typing_extensions.py'>,\n",
       " 'IPython.utils.text': <module 'IPython.utils.text' from 'f:\\\\DushyanthData\\\\PythonBook\\\\Python\\\\lib\\\\site-packages\\\\IPython\\\\utils\\\\text.py'>,\n",
       " 'IPython.core.magic_arguments': <module 'IPython.core.magic_arguments' from 'f:\\\\DushyanthData\\\\PythonBook\\\\Python\\\\lib\\\\site-packages\\\\IPython\\\\core\\\\magic_arguments.py'>,\n",
       " 'getopt': <module 'getopt' from 'C:\\\\Users\\\\HP\\\\AppData\\\\Local\\\\Programs\\\\Python\\\\Python310\\\\lib\\\\getopt.py'>,\n",
       " 'IPython.core.display_functions': <module 'IPython.core.display_functions' from 'f:\\\\DushyanthData\\\\PythonBook\\\\Python\\\\lib\\\\site-packages\\\\IPython\\\\core\\\\display_functions.py'>,\n",
       " 'mimetypes': <module 'mimetypes' from 'C:\\\\Users\\\\HP\\\\AppData\\\\Local\\\\Programs\\\\Python\\\\Python310\\\\lib\\\\mimetypes.py'>,\n",
       " 'IPython.testing': <module 'IPython.testing' from 'f:\\\\DushyanthData\\\\PythonBook\\\\Python\\\\lib\\\\site-packages\\\\IPython\\\\testing\\\\__init__.py'>,\n",
       " 'IPython.testing.skipdoctest': <module 'IPython.testing.skipdoctest' from 'f:\\\\DushyanthData\\\\PythonBook\\\\Python\\\\lib\\\\site-packages\\\\IPython\\\\testing\\\\skipdoctest.py'>,\n",
       " 'IPython.core.display': <module 'IPython.core.display' from 'f:\\\\DushyanthData\\\\PythonBook\\\\Python\\\\lib\\\\site-packages\\\\IPython\\\\core\\\\display.py'>,\n",
       " 'IPython.lib': <module 'IPython.lib' from 'f:\\\\DushyanthData\\\\PythonBook\\\\Python\\\\lib\\\\site-packages\\\\IPython\\\\lib\\\\__init__.py'>,\n",
       " 'IPython.lib.display': <module 'IPython.lib.display' from 'f:\\\\DushyanthData\\\\PythonBook\\\\Python\\\\lib\\\\site-packages\\\\IPython\\\\lib\\\\display.py'>,\n",
       " 'IPython.display': <module 'IPython.display' from 'f:\\\\DushyanthData\\\\PythonBook\\\\Python\\\\lib\\\\site-packages\\\\IPython\\\\display.py'>,\n",
       " 'IPython.utils.data': <module 'IPython.utils.data' from 'f:\\\\DushyanthData\\\\PythonBook\\\\Python\\\\lib\\\\site-packages\\\\IPython\\\\utils\\\\data.py'>,\n",
       " 'IPython.core.page': <module 'IPython.core.page' from 'f:\\\\DushyanthData\\\\PythonBook\\\\Python\\\\lib\\\\site-packages\\\\IPython\\\\core\\\\page.py'>,\n",
       " 'IPython.lib.pretty': <module 'IPython.lib.pretty' from 'f:\\\\DushyanthData\\\\PythonBook\\\\Python\\\\lib\\\\site-packages\\\\IPython\\\\lib\\\\pretty.py'>,\n",
       " 'IPython.utils.openpy': <module 'IPython.utils.openpy' from 'f:\\\\DushyanthData\\\\PythonBook\\\\Python\\\\lib\\\\site-packages\\\\IPython\\\\utils\\\\openpy.py'>,\n",
       " 'IPython.utils.dir2': <module 'IPython.utils.dir2' from 'f:\\\\DushyanthData\\\\PythonBook\\\\Python\\\\lib\\\\site-packages\\\\IPython\\\\utils\\\\dir2.py'>,\n",
       " 'IPython.utils.wildcard': <module 'IPython.utils.wildcard' from 'f:\\\\DushyanthData\\\\PythonBook\\\\Python\\\\lib\\\\site-packages\\\\IPython\\\\utils\\\\wildcard.py'>,\n",
       " 'pygments.lexers._mapping': <module 'pygments.lexers._mapping' from 'f:\\\\DushyanthData\\\\PythonBook\\\\Python\\\\lib\\\\site-packages\\\\pygments\\\\lexers\\\\_mapping.py'>,\n",
       " 'pygments.modeline': <module 'pygments.modeline' from 'f:\\\\DushyanthData\\\\PythonBook\\\\Python\\\\lib\\\\site-packages\\\\pygments\\\\modeline.py'>,\n",
       " 'pygments.lexers': <module 'pygments.lexers' from 'f:\\\\DushyanthData\\\\PythonBook\\\\Python\\\\lib\\\\site-packages\\\\pygments\\\\lexers\\\\__init__.py'>,\n",
       " 'pygments.filter': <module 'pygments.filter' from 'f:\\\\DushyanthData\\\\PythonBook\\\\Python\\\\lib\\\\site-packages\\\\pygments\\\\filter.py'>,\n",
       " 'pygments.filters': <module 'pygments.filters' from 'f:\\\\DushyanthData\\\\PythonBook\\\\Python\\\\lib\\\\site-packages\\\\pygments\\\\filters\\\\__init__.py'>,\n",
       " 'pygments.regexopt': <module 'pygments.regexopt' from 'f:\\\\DushyanthData\\\\PythonBook\\\\Python\\\\lib\\\\site-packages\\\\pygments\\\\regexopt.py'>,\n",
       " 'pygments.lexer': <module 'pygments.lexer' from 'f:\\\\DushyanthData\\\\PythonBook\\\\Python\\\\lib\\\\site-packages\\\\pygments\\\\lexer.py'>,\n",
       " 'pygments.unistring': <module 'pygments.unistring' from 'f:\\\\DushyanthData\\\\PythonBook\\\\Python\\\\lib\\\\site-packages\\\\pygments\\\\unistring.py'>,\n",
       " 'pygments.lexers.python': <module 'pygments.lexers.python' from 'f:\\\\DushyanthData\\\\PythonBook\\\\Python\\\\lib\\\\site-packages\\\\pygments\\\\lexers\\\\python.py'>,\n",
       " 'pygments.formatters.html': <module 'pygments.formatters.html' from 'f:\\\\DushyanthData\\\\PythonBook\\\\Python\\\\lib\\\\site-packages\\\\pygments\\\\formatters\\\\html.py'>,\n",
       " 'IPython.core.oinspect': <module 'IPython.core.oinspect' from 'f:\\\\DushyanthData\\\\PythonBook\\\\Python\\\\lib\\\\site-packages\\\\IPython\\\\core\\\\oinspect.py'>,\n",
       " 'IPython.utils.tokenutil': <module 'IPython.utils.tokenutil' from 'f:\\\\DushyanthData\\\\PythonBook\\\\Python\\\\lib\\\\site-packages\\\\IPython\\\\utils\\\\tokenutil.py'>,\n",
       " 'IPython.core.inputtransformer2': <module 'IPython.core.inputtransformer2' from 'f:\\\\DushyanthData\\\\PythonBook\\\\Python\\\\lib\\\\site-packages\\\\IPython\\\\core\\\\inputtransformer2.py'>,\n",
       " 'IPython.core.magic': <module 'IPython.core.magic' from 'f:\\\\DushyanthData\\\\PythonBook\\\\Python\\\\lib\\\\site-packages\\\\IPython\\\\core\\\\magic.py'>,\n",
       " 'IPython.core.hooks': <module 'IPython.core.hooks' from 'f:\\\\DushyanthData\\\\PythonBook\\\\Python\\\\lib\\\\site-packages\\\\IPython\\\\core\\\\hooks.py'>,\n",
       " 'IPython.core.autocall': <module 'IPython.core.autocall' from 'f:\\\\DushyanthData\\\\PythonBook\\\\Python\\\\lib\\\\site-packages\\\\IPython\\\\core\\\\autocall.py'>,\n",
       " 'IPython.core.macro': <module 'IPython.core.macro' from 'f:\\\\DushyanthData\\\\PythonBook\\\\Python\\\\lib\\\\site-packages\\\\IPython\\\\core\\\\macro.py'>,\n",
       " 'IPython.core.splitinput': <module 'IPython.core.splitinput' from 'f:\\\\DushyanthData\\\\PythonBook\\\\Python\\\\lib\\\\site-packages\\\\IPython\\\\core\\\\splitinput.py'>,\n",
       " 'IPython.core.prefilter': <module 'IPython.core.prefilter' from 'f:\\\\DushyanthData\\\\PythonBook\\\\Python\\\\lib\\\\site-packages\\\\IPython\\\\core\\\\prefilter.py'>,\n",
       " 'IPython.core.alias': <module 'IPython.core.alias' from 'f:\\\\DushyanthData\\\\PythonBook\\\\Python\\\\lib\\\\site-packages\\\\IPython\\\\core\\\\alias.py'>,\n",
       " 'IPython.core.builtin_trap': <module 'IPython.core.builtin_trap' from 'f:\\\\DushyanthData\\\\PythonBook\\\\Python\\\\lib\\\\site-packages\\\\IPython\\\\core\\\\builtin_trap.py'>,\n",
       " 'IPython.core.displayhook': <module 'IPython.core.displayhook' from 'f:\\\\DushyanthData\\\\PythonBook\\\\Python\\\\lib\\\\site-packages\\\\IPython\\\\core\\\\displayhook.py'>,\n",
       " 'IPython.core.displaypub': <module 'IPython.core.displaypub' from 'f:\\\\DushyanthData\\\\PythonBook\\\\Python\\\\lib\\\\site-packages\\\\IPython\\\\core\\\\displaypub.py'>,\n",
       " 'IPython.core.events': <module 'IPython.core.events' from 'f:\\\\DushyanthData\\\\PythonBook\\\\Python\\\\lib\\\\site-packages\\\\IPython\\\\core\\\\events.py'>,\n",
       " 'IPython.core.extensions': <module 'IPython.core.extensions' from 'f:\\\\DushyanthData\\\\PythonBook\\\\Python\\\\lib\\\\site-packages\\\\IPython\\\\core\\\\extensions.py'>,\n",
       " 'decorator': <module 'decorator' from 'f:\\\\DushyanthData\\\\PythonBook\\\\Python\\\\lib\\\\site-packages\\\\decorator.py'>,\n",
       " 'IPython.utils.sentinel': <module 'IPython.utils.sentinel' from 'f:\\\\DushyanthData\\\\PythonBook\\\\Python\\\\lib\\\\site-packages\\\\IPython\\\\utils\\\\sentinel.py'>,\n",
       " 'IPython.core.formatters': <module 'IPython.core.formatters' from 'f:\\\\DushyanthData\\\\PythonBook\\\\Python\\\\lib\\\\site-packages\\\\IPython\\\\core\\\\formatters.py'>,\n",
       " '_sqlite3': <module '_sqlite3' from 'C:\\\\Users\\\\HP\\\\AppData\\\\Local\\\\Programs\\\\Python\\\\Python310\\\\DLLs\\\\_sqlite3.pyd'>,\n",
       " 'sqlite3.dbapi2': <module 'sqlite3.dbapi2' from 'C:\\\\Users\\\\HP\\\\AppData\\\\Local\\\\Programs\\\\Python\\\\Python310\\\\lib\\\\sqlite3\\\\dbapi2.py'>,\n",
       " 'sqlite3': <module 'sqlite3' from 'C:\\\\Users\\\\HP\\\\AppData\\\\Local\\\\Programs\\\\Python\\\\Python310\\\\lib\\\\sqlite3\\\\__init__.py'>,\n",
       " 'IPython.core.history': <module 'IPython.core.history' from 'f:\\\\DushyanthData\\\\PythonBook\\\\Python\\\\lib\\\\site-packages\\\\IPython\\\\core\\\\history.py'>,\n",
       " 'IPython.core.logger': <module 'IPython.core.logger' from 'f:\\\\DushyanthData\\\\PythonBook\\\\Python\\\\lib\\\\site-packages\\\\IPython\\\\core\\\\logger.py'>,\n",
       " 'IPython.core.payload': <module 'IPython.core.payload' from 'f:\\\\DushyanthData\\\\PythonBook\\\\Python\\\\lib\\\\site-packages\\\\IPython\\\\core\\\\payload.py'>,\n",
       " 'IPython.core.usage': <module 'IPython.core.usage' from 'f:\\\\DushyanthData\\\\PythonBook\\\\Python\\\\lib\\\\site-packages\\\\IPython\\\\core\\\\usage.py'>,\n",
       " 'IPython.utils.capture': <module 'IPython.utils.capture' from 'f:\\\\DushyanthData\\\\PythonBook\\\\Python\\\\lib\\\\site-packages\\\\IPython\\\\utils\\\\capture.py'>,\n",
       " 'IPython.utils.io': <module 'IPython.utils.io' from 'f:\\\\DushyanthData\\\\PythonBook\\\\Python\\\\lib\\\\site-packages\\\\IPython\\\\utils\\\\io.py'>,\n",
       " 'IPython.utils.strdispatch': <module 'IPython.utils.strdispatch' from 'f:\\\\DushyanthData\\\\PythonBook\\\\Python\\\\lib\\\\site-packages\\\\IPython\\\\utils\\\\strdispatch.py'>,\n",
       " 'IPython.utils.syspathcontext': <module 'IPython.utils.syspathcontext' from 'f:\\\\DushyanthData\\\\PythonBook\\\\Python\\\\lib\\\\site-packages\\\\IPython\\\\utils\\\\syspathcontext.py'>,\n",
       " 'exceptiongroup._exceptions': <module 'exceptiongroup._exceptions' from 'f:\\\\DushyanthData\\\\PythonBook\\\\Python\\\\lib\\\\site-packages\\\\exceptiongroup\\\\_exceptions.py'>,\n",
       " 'exceptiongroup._catch': <module 'exceptiongroup._catch' from 'f:\\\\DushyanthData\\\\PythonBook\\\\Python\\\\lib\\\\site-packages\\\\exceptiongroup\\\\_catch.py'>,\n",
       " 'exceptiongroup._version': <module 'exceptiongroup._version' from 'f:\\\\DushyanthData\\\\PythonBook\\\\Python\\\\lib\\\\site-packages\\\\exceptiongroup\\\\_version.py'>,\n",
       " 'exceptiongroup._formatting': <module 'exceptiongroup._formatting' from 'f:\\\\DushyanthData\\\\PythonBook\\\\Python\\\\lib\\\\site-packages\\\\exceptiongroup\\\\_formatting.py'>,\n",
       " 'exceptiongroup._suppress': <module 'exceptiongroup._suppress' from 'f:\\\\DushyanthData\\\\PythonBook\\\\Python\\\\lib\\\\site-packages\\\\exceptiongroup\\\\_suppress.py'>,\n",
       " 'exceptiongroup': <module 'exceptiongroup' from 'f:\\\\DushyanthData\\\\PythonBook\\\\Python\\\\lib\\\\site-packages\\\\exceptiongroup\\\\__init__.py'>,\n",
       " 'IPython.core.async_helpers': <module 'IPython.core.async_helpers' from 'f:\\\\DushyanthData\\\\PythonBook\\\\Python\\\\lib\\\\site-packages\\\\IPython\\\\core\\\\async_helpers.py'>,\n",
       " 'IPython.core.interactiveshell': <module 'IPython.core.interactiveshell' from 'f:\\\\DushyanthData\\\\PythonBook\\\\Python\\\\lib\\\\site-packages\\\\IPython\\\\core\\\\interactiveshell.py'>,\n",
       " 'prompt_toolkit.application.current': <module 'prompt_toolkit.application.current' from 'f:\\\\DushyanthData\\\\PythonBook\\\\Python\\\\lib\\\\site-packages\\\\prompt_toolkit\\\\application\\\\current.py'>,\n",
       " 'prompt_toolkit.eventloop.utils': <module 'prompt_toolkit.eventloop.utils' from 'f:\\\\DushyanthData\\\\PythonBook\\\\Python\\\\lib\\\\site-packages\\\\prompt_toolkit\\\\eventloop\\\\utils.py'>,\n",
       " 'prompt_toolkit.eventloop.async_generator': <module 'prompt_toolkit.eventloop.async_generator' from 'f:\\\\DushyanthData\\\\PythonBook\\\\Python\\\\lib\\\\site-packages\\\\prompt_toolkit\\\\eventloop\\\\async_generator.py'>,\n",
       " 'prompt_toolkit.eventloop.inputhook': <module 'prompt_toolkit.eventloop.inputhook' from 'f:\\\\DushyanthData\\\\PythonBook\\\\Python\\\\lib\\\\site-packages\\\\prompt_toolkit\\\\eventloop\\\\inputhook.py'>,\n",
       " 'prompt_toolkit.eventloop': <module 'prompt_toolkit.eventloop' from 'f:\\\\DushyanthData\\\\PythonBook\\\\Python\\\\lib\\\\site-packages\\\\prompt_toolkit\\\\eventloop\\\\__init__.py'>,\n",
       " 'prompt_toolkit.application.run_in_terminal': <module 'prompt_toolkit.application.run_in_terminal' from 'f:\\\\DushyanthData\\\\PythonBook\\\\Python\\\\lib\\\\site-packages\\\\prompt_toolkit\\\\application\\\\run_in_terminal.py'>,\n",
       " 'prompt_toolkit.selection': <module 'prompt_toolkit.selection' from 'f:\\\\DushyanthData\\\\PythonBook\\\\Python\\\\lib\\\\site-packages\\\\prompt_toolkit\\\\selection.py'>,\n",
       " 'prompt_toolkit.clipboard.base': <module 'prompt_toolkit.clipboard.base' from 'f:\\\\DushyanthData\\\\PythonBook\\\\Python\\\\lib\\\\site-packages\\\\prompt_toolkit\\\\clipboard\\\\base.py'>,\n",
       " 'prompt_toolkit.clipboard.in_memory': <module 'prompt_toolkit.clipboard.in_memory' from 'f:\\\\DushyanthData\\\\PythonBook\\\\Python\\\\lib\\\\site-packages\\\\prompt_toolkit\\\\clipboard\\\\in_memory.py'>,\n",
       " 'prompt_toolkit.clipboard': <module 'prompt_toolkit.clipboard' from 'f:\\\\DushyanthData\\\\PythonBook\\\\Python\\\\lib\\\\site-packages\\\\prompt_toolkit\\\\clipboard\\\\__init__.py'>,\n",
       " 'prompt_toolkit.cache': <module 'prompt_toolkit.cache' from 'f:\\\\DushyanthData\\\\PythonBook\\\\Python\\\\lib\\\\site-packages\\\\prompt_toolkit\\\\cache.py'>,\n",
       " 'prompt_toolkit.enums': <module 'prompt_toolkit.enums' from 'f:\\\\DushyanthData\\\\PythonBook\\\\Python\\\\lib\\\\site-packages\\\\prompt_toolkit\\\\enums.py'>,\n",
       " 'prompt_toolkit.filters.base': <module 'prompt_toolkit.filters.base' from 'f:\\\\DushyanthData\\\\PythonBook\\\\Python\\\\lib\\\\site-packages\\\\prompt_toolkit\\\\filters\\\\base.py'>,\n",
       " 'prompt_toolkit.filters.app': <module 'prompt_toolkit.filters.app' from 'f:\\\\DushyanthData\\\\PythonBook\\\\Python\\\\lib\\\\site-packages\\\\prompt_toolkit\\\\filters\\\\app.py'>,\n",
       " 'prompt_toolkit.filters.cli': <module 'prompt_toolkit.filters.cli' from 'f:\\\\DushyanthData\\\\PythonBook\\\\Python\\\\lib\\\\site-packages\\\\prompt_toolkit\\\\filters\\\\cli.py'>,\n",
       " 'prompt_toolkit.filters.utils': <module 'prompt_toolkit.filters.utils' from 'f:\\\\DushyanthData\\\\PythonBook\\\\Python\\\\lib\\\\site-packages\\\\prompt_toolkit\\\\filters\\\\utils.py'>,\n",
       " 'prompt_toolkit.filters': <module 'prompt_toolkit.filters' from 'f:\\\\DushyanthData\\\\PythonBook\\\\Python\\\\lib\\\\site-packages\\\\prompt_toolkit\\\\filters\\\\__init__.py'>,\n",
       " 'prompt_toolkit.document': <module 'prompt_toolkit.document' from 'f:\\\\DushyanthData\\\\PythonBook\\\\Python\\\\lib\\\\site-packages\\\\prompt_toolkit\\\\document.py'>,\n",
       " 'prompt_toolkit.auto_suggest': <module 'prompt_toolkit.auto_suggest' from 'f:\\\\DushyanthData\\\\PythonBook\\\\Python\\\\lib\\\\site-packages\\\\prompt_toolkit\\\\auto_suggest.py'>,\n",
       " 'prompt_toolkit.keys': <module 'prompt_toolkit.keys' from 'f:\\\\DushyanthData\\\\PythonBook\\\\Python\\\\lib\\\\site-packages\\\\prompt_toolkit\\\\keys.py'>,\n",
       " 'prompt_toolkit.key_binding.key_bindings': <module 'prompt_toolkit.key_binding.key_bindings' from 'f:\\\\DushyanthData\\\\PythonBook\\\\Python\\\\lib\\\\site-packages\\\\prompt_toolkit\\\\key_binding\\\\key_bindings.py'>,\n",
       " 'wcwidth.table_vs16': <module 'wcwidth.table_vs16' from 'f:\\\\DushyanthData\\\\PythonBook\\\\Python\\\\lib\\\\site-packages\\\\wcwidth\\\\table_vs16.py'>,\n",
       " 'wcwidth.table_wide': <module 'wcwidth.table_wide' from 'f:\\\\DushyanthData\\\\PythonBook\\\\Python\\\\lib\\\\site-packages\\\\wcwidth\\\\table_wide.py'>,\n",
       " 'wcwidth.table_zero': <module 'wcwidth.table_zero' from 'f:\\\\DushyanthData\\\\PythonBook\\\\Python\\\\lib\\\\site-packages\\\\wcwidth\\\\table_zero.py'>,\n",
       " 'wcwidth.unicode_versions': <module 'wcwidth.unicode_versions' from 'f:\\\\DushyanthData\\\\PythonBook\\\\Python\\\\lib\\\\site-packages\\\\wcwidth\\\\unicode_versions.py'>,\n",
       " 'wcwidth.wcwidth': <module 'wcwidth.wcwidth' from 'f:\\\\DushyanthData\\\\PythonBook\\\\Python\\\\lib\\\\site-packages\\\\wcwidth\\\\wcwidth.py'>,\n",
       " 'wcwidth': <module 'wcwidth' from 'f:\\\\DushyanthData\\\\PythonBook\\\\Python\\\\lib\\\\site-packages\\\\wcwidth\\\\__init__.py'>,\n",
       " 'prompt_toolkit.utils': <module 'prompt_toolkit.utils' from 'f:\\\\DushyanthData\\\\PythonBook\\\\Python\\\\lib\\\\site-packages\\\\prompt_toolkit\\\\utils.py'>,\n",
       " 'prompt_toolkit.key_binding.key_processor': <module 'prompt_toolkit.key_binding.key_processor' from 'f:\\\\DushyanthData\\\\PythonBook\\\\Python\\\\lib\\\\site-packages\\\\prompt_toolkit\\\\key_binding\\\\key_processor.py'>,\n",
       " 'prompt_toolkit.key_binding': <module 'prompt_toolkit.key_binding' from 'f:\\\\DushyanthData\\\\PythonBook\\\\Python\\\\lib\\\\site-packages\\\\prompt_toolkit\\\\key_binding\\\\__init__.py'>,\n",
       " 'prompt_toolkit.key_binding.vi_state': <module 'prompt_toolkit.key_binding.vi_state' from 'f:\\\\DushyanthData\\\\PythonBook\\\\Python\\\\lib\\\\site-packages\\\\prompt_toolkit\\\\key_binding\\\\vi_state.py'>,\n",
       " 'prompt_toolkit.cursor_shapes': <module 'prompt_toolkit.cursor_shapes' from 'f:\\\\DushyanthData\\\\PythonBook\\\\Python\\\\lib\\\\site-packages\\\\prompt_toolkit\\\\cursor_shapes.py'>,\n",
       " 'prompt_toolkit.data_structures': <module 'prompt_toolkit.data_structures' from 'f:\\\\DushyanthData\\\\PythonBook\\\\Python\\\\lib\\\\site-packages\\\\prompt_toolkit\\\\data_structures.py'>,\n",
       " 'prompt_toolkit.styles.base': <module 'prompt_toolkit.styles.base' from 'f:\\\\DushyanthData\\\\PythonBook\\\\Python\\\\lib\\\\site-packages\\\\prompt_toolkit\\\\styles\\\\base.py'>,\n",
       " 'prompt_toolkit.styles.named_colors': <module 'prompt_toolkit.styles.named_colors' from 'f:\\\\DushyanthData\\\\PythonBook\\\\Python\\\\lib\\\\site-packages\\\\prompt_toolkit\\\\styles\\\\named_colors.py'>,\n",
       " 'prompt_toolkit.styles.style': <module 'prompt_toolkit.styles.style' from 'f:\\\\DushyanthData\\\\PythonBook\\\\Python\\\\lib\\\\site-packages\\\\prompt_toolkit\\\\styles\\\\style.py'>,\n",
       " 'prompt_toolkit.styles.defaults': <module 'prompt_toolkit.styles.defaults' from 'f:\\\\DushyanthData\\\\PythonBook\\\\Python\\\\lib\\\\site-packages\\\\prompt_toolkit\\\\styles\\\\defaults.py'>,\n",
       " 'prompt_toolkit.styles.pygments': <module 'prompt_toolkit.styles.pygments' from 'f:\\\\DushyanthData\\\\PythonBook\\\\Python\\\\lib\\\\site-packages\\\\prompt_toolkit\\\\styles\\\\pygments.py'>,\n",
       " 'colorsys': <module 'colorsys' from 'C:\\\\Users\\\\HP\\\\AppData\\\\Local\\\\Programs\\\\Python\\\\Python310\\\\lib\\\\colorsys.py'>,\n",
       " 'prompt_toolkit.styles.style_transformation': <module 'prompt_toolkit.styles.style_transformation' from 'f:\\\\DushyanthData\\\\PythonBook\\\\Python\\\\lib\\\\site-packages\\\\prompt_toolkit\\\\styles\\\\style_transformation.py'>,\n",
       " 'prompt_toolkit.styles': <module 'prompt_toolkit.styles' from 'f:\\\\DushyanthData\\\\PythonBook\\\\Python\\\\lib\\\\site-packages\\\\prompt_toolkit\\\\styles\\\\__init__.py'>,\n",
       " 'prompt_toolkit.output.color_depth': <module 'prompt_toolkit.output.color_depth' from 'f:\\\\DushyanthData\\\\PythonBook\\\\Python\\\\lib\\\\site-packages\\\\prompt_toolkit\\\\output\\\\color_depth.py'>,\n",
       " 'prompt_toolkit.output.base': <module 'prompt_toolkit.output.base' from 'f:\\\\DushyanthData\\\\PythonBook\\\\Python\\\\lib\\\\site-packages\\\\prompt_toolkit\\\\output\\\\base.py'>,\n",
       " 'prompt_toolkit.output.flush_stdout': <module 'prompt_toolkit.output.flush_stdout' from 'f:\\\\DushyanthData\\\\PythonBook\\\\Python\\\\lib\\\\site-packages\\\\prompt_toolkit\\\\output\\\\flush_stdout.py'>,\n",
       " 'prompt_toolkit.output.plain_text': <module 'prompt_toolkit.output.plain_text' from 'f:\\\\DushyanthData\\\\PythonBook\\\\Python\\\\lib\\\\site-packages\\\\prompt_toolkit\\\\output\\\\plain_text.py'>,\n",
       " 'prompt_toolkit.output.defaults': <module 'prompt_toolkit.output.defaults' from 'f:\\\\DushyanthData\\\\PythonBook\\\\Python\\\\lib\\\\site-packages\\\\prompt_toolkit\\\\output\\\\defaults.py'>,\n",
       " 'prompt_toolkit.output': <module 'prompt_toolkit.output' from 'f:\\\\DushyanthData\\\\PythonBook\\\\Python\\\\lib\\\\site-packages\\\\prompt_toolkit\\\\output\\\\__init__.py'>,\n",
       " 'prompt_toolkit.output.vt100': <module 'prompt_toolkit.output.vt100' from 'f:\\\\DushyanthData\\\\PythonBook\\\\Python\\\\lib\\\\site-packages\\\\prompt_toolkit\\\\output\\\\vt100.py'>,\n",
       " 'prompt_toolkit.mouse_events': <module 'prompt_toolkit.mouse_events' from 'f:\\\\DushyanthData\\\\PythonBook\\\\Python\\\\lib\\\\site-packages\\\\prompt_toolkit\\\\mouse_events.py'>,\n",
       " 'prompt_toolkit.formatted_text.base': <module 'prompt_toolkit.formatted_text.base' from 'f:\\\\DushyanthData\\\\PythonBook\\\\Python\\\\lib\\\\site-packages\\\\prompt_toolkit\\\\formatted_text\\\\base.py'>,\n",
       " 'prompt_toolkit.formatted_text.ansi': <module 'prompt_toolkit.formatted_text.ansi' from 'f:\\\\DushyanthData\\\\PythonBook\\\\Python\\\\lib\\\\site-packages\\\\prompt_toolkit\\\\formatted_text\\\\ansi.py'>,\n",
       " 'xml': <module 'xml' from 'C:\\\\Users\\\\HP\\\\AppData\\\\Local\\\\Programs\\\\Python\\\\Python310\\\\lib\\\\xml\\\\__init__.py'>,\n",
       " 'xml.dom.domreg': <module 'xml.dom.domreg' from 'C:\\\\Users\\\\HP\\\\AppData\\\\Local\\\\Programs\\\\Python\\\\Python310\\\\lib\\\\xml\\\\dom\\\\domreg.py'>,\n",
       " 'xml.dom': <module 'xml.dom' from 'C:\\\\Users\\\\HP\\\\AppData\\\\Local\\\\Programs\\\\Python\\\\Python310\\\\lib\\\\xml\\\\dom\\\\__init__.py'>,\n",
       " 'xml.dom.minicompat': <module 'xml.dom.minicompat' from 'C:\\\\Users\\\\HP\\\\AppData\\\\Local\\\\Programs\\\\Python\\\\Python310\\\\lib\\\\xml\\\\dom\\\\minicompat.py'>,\n",
       " 'xml.dom.NodeFilter': <module 'xml.dom.NodeFilter' from 'C:\\\\Users\\\\HP\\\\AppData\\\\Local\\\\Programs\\\\Python\\\\Python310\\\\lib\\\\xml\\\\dom\\\\NodeFilter.py'>,\n",
       " 'xml.dom.xmlbuilder': <module 'xml.dom.xmlbuilder' from 'C:\\\\Users\\\\HP\\\\AppData\\\\Local\\\\Programs\\\\Python\\\\Python310\\\\lib\\\\xml\\\\dom\\\\xmlbuilder.py'>,\n",
       " 'xml.dom.minidom': <module 'xml.dom.minidom' from 'C:\\\\Users\\\\HP\\\\AppData\\\\Local\\\\Programs\\\\Python\\\\Python310\\\\lib\\\\xml\\\\dom\\\\minidom.py'>,\n",
       " 'prompt_toolkit.formatted_text.html': <module 'prompt_toolkit.formatted_text.html' from 'f:\\\\DushyanthData\\\\PythonBook\\\\Python\\\\lib\\\\site-packages\\\\prompt_toolkit\\\\formatted_text\\\\html.py'>,\n",
       " 'prompt_toolkit.formatted_text.pygments': <module 'prompt_toolkit.formatted_text.pygments' from 'f:\\\\DushyanthData\\\\PythonBook\\\\Python\\\\lib\\\\site-packages\\\\prompt_toolkit\\\\formatted_text\\\\pygments.py'>,\n",
       " 'prompt_toolkit.formatted_text.utils': <module 'prompt_toolkit.formatted_text.utils' from 'f:\\\\DushyanthData\\\\PythonBook\\\\Python\\\\lib\\\\site-packages\\\\prompt_toolkit\\\\formatted_text\\\\utils.py'>,\n",
       " 'prompt_toolkit.formatted_text': <module 'prompt_toolkit.formatted_text' from 'f:\\\\DushyanthData\\\\PythonBook\\\\Python\\\\lib\\\\site-packages\\\\prompt_toolkit\\\\formatted_text\\\\__init__.py'>,\n",
       " 'prompt_toolkit.completion.base': <module 'prompt_toolkit.completion.base' from 'f:\\\\DushyanthData\\\\PythonBook\\\\Python\\\\lib\\\\site-packages\\\\prompt_toolkit\\\\completion\\\\base.py'>,\n",
       " 'prompt_toolkit.completion.deduplicate': <module 'prompt_toolkit.completion.deduplicate' from 'f:\\\\DushyanthData\\\\PythonBook\\\\Python\\\\lib\\\\site-packages\\\\prompt_toolkit\\\\completion\\\\deduplicate.py'>,\n",
       " 'prompt_toolkit.completion.filesystem': <module 'prompt_toolkit.completion.filesystem' from 'f:\\\\DushyanthData\\\\PythonBook\\\\Python\\\\lib\\\\site-packages\\\\prompt_toolkit\\\\completion\\\\filesystem.py'>,\n",
       " 'prompt_toolkit.completion.word_completer': <module 'prompt_toolkit.completion.word_completer' from 'f:\\\\DushyanthData\\\\PythonBook\\\\Python\\\\lib\\\\site-packages\\\\prompt_toolkit\\\\completion\\\\word_completer.py'>,\n",
       " 'prompt_toolkit.completion.fuzzy_completer': <module 'prompt_toolkit.completion.fuzzy_completer' from 'f:\\\\DushyanthData\\\\PythonBook\\\\Python\\\\lib\\\\site-packages\\\\prompt_toolkit\\\\completion\\\\fuzzy_completer.py'>,\n",
       " 'prompt_toolkit.completion.nested': <module 'prompt_toolkit.completion.nested' from 'f:\\\\DushyanthData\\\\PythonBook\\\\Python\\\\lib\\\\site-packages\\\\prompt_toolkit\\\\completion\\\\nested.py'>,\n",
       " 'prompt_toolkit.completion': <module 'prompt_toolkit.completion' from 'f:\\\\DushyanthData\\\\PythonBook\\\\Python\\\\lib\\\\site-packages\\\\prompt_toolkit\\\\completion\\\\__init__.py'>,\n",
       " 'prompt_toolkit.history': <module 'prompt_toolkit.history' from 'f:\\\\DushyanthData\\\\PythonBook\\\\Python\\\\lib\\\\site-packages\\\\prompt_toolkit\\\\history.py'>,\n",
       " 'prompt_toolkit.search': <module 'prompt_toolkit.search' from 'f:\\\\DushyanthData\\\\PythonBook\\\\Python\\\\lib\\\\site-packages\\\\prompt_toolkit\\\\search.py'>,\n",
       " 'prompt_toolkit.validation': <module 'prompt_toolkit.validation' from 'f:\\\\DushyanthData\\\\PythonBook\\\\Python\\\\lib\\\\site-packages\\\\prompt_toolkit\\\\validation.py'>,\n",
       " 'prompt_toolkit.buffer': <module 'prompt_toolkit.buffer' from 'f:\\\\DushyanthData\\\\PythonBook\\\\Python\\\\lib\\\\site-packages\\\\prompt_toolkit\\\\buffer.py'>,\n",
       " 'prompt_toolkit.input.base': <module 'prompt_toolkit.input.base' from 'f:\\\\DushyanthData\\\\PythonBook\\\\Python\\\\lib\\\\site-packages\\\\prompt_toolkit\\\\input\\\\base.py'>,\n",
       " 'prompt_toolkit.input.defaults': <module 'prompt_toolkit.input.defaults' from 'f:\\\\DushyanthData\\\\PythonBook\\\\Python\\\\lib\\\\site-packages\\\\prompt_toolkit\\\\input\\\\defaults.py'>,\n",
       " 'prompt_toolkit.input': <module 'prompt_toolkit.input' from 'f:\\\\DushyanthData\\\\PythonBook\\\\Python\\\\lib\\\\site-packages\\\\prompt_toolkit\\\\input\\\\__init__.py'>,\n",
       " 'prompt_toolkit.input.typeahead': <module 'prompt_toolkit.input.typeahead' from 'f:\\\\DushyanthData\\\\PythonBook\\\\Python\\\\lib\\\\site-packages\\\\prompt_toolkit\\\\input\\\\typeahead.py'>,\n",
       " 'prompt_toolkit.key_binding.bindings': <module 'prompt_toolkit.key_binding.bindings' from 'f:\\\\DushyanthData\\\\PythonBook\\\\Python\\\\lib\\\\site-packages\\\\prompt_toolkit\\\\key_binding\\\\bindings\\\\__init__.py'>,\n",
       " 'prompt_toolkit.key_binding.bindings.scroll': <module 'prompt_toolkit.key_binding.bindings.scroll' from 'f:\\\\DushyanthData\\\\PythonBook\\\\Python\\\\lib\\\\site-packages\\\\prompt_toolkit\\\\key_binding\\\\bindings\\\\scroll.py'>,\n",
       " 'prompt_toolkit.key_binding.bindings.page_navigation': <module 'prompt_toolkit.key_binding.bindings.page_navigation' from 'f:\\\\DushyanthData\\\\PythonBook\\\\Python\\\\lib\\\\site-packages\\\\prompt_toolkit\\\\key_binding\\\\bindings\\\\page_navigation.py'>,\n",
       " 'prompt_toolkit.lexers.base': <module 'prompt_toolkit.lexers.base' from 'f:\\\\DushyanthData\\\\PythonBook\\\\Python\\\\lib\\\\site-packages\\\\prompt_toolkit\\\\lexers\\\\base.py'>,\n",
       " 'prompt_toolkit.lexers.pygments': <module 'prompt_toolkit.lexers.pygments' from 'f:\\\\DushyanthData\\\\PythonBook\\\\Python\\\\lib\\\\site-packages\\\\prompt_toolkit\\\\lexers\\\\pygments.py'>,\n",
       " 'prompt_toolkit.lexers': <module 'prompt_toolkit.lexers' from 'f:\\\\DushyanthData\\\\PythonBook\\\\Python\\\\lib\\\\site-packages\\\\prompt_toolkit\\\\lexers\\\\__init__.py'>,\n",
       " 'prompt_toolkit.layout.utils': <module 'prompt_toolkit.layout.utils' from 'f:\\\\DushyanthData\\\\PythonBook\\\\Python\\\\lib\\\\site-packages\\\\prompt_toolkit\\\\layout\\\\utils.py'>,\n",
       " 'prompt_toolkit.layout.processors': <module 'prompt_toolkit.layout.processors' from 'f:\\\\DushyanthData\\\\PythonBook\\\\Python\\\\lib\\\\site-packages\\\\prompt_toolkit\\\\layout\\\\processors.py'>,\n",
       " 'prompt_toolkit.layout.controls': <module 'prompt_toolkit.layout.controls' from 'f:\\\\DushyanthData\\\\PythonBook\\\\Python\\\\lib\\\\site-packages\\\\prompt_toolkit\\\\layout\\\\controls.py'>,\n",
       " 'prompt_toolkit.layout.dimension': <module 'prompt_toolkit.layout.dimension' from 'f:\\\\DushyanthData\\\\PythonBook\\\\Python\\\\lib\\\\site-packages\\\\prompt_toolkit\\\\layout\\\\dimension.py'>,\n",
       " 'prompt_toolkit.layout.margins': <module 'prompt_toolkit.layout.margins' from 'f:\\\\DushyanthData\\\\PythonBook\\\\Python\\\\lib\\\\site-packages\\\\prompt_toolkit\\\\layout\\\\margins.py'>,\n",
       " 'prompt_toolkit.layout.mouse_handlers': <module 'prompt_toolkit.layout.mouse_handlers' from 'f:\\\\DushyanthData\\\\PythonBook\\\\Python\\\\lib\\\\site-packages\\\\prompt_toolkit\\\\layout\\\\mouse_handlers.py'>,\n",
       " 'prompt_toolkit.layout.screen': <module 'prompt_toolkit.layout.screen' from 'f:\\\\DushyanthData\\\\PythonBook\\\\Python\\\\lib\\\\site-packages\\\\prompt_toolkit\\\\layout\\\\screen.py'>,\n",
       " 'prompt_toolkit.layout.containers': <module 'prompt_toolkit.layout.containers' from 'f:\\\\DushyanthData\\\\PythonBook\\\\Python\\\\lib\\\\site-packages\\\\prompt_toolkit\\\\layout\\\\containers.py'>,\n",
       " 'prompt_toolkit.layout.layout': <module 'prompt_toolkit.layout.layout' from 'f:\\\\DushyanthData\\\\PythonBook\\\\Python\\\\lib\\\\site-packages\\\\prompt_toolkit\\\\layout\\\\layout.py'>,\n",
       " 'prompt_toolkit.layout.menus': <module 'prompt_toolkit.layout.menus' from 'f:\\\\DushyanthData\\\\PythonBook\\\\Python\\\\lib\\\\site-packages\\\\prompt_toolkit\\\\layout\\\\menus.py'>,\n",
       " 'prompt_toolkit.layout.scrollable_pane': <module 'prompt_toolkit.layout.scrollable_pane' from 'f:\\\\DushyanthData\\\\PythonBook\\\\Python\\\\lib\\\\site-packages\\\\prompt_toolkit\\\\layout\\\\scrollable_pane.py'>,\n",
       " 'prompt_toolkit.layout': <module 'prompt_toolkit.layout' from 'f:\\\\DushyanthData\\\\PythonBook\\\\Python\\\\lib\\\\site-packages\\\\prompt_toolkit\\\\layout\\\\__init__.py'>,\n",
       " 'prompt_toolkit.key_binding.bindings.completion': <module 'prompt_toolkit.key_binding.bindings.completion' from 'f:\\\\DushyanthData\\\\PythonBook\\\\Python\\\\lib\\\\site-packages\\\\prompt_toolkit\\\\key_binding\\\\bindings\\\\completion.py'>,\n",
       " 'prompt_toolkit.key_binding.bindings.named_commands': <module 'prompt_toolkit.key_binding.bindings.named_commands' from 'f:\\\\DushyanthData\\\\PythonBook\\\\Python\\\\lib\\\\site-packages\\\\prompt_toolkit\\\\key_binding\\\\bindings\\\\named_commands.py'>,\n",
       " 'prompt_toolkit.key_binding.bindings.basic': <module 'prompt_toolkit.key_binding.bindings.basic' from 'f:\\\\DushyanthData\\\\PythonBook\\\\Python\\\\lib\\\\site-packages\\\\prompt_toolkit\\\\key_binding\\\\bindings\\\\basic.py'>,\n",
       " 'prompt_toolkit.key_binding.bindings.cpr': <module 'prompt_toolkit.key_binding.bindings.cpr' from 'f:\\\\DushyanthData\\\\PythonBook\\\\Python\\\\lib\\\\site-packages\\\\prompt_toolkit\\\\key_binding\\\\bindings\\\\cpr.py'>,\n",
       " 'prompt_toolkit.key_binding.bindings.emacs': <module 'prompt_toolkit.key_binding.bindings.emacs' from 'f:\\\\DushyanthData\\\\PythonBook\\\\Python\\\\lib\\\\site-packages\\\\prompt_toolkit\\\\key_binding\\\\bindings\\\\emacs.py'>,\n",
       " 'prompt_toolkit.key_binding.bindings.mouse': <module 'prompt_toolkit.key_binding.bindings.mouse' from 'f:\\\\DushyanthData\\\\PythonBook\\\\Python\\\\lib\\\\site-packages\\\\prompt_toolkit\\\\key_binding\\\\bindings\\\\mouse.py'>,\n",
       " 'prompt_toolkit.input.ansi_escape_sequences': <module 'prompt_toolkit.input.ansi_escape_sequences' from 'f:\\\\DushyanthData\\\\PythonBook\\\\Python\\\\lib\\\\site-packages\\\\prompt_toolkit\\\\input\\\\ansi_escape_sequences.py'>,\n",
       " 'prompt_toolkit.input.vt100_parser': <module 'prompt_toolkit.input.vt100_parser' from 'f:\\\\DushyanthData\\\\PythonBook\\\\Python\\\\lib\\\\site-packages\\\\prompt_toolkit\\\\input\\\\vt100_parser.py'>,\n",
       " 'prompt_toolkit.key_binding.digraphs': <module 'prompt_toolkit.key_binding.digraphs' from 'f:\\\\DushyanthData\\\\PythonBook\\\\Python\\\\lib\\\\site-packages\\\\prompt_toolkit\\\\key_binding\\\\digraphs.py'>,\n",
       " 'prompt_toolkit.key_binding.bindings.vi': <module 'prompt_toolkit.key_binding.bindings.vi' from 'f:\\\\DushyanthData\\\\PythonBook\\\\Python\\\\lib\\\\site-packages\\\\prompt_toolkit\\\\key_binding\\\\bindings\\\\vi.py'>,\n",
       " 'prompt_toolkit.key_binding.defaults': <module 'prompt_toolkit.key_binding.defaults' from 'f:\\\\DushyanthData\\\\PythonBook\\\\Python\\\\lib\\\\site-packages\\\\prompt_toolkit\\\\key_binding\\\\defaults.py'>,\n",
       " 'prompt_toolkit.key_binding.emacs_state': <module 'prompt_toolkit.key_binding.emacs_state' from 'f:\\\\DushyanthData\\\\PythonBook\\\\Python\\\\lib\\\\site-packages\\\\prompt_toolkit\\\\key_binding\\\\emacs_state.py'>,\n",
       " 'prompt_toolkit.layout.dummy': <module 'prompt_toolkit.layout.dummy' from 'f:\\\\DushyanthData\\\\PythonBook\\\\Python\\\\lib\\\\site-packages\\\\prompt_toolkit\\\\layout\\\\dummy.py'>,\n",
       " 'prompt_toolkit.renderer': <module 'prompt_toolkit.renderer' from 'f:\\\\DushyanthData\\\\PythonBook\\\\Python\\\\lib\\\\site-packages\\\\prompt_toolkit\\\\renderer.py'>,\n",
       " 'prompt_toolkit.application.application': <module 'prompt_toolkit.application.application' from 'f:\\\\DushyanthData\\\\PythonBook\\\\Python\\\\lib\\\\site-packages\\\\prompt_toolkit\\\\application\\\\application.py'>,\n",
       " 'prompt_toolkit.application.dummy': <module 'prompt_toolkit.application.dummy' from 'f:\\\\DushyanthData\\\\PythonBook\\\\Python\\\\lib\\\\site-packages\\\\prompt_toolkit\\\\application\\\\dummy.py'>,\n",
       " 'prompt_toolkit.application': <module 'prompt_toolkit.application' from 'f:\\\\DushyanthData\\\\PythonBook\\\\Python\\\\lib\\\\site-packages\\\\prompt_toolkit\\\\application\\\\__init__.py'>,\n",
       " 'prompt_toolkit.key_binding.bindings.focus': <module 'prompt_toolkit.key_binding.bindings.focus' from 'f:\\\\DushyanthData\\\\PythonBook\\\\Python\\\\lib\\\\site-packages\\\\prompt_toolkit\\\\key_binding\\\\bindings\\\\focus.py'>,\n",
       " 'prompt_toolkit.widgets.toolbars': <module 'prompt_toolkit.widgets.toolbars' from 'f:\\\\DushyanthData\\\\PythonBook\\\\Python\\\\lib\\\\site-packages\\\\prompt_toolkit\\\\widgets\\\\toolbars.py'>,\n",
       " 'prompt_toolkit.widgets.base': <module 'prompt_toolkit.widgets.base' from 'f:\\\\DushyanthData\\\\PythonBook\\\\Python\\\\lib\\\\site-packages\\\\prompt_toolkit\\\\widgets\\\\base.py'>,\n",
       " 'prompt_toolkit.widgets.dialogs': <module 'prompt_toolkit.widgets.dialogs' from 'f:\\\\DushyanthData\\\\PythonBook\\\\Python\\\\lib\\\\site-packages\\\\prompt_toolkit\\\\widgets\\\\dialogs.py'>,\n",
       " 'prompt_toolkit.widgets.menus': <module 'prompt_toolkit.widgets.menus' from 'f:\\\\DushyanthData\\\\PythonBook\\\\Python\\\\lib\\\\site-packages\\\\prompt_toolkit\\\\widgets\\\\menus.py'>,\n",
       " 'prompt_toolkit.widgets': <module 'prompt_toolkit.widgets' from 'f:\\\\DushyanthData\\\\PythonBook\\\\Python\\\\lib\\\\site-packages\\\\prompt_toolkit\\\\widgets\\\\__init__.py'>,\n",
       " 'prompt_toolkit.shortcuts.dialogs': <module 'prompt_toolkit.shortcuts.dialogs' from 'f:\\\\DushyanthData\\\\PythonBook\\\\Python\\\\lib\\\\site-packages\\\\prompt_toolkit\\\\shortcuts\\\\dialogs.py'>,\n",
       " 'xml.parsers': <module 'xml.parsers' from 'C:\\\\Users\\\\HP\\\\AppData\\\\Local\\\\Programs\\\\Python\\\\Python310\\\\lib\\\\xml\\\\parsers\\\\__init__.py'>,\n",
       " 'pyexpat.errors': <module 'pyexpat.errors'>,\n",
       " 'pyexpat.model': <module 'pyexpat.model'>,\n",
       " 'pyexpat': <module 'pyexpat' from 'C:\\\\Users\\\\HP\\\\AppData\\\\Local\\\\Programs\\\\Python\\\\Python310\\\\DLLs\\\\pyexpat.pyd'>,\n",
       " 'xml.parsers.expat.model': <module 'pyexpat.model'>,\n",
       " 'xml.parsers.expat.errors': <module 'pyexpat.errors'>,\n",
       " 'xml.parsers.expat': <module 'xml.parsers.expat' from 'C:\\\\Users\\\\HP\\\\AppData\\\\Local\\\\Programs\\\\Python\\\\Python310\\\\lib\\\\xml\\\\parsers\\\\expat.py'>,\n",
       " 'xml.dom.expatbuilder': <module 'xml.dom.expatbuilder' from 'C:\\\\Users\\\\HP\\\\AppData\\\\Local\\\\Programs\\\\Python\\\\Python310\\\\lib\\\\xml\\\\dom\\\\expatbuilder.py'>,\n",
       " 'prompt_toolkit.shortcuts.progress_bar.formatters': <module 'prompt_toolkit.shortcuts.progress_bar.formatters' from 'f:\\\\DushyanthData\\\\PythonBook\\\\Python\\\\lib\\\\site-packages\\\\prompt_toolkit\\\\shortcuts\\\\progress_bar\\\\formatters.py'>,\n",
       " 'prompt_toolkit.shortcuts.progress_bar.base': <module 'prompt_toolkit.shortcuts.progress_bar.base' from 'f:\\\\DushyanthData\\\\PythonBook\\\\Python\\\\lib\\\\site-packages\\\\prompt_toolkit\\\\shortcuts\\\\progress_bar\\\\base.py'>,\n",
       " 'prompt_toolkit.shortcuts.progress_bar': <module 'prompt_toolkit.shortcuts.progress_bar' from 'f:\\\\DushyanthData\\\\PythonBook\\\\Python\\\\lib\\\\site-packages\\\\prompt_toolkit\\\\shortcuts\\\\progress_bar\\\\__init__.py'>,\n",
       " 'prompt_toolkit.key_binding.bindings.auto_suggest': <module 'prompt_toolkit.key_binding.bindings.auto_suggest' from 'f:\\\\DushyanthData\\\\PythonBook\\\\Python\\\\lib\\\\site-packages\\\\prompt_toolkit\\\\key_binding\\\\bindings\\\\auto_suggest.py'>,\n",
       " 'prompt_toolkit.key_binding.bindings.open_in_editor': <module 'prompt_toolkit.key_binding.bindings.open_in_editor' from 'f:\\\\DushyanthData\\\\PythonBook\\\\Python\\\\lib\\\\site-packages\\\\prompt_toolkit\\\\key_binding\\\\bindings\\\\open_in_editor.py'>,\n",
       " 'prompt_toolkit.shortcuts.prompt': <module 'prompt_toolkit.shortcuts.prompt' from 'f:\\\\DushyanthData\\\\PythonBook\\\\Python\\\\lib\\\\site-packages\\\\prompt_toolkit\\\\shortcuts\\\\prompt.py'>,\n",
       " 'prompt_toolkit.shortcuts.utils': <module 'prompt_toolkit.shortcuts.utils' from 'f:\\\\DushyanthData\\\\PythonBook\\\\Python\\\\lib\\\\site-packages\\\\prompt_toolkit\\\\shortcuts\\\\utils.py'>,\n",
       " 'prompt_toolkit.shortcuts': <module 'prompt_toolkit.shortcuts' from 'f:\\\\DushyanthData\\\\PythonBook\\\\Python\\\\lib\\\\site-packages\\\\prompt_toolkit\\\\shortcuts\\\\__init__.py'>,\n",
       " 'email.feedparser': <module 'email.feedparser' from 'C:\\\\Users\\\\HP\\\\AppData\\\\Local\\\\Programs\\\\Python\\\\Python310\\\\lib\\\\email\\\\feedparser.py'>,\n",
       " 'email.parser': <module 'email.parser' from 'C:\\\\Users\\\\HP\\\\AppData\\\\Local\\\\Programs\\\\Python\\\\Python310\\\\lib\\\\email\\\\parser.py'>,\n",
       " 'prompt_toolkit': <module 'prompt_toolkit' from 'f:\\\\DushyanthData\\\\PythonBook\\\\Python\\\\lib\\\\site-packages\\\\prompt_toolkit\\\\__init__.py'>,\n",
       " 'prompt_toolkit.patch_stdout': <module 'prompt_toolkit.patch_stdout' from 'f:\\\\DushyanthData\\\\PythonBook\\\\Python\\\\lib\\\\site-packages\\\\prompt_toolkit\\\\patch_stdout.py'>,\n",
       " 'unicodedata': <module 'unicodedata' from 'C:\\\\Users\\\\HP\\\\AppData\\\\Local\\\\Programs\\\\Python\\\\Python310\\\\DLLs\\\\unicodedata.pyd'>,\n",
       " 'IPython.core.guarded_eval': <module 'IPython.core.guarded_eval' from 'f:\\\\DushyanthData\\\\PythonBook\\\\Python\\\\lib\\\\site-packages\\\\IPython\\\\core\\\\guarded_eval.py'>,\n",
       " 'IPython.core.latex_symbols': <module 'IPython.core.latex_symbols' from 'f:\\\\DushyanthData\\\\PythonBook\\\\Python\\\\lib\\\\site-packages\\\\IPython\\\\core\\\\latex_symbols.py'>,\n",
       " 'IPython.utils.generics': <module 'IPython.utils.generics' from 'f:\\\\DushyanthData\\\\PythonBook\\\\Python\\\\lib\\\\site-packages\\\\IPython\\\\utils\\\\generics.py'>,\n",
       " 'parso.utils': <module 'parso.utils' from 'f:\\\\DushyanthData\\\\PythonBook\\\\Python\\\\lib\\\\site-packages\\\\parso\\\\utils.py'>,\n",
       " 'parso.tree': <module 'parso.tree' from 'f:\\\\DushyanthData\\\\PythonBook\\\\Python\\\\lib\\\\site-packages\\\\parso\\\\tree.py'>,\n",
       " 'parso.python': <module 'parso.python' from 'f:\\\\DushyanthData\\\\PythonBook\\\\Python\\\\lib\\\\site-packages\\\\parso\\\\python\\\\__init__.py'>,\n",
       " 'parso.python.token': <module 'parso.python.token' from 'f:\\\\DushyanthData\\\\PythonBook\\\\Python\\\\lib\\\\site-packages\\\\parso\\\\python\\\\token.py'>,\n",
       " 'parso.python.tokenize': <module 'parso.python.tokenize' from 'f:\\\\DushyanthData\\\\PythonBook\\\\Python\\\\lib\\\\site-packages\\\\parso\\\\python\\\\tokenize.py'>,\n",
       " 'parso.pgen2.grammar_parser': <module 'parso.pgen2.grammar_parser' from 'f:\\\\DushyanthData\\\\PythonBook\\\\Python\\\\lib\\\\site-packages\\\\parso\\\\pgen2\\\\grammar_parser.py'>,\n",
       " 'parso.pgen2.generator': <module 'parso.pgen2.generator' from 'f:\\\\DushyanthData\\\\PythonBook\\\\Python\\\\lib\\\\site-packages\\\\parso\\\\pgen2\\\\generator.py'>,\n",
       " 'parso.pgen2': <module 'parso.pgen2' from 'f:\\\\DushyanthData\\\\PythonBook\\\\Python\\\\lib\\\\site-packages\\\\parso\\\\pgen2\\\\__init__.py'>,\n",
       " 'parso.parser': <module 'parso.parser' from 'f:\\\\DushyanthData\\\\PythonBook\\\\Python\\\\lib\\\\site-packages\\\\parso\\\\parser.py'>,\n",
       " 'parso._compatibility': <module 'parso._compatibility' from 'f:\\\\DushyanthData\\\\PythonBook\\\\Python\\\\lib\\\\site-packages\\\\parso\\\\_compatibility.py'>,\n",
       " 'difflib': <module 'difflib' from 'C:\\\\Users\\\\HP\\\\AppData\\\\Local\\\\Programs\\\\Python\\\\Python310\\\\lib\\\\difflib.py'>,\n",
       " 'parso.python.prefix': <module 'parso.python.prefix' from 'f:\\\\DushyanthData\\\\PythonBook\\\\Python\\\\lib\\\\site-packages\\\\parso\\\\python\\\\prefix.py'>,\n",
       " 'parso.python.tree': <module 'parso.python.tree' from 'f:\\\\DushyanthData\\\\PythonBook\\\\Python\\\\lib\\\\site-packages\\\\parso\\\\python\\\\tree.py'>,\n",
       " 'parso.python.parser': <module 'parso.python.parser' from 'f:\\\\DushyanthData\\\\PythonBook\\\\Python\\\\lib\\\\site-packages\\\\parso\\\\python\\\\parser.py'>,\n",
       " 'parso.python.diff': <module 'parso.python.diff' from 'f:\\\\DushyanthData\\\\PythonBook\\\\Python\\\\lib\\\\site-packages\\\\parso\\\\python\\\\diff.py'>,\n",
       " 'gc': <module 'gc' (built-in)>,\n",
       " 'parso.cache': <module 'parso.cache' from 'f:\\\\DushyanthData\\\\PythonBook\\\\Python\\\\lib\\\\site-packages\\\\parso\\\\cache.py'>,\n",
       " 'parso.normalizer': <module 'parso.normalizer' from 'f:\\\\DushyanthData\\\\PythonBook\\\\Python\\\\lib\\\\site-packages\\\\parso\\\\normalizer.py'>,\n",
       " 'parso.python.errors': <module 'parso.python.errors' from 'f:\\\\DushyanthData\\\\PythonBook\\\\Python\\\\lib\\\\site-packages\\\\parso\\\\python\\\\errors.py'>,\n",
       " 'parso.python.pep8': <module 'parso.python.pep8' from 'f:\\\\DushyanthData\\\\PythonBook\\\\Python\\\\lib\\\\site-packages\\\\parso\\\\python\\\\pep8.py'>,\n",
       " 'parso.file_io': <module 'parso.file_io' from 'f:\\\\DushyanthData\\\\PythonBook\\\\Python\\\\lib\\\\site-packages\\\\parso\\\\file_io.py'>,\n",
       " 'parso.grammar': <module 'parso.grammar' from 'f:\\\\DushyanthData\\\\PythonBook\\\\Python\\\\lib\\\\site-packages\\\\parso\\\\grammar.py'>,\n",
       " 'parso': <module 'parso' from 'f:\\\\DushyanthData\\\\PythonBook\\\\Python\\\\lib\\\\site-packages\\\\parso\\\\__init__.py'>,\n",
       " 'jedi.parser_utils': <module 'jedi.parser_utils' from 'f:\\\\DushyanthData\\\\PythonBook\\\\Python\\\\lib\\\\site-packages\\\\jedi\\\\parser_utils.py'>,\n",
       " 'jedi.debug': <module 'jedi.debug' from 'f:\\\\DushyanthData\\\\PythonBook\\\\Python\\\\lib\\\\site-packages\\\\jedi\\\\debug.py'>,\n",
       " 'jedi.settings': <module 'jedi.settings' from 'f:\\\\DushyanthData\\\\PythonBook\\\\Python\\\\lib\\\\site-packages\\\\jedi\\\\settings.py'>,\n",
       " 'jedi.cache': <module 'jedi.cache' from 'f:\\\\DushyanthData\\\\PythonBook\\\\Python\\\\lib\\\\site-packages\\\\jedi\\\\cache.py'>,\n",
       " 'jedi.file_io': <module 'jedi.file_io' from 'f:\\\\DushyanthData\\\\PythonBook\\\\Python\\\\lib\\\\site-packages\\\\jedi\\\\file_io.py'>,\n",
       " 'jedi.inference.cache': <module 'jedi.inference.cache' from 'f:\\\\DushyanthData\\\\PythonBook\\\\Python\\\\lib\\\\site-packages\\\\jedi\\\\inference\\\\cache.py'>,\n",
       " 'jedi.inference.helpers': <module 'jedi.inference.helpers' from 'f:\\\\DushyanthData\\\\PythonBook\\\\Python\\\\lib\\\\site-packages\\\\jedi\\\\inference\\\\helpers.py'>,\n",
       " 'jedi.inference.utils': <module 'jedi.inference.utils' from 'f:\\\\DushyanthData\\\\PythonBook\\\\Python\\\\lib\\\\site-packages\\\\jedi\\\\inference\\\\utils.py'>,\n",
       " 'jedi.inference.base_value': <module 'jedi.inference.base_value' from 'f:\\\\DushyanthData\\\\PythonBook\\\\Python\\\\lib\\\\site-packages\\\\jedi\\\\inference\\\\base_value.py'>,\n",
       " 'jedi.inference.sys_path': <module 'jedi.inference.sys_path' from 'f:\\\\DushyanthData\\\\PythonBook\\\\Python\\\\lib\\\\site-packages\\\\jedi\\\\inference\\\\sys_path.py'>,\n",
       " 'jedi.inference.recursion': <module 'jedi.inference.recursion' from 'f:\\\\DushyanthData\\\\PythonBook\\\\Python\\\\lib\\\\site-packages\\\\jedi\\\\inference\\\\recursion.py'>,\n",
       " 'jedi.inference.flow_analysis': <module 'jedi.inference.flow_analysis' from 'f:\\\\DushyanthData\\\\PythonBook\\\\Python\\\\lib\\\\site-packages\\\\jedi\\\\inference\\\\flow_analysis.py'>,\n",
       " 'jedi.common': <module 'jedi.common' from 'f:\\\\DushyanthData\\\\PythonBook\\\\Python\\\\lib\\\\site-packages\\\\jedi\\\\common.py'>,\n",
       " 'jedi.inference.lazy_value': <module 'jedi.inference.lazy_value' from 'f:\\\\DushyanthData\\\\PythonBook\\\\Python\\\\lib\\\\site-packages\\\\jedi\\\\inference\\\\lazy_value.py'>,\n",
       " 'jedi.inference.docstrings': <module 'jedi.inference.docstrings' from 'f:\\\\DushyanthData\\\\PythonBook\\\\Python\\\\lib\\\\site-packages\\\\jedi\\\\inference\\\\docstrings.py'>,\n",
       " 'jedi.plugins': <module 'jedi.plugins' from 'f:\\\\DushyanthData\\\\PythonBook\\\\Python\\\\lib\\\\site-packages\\\\jedi\\\\plugins\\\\__init__.py'>,\n",
       " 'jedi.inference.names': <module 'jedi.inference.names' from 'f:\\\\DushyanthData\\\\PythonBook\\\\Python\\\\lib\\\\site-packages\\\\jedi\\\\inference\\\\names.py'>,\n",
       " 'jedi.inference.filters': <module 'jedi.inference.filters' from 'f:\\\\DushyanthData\\\\PythonBook\\\\Python\\\\lib\\\\site-packages\\\\jedi\\\\inference\\\\filters.py'>,\n",
       " 'jedi.inference.compiled.getattr_static': <module 'jedi.inference.compiled.getattr_static' from 'f:\\\\DushyanthData\\\\PythonBook\\\\Python\\\\lib\\\\site-packages\\\\jedi\\\\inference\\\\compiled\\\\getattr_static.py'>,\n",
       " 'jedi.inference.compiled.access': <module 'jedi.inference.compiled.access' from 'f:\\\\DushyanthData\\\\PythonBook\\\\Python\\\\lib\\\\site-packages\\\\jedi\\\\inference\\\\compiled\\\\access.py'>,\n",
       " 'jedi.inference.signature': <module 'jedi.inference.signature' from 'f:\\\\DushyanthData\\\\PythonBook\\\\Python\\\\lib\\\\site-packages\\\\jedi\\\\inference\\\\signature.py'>,\n",
       " 'jedi.inference.context': <module 'jedi.inference.context' from 'f:\\\\DushyanthData\\\\PythonBook\\\\Python\\\\lib\\\\site-packages\\\\jedi\\\\inference\\\\context.py'>,\n",
       " 'jedi.inference.compiled.value': <module 'jedi.inference.compiled.value' from 'f:\\\\DushyanthData\\\\PythonBook\\\\Python\\\\lib\\\\site-packages\\\\jedi\\\\inference\\\\compiled\\\\value.py'>,\n",
       " 'jedi.inference.compiled': <module 'jedi.inference.compiled' from 'f:\\\\DushyanthData\\\\PythonBook\\\\Python\\\\lib\\\\site-packages\\\\jedi\\\\inference\\\\compiled\\\\__init__.py'>,\n",
       " 'jedi.inference.analysis': <module 'jedi.inference.analysis' from 'f:\\\\DushyanthData\\\\PythonBook\\\\Python\\\\lib\\\\site-packages\\\\jedi\\\\inference\\\\analysis.py'>,\n",
       " 'jedi.inference.gradual': <module 'jedi.inference.gradual' from 'f:\\\\DushyanthData\\\\PythonBook\\\\Python\\\\lib\\\\site-packages\\\\jedi\\\\inference\\\\gradual\\\\__init__.py'>,\n",
       " 'jedi.inference.value.module': <module 'jedi.inference.value.module' from 'f:\\\\DushyanthData\\\\PythonBook\\\\Python\\\\lib\\\\site-packages\\\\jedi\\\\inference\\\\value\\\\module.py'>,\n",
       " 'jedi.inference.value.dynamic_arrays': <module 'jedi.inference.value.dynamic_arrays' from 'f:\\\\DushyanthData\\\\PythonBook\\\\Python\\\\lib\\\\site-packages\\\\jedi\\\\inference\\\\value\\\\dynamic_arrays.py'>,\n",
       " 'jedi.inference.value.iterable': <module 'jedi.inference.value.iterable' from 'f:\\\\DushyanthData\\\\PythonBook\\\\Python\\\\lib\\\\site-packages\\\\jedi\\\\inference\\\\value\\\\iterable.py'>,\n",
       " 'jedi.inference.arguments': <module 'jedi.inference.arguments' from 'f:\\\\DushyanthData\\\\PythonBook\\\\Python\\\\lib\\\\site-packages\\\\jedi\\\\inference\\\\arguments.py'>,\n",
       " 'jedi.inference.parser_cache': <module 'jedi.inference.parser_cache' from 'f:\\\\DushyanthData\\\\PythonBook\\\\Python\\\\lib\\\\site-packages\\\\jedi\\\\inference\\\\parser_cache.py'>,\n",
       " 'jedi.inference.gradual.generics': <module 'jedi.inference.gradual.generics' from 'f:\\\\DushyanthData\\\\PythonBook\\\\Python\\\\lib\\\\site-packages\\\\jedi\\\\inference\\\\gradual\\\\generics.py'>,\n",
       " 'jedi.inference.value.function': <module 'jedi.inference.value.function' from 'f:\\\\DushyanthData\\\\PythonBook\\\\Python\\\\lib\\\\site-packages\\\\jedi\\\\inference\\\\value\\\\function.py'>,\n",
       " 'jedi.inference.value.klass': <module 'jedi.inference.value.klass' from 'f:\\\\DushyanthData\\\\PythonBook\\\\Python\\\\lib\\\\site-packages\\\\jedi\\\\inference\\\\value\\\\klass.py'>,\n",
       " 'jedi.inference.value.instance': <module 'jedi.inference.value.instance' from 'f:\\\\DushyanthData\\\\PythonBook\\\\Python\\\\lib\\\\site-packages\\\\jedi\\\\inference\\\\value\\\\instance.py'>,\n",
       " 'jedi.inference.value': <module 'jedi.inference.value' from 'f:\\\\DushyanthData\\\\PythonBook\\\\Python\\\\lib\\\\site-packages\\\\jedi\\\\inference\\\\value\\\\__init__.py'>,\n",
       " 'jedi.inference.gradual.base': <module 'jedi.inference.gradual.base' from 'f:\\\\DushyanthData\\\\PythonBook\\\\Python\\\\lib\\\\site-packages\\\\jedi\\\\inference\\\\gradual\\\\base.py'>,\n",
       " 'jedi.inference.gradual.type_var': <module 'jedi.inference.gradual.type_var' from 'f:\\\\DushyanthData\\\\PythonBook\\\\Python\\\\lib\\\\site-packages\\\\jedi\\\\inference\\\\gradual\\\\type_var.py'>,\n",
       " 'jedi.inference.gradual.typing': <module 'jedi.inference.gradual.typing' from 'f:\\\\DushyanthData\\\\PythonBook\\\\Python\\\\lib\\\\site-packages\\\\jedi\\\\inference\\\\gradual\\\\typing.py'>,\n",
       " 'jedi.inference.gradual.stub_value': <module 'jedi.inference.gradual.stub_value' from 'f:\\\\DushyanthData\\\\PythonBook\\\\Python\\\\lib\\\\site-packages\\\\jedi\\\\inference\\\\gradual\\\\stub_value.py'>,\n",
       " 'jedi.inference.gradual.typeshed': <module 'jedi.inference.gradual.typeshed' from 'f:\\\\DushyanthData\\\\PythonBook\\\\Python\\\\lib\\\\site-packages\\\\jedi\\\\inference\\\\gradual\\\\typeshed.py'>,\n",
       " 'jedi._compatibility': <module 'jedi._compatibility' from 'f:\\\\DushyanthData\\\\PythonBook\\\\Python\\\\lib\\\\site-packages\\\\jedi\\\\_compatibility.py'>,\n",
       " 'jedi.inference.compiled.subprocess.functions': <module 'jedi.inference.compiled.subprocess.functions' from 'f:\\\\DushyanthData\\\\PythonBook\\\\Python\\\\lib\\\\site-packages\\\\jedi\\\\inference\\\\compiled\\\\subprocess\\\\functions.py'>,\n",
       " 'jedi.api.exceptions': <module 'jedi.api.exceptions' from 'f:\\\\DushyanthData\\\\PythonBook\\\\Python\\\\lib\\\\site-packages\\\\jedi\\\\api\\\\exceptions.py'>,\n",
       " 'jedi.inference.compiled.subprocess': <module 'jedi.inference.compiled.subprocess' from 'f:\\\\DushyanthData\\\\PythonBook\\\\Python\\\\lib\\\\site-packages\\\\jedi\\\\inference\\\\compiled\\\\subprocess\\\\__init__.py'>,\n",
       " 'jedi.inference.imports': <module 'jedi.inference.imports' from 'f:\\\\DushyanthData\\\\PythonBook\\\\Python\\\\lib\\\\site-packages\\\\jedi\\\\inference\\\\imports.py'>,\n",
       " 'jedi.inference.param': <module 'jedi.inference.param' from 'f:\\\\DushyanthData\\\\PythonBook\\\\Python\\\\lib\\\\site-packages\\\\jedi\\\\inference\\\\param.py'>,\n",
       " 'jedi.inference.gradual.annotation': <module 'jedi.inference.gradual.annotation' from 'f:\\\\DushyanthData\\\\PythonBook\\\\Python\\\\lib\\\\site-packages\\\\jedi\\\\inference\\\\gradual\\\\annotation.py'>,\n",
       " 'jedi.inference.value.decorator': <module 'jedi.inference.value.decorator' from 'f:\\\\DushyanthData\\\\PythonBook\\\\Python\\\\lib\\\\site-packages\\\\jedi\\\\inference\\\\value\\\\decorator.py'>,\n",
       " 'jedi.inference.syntax_tree': <module 'jedi.inference.syntax_tree' from 'f:\\\\DushyanthData\\\\PythonBook\\\\Python\\\\lib\\\\site-packages\\\\jedi\\\\inference\\\\syntax_tree.py'>,\n",
       " 'jedi.inference': <module 'jedi.inference' from 'f:\\\\DushyanthData\\\\PythonBook\\\\Python\\\\lib\\\\site-packages\\\\jedi\\\\inference\\\\__init__.py'>,\n",
       " 'jedi.inference.gradual.conversion': <module 'jedi.inference.gradual.conversion' from 'f:\\\\DushyanthData\\\\PythonBook\\\\Python\\\\lib\\\\site-packages\\\\jedi\\\\inference\\\\gradual\\\\conversion.py'>,\n",
       " 'jedi.inference.compiled.mixed': <module 'jedi.inference.compiled.mixed' from 'f:\\\\DushyanthData\\\\PythonBook\\\\Python\\\\lib\\\\site-packages\\\\jedi\\\\inference\\\\compiled\\\\mixed.py'>,\n",
       " 'pydoc_data': <module 'pydoc_data' from 'C:\\\\Users\\\\HP\\\\AppData\\\\Local\\\\Programs\\\\Python\\\\Python310\\\\lib\\\\pydoc_data\\\\__init__.py'>,\n",
       " 'pydoc_data.topics': <module 'pydoc_data.topics' from 'C:\\\\Users\\\\HP\\\\AppData\\\\Local\\\\Programs\\\\Python\\\\Python310\\\\lib\\\\pydoc_data\\\\topics.py'>,\n",
       " 'jedi.api.keywords': <module 'jedi.api.keywords' from 'f:\\\\DushyanthData\\\\PythonBook\\\\Python\\\\lib\\\\site-packages\\\\jedi\\\\api\\\\keywords.py'>,\n",
       " 'jedi.api.completion_cache': <module 'jedi.api.completion_cache' from 'f:\\\\DushyanthData\\\\PythonBook\\\\Python\\\\lib\\\\site-packages\\\\jedi\\\\api\\\\completion_cache.py'>,\n",
       " 'jedi.api.helpers': <module 'jedi.api.helpers' from 'f:\\\\DushyanthData\\\\PythonBook\\\\Python\\\\lib\\\\site-packages\\\\jedi\\\\api\\\\helpers.py'>,\n",
       " 'jedi.api.classes': <module 'jedi.api.classes' from 'f:\\\\DushyanthData\\\\PythonBook\\\\Python\\\\lib\\\\site-packages\\\\jedi\\\\api\\\\classes.py'>,\n",
       " 'jedi.api.interpreter': <module 'jedi.api.interpreter' from 'f:\\\\DushyanthData\\\\PythonBook\\\\Python\\\\lib\\\\site-packages\\\\jedi\\\\api\\\\interpreter.py'>,\n",
       " 'jedi.api.strings': <module 'jedi.api.strings' from 'f:\\\\DushyanthData\\\\PythonBook\\\\Python\\\\lib\\\\site-packages\\\\jedi\\\\api\\\\strings.py'>,\n",
       " 'jedi.api.file_name': <module 'jedi.api.file_name' from 'f:\\\\DushyanthData\\\\PythonBook\\\\Python\\\\lib\\\\site-packages\\\\jedi\\\\api\\\\file_name.py'>,\n",
       " 'jedi.inference.docstring_utils': <module 'jedi.inference.docstring_utils' from 'f:\\\\DushyanthData\\\\PythonBook\\\\Python\\\\lib\\\\site-packages\\\\jedi\\\\inference\\\\docstring_utils.py'>,\n",
       " 'jedi.api.completion': <module 'jedi.api.completion' from 'f:\\\\DushyanthData\\\\PythonBook\\\\Python\\\\lib\\\\site-packages\\\\jedi\\\\api\\\\completion.py'>,\n",
       " 'filecmp': <module 'filecmp' from 'C:\\\\Users\\\\HP\\\\AppData\\\\Local\\\\Programs\\\\Python\\\\Python310\\\\lib\\\\filecmp.py'>,\n",
       " 'jedi.api.environment': <module 'jedi.api.environment' from 'f:\\\\DushyanthData\\\\PythonBook\\\\Python\\\\lib\\\\site-packages\\\\jedi\\\\api\\\\environment.py'>,\n",
       " 'jedi.inference.references': <module 'jedi.inference.references' from 'f:\\\\DushyanthData\\\\PythonBook\\\\Python\\\\lib\\\\site-packages\\\\jedi\\\\inference\\\\references.py'>,\n",
       " 'jedi.api.project': <module 'jedi.api.project' from 'f:\\\\DushyanthData\\\\PythonBook\\\\Python\\\\lib\\\\site-packages\\\\jedi\\\\api\\\\project.py'>,\n",
       " 'jedi.api.errors': <module 'jedi.api.errors' from 'f:\\\\DushyanthData\\\\PythonBook\\\\Python\\\\lib\\\\site-packages\\\\jedi\\\\api\\\\errors.py'>,\n",
       " 'jedi.inference.value.namespace': <module 'jedi.inference.value.namespace' from 'f:\\\\DushyanthData\\\\PythonBook\\\\Python\\\\lib\\\\site-packages\\\\jedi\\\\inference\\\\value\\\\namespace.py'>,\n",
       " 'jedi.api.refactoring': <module 'jedi.api.refactoring' from 'f:\\\\DushyanthData\\\\PythonBook\\\\Python\\\\lib\\\\site-packages\\\\jedi\\\\api\\\\refactoring\\\\__init__.py'>,\n",
       " 'jedi.api.refactoring.extract': <module 'jedi.api.refactoring.extract' from 'f:\\\\DushyanthData\\\\PythonBook\\\\Python\\\\lib\\\\site-packages\\\\jedi\\\\api\\\\refactoring\\\\extract.py'>,\n",
       " 'jedi.inference.gradual.utils': <module 'jedi.inference.gradual.utils' from 'f:\\\\DushyanthData\\\\PythonBook\\\\Python\\\\lib\\\\site-packages\\\\jedi\\\\inference\\\\gradual\\\\utils.py'>,\n",
       " 'jedi.api': <module 'jedi.api' from 'f:\\\\DushyanthData\\\\PythonBook\\\\Python\\\\lib\\\\site-packages\\\\jedi\\\\api\\\\__init__.py'>,\n",
       " 'jedi.plugins.stdlib': <module 'jedi.plugins.stdlib' from 'f:\\\\DushyanthData\\\\PythonBook\\\\Python\\\\lib\\\\site-packages\\\\jedi\\\\plugins\\\\stdlib.py'>,\n",
       " 'jedi.plugins.flask': <module 'jedi.plugins.flask' from 'f:\\\\DushyanthData\\\\PythonBook\\\\Python\\\\lib\\\\site-packages\\\\jedi\\\\plugins\\\\flask.py'>,\n",
       " 'jedi.plugins.pytest': <module 'jedi.plugins.pytest' from 'f:\\\\DushyanthData\\\\PythonBook\\\\Python\\\\lib\\\\site-packages\\\\jedi\\\\plugins\\\\pytest.py'>,\n",
       " 'jedi.plugins.django': <module 'jedi.plugins.django' from 'f:\\\\DushyanthData\\\\PythonBook\\\\Python\\\\lib\\\\site-packages\\\\jedi\\\\plugins\\\\django.py'>,\n",
       " 'jedi.plugins.registry': <module 'jedi.plugins.registry' from 'f:\\\\DushyanthData\\\\PythonBook\\\\Python\\\\lib\\\\site-packages\\\\jedi\\\\plugins\\\\registry.py'>,\n",
       " 'jedi': <module 'jedi' from 'f:\\\\DushyanthData\\\\PythonBook\\\\Python\\\\lib\\\\site-packages\\\\jedi\\\\__init__.py'>,\n",
       " 'IPython.core.completer': <module 'IPython.core.completer' from 'f:\\\\DushyanthData\\\\PythonBook\\\\Python\\\\lib\\\\site-packages\\\\IPython\\\\core\\\\completer.py'>,\n",
       " 'IPython.terminal.ptutils': <module 'IPython.terminal.ptutils' from 'f:\\\\DushyanthData\\\\PythonBook\\\\Python\\\\lib\\\\site-packages\\\\IPython\\\\terminal\\\\ptutils.py'>,\n",
       " 'IPython.terminal.shortcuts.auto_match': <module 'IPython.terminal.shortcuts.auto_match' from 'f:\\\\DushyanthData\\\\PythonBook\\\\Python\\\\lib\\\\site-packages\\\\IPython\\\\terminal\\\\shortcuts\\\\auto_match.py'>,\n",
       " 'IPython.terminal.shortcuts.filters': <module 'IPython.terminal.shortcuts.filters' from 'f:\\\\DushyanthData\\\\PythonBook\\\\Python\\\\lib\\\\site-packages\\\\IPython\\\\terminal\\\\shortcuts\\\\filters.py'>,\n",
       " 'IPython.terminal.shortcuts.auto_suggest': <module 'IPython.terminal.shortcuts.auto_suggest' from 'f:\\\\DushyanthData\\\\PythonBook\\\\Python\\\\lib\\\\site-packages\\\\IPython\\\\terminal\\\\shortcuts\\\\auto_suggest.py'>,\n",
       " 'IPython.lib.clipboard': <module 'IPython.lib.clipboard' from 'f:\\\\DushyanthData\\\\PythonBook\\\\Python\\\\lib\\\\site-packages\\\\IPython\\\\lib\\\\clipboard.py'>,\n",
       " 'IPython.terminal.shortcuts': <module 'IPython.terminal.shortcuts' from 'f:\\\\DushyanthData\\\\PythonBook\\\\Python\\\\lib\\\\site-packages\\\\IPython\\\\terminal\\\\shortcuts\\\\__init__.py'>,\n",
       " 'concurrent.futures.thread': <module 'concurrent.futures.thread' from 'C:\\\\Users\\\\HP\\\\AppData\\\\Local\\\\Programs\\\\Python\\\\Python310\\\\lib\\\\concurrent\\\\futures\\\\thread.py'>,\n",
       " 'IPython.terminal.debugger': <module 'IPython.terminal.debugger' from 'f:\\\\DushyanthData\\\\PythonBook\\\\Python\\\\lib\\\\site-packages\\\\IPython\\\\terminal\\\\debugger.py'>,\n",
       " 'IPython.terminal.magics': <module 'IPython.terminal.magics' from 'f:\\\\DushyanthData\\\\PythonBook\\\\Python\\\\lib\\\\site-packages\\\\IPython\\\\terminal\\\\magics.py'>,\n",
       " 'IPython.terminal.pt_inputhooks': <module 'IPython.terminal.pt_inputhooks' from 'f:\\\\DushyanthData\\\\PythonBook\\\\Python\\\\lib\\\\site-packages\\\\IPython\\\\terminal\\\\pt_inputhooks\\\\__init__.py'>,\n",
       " 'IPython.terminal.prompts': <module 'IPython.terminal.prompts' from 'f:\\\\DushyanthData\\\\PythonBook\\\\Python\\\\lib\\\\site-packages\\\\IPython\\\\terminal\\\\prompts.py'>,\n",
       " 'IPython.terminal.interactiveshell': <module 'IPython.terminal.interactiveshell' from 'f:\\\\DushyanthData\\\\PythonBook\\\\Python\\\\lib\\\\site-packages\\\\IPython\\\\terminal\\\\interactiveshell.py'>,\n",
       " 'IPython.core.magics.auto': <module 'IPython.core.magics.auto' from 'f:\\\\DushyanthData\\\\PythonBook\\\\Python\\\\lib\\\\site-packages\\\\IPython\\\\core\\\\magics\\\\auto.py'>,\n",
       " 'IPython.core.magics.basic': <module 'IPython.core.magics.basic' from 'f:\\\\DushyanthData\\\\PythonBook\\\\Python\\\\lib\\\\site-packages\\\\IPython\\\\core\\\\magics\\\\basic.py'>,\n",
       " 'http': <module 'http' from 'C:\\\\Users\\\\HP\\\\AppData\\\\Local\\\\Programs\\\\Python\\\\Python310\\\\lib\\\\http\\\\__init__.py'>,\n",
       " 'http.client': <module 'http.client' from 'C:\\\\Users\\\\HP\\\\AppData\\\\Local\\\\Programs\\\\Python\\\\Python310\\\\lib\\\\http\\\\client.py'>,\n",
       " 'urllib.response': <module 'urllib.response' from 'C:\\\\Users\\\\HP\\\\AppData\\\\Local\\\\Programs\\\\Python\\\\Python310\\\\lib\\\\urllib\\\\response.py'>,\n",
       " 'urllib.error': <module 'urllib.error' from 'C:\\\\Users\\\\HP\\\\AppData\\\\Local\\\\Programs\\\\Python\\\\Python310\\\\lib\\\\urllib\\\\error.py'>,\n",
       " 'nturl2path': <module 'nturl2path' from 'C:\\\\Users\\\\HP\\\\AppData\\\\Local\\\\Programs\\\\Python\\\\Python310\\\\lib\\\\nturl2path.py'>,\n",
       " 'urllib.request': <module 'urllib.request' from 'C:\\\\Users\\\\HP\\\\AppData\\\\Local\\\\Programs\\\\Python\\\\Python310\\\\lib\\\\urllib\\\\request.py'>,\n",
       " 'IPython.utils.contexts': <module 'IPython.utils.contexts' from 'f:\\\\DushyanthData\\\\PythonBook\\\\Python\\\\lib\\\\site-packages\\\\IPython\\\\utils\\\\contexts.py'>,\n",
       " 'IPython.core.magics.code': <module 'IPython.core.magics.code' from 'f:\\\\DushyanthData\\\\PythonBook\\\\Python\\\\lib\\\\site-packages\\\\IPython\\\\core\\\\magics\\\\code.py'>,\n",
       " 'IPython.core.magics.config': <module 'IPython.core.magics.config' from 'f:\\\\DushyanthData\\\\PythonBook\\\\Python\\\\lib\\\\site-packages\\\\IPython\\\\core\\\\magics\\\\config.py'>,\n",
       " 'IPython.core.magics.display': <module 'IPython.core.magics.display' from 'f:\\\\DushyanthData\\\\PythonBook\\\\Python\\\\lib\\\\site-packages\\\\IPython\\\\core\\\\magics\\\\display.py'>,\n",
       " '_lsprof': <module '_lsprof' (built-in)>,\n",
       " 'profile': <module 'profile' from 'C:\\\\Users\\\\HP\\\\AppData\\\\Local\\\\Programs\\\\Python\\\\Python310\\\\lib\\\\profile.py'>,\n",
       " 'cProfile': <module 'cProfile' from 'C:\\\\Users\\\\HP\\\\AppData\\\\Local\\\\Programs\\\\Python\\\\Python310\\\\lib\\\\cProfile.py'>,\n",
       " 'pstats': <module 'pstats' from 'C:\\\\Users\\\\HP\\\\AppData\\\\Local\\\\Programs\\\\Python\\\\Python310\\\\lib\\\\pstats.py'>,\n",
       " 'timeit': <module 'timeit' from 'C:\\\\Users\\\\HP\\\\AppData\\\\Local\\\\Programs\\\\Python\\\\Python310\\\\lib\\\\timeit.py'>,\n",
       " 'IPython.utils.module_paths': <module 'IPython.utils.module_paths' from 'f:\\\\DushyanthData\\\\PythonBook\\\\Python\\\\lib\\\\site-packages\\\\IPython\\\\utils\\\\module_paths.py'>,\n",
       " 'IPython.utils.timing': <module 'IPython.utils.timing' from 'f:\\\\DushyanthData\\\\PythonBook\\\\Python\\\\lib\\\\site-packages\\\\IPython\\\\utils\\\\timing.py'>,\n",
       " 'IPython.core.magics.ast_mod': <module 'IPython.core.magics.ast_mod' from 'f:\\\\DushyanthData\\\\PythonBook\\\\Python\\\\lib\\\\site-packages\\\\IPython\\\\core\\\\magics\\\\ast_mod.py'>,\n",
       " 'IPython.core.magics.execution': <module 'IPython.core.magics.execution' from 'f:\\\\DushyanthData\\\\PythonBook\\\\Python\\\\lib\\\\site-packages\\\\IPython\\\\core\\\\magics\\\\execution.py'>,\n",
       " 'IPython.core.magics.extension': <module 'IPython.core.magics.extension' from 'f:\\\\DushyanthData\\\\PythonBook\\\\Python\\\\lib\\\\site-packages\\\\IPython\\\\core\\\\magics\\\\extension.py'>,\n",
       " 'IPython.core.magics.history': <module 'IPython.core.magics.history' from 'f:\\\\DushyanthData\\\\PythonBook\\\\Python\\\\lib\\\\site-packages\\\\IPython\\\\core\\\\magics\\\\history.py'>,\n",
       " 'IPython.core.magics.logging': <module 'IPython.core.magics.logging' from 'f:\\\\DushyanthData\\\\PythonBook\\\\Python\\\\lib\\\\site-packages\\\\IPython\\\\core\\\\magics\\\\logging.py'>,\n",
       " 'IPython.core.magics.namespace': <module 'IPython.core.magics.namespace' from 'f:\\\\DushyanthData\\\\PythonBook\\\\Python\\\\lib\\\\site-packages\\\\IPython\\\\core\\\\magics\\\\namespace.py'>,\n",
       " 'IPython.core.magics.osm': <module 'IPython.core.magics.osm' from 'f:\\\\DushyanthData\\\\PythonBook\\\\Python\\\\lib\\\\site-packages\\\\IPython\\\\core\\\\magics\\\\osm.py'>,\n",
       " 'IPython.core.magics.packaging': <module 'IPython.core.magics.packaging' from 'f:\\\\DushyanthData\\\\PythonBook\\\\Python\\\\lib\\\\site-packages\\\\IPython\\\\core\\\\magics\\\\packaging.py'>,\n",
       " 'IPython.core.magics.pylab': <module 'IPython.core.magics.pylab' from 'f:\\\\DushyanthData\\\\PythonBook\\\\Python\\\\lib\\\\site-packages\\\\IPython\\\\core\\\\magics\\\\pylab.py'>,\n",
       " 'IPython.core.magics.script': <module 'IPython.core.magics.script' from 'f:\\\\DushyanthData\\\\PythonBook\\\\Python\\\\lib\\\\site-packages\\\\IPython\\\\core\\\\magics\\\\script.py'>,\n",
       " 'IPython.core.magics': <module 'IPython.core.magics' from 'f:\\\\DushyanthData\\\\PythonBook\\\\Python\\\\lib\\\\site-packages\\\\IPython\\\\core\\\\magics\\\\__init__.py'>,\n",
       " 'IPython.core.shellapp': <module 'IPython.core.shellapp' from 'f:\\\\DushyanthData\\\\PythonBook\\\\Python\\\\lib\\\\site-packages\\\\IPython\\\\core\\\\shellapp.py'>,\n",
       " 'IPython.extensions': <module 'IPython.extensions' from 'f:\\\\DushyanthData\\\\PythonBook\\\\Python\\\\lib\\\\site-packages\\\\IPython\\\\extensions\\\\__init__.py'>,\n",
       " 'IPython.extensions.storemagic': <module 'IPython.extensions.storemagic' from 'f:\\\\DushyanthData\\\\PythonBook\\\\Python\\\\lib\\\\site-packages\\\\IPython\\\\extensions\\\\storemagic.py'>,\n",
       " 'IPython.terminal.ipapp': <module 'IPython.terminal.ipapp' from 'f:\\\\DushyanthData\\\\PythonBook\\\\Python\\\\lib\\\\site-packages\\\\IPython\\\\terminal\\\\ipapp.py'>,\n",
       " 'IPython.terminal.embed': <module 'IPython.terminal.embed' from 'f:\\\\DushyanthData\\\\PythonBook\\\\Python\\\\lib\\\\site-packages\\\\IPython\\\\terminal\\\\embed.py'>,\n",
       " 'IPython.utils.frame': <module 'IPython.utils.frame' from 'f:\\\\DushyanthData\\\\PythonBook\\\\Python\\\\lib\\\\site-packages\\\\IPython\\\\utils\\\\frame.py'>,\n",
       " 'IPython': <module 'IPython' from 'f:\\\\DushyanthData\\\\PythonBook\\\\Python\\\\lib\\\\site-packages\\\\IPython\\\\__init__.py'>,\n",
       " 'ipykernel.control': <module 'ipykernel.control' from 'f:\\\\DushyanthData\\\\PythonBook\\\\Python\\\\lib\\\\site-packages\\\\ipykernel\\\\control.py'>,\n",
       " 'ipykernel.heartbeat': <module 'ipykernel.heartbeat' from 'f:\\\\DushyanthData\\\\PythonBook\\\\Python\\\\lib\\\\site-packages\\\\ipykernel\\\\heartbeat.py'>,\n",
       " 'ipykernel.iostream': <module 'ipykernel.iostream' from 'f:\\\\DushyanthData\\\\PythonBook\\\\Python\\\\lib\\\\site-packages\\\\ipykernel\\\\iostream.py'>,\n",
       " 'comm.base_comm': <module 'comm.base_comm' from 'f:\\\\DushyanthData\\\\PythonBook\\\\Python\\\\lib\\\\site-packages\\\\comm\\\\base_comm.py'>,\n",
       " 'comm': <module 'comm' from 'f:\\\\DushyanthData\\\\PythonBook\\\\Python\\\\lib\\\\site-packages\\\\comm\\\\__init__.py'>,\n",
       " 'ipykernel.jsonutil': <module 'ipykernel.jsonutil' from 'f:\\\\DushyanthData\\\\PythonBook\\\\Python\\\\lib\\\\site-packages\\\\ipykernel\\\\jsonutil.py'>,\n",
       " 'psutil._common': <module 'psutil._common' from 'f:\\\\DushyanthData\\\\PythonBook\\\\Python\\\\lib\\\\site-packages\\\\psutil\\\\_common.py'>,\n",
       " 'psutil._psutil_windows': <module 'psutil._psutil_windows' from 'f:\\\\DushyanthData\\\\PythonBook\\\\Python\\\\lib\\\\site-packages\\\\psutil\\\\_psutil_windows.pyd'>,\n",
       " 'psutil._pswindows': <module 'psutil._pswindows' from 'f:\\\\DushyanthData\\\\PythonBook\\\\Python\\\\lib\\\\site-packages\\\\psutil\\\\_pswindows.py'>,\n",
       " 'psutil': <module 'psutil' from 'f:\\\\DushyanthData\\\\PythonBook\\\\Python\\\\lib\\\\site-packages\\\\psutil\\\\__init__.py'>,\n",
       " 'tornado.gen': <module 'tornado.gen' from 'f:\\\\DushyanthData\\\\PythonBook\\\\Python\\\\lib\\\\site-packages\\\\tornado\\\\gen.py'>,\n",
       " 'tornado.locks': <module 'tornado.locks' from 'f:\\\\DushyanthData\\\\PythonBook\\\\Python\\\\lib\\\\site-packages\\\\tornado\\\\locks.py'>,\n",
       " 'tornado.queues': <module 'tornado.queues' from 'f:\\\\DushyanthData\\\\PythonBook\\\\Python\\\\lib\\\\site-packages\\\\tornado\\\\queues.py'>,\n",
       " 'ipykernel.kernelbase': <module 'ipykernel.kernelbase' from 'f:\\\\DushyanthData\\\\PythonBook\\\\Python\\\\lib\\\\site-packages\\\\ipykernel\\\\kernelbase.py'>,\n",
       " 'ipykernel.comm.comm': <module 'ipykernel.comm.comm' from 'f:\\\\DushyanthData\\\\PythonBook\\\\Python\\\\lib\\\\site-packages\\\\ipykernel\\\\comm\\\\comm.py'>,\n",
       " 'ipykernel.comm.manager': <module 'ipykernel.comm.manager' from 'f:\\\\DushyanthData\\\\PythonBook\\\\Python\\\\lib\\\\site-packages\\\\ipykernel\\\\comm\\\\manager.py'>,\n",
       " 'ipykernel.comm': <module 'ipykernel.comm' from 'f:\\\\DushyanthData\\\\PythonBook\\\\Python\\\\lib\\\\site-packages\\\\ipykernel\\\\comm\\\\__init__.py'>,\n",
       " 'ipykernel.compiler': <module 'ipykernel.compiler' from 'f:\\\\DushyanthData\\\\PythonBook\\\\Python\\\\lib\\\\site-packages\\\\ipykernel\\\\compiler.py'>,\n",
       " 'packaging': <module 'packaging' from 'f:\\\\DushyanthData\\\\PythonBook\\\\Python\\\\lib\\\\site-packages\\\\packaging\\\\__init__.py'>,\n",
       " 'packaging._structures': <module 'packaging._structures' from 'f:\\\\DushyanthData\\\\PythonBook\\\\Python\\\\lib\\\\site-packages\\\\packaging\\\\_structures.py'>,\n",
       " 'packaging.version': <module 'packaging.version' from 'f:\\\\DushyanthData\\\\PythonBook\\\\Python\\\\lib\\\\site-packages\\\\packaging\\\\version.py'>,\n",
       " 'ipykernel.eventloops': <module 'ipykernel.eventloops' from 'f:\\\\DushyanthData\\\\PythonBook\\\\Python\\\\lib\\\\site-packages\\\\ipykernel\\\\eventloops.py'>,\n",
       " 'IPython.core.payloadpage': <module 'IPython.core.payloadpage' from 'f:\\\\DushyanthData\\\\PythonBook\\\\Python\\\\lib\\\\site-packages\\\\IPython\\\\core\\\\payloadpage.py'>,\n",
       " 'ipykernel.displayhook': <module 'ipykernel.displayhook' from 'f:\\\\DushyanthData\\\\PythonBook\\\\Python\\\\lib\\\\site-packages\\\\ipykernel\\\\displayhook.py'>,\n",
       " 'ipykernel.zmqshell': <module 'ipykernel.zmqshell' from 'f:\\\\DushyanthData\\\\PythonBook\\\\Python\\\\lib\\\\site-packages\\\\ipykernel\\\\zmqshell.py'>,\n",
       " 'ipykernel.ipkernel': <module 'ipykernel.ipkernel' from 'f:\\\\DushyanthData\\\\PythonBook\\\\Python\\\\lib\\\\site-packages\\\\ipykernel\\\\ipkernel.py'>,\n",
       " 'ipykernel.parentpoller': <module 'ipykernel.parentpoller' from 'f:\\\\DushyanthData\\\\PythonBook\\\\Python\\\\lib\\\\site-packages\\\\ipykernel\\\\parentpoller.py'>,\n",
       " 'ipykernel.kernelapp': <module 'ipykernel.kernelapp' from 'f:\\\\DushyanthData\\\\PythonBook\\\\Python\\\\lib\\\\site-packages\\\\ipykernel\\\\kernelapp.py'>,\n",
       " 'ipaddress': <module 'ipaddress' from 'C:\\\\Users\\\\HP\\\\AppData\\\\Local\\\\Programs\\\\Python\\\\Python310\\\\lib\\\\ipaddress.py'>,\n",
       " 'tornado.platform': <module 'tornado.platform' from 'f:\\\\DushyanthData\\\\PythonBook\\\\Python\\\\lib\\\\site-packages\\\\tornado\\\\platform\\\\__init__.py'>,\n",
       " 'tornado.platform.asyncio': <module 'tornado.platform.asyncio' from 'f:\\\\DushyanthData\\\\PythonBook\\\\Python\\\\lib\\\\site-packages\\\\tornado\\\\platform\\\\asyncio.py'>,\n",
       " 'faulthandler': <module 'faulthandler' (built-in)>,\n",
       " 'debugpy._version': <module 'debugpy._version' from 'f:\\\\DushyanthData\\\\PythonBook\\\\Python\\\\lib\\\\site-packages\\\\debugpy\\\\_version.py'>,\n",
       " 'debugpy.public_api': <module 'debugpy.public_api' from 'f:\\\\DushyanthData\\\\PythonBook\\\\Python\\\\lib\\\\site-packages\\\\debugpy\\\\public_api.py'>,\n",
       " 'debugpy': <module 'debugpy' from 'f:\\\\DushyanthData\\\\PythonBook\\\\Python\\\\lib\\\\site-packages\\\\debugpy\\\\__init__.py'>,\n",
       " 'debugpy._vendored._util': <module 'debugpy._vendored._util' from 'f:\\\\DushyanthData\\\\PythonBook\\\\Python\\\\lib\\\\site-packages\\\\debugpy\\\\_vendored\\\\_util.py'>,\n",
       " 'debugpy._vendored': <module 'debugpy._vendored' from 'f:\\\\DushyanthData\\\\PythonBook\\\\Python\\\\lib\\\\site-packages\\\\debugpy\\\\_vendored\\\\__init__.py'>,\n",
       " '_pydevd_bundle': <module '_pydevd_bundle' from 'f:\\\\DushyanthData\\\\PythonBook\\\\Python\\\\lib\\\\site-packages\\\\debugpy\\\\_vendored\\\\pydevd\\\\_pydevd_bundle\\\\__init__.py'>,\n",
       " 'encodings.ascii': <module 'encodings.ascii' from 'C:\\\\Users\\\\HP\\\\AppData\\\\Local\\\\Programs\\\\Python\\\\Python310\\\\lib\\\\encodings\\\\ascii.py'>,\n",
       " 'encodings.latin_1': <module 'encodings.latin_1' from 'C:\\\\Users\\\\HP\\\\AppData\\\\Local\\\\Programs\\\\Python\\\\Python310\\\\lib\\\\encodings\\\\latin_1.py'>,\n",
       " 'stringprep': <module 'stringprep' from 'C:\\\\Users\\\\HP\\\\AppData\\\\Local\\\\Programs\\\\Python\\\\Python310\\\\lib\\\\stringprep.py'>,\n",
       " 'encodings.idna': <module 'encodings.idna' from 'C:\\\\Users\\\\HP\\\\AppData\\\\Local\\\\Programs\\\\Python\\\\Python310\\\\lib\\\\encodings\\\\idna.py'>,\n",
       " '_pydevd_bundle.pydevd_vm_type': <module '_pydevd_bundle.pydevd_vm_type' from 'f:\\\\DushyanthData\\\\PythonBook\\\\Python\\\\lib\\\\site-packages\\\\debugpy\\\\_vendored\\\\pydevd\\\\_pydevd_bundle\\\\pydevd_vm_type.py'>,\n",
       " '_pydev_bundle': <module '_pydev_bundle' from 'f:\\\\DushyanthData\\\\PythonBook\\\\Python\\\\lib\\\\site-packages\\\\debugpy\\\\_vendored\\\\pydevd\\\\_pydev_bundle\\\\__init__.py'>,\n",
       " 'xmlrpc': <module 'xmlrpc' from 'C:\\\\Users\\\\HP\\\\AppData\\\\Local\\\\Programs\\\\Python\\\\Python310\\\\lib\\\\xmlrpc\\\\__init__.py'>,\n",
       " 'gzip': <module 'gzip' from 'C:\\\\Users\\\\HP\\\\AppData\\\\Local\\\\Programs\\\\Python\\\\Python310\\\\lib\\\\gzip.py'>,\n",
       " 'xmlrpc.client': <module 'xmlrpc.client' from 'C:\\\\Users\\\\HP\\\\AppData\\\\Local\\\\Programs\\\\Python\\\\Python310\\\\lib\\\\xmlrpc\\\\client.py'>,\n",
       " 'http.server': <module 'http.server' from 'C:\\\\Users\\\\HP\\\\AppData\\\\Local\\\\Programs\\\\Python\\\\Python310\\\\lib\\\\http\\\\server.py'>,\n",
       " 'xmlrpc.server': <module 'xmlrpc.server' from 'C:\\\\Users\\\\HP\\\\AppData\\\\Local\\\\Programs\\\\Python\\\\Python310\\\\lib\\\\xmlrpc\\\\server.py'>,\n",
       " '_pydev_bundle._pydev_saved_modules': <module '_pydev_bundle._pydev_saved_modules' from 'f:\\\\DushyanthData\\\\PythonBook\\\\Python\\\\lib\\\\site-packages\\\\debugpy\\\\_vendored\\\\pydevd\\\\_pydev_bundle\\\\_pydev_saved_modules.py'>,\n",
       " '_pydevd_bundle.pydevd_constants': <module '_pydevd_bundle.pydevd_constants' from 'f:\\\\DushyanthData\\\\PythonBook\\\\Python\\\\lib\\\\site-packages\\\\debugpy\\\\_vendored\\\\pydevd\\\\_pydevd_bundle\\\\pydevd_constants.py'>,\n",
       " '_pydev_runfiles': <module '_pydev_runfiles' from 'f:\\\\DushyanthData\\\\PythonBook\\\\Python\\\\lib\\\\site-packages\\\\debugpy\\\\_vendored\\\\pydevd\\\\_pydev_runfiles\\\\__init__.py'>,\n",
       " '_pydevd_frame_eval': <module '_pydevd_frame_eval' from 'f:\\\\DushyanthData\\\\PythonBook\\\\Python\\\\lib\\\\site-packages\\\\debugpy\\\\_vendored\\\\pydevd\\\\_pydevd_frame_eval\\\\__init__.py'>,\n",
       " 'pydev_ipython': <module 'pydev_ipython' from 'f:\\\\DushyanthData\\\\PythonBook\\\\Python\\\\lib\\\\site-packages\\\\debugpy\\\\_vendored\\\\pydevd\\\\pydev_ipython\\\\__init__.py'>,\n",
       " 'pydevd_plugins': <module 'pydevd_plugins' from 'f:\\\\DushyanthData\\\\PythonBook\\\\Python\\\\lib\\\\site-packages\\\\debugpy\\\\_vendored\\\\pydevd\\\\pydevd_plugins\\\\__init__.py'>,\n",
       " '_pydev_bundle.pydev_log': <module '_pydev_bundle.pydev_log' from 'f:\\\\DushyanthData\\\\PythonBook\\\\Python\\\\lib\\\\site-packages\\\\debugpy\\\\_vendored\\\\pydevd\\\\_pydev_bundle\\\\pydev_log.py'>,\n",
       " '_pydev_bundle._pydev_filesystem_encoding': <module '_pydev_bundle._pydev_filesystem_encoding' from 'f:\\\\DushyanthData\\\\PythonBook\\\\Python\\\\lib\\\\site-packages\\\\debugpy\\\\_vendored\\\\pydevd\\\\_pydev_bundle\\\\_pydev_filesystem_encoding.py'>,\n",
       " '_pydevd_bundle.pydevd_comm_constants': <module '_pydevd_bundle.pydevd_comm_constants' from 'f:\\\\DushyanthData\\\\PythonBook\\\\Python\\\\lib\\\\site-packages\\\\debugpy\\\\_vendored\\\\pydevd\\\\_pydevd_bundle\\\\pydevd_comm_constants.py'>,\n",
       " 'pydevd_file_utils': <module 'pydevd_file_utils' from 'f:\\\\DushyanthData\\\\PythonBook\\\\Python\\\\lib\\\\site-packages\\\\debugpy\\\\_vendored\\\\pydevd\\\\pydevd_file_utils.py'>,\n",
       " '_pydevd_bundle.pydevd_dont_trace_files': <module '_pydevd_bundle.pydevd_dont_trace_files' from 'f:\\\\DushyanthData\\\\PythonBook\\\\Python\\\\lib\\\\site-packages\\\\debugpy\\\\_vendored\\\\pydevd\\\\_pydevd_bundle\\\\pydevd_dont_trace_files.py'>,\n",
       " '_pydev_bundle._pydev_execfile': <module '_pydev_bundle._pydev_execfile' from 'f:\\\\DushyanthData\\\\PythonBook\\\\Python\\\\lib\\\\site-packages\\\\debugpy\\\\_vendored\\\\pydevd\\\\_pydev_bundle\\\\_pydev_execfile.py'>,\n",
       " '_pydevd_bundle.pydevd_exec2': <module '_pydevd_bundle.pydevd_exec2' from 'f:\\\\DushyanthData\\\\PythonBook\\\\Python\\\\lib\\\\site-packages\\\\debugpy\\\\_vendored\\\\pydevd\\\\_pydevd_bundle\\\\pydevd_exec2.py'>,\n",
       " '_pydev_bundle.pydev_imports': <module '_pydev_bundle.pydev_imports' from 'f:\\\\DushyanthData\\\\PythonBook\\\\Python\\\\lib\\\\site-packages\\\\debugpy\\\\_vendored\\\\pydevd\\\\_pydev_bundle\\\\pydev_imports.py'>,\n",
       " '_pydev_bundle.pydev_is_thread_alive': <module '_pydev_bundle.pydev_is_thread_alive' from 'f:\\\\DushyanthData\\\\PythonBook\\\\Python\\\\lib\\\\site-packages\\\\debugpy\\\\_vendored\\\\pydevd\\\\_pydev_bundle\\\\pydev_is_thread_alive.py'>,\n",
       " '_pydev_bundle.pydev_override': <module '_pydev_bundle.pydev_override' from 'f:\\\\DushyanthData\\\\PythonBook\\\\Python\\\\lib\\\\site-packages\\\\debugpy\\\\_vendored\\\\pydevd\\\\_pydev_bundle\\\\pydev_override.py'>,\n",
       " 'pydevd_plugins.extensions': <module 'pydevd_plugins.extensions' from 'f:\\\\DushyanthData\\\\PythonBook\\\\Python\\\\lib\\\\site-packages\\\\debugpy\\\\_vendored\\\\pydevd\\\\pydevd_plugins\\\\extensions\\\\__init__.py'>,\n",
       " '_pydevd_bundle.pydevd_extension_utils': <module '_pydevd_bundle.pydevd_extension_utils' from 'f:\\\\DushyanthData\\\\PythonBook\\\\Python\\\\lib\\\\site-packages\\\\debugpy\\\\_vendored\\\\pydevd\\\\_pydevd_bundle\\\\pydevd_extension_utils.py'>,\n",
       " '_pydevd_bundle.pydevd_frame_utils': <module '_pydevd_bundle.pydevd_frame_utils' from 'f:\\\\DushyanthData\\\\PythonBook\\\\Python\\\\lib\\\\site-packages\\\\debugpy\\\\_vendored\\\\pydevd\\\\_pydevd_bundle\\\\pydevd_frame_utils.py'>,\n",
       " '_pydevd_bundle.pydevd_filtering': <module '_pydevd_bundle.pydevd_filtering' from 'f:\\\\DushyanthData\\\\PythonBook\\\\Python\\\\lib\\\\site-packages\\\\debugpy\\\\_vendored\\\\pydevd\\\\_pydevd_bundle\\\\pydevd_filtering.py'>,\n",
       " '_pydevd_bundle.pydevd_io': <module '_pydevd_bundle.pydevd_io' from 'f:\\\\DushyanthData\\\\PythonBook\\\\Python\\\\lib\\\\site-packages\\\\debugpy\\\\_vendored\\\\pydevd\\\\_pydevd_bundle\\\\pydevd_io.py'>,\n",
       " '_pydevd_bundle.pydevd_defaults': <module '_pydevd_bundle.pydevd_defaults' from 'f:\\\\DushyanthData\\\\PythonBook\\\\Python\\\\lib\\\\site-packages\\\\debugpy\\\\_vendored\\\\pydevd\\\\_pydevd_bundle\\\\pydevd_defaults.py'>,\n",
       " '_pydevd_bundle.pydevd_utils': <module '_pydevd_bundle.pydevd_utils' from 'f:\\\\DushyanthData\\\\PythonBook\\\\Python\\\\lib\\\\site-packages\\\\debugpy\\\\_vendored\\\\pydevd\\\\_pydevd_bundle\\\\pydevd_utils.py'>,\n",
       " '_pydevd_bundle.pydevd_runpy': <module '_pydevd_bundle.pydevd_runpy' from 'f:\\\\DushyanthData\\\\PythonBook\\\\Python\\\\lib\\\\site-packages\\\\debugpy\\\\_vendored\\\\pydevd\\\\_pydevd_bundle\\\\pydevd_runpy.py'>,\n",
       " '_pydev_bundle._pydev_tipper_common': <module '_pydev_bundle._pydev_tipper_common' from 'f:\\\\DushyanthData\\\\PythonBook\\\\Python\\\\lib\\\\site-packages\\\\debugpy\\\\_vendored\\\\pydevd\\\\_pydev_bundle\\\\_pydev_tipper_common.py'>,\n",
       " '_pydev_bundle._pydev_imports_tipper': <module '_pydev_bundle._pydev_imports_tipper' from 'f:\\\\DushyanthData\\\\PythonBook\\\\Python\\\\lib\\\\site-packages\\\\debugpy\\\\_vendored\\\\pydevd\\\\_pydev_bundle\\\\_pydev_imports_tipper.py'>,\n",
       " '_pydev_bundle._pydev_calltip_util': <module '_pydev_bundle._pydev_calltip_util' from 'f:\\\\DushyanthData\\\\PythonBook\\\\Python\\\\lib\\\\site-packages\\\\debugpy\\\\_vendored\\\\pydevd\\\\_pydev_bundle\\\\_pydev_calltip_util.py'>,\n",
       " '_pydevd_bundle.pydevd_safe_repr': <module '_pydevd_bundle.pydevd_safe_repr' from 'f:\\\\DushyanthData\\\\PythonBook\\\\Python\\\\lib\\\\site-packages\\\\debugpy\\\\_vendored\\\\pydevd\\\\_pydevd_bundle\\\\pydevd_safe_repr.py'>,\n",
       " '_pydevd_bundle.pydevd_resolver': <module '_pydevd_bundle.pydevd_resolver' from 'f:\\\\DushyanthData\\\\PythonBook\\\\Python\\\\lib\\\\site-packages\\\\debugpy\\\\_vendored\\\\pydevd\\\\_pydevd_bundle\\\\pydevd_resolver.py'>,\n",
       " '_pydevd_bundle.pydevd_extension_api': <module '_pydevd_bundle.pydevd_extension_api' from 'f:\\\\DushyanthData\\\\PythonBook\\\\Python\\\\lib\\\\site-packages\\\\debugpy\\\\_vendored\\\\pydevd\\\\_pydevd_bundle\\\\pydevd_extension_api.py'>,\n",
       " '_pydevd_bundle.pydevd_xml': <module '_pydevd_bundle.pydevd_xml' from 'f:\\\\DushyanthData\\\\PythonBook\\\\Python\\\\lib\\\\site-packages\\\\debugpy\\\\_vendored\\\\pydevd\\\\_pydevd_bundle\\\\pydevd_xml.py'>,\n",
       " '_cython_3_0_11': <module '_cython_3_0_11'>,\n",
       " '_pydevd_bundle.pydevd_dont_trace': <module '_pydevd_bundle.pydevd_dont_trace' from 'f:\\\\DushyanthData\\\\PythonBook\\\\Python\\\\lib\\\\site-packages\\\\debugpy\\\\_vendored\\\\pydevd\\\\_pydevd_bundle\\\\pydevd_dont_trace.py'>,\n",
       " '_pydevd_frame_eval.vendored': <module '_pydevd_frame_eval.vendored' from 'f:\\\\DushyanthData\\\\PythonBook\\\\Python\\\\lib\\\\site-packages\\\\debugpy\\\\_vendored\\\\pydevd\\\\_pydevd_frame_eval\\\\vendored\\\\__init__.py'>,\n",
       " '_pydevd_frame_eval.vendored.bytecode.flags': <module '_pydevd_frame_eval.vendored.bytecode.flags' from 'f:\\\\DushyanthData\\\\PythonBook\\\\Python\\\\lib\\\\site-packages\\\\debugpy\\\\_vendored\\\\pydevd\\\\_pydevd_frame_eval\\\\vendored\\\\bytecode\\\\flags.py'>,\n",
       " '_pydevd_frame_eval.vendored.bytecode.instr': <module '_pydevd_frame_eval.vendored.bytecode.instr' from 'f:\\\\DushyanthData\\\\PythonBook\\\\Python\\\\lib\\\\site-packages\\\\debugpy\\\\_vendored\\\\pydevd\\\\_pydevd_frame_eval\\\\vendored\\\\bytecode\\\\instr.py'>,\n",
       " '_pydevd_frame_eval.vendored.bytecode.bytecode': <module '_pydevd_frame_eval.vendored.bytecode.bytecode' from 'f:\\\\DushyanthData\\\\PythonBook\\\\Python\\\\lib\\\\site-packages\\\\debugpy\\\\_vendored\\\\pydevd\\\\_pydevd_frame_eval\\\\vendored\\\\bytecode\\\\bytecode.py'>,\n",
       " '_pydevd_frame_eval.vendored.bytecode.concrete': <module '_pydevd_frame_eval.vendored.bytecode.concrete' from 'f:\\\\DushyanthData\\\\PythonBook\\\\Python\\\\lib\\\\site-packages\\\\debugpy\\\\_vendored\\\\pydevd\\\\_pydevd_frame_eval\\\\vendored\\\\bytecode\\\\concrete.py'>,\n",
       " '_pydevd_frame_eval.vendored.bytecode.cfg': <module '_pydevd_frame_eval.vendored.bytecode.cfg' from 'f:\\\\DushyanthData\\\\PythonBook\\\\Python\\\\lib\\\\site-packages\\\\debugpy\\\\_vendored\\\\pydevd\\\\_pydevd_frame_eval\\\\vendored\\\\bytecode\\\\cfg.py'>,\n",
       " '_pydevd_frame_eval.vendored.bytecode': <module '_pydevd_frame_eval.vendored.bytecode' from 'f:\\\\DushyanthData\\\\PythonBook\\\\Python\\\\lib\\\\site-packages\\\\debugpy\\\\_vendored\\\\pydevd\\\\_pydevd_frame_eval\\\\vendored\\\\bytecode\\\\__init__.py'>,\n",
       " '_pydevd_bundle.pydevd_bytecode_utils': <module '_pydevd_bundle.pydevd_bytecode_utils' from 'f:\\\\DushyanthData\\\\PythonBook\\\\Python\\\\lib\\\\site-packages\\\\debugpy\\\\_vendored\\\\pydevd\\\\_pydevd_bundle\\\\pydevd_bytecode_utils.py'>,\n",
       " '_pydevd_bundle.pydevd_cython': <module '_pydevd_bundle.pydevd_cython' from 'f:\\\\DushyanthData\\\\PythonBook\\\\Python\\\\lib\\\\site-packages\\\\debugpy\\\\_vendored\\\\pydevd\\\\_pydevd_bundle\\\\pydevd_cython.cp310-win_amd64.pyd'>,\n",
       " '_pydevd_bundle.pydevd_cython_wrapper': <module '_pydevd_bundle.pydevd_cython_wrapper' from 'f:\\\\DushyanthData\\\\PythonBook\\\\Python\\\\lib\\\\site-packages\\\\debugpy\\\\_vendored\\\\pydevd\\\\_pydevd_bundle\\\\pydevd_cython_wrapper.py'>,\n",
       " '_pydevd_bundle.pydevd_additional_thread_info': <module '_pydevd_bundle.pydevd_additional_thread_info' from 'f:\\\\DushyanthData\\\\PythonBook\\\\Python\\\\lib\\\\site-packages\\\\debugpy\\\\_vendored\\\\pydevd\\\\_pydevd_bundle\\\\pydevd_additional_thread_info.py'>,\n",
       " '_pydevd_sys_monitoring': <module '_pydevd_sys_monitoring' (<_frozen_importlib_external._NamespaceLoader object at 0x00000137CD8305B0>)>,\n",
       " '_pydevd_bundle.pydevd_additional_thread_info_regular': <module '_pydevd_bundle.pydevd_additional_thread_info_regular' from 'f:\\\\DushyanthData\\\\PythonBook\\\\Python\\\\lib\\\\site-packages\\\\debugpy\\\\_vendored\\\\pydevd\\\\_pydevd_bundle\\\\pydevd_additional_thread_info_regular.py'>,\n",
       " '_pydevd_bundle.pydevd_trace_dispatch': <module '_pydevd_bundle.pydevd_trace_dispatch' from 'f:\\\\DushyanthData\\\\PythonBook\\\\Python\\\\lib\\\\site-packages\\\\debugpy\\\\_vendored\\\\pydevd\\\\_pydevd_bundle\\\\pydevd_trace_dispatch.py'>,\n",
       " '_pydevd_bundle.pydevd_import_class': <module '_pydevd_bundle.pydevd_import_class' from 'f:\\\\DushyanthData\\\\PythonBook\\\\Python\\\\lib\\\\site-packages\\\\debugpy\\\\_vendored\\\\pydevd\\\\_pydevd_bundle\\\\pydevd_import_class.py'>,\n",
       " '_pydevd_bundle.pydevd_breakpoints': <module '_pydevd_bundle.pydevd_breakpoints' from 'f:\\\\DushyanthData\\\\PythonBook\\\\Python\\\\lib\\\\site-packages\\\\debugpy\\\\_vendored\\\\pydevd\\\\_pydevd_bundle\\\\pydevd_breakpoints.py'>,\n",
       " '_pydevd_sys_monitoring._pydevd_sys_monitoring': <module '_pydevd_sys_monitoring._pydevd_sys_monitoring' from 'f:\\\\DushyanthData\\\\PythonBook\\\\Python\\\\lib\\\\site-packages\\\\debugpy\\\\_vendored\\\\pydevd\\\\_pydevd_sys_monitoring\\\\_pydevd_sys_monitoring.py'>,\n",
       " '_pydevd_sys_monitoring.pydevd_sys_monitoring': <module '_pydevd_sys_monitoring.pydevd_sys_monitoring' from 'f:\\\\DushyanthData\\\\PythonBook\\\\Python\\\\lib\\\\site-packages\\\\debugpy\\\\_vendored\\\\pydevd\\\\_pydevd_sys_monitoring\\\\pydevd_sys_monitoring.py'>,\n",
       " '_pydevd_bundle.pydevd_thread_lifecycle': <module '_pydevd_bundle.pydevd_thread_lifecycle' from 'f:\\\\DushyanthData\\\\PythonBook\\\\Python\\\\lib\\\\site-packages\\\\debugpy\\\\_vendored\\\\pydevd\\\\_pydevd_bundle\\\\pydevd_thread_lifecycle.py'>,\n",
       " '_pydevd_bundle.pydevd_save_locals': <module '_pydevd_bundle.pydevd_save_locals' from 'f:\\\\DushyanthData\\\\PythonBook\\\\Python\\\\lib\\\\site-packages\\\\debugpy\\\\_vendored\\\\pydevd\\\\_pydevd_bundle\\\\pydevd_save_locals.py'>,\n",
       " '_pydev_bundle.pydev_monkey': <module '_pydev_bundle.pydev_monkey' from 'f:\\\\DushyanthData\\\\PythonBook\\\\Python\\\\lib\\\\site-packages\\\\debugpy\\\\_vendored\\\\pydevd\\\\_pydev_bundle\\\\pydev_monkey.py'>,\n",
       " 'pydevd_tracing': <module 'pydevd_tracing' from 'f:\\\\DushyanthData\\\\PythonBook\\\\Python\\\\lib\\\\site-packages\\\\debugpy\\\\_vendored\\\\pydevd\\\\pydevd_tracing.py'>,\n",
       " '_pydevd_bundle.pydevd_collect_bytecode_info': <module '_pydevd_bundle.pydevd_collect_bytecode_info' from 'f:\\\\DushyanthData\\\\PythonBook\\\\Python\\\\lib\\\\site-packages\\\\debugpy\\\\_vendored\\\\pydevd\\\\_pydevd_bundle\\\\pydevd_collect_bytecode_info.py'>,\n",
       " '_pydevd_bundle.pydevd_daemon_thread': <module '_pydevd_bundle.pydevd_daemon_thread' from 'f:\\\\DushyanthData\\\\PythonBook\\\\Python\\\\lib\\\\site-packages\\\\debugpy\\\\_vendored\\\\pydevd\\\\_pydevd_bundle\\\\pydevd_daemon_thread.py'>,\n",
       " '_pydevd_bundle.pydevd_timeout': <module '_pydevd_bundle.pydevd_timeout' from 'f:\\\\DushyanthData\\\\PythonBook\\\\Python\\\\lib\\\\site-packages\\\\debugpy\\\\_vendored\\\\pydevd\\\\_pydevd_bundle\\\\pydevd_timeout.py'>,\n",
       " '_pydevd_bundle.pydevd_vars': <module '_pydevd_bundle.pydevd_vars' from 'f:\\\\DushyanthData\\\\PythonBook\\\\Python\\\\lib\\\\site-packages\\\\debugpy\\\\_vendored\\\\pydevd\\\\_pydevd_bundle\\\\pydevd_vars.py'>,\n",
       " '_pydev_bundle.pydev_console_utils': <module '_pydev_bundle.pydev_console_utils' from 'f:\\\\DushyanthData\\\\PythonBook\\\\Python\\\\lib\\\\site-packages\\\\debugpy\\\\_vendored\\\\pydevd\\\\_pydev_bundle\\\\pydev_console_utils.py'>,\n",
       " '_pydevd_bundle.pydevd_custom_frames': <module '_pydevd_bundle.pydevd_custom_frames' from 'f:\\\\DushyanthData\\\\PythonBook\\\\Python\\\\lib\\\\site-packages\\\\debugpy\\\\_vendored\\\\pydevd\\\\_pydevd_bundle\\\\pydevd_custom_frames.py'>,\n",
       " '_pydevd_bundle.pydevd_net_command': <module '_pydevd_bundle.pydevd_net_command' from 'f:\\\\DushyanthData\\\\PythonBook\\\\Python\\\\lib\\\\site-packages\\\\debugpy\\\\_vendored\\\\pydevd\\\\_pydevd_bundle\\\\pydevd_net_command.py'>,\n",
       " '_pydevd_bundle.pydevconsole_code': <module '_pydevd_bundle.pydevconsole_code' from 'f:\\\\DushyanthData\\\\PythonBook\\\\Python\\\\lib\\\\site-packages\\\\debugpy\\\\_vendored\\\\pydevd\\\\_pydevd_bundle\\\\pydevconsole_code.py'>,\n",
       " '_pydev_bundle.pydev_umd': <module '_pydev_bundle.pydev_umd' from 'f:\\\\DushyanthData\\\\PythonBook\\\\Python\\\\lib\\\\site-packages\\\\debugpy\\\\_vendored\\\\pydevd\\\\_pydev_bundle\\\\pydev_umd.py'>,\n",
       " 'pydevconsole': <module 'pydevconsole' from 'f:\\\\DushyanthData\\\\PythonBook\\\\Python\\\\lib\\\\site-packages\\\\debugpy\\\\_vendored\\\\pydevd\\\\pydevconsole.py'>,\n",
       " '_pydev_bundle._pydev_completer': <module '_pydev_bundle._pydev_completer' from 'f:\\\\DushyanthData\\\\PythonBook\\\\Python\\\\lib\\\\site-packages\\\\debugpy\\\\_vendored\\\\pydevd\\\\_pydev_bundle\\\\_pydev_completer.py'>,\n",
       " '_pydevd_bundle.pydevd_net_command_factory_xml': <module '_pydevd_bundle.pydevd_net_command_factory_xml' from 'f:\\\\DushyanthData\\\\PythonBook\\\\Python\\\\lib\\\\site-packages\\\\debugpy\\\\_vendored\\\\pydevd\\\\_pydevd_bundle\\\\pydevd_net_command_factory_xml.py'>,\n",
       " '_pydevd_frame_eval.pydevd_frame_eval_main': <module '_pydevd_frame_eval.pydevd_frame_eval_main' from 'f:\\\\DushyanthData\\\\PythonBook\\\\Python\\\\lib\\\\site-packages\\\\debugpy\\\\_vendored\\\\pydevd\\\\_pydevd_frame_eval\\\\pydevd_frame_eval_main.py'>,\n",
       " '_pydevd_bundle.pydevd_source_mapping': <module '_pydevd_bundle.pydevd_source_mapping' from 'f:\\\\DushyanthData\\\\PythonBook\\\\Python\\\\lib\\\\site-packages\\\\debugpy\\\\_vendored\\\\pydevd\\\\_pydevd_bundle\\\\pydevd_source_mapping.py'>,\n",
       " '_pydevd_bundle.pydevd_concurrency_analyser': <module '_pydevd_bundle.pydevd_concurrency_analyser' from 'f:\\\\DushyanthData\\\\PythonBook\\\\Python\\\\lib\\\\site-packages\\\\debugpy\\\\_vendored\\\\pydevd\\\\_pydevd_bundle\\\\pydevd_concurrency_analyser\\\\__init__.py'>,\n",
       " '_pydevd_bundle.pydevd_concurrency_analyser.pydevd_thread_wrappers': <module '_pydevd_bundle.pydevd_concurrency_analyser.pydevd_thread_wrappers' from 'f:\\\\DushyanthData\\\\PythonBook\\\\Python\\\\lib\\\\site-packages\\\\debugpy\\\\_vendored\\\\pydevd\\\\_pydevd_bundle\\\\pydevd_concurrency_analyser\\\\pydevd_thread_wrappers.py'>,\n",
       " '_pydevd_bundle.pydevd_concurrency_analyser.pydevd_concurrency_logger': <module '_pydevd_bundle.pydevd_concurrency_analyser.pydevd_concurrency_logger' from 'f:\\\\DushyanthData\\\\PythonBook\\\\Python\\\\lib\\\\site-packages\\\\debugpy\\\\_vendored\\\\pydevd\\\\_pydevd_bundle\\\\pydevd_concurrency_analyser\\\\pydevd_concurrency_logger.py'>,\n",
       " '_pydevd_bundle._debug_adapter': <module '_pydevd_bundle._debug_adapter' from 'f:\\\\DushyanthData\\\\PythonBook\\\\Python\\\\lib\\\\site-packages\\\\debugpy\\\\_vendored\\\\pydevd\\\\_pydevd_bundle\\\\_debug_adapter\\\\__init__.py'>,\n",
       " '_pydevd_bundle._debug_adapter.pydevd_schema_log': <module '_pydevd_bundle._debug_adapter.pydevd_schema_log' from 'f:\\\\DushyanthData\\\\PythonBook\\\\Python\\\\lib\\\\site-packages\\\\debugpy\\\\_vendored\\\\pydevd\\\\_pydevd_bundle\\\\_debug_adapter\\\\pydevd_schema_log.py'>,\n",
       " '_pydevd_bundle._debug_adapter.pydevd_base_schema': <module '_pydevd_bundle._debug_adapter.pydevd_base_schema' from 'f:\\\\DushyanthData\\\\PythonBook\\\\Python\\\\lib\\\\site-packages\\\\debugpy\\\\_vendored\\\\pydevd\\\\_pydevd_bundle\\\\_debug_adapter\\\\pydevd_base_schema.py'>,\n",
       " '_pydevd_bundle._debug_adapter.pydevd_schema': <module '_pydevd_bundle._debug_adapter.pydevd_schema' from 'f:\\\\DushyanthData\\\\PythonBook\\\\Python\\\\lib\\\\site-packages\\\\debugpy\\\\_vendored\\\\pydevd\\\\_pydevd_bundle\\\\_debug_adapter\\\\pydevd_schema.py'>,\n",
       " '_pydevd_bundle.pydevd_reload': <module '_pydevd_bundle.pydevd_reload' from 'f:\\\\DushyanthData\\\\PythonBook\\\\Python\\\\lib\\\\site-packages\\\\debugpy\\\\_vendored\\\\pydevd\\\\_pydevd_bundle\\\\pydevd_reload.py'>,\n",
       " '_pydev_bundle.fsnotify': <module '_pydev_bundle.fsnotify' from 'f:\\\\DushyanthData\\\\PythonBook\\\\Python\\\\lib\\\\site-packages\\\\debugpy\\\\_vendored\\\\pydevd\\\\_pydev_bundle\\\\fsnotify\\\\__init__.py'>,\n",
       " '_pydevd_bundle.pydevd_console': <module '_pydevd_bundle.pydevd_console' from 'f:\\\\DushyanthData\\\\PythonBook\\\\Python\\\\lib\\\\site-packages\\\\debugpy\\\\_vendored\\\\pydevd\\\\_pydevd_bundle\\\\pydevd_console.py'>,\n",
       " '_pydevd_bundle.pydevd_comm': <module '_pydevd_bundle.pydevd_comm' from 'f:\\\\DushyanthData\\\\PythonBook\\\\Python\\\\lib\\\\site-packages\\\\debugpy\\\\_vendored\\\\pydevd\\\\_pydevd_bundle\\\\pydevd_comm.py'>,\n",
       " '_pydevd_bundle.pydevd_net_command_factory_json': <module '_pydevd_bundle.pydevd_net_command_factory_json' from 'f:\\\\DushyanthData\\\\PythonBook\\\\Python\\\\lib\\\\site-packages\\\\debugpy\\\\_vendored\\\\pydevd\\\\_pydevd_bundle\\\\pydevd_net_command_factory_json.py'>,\n",
       " '_pydevd_bundle.pydevd_api': <module '_pydevd_bundle.pydevd_api' from 'f:\\\\DushyanthData\\\\PythonBook\\\\Python\\\\lib\\\\site-packages\\\\debugpy\\\\_vendored\\\\pydevd\\\\_pydevd_bundle\\\\pydevd_api.py'>,\n",
       " '_pydevd_bundle.pydevd_json_debug_options': <module '_pydevd_bundle.pydevd_json_debug_options' from 'f:\\\\DushyanthData\\\\PythonBook\\\\Python\\\\lib\\\\site-packages\\\\debugpy\\\\_vendored\\\\pydevd\\\\_pydevd_bundle\\\\pydevd_json_debug_options.py'>,\n",
       " '_pydevd_bundle.pydevd_process_net_command_json': <module '_pydevd_bundle.pydevd_process_net_command_json' from 'f:\\\\DushyanthData\\\\PythonBook\\\\Python\\\\lib\\\\site-packages\\\\debugpy\\\\_vendored\\\\pydevd\\\\_pydevd_bundle\\\\pydevd_process_net_command_json.py'>,\n",
       " '_pydevd_bundle.pydevd_traceproperty': <module '_pydevd_bundle.pydevd_traceproperty' from 'f:\\\\DushyanthData\\\\PythonBook\\\\Python\\\\lib\\\\site-packages\\\\debugpy\\\\_vendored\\\\pydevd\\\\_pydevd_bundle\\\\pydevd_traceproperty.py'>,\n",
       " '_pydevd_bundle.pydevd_process_net_command': <module '_pydevd_bundle.pydevd_process_net_command' from 'f:\\\\DushyanthData\\\\PythonBook\\\\Python\\\\lib\\\\site-packages\\\\debugpy\\\\_vendored\\\\pydevd\\\\_pydevd_bundle\\\\pydevd_process_net_command.py'>,\n",
       " '_pydevd_bundle.pydevd_suspended_frames': <module '_pydevd_bundle.pydevd_suspended_frames' from 'f:\\\\DushyanthData\\\\PythonBook\\\\Python\\\\lib\\\\site-packages\\\\debugpy\\\\_vendored\\\\pydevd\\\\_pydevd_bundle\\\\pydevd_suspended_frames.py'>,\n",
       " 'pydevd_plugins.pydevd_line_validation': <module 'pydevd_plugins.pydevd_line_validation' from 'f:\\\\DushyanthData\\\\PythonBook\\\\Python\\\\lib\\\\site-packages\\\\debugpy\\\\_vendored\\\\pydevd\\\\pydevd_plugins\\\\pydevd_line_validation.py'>,\n",
       " 'pydevd_plugins.django_debug': <module 'pydevd_plugins.django_debug' from 'f:\\\\DushyanthData\\\\PythonBook\\\\Python\\\\lib\\\\site-packages\\\\debugpy\\\\_vendored\\\\pydevd\\\\pydevd_plugins\\\\django_debug.py'>,\n",
       " 'pydevd_plugins.jinja2_debug': <module 'pydevd_plugins.jinja2_debug' from 'f:\\\\DushyanthData\\\\PythonBook\\\\Python\\\\lib\\\\site-packages\\\\debugpy\\\\_vendored\\\\pydevd\\\\pydevd_plugins\\\\jinja2_debug.py'>,\n",
       " '_pydevd_bundle.pydevd_plugin_utils': <module '_pydevd_bundle.pydevd_plugin_utils' from 'f:\\\\DushyanthData\\\\PythonBook\\\\Python\\\\lib\\\\site-packages\\\\debugpy\\\\_vendored\\\\pydevd\\\\_pydevd_bundle\\\\pydevd_plugin_utils.py'>,\n",
       " 'pydevd_plugins.extensions.types': <module 'pydevd_plugins.extensions.types' from 'f:\\\\DushyanthData\\\\PythonBook\\\\Python\\\\lib\\\\site-packages\\\\debugpy\\\\_vendored\\\\pydevd\\\\pydevd_plugins\\\\extensions\\\\types\\\\__init__.py'>,\n",
       " 'pydevd_plugins.extensions.types.pydevd_helpers': <module 'pydevd_plugins.extensions.types.pydevd_helpers' from 'f:\\\\DushyanthData\\\\PythonBook\\\\Python\\\\lib\\\\site-packages\\\\debugpy\\\\_vendored\\\\pydevd\\\\pydevd_plugins\\\\extensions\\\\types\\\\pydevd_helpers.py'>,\n",
       " 'pydevd_plugins.extensions.types.pydevd_plugin_numpy_types': <module 'pydevd_plugins.extensions.types.pydevd_plugin_numpy_types' from 'f:\\\\DushyanthData\\\\PythonBook\\\\Python\\\\lib\\\\site-packages\\\\debugpy\\\\_vendored\\\\pydevd\\\\pydevd_plugins\\\\extensions\\\\types\\\\pydevd_plugin_numpy_types.py'>,\n",
       " 'pydevd_plugins.extensions.types.pydevd_plugin_pandas_types': <module 'pydevd_plugins.extensions.types.pydevd_plugin_pandas_types' from 'f:\\\\DushyanthData\\\\PythonBook\\\\Python\\\\lib\\\\site-packages\\\\debugpy\\\\_vendored\\\\pydevd\\\\pydevd_plugins\\\\extensions\\\\types\\\\pydevd_plugin_pandas_types.py'>,\n",
       " 'pydevd_plugins.extensions.types.pydevd_plugins_django_form_str': <module 'pydevd_plugins.extensions.types.pydevd_plugins_django_form_str' from 'f:\\\\DushyanthData\\\\PythonBook\\\\Python\\\\lib\\\\site-packages\\\\debugpy\\\\_vendored\\\\pydevd\\\\pydevd_plugins\\\\extensions\\\\types\\\\pydevd_plugins_django_form_str.py'>,\n",
       " 'pydevd': <module 'pydevd' from 'f:\\\\DushyanthData\\\\PythonBook\\\\Python\\\\lib\\\\site-packages\\\\debugpy\\\\_vendored\\\\pydevd\\\\pydevd.py'>,\n",
       " 'debugpy._vendored.force_pydevd': <module 'debugpy._vendored.force_pydevd' from 'f:\\\\DushyanthData\\\\PythonBook\\\\Python\\\\lib\\\\site-packages\\\\debugpy\\\\_vendored\\\\force_pydevd.py'>,\n",
       " 'debugpy.server': <module 'debugpy.server' from 'f:\\\\DushyanthData\\\\PythonBook\\\\Python\\\\lib\\\\site-packages\\\\debugpy\\\\server\\\\__init__.py'>,\n",
       " 'debugpy.adapter': <module 'debugpy.adapter' from 'f:\\\\DushyanthData\\\\PythonBook\\\\Python\\\\lib\\\\site-packages\\\\debugpy\\\\adapter\\\\__init__.py'>,\n",
       " 'debugpy.common': <module 'debugpy.common' from 'f:\\\\DushyanthData\\\\PythonBook\\\\Python\\\\lib\\\\site-packages\\\\debugpy\\\\common\\\\__init__.py'>,\n",
       " 'debugpy.common.json': <module 'debugpy.common.json' from 'f:\\\\DushyanthData\\\\PythonBook\\\\Python\\\\lib\\\\site-packages\\\\debugpy\\\\common\\\\json.py'>,\n",
       " 'debugpy.common.timestamp': <module 'debugpy.common.timestamp' from 'f:\\\\DushyanthData\\\\PythonBook\\\\Python\\\\lib\\\\site-packages\\\\debugpy\\\\common\\\\timestamp.py'>,\n",
       " 'debugpy.common.util': <module 'debugpy.common.util' from 'f:\\\\DushyanthData\\\\PythonBook\\\\Python\\\\lib\\\\site-packages\\\\debugpy\\\\common\\\\util.py'>,\n",
       " 'debugpy.common.log': <module 'debugpy.common.log' from 'f:\\\\DushyanthData\\\\PythonBook\\\\Python\\\\lib\\\\site-packages\\\\debugpy\\\\common\\\\log.py'>,\n",
       " 'debugpy.common.sockets': <module 'debugpy.common.sockets' from 'f:\\\\DushyanthData\\\\PythonBook\\\\Python\\\\lib\\\\site-packages\\\\debugpy\\\\common\\\\sockets.py'>,\n",
       " 'debugpy.server.api': <module 'debugpy.server.api' from 'f:\\\\DushyanthData\\\\PythonBook\\\\Python\\\\lib\\\\site-packages\\\\debugpy\\\\server\\\\api.py'>,\n",
       " 'ipykernel.debugger': <module 'ipykernel.debugger' from 'f:\\\\DushyanthData\\\\PythonBook\\\\Python\\\\lib\\\\site-packages\\\\ipykernel\\\\debugger.py'>,\n",
       " 'IPython.core.completerlib': <module 'IPython.core.completerlib' from 'f:\\\\DushyanthData\\\\PythonBook\\\\Python\\\\lib\\\\site-packages\\\\IPython\\\\core\\\\completerlib.py'>,\n",
       " 'vscode': <module 'vscode'>,\n",
       " 'pygments.styles.default': <module 'pygments.styles.default' from 'f:\\\\DushyanthData\\\\PythonBook\\\\Python\\\\lib\\\\site-packages\\\\pygments\\\\styles\\\\default.py'>}"
      ]
     },
     "execution_count": 16,
     "metadata": {},
     "output_type": "execute_result"
    }
   ],
   "source": [
    "# As we know sys.modules contains all the modules that are currently loaded in this python file\n",
    "\n",
    "import sys\n",
    "\n",
    "sys.modules\n",
    "\n",
    "# It actually contain most of the built-in modules"
   ]
  },
  {
   "cell_type": "code",
   "execution_count": null,
   "id": "ccd87aeb",
   "metadata": {},
   "outputs": [
    {
     "data": {
      "text/plain": [
       "True"
      ]
     },
     "execution_count": 17,
     "metadata": {},
     "output_type": "execute_result"
    }
   ],
   "source": [
    "# Lets see whether math and fractions modules are present in sys.modules or not\n",
    "\n",
    "'math' in sys.modules\n",
    "\n",
    "# From the output we can say math module is present in that sys.modules dictionary"
   ]
  },
  {
   "cell_type": "code",
   "execution_count": null,
   "id": "07fa1ea8",
   "metadata": {},
   "outputs": [
    {
     "data": {
      "text/plain": [
       "True"
      ]
     },
     "execution_count": 18,
     "metadata": {},
     "output_type": "execute_result"
    }
   ],
   "source": [
    "'fractions' in sys.modules\n",
    "\n",
    "# If python cannot find the module is sys.module then looks in sys.path which contains the path of all modules executed till now.\n"
   ]
  },
  {
   "cell_type": "code",
   "execution_count": 19,
   "id": "b3d83c27",
   "metadata": {},
   "outputs": [
    {
     "data": {
      "text/plain": [
       "['C:\\\\Users\\\\HP\\\\AppData\\\\Local\\\\Programs\\\\Python\\\\Python310\\\\python310.zip',\n",
       " 'C:\\\\Users\\\\HP\\\\AppData\\\\Local\\\\Programs\\\\Python\\\\Python310\\\\DLLs',\n",
       " 'C:\\\\Users\\\\HP\\\\AppData\\\\Local\\\\Programs\\\\Python\\\\Python310\\\\lib',\n",
       " 'C:\\\\Users\\\\HP\\\\AppData\\\\Local\\\\Programs\\\\Python\\\\Python310',\n",
       " 'f:\\\\DushyanthData\\\\PythonBook\\\\Python',\n",
       " '',\n",
       " 'f:\\\\DushyanthData\\\\PythonBook\\\\Python\\\\lib\\\\site-packages',\n",
       " 'f:\\\\DushyanthData\\\\PythonBook\\\\Python\\\\lib\\\\site-packages\\\\win32',\n",
       " 'f:\\\\DushyanthData\\\\PythonBook\\\\Python\\\\lib\\\\site-packages\\\\win32\\\\lib',\n",
       " 'f:\\\\DushyanthData\\\\PythonBook\\\\Python\\\\lib\\\\site-packages\\\\Pythonwin']"
      ]
     },
     "execution_count": 19,
     "metadata": {},
     "output_type": "execute_result"
    }
   ],
   "source": [
    "sys.path"
   ]
  },
  {
   "cell_type": "code",
   "execution_count": 20,
   "id": "d7b399c0",
   "metadata": {},
   "outputs": [
    {
     "data": {
      "text/plain": [
       "{'__name__': 'test',\n",
       " '__doc__': 'This is test module',\n",
       " '__package__': None,\n",
       " '__loader__': None,\n",
       " '__spec__': None}"
      ]
     },
     "execution_count": 20,
     "metadata": {},
     "output_type": "execute_result"
    }
   ],
   "source": [
    "# So now lets create a custom module by our own using ModuleType class in types\n",
    "\n",
    "from types import ModuleType\n",
    "\n",
    "mod = ModuleType('test', \"This is test module\") # Here i have provided module name and doc string of module\n",
    "\n",
    "# Now lets see the namespace of this module\n",
    "\n",
    "mod.__dict__"
   ]
  },
  {
   "cell_type": "code",
   "execution_count": 21,
   "id": "09b798ce",
   "metadata": {},
   "outputs": [],
   "source": [
    "# Now lets add some attributs and functions to this module\n",
    "\n",
    "mod.x = 10\n",
    "\n",
    "mod.hello = lambda x : \"Hello {0}\".format(x)\n",
    "\n"
   ]
  },
  {
   "cell_type": "code",
   "execution_count": 22,
   "id": "15a1229b",
   "metadata": {},
   "outputs": [
    {
     "data": {
      "text/plain": [
       "{'__name__': 'test',\n",
       " '__doc__': 'This is test module',\n",
       " '__package__': None,\n",
       " '__loader__': None,\n",
       " '__spec__': None,\n",
       " 'x': 10,\n",
       " 'hello': <function __main__.<lambda>(x)>}"
      ]
     },
     "execution_count": 22,
     "metadata": {},
     "output_type": "execute_result"
    }
   ],
   "source": [
    "mod.__dict__"
   ]
  },
  {
   "cell_type": "code",
   "execution_count": 23,
   "id": "35606884",
   "metadata": {},
   "outputs": [
    {
     "data": {
      "text/plain": [
       "'Hello Sai'"
      ]
     },
     "execution_count": 23,
     "metadata": {},
     "output_type": "execute_result"
    }
   ],
   "source": [
    "# Now lets execute the hello function\n",
    "\n",
    "mod.hello(\"Sai\")"
   ]
  },
  {
   "cell_type": "markdown",
   "id": "8bf70e73",
   "metadata": {},
   "source": [
    "## How does python importing modules\n",
    "\n",
    "- When we run the import statement, python actually execute this import statement at run time i.e while your code is actually running. This is different from traditional compiled languages such as C where modules are compiled and linked at compile time.\n",
    "\n",
    "- At a high level how python imports a module from a file is :\n",
    "\n",
    "  1. It first checks the sys.module cache to see if the module has already been imported - if so it simply uses the reference there.\n",
    "  2. If module is not present in sys.module then it checks for the path of the module in sys.path and then it loads the source code from that module path.\n",
    "  3. After this it create a new module object (types.ModuleType) with the source code.\n",
    "  4. Once new module object is created, now it adds an entry to sys.modules with name as key and the newly created object as value.\n",
    "  5. Now it compiles and executes the source code (which is module object.)"
   ]
  },
  {
   "cell_type": "code",
   "execution_count": 26,
   "id": "8a4ea21d",
   "metadata": {},
   "outputs": [],
   "source": [
    "# As we have said above pyhton first looks for the module in module.sys wen it encounters import statement. Let see this with an example\n",
    "\n",
    "# Now here iam defining a custom module and iam keeping it in the sys.module and then iam importing it using import statement.\n",
    "\n",
    "# As we know if it is builtin then python will fetch it atleast by using sys.path if it not available in sys.module.\n",
    "\n",
    "# Now here we are just defining the module by our own. And we are gonna check whether python first looks in sys.module or sys.path for importing the module.\n",
    "\n",
    "from types import ModuleType\n",
    "import sys\n",
    "\n",
    "mod = ModuleType(\"test\", \"This is test module\")\n",
    "\n",
    "mod.hello = lambda x : \"Hello {0}\".format(x)\n",
    "\n",
    "sys.modules['test'] = mod"
   ]
  },
  {
   "cell_type": "code",
   "execution_count": null,
   "id": "c38f5f26",
   "metadata": {},
   "outputs": [
    {
     "data": {
      "text/plain": [
       "'Hello Sai'"
      ]
     },
     "execution_count": 27,
     "metadata": {},
     "output_type": "execute_result"
    }
   ],
   "source": [
    "# Here i have just kept test module in sys.modules not in sys.path. If python successfully imports the module then we can guarentee that python first looks in sys.module for importing a module\n",
    "\n",
    "import test\n",
    "test.hello(\"Sai\")\n",
    "\n",
    "# Here we are successfully imported the module. So python first checks in sys.modules for importing a module. If module is not present in the sys.modules then it looks it in sys.path"
   ]
  },
  {
   "cell_type": "markdown",
   "id": "b9c6596c",
   "metadata": {},
   "source": [
    "**Note** : Here the detailed implementation of a how a module gets imported in python - [How_Python_Imports_Modules.zip](./_static/How_Python_Imports_Modules.zip)"
   ]
  },
  {
   "cell_type": "markdown",
   "id": "ee4927ae",
   "metadata": {},
   "source": [
    "## Import and Importlib\n",
    "\n",
    "- As we know the how python importing a module and we also implement our own importer which is in above zip file. But the main part in importing a module if where to look for a module, I mean how python is looking for a module. \n",
    "\n",
    "- Generally python has finders and loaders which generally finds and loads the module (finder + loader == importer). If you run `sys.meta_path`, you will get the importers or finder, loaders defined in current version of python.\n",
    "\n",
    "- When python encounter the import statement then it first ask each finder to look for the module. if first finder says no then goes with next finder. Like this it asks each finder. If any finder knows that module then it actually returns a `module spec` which contains the module name, loader (how to load the module and the path of the module).\n",
    "\n",
    "- By using that module spec it actually loads the source code of the module and creates the module object and then it compiles and executes that module code and stores it in sys.modules and return that module object. This will happen generally when you are importing a module.\n",
    "\n",
    "- To import a module we generally use `import` statement. But python has one more module called `importlib` which contains `import_module` method to import a module. But here we can use some code for importing a module. Suppose if store the module name in a variable (ex : var = 'math') and run `import var` then python would raise error that var module is not defined. But we can import that one using `importlib` module like `importlib.import_module(var)` which returns the module object of math and we need to store it in some varible to use it in following code. "
   ]
  },
  {
   "cell_type": "code",
   "execution_count": null,
   "id": "b96b7382",
   "metadata": {},
   "outputs": [
    {
     "data": {
      "text/plain": [
       "<module 'importlib' from 'C:\\\\Users\\\\HP\\\\AppData\\\\Local\\\\Programs\\\\Python\\\\Python310\\\\lib\\\\importlib\\\\__init__.py'>"
      ]
     },
     "execution_count": 28,
     "metadata": {},
     "output_type": "execute_result"
    }
   ],
   "source": [
    "# First lets see how to import a module using importlib\n",
    "\n",
    "import importlib\n",
    "\n",
    "importlib\n",
    "\n",
    "# From the output we can see importlib is module located in below path"
   ]
  },
  {
   "cell_type": "code",
   "execution_count": 29,
   "id": "a8902e82",
   "metadata": {},
   "outputs": [
    {
     "data": {
      "text/plain": [
       "{'__name__': 'importlib',\n",
       " '__doc__': 'A pure Python implementation of import.',\n",
       " '__package__': 'importlib',\n",
       " '__loader__': <_frozen_importlib_external.SourceFileLoader at 0x137c93cf250>,\n",
       " '__spec__': ModuleSpec(name='importlib', loader=<_frozen_importlib_external.SourceFileLoader object at 0x00000137C93CF250>, origin='C:\\\\Users\\\\HP\\\\AppData\\\\Local\\\\Programs\\\\Python\\\\Python310\\\\lib\\\\importlib\\\\__init__.py', submodule_search_locations=['C:\\\\Users\\\\HP\\\\AppData\\\\Local\\\\Programs\\\\Python\\\\Python310\\\\lib\\\\importlib']),\n",
       " '__path__': ['C:\\\\Users\\\\HP\\\\AppData\\\\Local\\\\Programs\\\\Python\\\\Python310\\\\lib\\\\importlib'],\n",
       " '__file__': 'C:\\\\Users\\\\HP\\\\AppData\\\\Local\\\\Programs\\\\Python\\\\Python310\\\\lib\\\\importlib\\\\__init__.py',\n",
       " '__cached__': 'C:\\\\Users\\\\HP\\\\AppData\\\\Local\\\\Programs\\\\Python\\\\Python310\\\\lib\\\\importlib\\\\__pycache__\\\\__init__.cpython-310.pyc',\n",
       " '__builtins__': {'__name__': 'builtins',\n",
       "  '__doc__': \"Built-in functions, exceptions, and other objects.\\n\\nNoteworthy: None is the `nil' object; Ellipsis represents `...' in slices.\",\n",
       "  '__package__': '',\n",
       "  '__loader__': _frozen_importlib.BuiltinImporter,\n",
       "  '__spec__': ModuleSpec(name='builtins', loader=<class '_frozen_importlib.BuiltinImporter'>, origin='built-in'),\n",
       "  '__build_class__': <function __build_class__>,\n",
       "  '__import__': <function __import__>,\n",
       "  'abs': <function abs(x, /)>,\n",
       "  'all': <function all(iterable, /)>,\n",
       "  'any': <function any(iterable, /)>,\n",
       "  'ascii': <function ascii(obj, /)>,\n",
       "  'bin': <function bin(number, /)>,\n",
       "  'breakpoint': <function breakpoint>,\n",
       "  'callable': <function callable(obj, /)>,\n",
       "  'chr': <function chr(i, /)>,\n",
       "  'compile': <function compile(source, filename, mode, flags=0, dont_inherit=False, optimize=-1, *, _feature_version=-1)>,\n",
       "  'delattr': <function delattr(obj, name, /)>,\n",
       "  'dir': <function dir>,\n",
       "  'divmod': <function divmod(x, y, /)>,\n",
       "  'eval': <function eval(source, globals=None, locals=None, /)>,\n",
       "  'exec': <function exec(source, globals=None, locals=None, /)>,\n",
       "  'format': <function format(value, format_spec='', /)>,\n",
       "  'getattr': <function getattr>,\n",
       "  'globals': <function globals()>,\n",
       "  'hasattr': <function hasattr(obj, name, /)>,\n",
       "  'hash': <function hash(obj, /)>,\n",
       "  'hex': <function hex(number, /)>,\n",
       "  'id': <function id(obj, /)>,\n",
       "  'input': <bound method Kernel.raw_input of <ipykernel.ipkernel.IPythonKernel object at 0x00000137CD6BB520>>,\n",
       "  'isinstance': <function isinstance(obj, class_or_tuple, /)>,\n",
       "  'issubclass': <function issubclass(cls, class_or_tuple, /)>,\n",
       "  'iter': <function iter>,\n",
       "  'aiter': <function aiter(async_iterable, /)>,\n",
       "  'len': <function len(obj, /)>,\n",
       "  'locals': <function locals()>,\n",
       "  'max': <function max>,\n",
       "  'min': <function min>,\n",
       "  'next': <function next>,\n",
       "  'anext': <function anext>,\n",
       "  'oct': <function oct(number, /)>,\n",
       "  'ord': <function ord(c, /)>,\n",
       "  'pow': <function pow(base, exp, mod=None)>,\n",
       "  'print': <function print>,\n",
       "  'repr': <function repr(obj, /)>,\n",
       "  'round': <function round(number, ndigits=None)>,\n",
       "  'setattr': <function setattr(obj, name, value, /)>,\n",
       "  'sorted': <function sorted(iterable, /, *, key=None, reverse=False)>,\n",
       "  'sum': <function sum(iterable, /, start=0)>,\n",
       "  'vars': <function vars>,\n",
       "  'None': None,\n",
       "  'Ellipsis': Ellipsis,\n",
       "  'NotImplemented': NotImplemented,\n",
       "  'False': False,\n",
       "  'True': True,\n",
       "  'bool': bool,\n",
       "  'memoryview': memoryview,\n",
       "  'bytearray': bytearray,\n",
       "  'bytes': bytes,\n",
       "  'classmethod': classmethod,\n",
       "  'complex': complex,\n",
       "  'dict': dict,\n",
       "  'enumerate': enumerate,\n",
       "  'filter': filter,\n",
       "  'float': float,\n",
       "  'frozenset': frozenset,\n",
       "  'property': property,\n",
       "  'int': int,\n",
       "  'list': list,\n",
       "  'map': map,\n",
       "  'object': object,\n",
       "  'range': range,\n",
       "  'reversed': reversed,\n",
       "  'set': set,\n",
       "  'slice': slice,\n",
       "  'staticmethod': staticmethod,\n",
       "  'str': str,\n",
       "  'super': super,\n",
       "  'tuple': tuple,\n",
       "  'type': type,\n",
       "  'zip': zip,\n",
       "  '__debug__': True,\n",
       "  'BaseException': BaseException,\n",
       "  'Exception': Exception,\n",
       "  'TypeError': TypeError,\n",
       "  'StopAsyncIteration': StopAsyncIteration,\n",
       "  'StopIteration': StopIteration,\n",
       "  'GeneratorExit': GeneratorExit,\n",
       "  'SystemExit': SystemExit,\n",
       "  'KeyboardInterrupt': KeyboardInterrupt,\n",
       "  'ImportError': ImportError,\n",
       "  'ModuleNotFoundError': ModuleNotFoundError,\n",
       "  'OSError': OSError,\n",
       "  'EnvironmentError': OSError,\n",
       "  'IOError': OSError,\n",
       "  'WindowsError': OSError,\n",
       "  'EOFError': EOFError,\n",
       "  'RuntimeError': RuntimeError,\n",
       "  'RecursionError': RecursionError,\n",
       "  'NotImplementedError': NotImplementedError,\n",
       "  'NameError': NameError,\n",
       "  'UnboundLocalError': UnboundLocalError,\n",
       "  'AttributeError': AttributeError,\n",
       "  'SyntaxError': SyntaxError,\n",
       "  'IndentationError': IndentationError,\n",
       "  'TabError': TabError,\n",
       "  'LookupError': LookupError,\n",
       "  'IndexError': IndexError,\n",
       "  'KeyError': KeyError,\n",
       "  'ValueError': ValueError,\n",
       "  'UnicodeError': UnicodeError,\n",
       "  'UnicodeEncodeError': UnicodeEncodeError,\n",
       "  'UnicodeDecodeError': UnicodeDecodeError,\n",
       "  'UnicodeTranslateError': UnicodeTranslateError,\n",
       "  'AssertionError': AssertionError,\n",
       "  'ArithmeticError': ArithmeticError,\n",
       "  'FloatingPointError': FloatingPointError,\n",
       "  'OverflowError': OverflowError,\n",
       "  'ZeroDivisionError': ZeroDivisionError,\n",
       "  'SystemError': SystemError,\n",
       "  'ReferenceError': ReferenceError,\n",
       "  'MemoryError': MemoryError,\n",
       "  'BufferError': BufferError,\n",
       "  'Warning': Warning,\n",
       "  'UserWarning': UserWarning,\n",
       "  'EncodingWarning': EncodingWarning,\n",
       "  'DeprecationWarning': DeprecationWarning,\n",
       "  'PendingDeprecationWarning': PendingDeprecationWarning,\n",
       "  'SyntaxWarning': SyntaxWarning,\n",
       "  'RuntimeWarning': RuntimeWarning,\n",
       "  'FutureWarning': FutureWarning,\n",
       "  'ImportWarning': ImportWarning,\n",
       "  'UnicodeWarning': UnicodeWarning,\n",
       "  'BytesWarning': BytesWarning,\n",
       "  'ResourceWarning': ResourceWarning,\n",
       "  'ConnectionError': ConnectionError,\n",
       "  'BlockingIOError': BlockingIOError,\n",
       "  'BrokenPipeError': BrokenPipeError,\n",
       "  'ChildProcessError': ChildProcessError,\n",
       "  'ConnectionAbortedError': ConnectionAbortedError,\n",
       "  'ConnectionRefusedError': ConnectionRefusedError,\n",
       "  'ConnectionResetError': ConnectionResetError,\n",
       "  'FileExistsError': FileExistsError,\n",
       "  'FileNotFoundError': FileNotFoundError,\n",
       "  'IsADirectoryError': IsADirectoryError,\n",
       "  'NotADirectoryError': NotADirectoryError,\n",
       "  'InterruptedError': InterruptedError,\n",
       "  'PermissionError': PermissionError,\n",
       "  'ProcessLookupError': ProcessLookupError,\n",
       "  'TimeoutError': TimeoutError,\n",
       "  'open': <function io.open(file, mode='r', buffering=-1, encoding=None, errors=None, newline=None, closefd=True, opener=None)>,\n",
       "  'copyright': Copyright (c) 2001-2021 Python Software Foundation.\n",
       "  All Rights Reserved.\n",
       "  \n",
       "  Copyright (c) 2000 BeOpen.com.\n",
       "  All Rights Reserved.\n",
       "  \n",
       "  Copyright (c) 1995-2001 Corporation for National Research Initiatives.\n",
       "  All Rights Reserved.\n",
       "  \n",
       "  Copyright (c) 1991-1995 Stichting Mathematisch Centrum, Amsterdam.\n",
       "  All Rights Reserved.,\n",
       "  'credits':     Thanks to CWI, CNRI, BeOpen.com, Zope Corporation and a cast of thousands\n",
       "      for supporting Python development.  See www.python.org for more information.,\n",
       "  'license': Type license() to see the full license text,\n",
       "  'help': Type help() for interactive help, or help(object) for help about object.,\n",
       "  'execfile': <function _pydev_bundle._pydev_execfile.execfile(file, glob=None, loc=None)>,\n",
       "  'runfile': <function _pydev_bundle.pydev_umd.runfile(filename, args=None, wdir=None, namespace=None)>,\n",
       "  '__IPYTHON__': True,\n",
       "  'display': <function IPython.core.display_functions.display(*objs, include=None, exclude=None, metadata=None, transient=None, display_id=None, raw=False, clear=False, **kwargs)>,\n",
       "  'get_ipython': <bound method InteractiveShell.get_ipython of <ipykernel.zmqshell.ZMQInteractiveShell object at 0x00000137CDADF940>>},\n",
       " '__all__': ['__import__', 'import_module', 'invalidate_caches', 'reload'],\n",
       " '_imp': <module '_imp' (built-in)>,\n",
       " 'sys': <module 'sys' (built-in)>,\n",
       " '_bootstrap': <module '_frozen_importlib' (frozen)>,\n",
       " '_bootstrap_external': <module '_frozen_importlib_external' (frozen)>,\n",
       " '_pack_uint32': <function _frozen_importlib_external._pack_uint32(x)>,\n",
       " '_unpack_uint32': <function _frozen_importlib_external._unpack_uint32(data)>,\n",
       " 'warnings': <module 'warnings' from 'C:\\\\Users\\\\HP\\\\AppData\\\\Local\\\\Programs\\\\Python\\\\Python310\\\\lib\\\\warnings.py'>,\n",
       " '__import__': <function _frozen_importlib.__import__(name, globals=None, locals=None, fromlist=(), level=0)>,\n",
       " 'invalidate_caches': <function importlib.invalidate_caches()>,\n",
       " 'find_loader': <function importlib.find_loader(name, path=None)>,\n",
       " 'import_module': <function importlib.import_module(name, package=None)>,\n",
       " '_RELOADING': {},\n",
       " 'reload': <function importlib.reload(module)>,\n",
       " '_abc': <module 'importlib._abc' from 'C:\\\\Users\\\\HP\\\\AppData\\\\Local\\\\Programs\\\\Python\\\\Python310\\\\lib\\\\importlib\\\\_abc.py'>,\n",
       " 'util': <module 'importlib.util' from 'C:\\\\Users\\\\HP\\\\AppData\\\\Local\\\\Programs\\\\Python\\\\Python310\\\\lib\\\\importlib\\\\util.py'>,\n",
       " 'machinery': <module 'importlib.machinery' from 'C:\\\\Users\\\\HP\\\\AppData\\\\Local\\\\Programs\\\\Python\\\\Python310\\\\lib\\\\importlib\\\\machinery.py'>,\n",
       " 'abc': <module 'importlib.abc' from 'C:\\\\Users\\\\HP\\\\AppData\\\\Local\\\\Programs\\\\Python\\\\Python310\\\\lib\\\\importlib\\\\abc.py'>,\n",
       " 'metadata': <module 'importlib.metadata' from 'C:\\\\Users\\\\HP\\\\AppData\\\\Local\\\\Programs\\\\Python\\\\Python310\\\\lib\\\\importlib\\\\metadata\\\\__init__.py'>}"
      ]
     },
     "execution_count": 29,
     "metadata": {},
     "output_type": "execute_result"
    }
   ],
   "source": [
    "importlib.__dict__"
   ]
  },
  {
   "cell_type": "code",
   "execution_count": null,
   "id": "a4a55f4b",
   "metadata": {},
   "outputs": [
    {
     "ename": "ModuleNotFoundError",
     "evalue": "No module named 'mod_name'",
     "output_type": "error",
     "traceback": [
      "\u001b[1;31m---------------------------------------------------------------------------\u001b[0m",
      "\u001b[1;31mModuleNotFoundError\u001b[0m                       Traceback (most recent call last)",
      "Cell \u001b[1;32mIn[30], line 5\u001b[0m\n\u001b[0;32m      1\u001b[0m mod_name \u001b[38;5;241m=\u001b[39m \u001b[38;5;124m\"\u001b[39m\u001b[38;5;124mmath\u001b[39m\u001b[38;5;124m\"\u001b[39m\n\u001b[0;32m      3\u001b[0m \u001b[38;5;66;03m# Lets import math module using traditional import\u001b[39;00m\n\u001b[1;32m----> 5\u001b[0m \u001b[38;5;28;01mimport\u001b[39;00m\u001b[38;5;250m \u001b[39m\u001b[38;5;21;01mmod_name\u001b[39;00m\n",
      "\u001b[1;31mModuleNotFoundError\u001b[0m: No module named 'mod_name'"
     ]
    }
   ],
   "source": [
    "mod_name = \"math\"\n",
    "\n",
    "# Lets import math module using traditional import\n",
    "\n",
    "import mod_name\n",
    "\n",
    "# Here we cans ee, we got an error that module mod_name is not found"
   ]
  },
  {
   "cell_type": "code",
   "execution_count": 33,
   "id": "50315afc",
   "metadata": {},
   "outputs": [
    {
     "data": {
      "text/plain": [
       "<module 'math' (built-in)>"
      ]
     },
     "execution_count": 33,
     "metadata": {},
     "output_type": "execute_result"
    }
   ],
   "source": [
    "# But we can import module present in mod_name by using importlib\n",
    "\n",
    "math2 = importlib.import_module(mod_name)\n",
    "math2\n",
    "\n",
    "# From the output, we can say it is imported the math module"
   ]
  },
  {
   "cell_type": "code",
   "execution_count": null,
   "id": "ee916f5a",
   "metadata": {},
   "outputs": [
    {
     "data": {
      "text/plain": [
       "1.4142135623730951"
      ]
     },
     "execution_count": 34,
     "metadata": {},
     "output_type": "execute_result"
    }
   ],
   "source": [
    "# Now lets use the module in math2 variable\n",
    "\n",
    "math2.sqrt(2)"
   ]
  },
  {
   "cell_type": "code",
   "execution_count": 1,
   "id": "21556662",
   "metadata": {},
   "outputs": [
    {
     "data": {
      "text/plain": [
       "[_frozen_importlib.BuiltinImporter,\n",
       " _frozen_importlib.FrozenImporter,\n",
       " _frozen_importlib_external.PathFinder,\n",
       " <six._SixMetaPathImporter at 0x210ab9e86a0>]"
      ]
     },
     "execution_count": 1,
     "metadata": {},
     "output_type": "execute_result"
    }
   ],
   "source": [
    "# Now lets see the finders and loaders (or importers) defined in python\n",
    "\n",
    "import sys\n",
    "\n",
    "sys.meta_path\n",
    "\n",
    "# Here we can see the predefined finders and importers in python"
   ]
  },
  {
   "cell_type": "code",
   "execution_count": null,
   "id": "25431cbd",
   "metadata": {},
   "outputs": [
    {
     "data": {
      "text/plain": [
       "ModuleSpec(name='fractions', loader=<_frozen_importlib_external.SourceFileLoader object at 0x00000137CC02C3A0>, origin='C:\\\\Users\\\\HP\\\\AppData\\\\Local\\\\Programs\\\\Python\\\\Python310\\\\lib\\\\fractions.py')"
      ]
     },
     "execution_count": 36,
     "metadata": {},
     "output_type": "execute_result"
    }
   ],
   "source": [
    "# We can write our own finder and loaders to load the modules. If we can write our own finders and loaders then modules need not to be in files.\n",
    "# They can be in databases or any other objects. Based on the location of the modules, we need to design the finders and loaders.\n",
    "\n",
    "# As we know if finders replies python that i know the module you are searching for, then they won't return module itself, instead they return \n",
    "# the loaders to load the module and module location also. All these information written in module spec and that finder actually returns to python\n",
    "\n",
    "frac = importlib.import_module('fractions')\n",
    "\n",
    "frac.__spec__\n",
    "\n",
    "# This output shows the module spec returned by finder"
   ]
  },
  {
   "cell_type": "code",
   "execution_count": 40,
   "id": "f9d8fa7b",
   "metadata": {},
   "outputs": [],
   "source": [
    "# Now lets write our own module and see what finder or importer python actually uses for it to import the module\n",
    "\n",
    "with open('module1.py', 'w') as f:\n",
    "\n",
    "    f.write(\"print('Module1.py Running')\\n\")\n",
    "    f.write(\"\\nx = 5\")"
   ]
  },
  {
   "cell_type": "code",
   "execution_count": null,
   "id": "b967d7c5",
   "metadata": {},
   "outputs": [
    {
     "name": "stdout",
     "output_type": "stream",
     "text": [
      "Module1.py Running\n"
     ]
    }
   ],
   "source": [
    "# Now lets import that module and check the module spec of it\n",
    "\n",
    "# As we know python compile and executes the module before loading. Since module1 has print statement we got output of that print statement here.\n",
    "\n",
    "mod1 = importlib.import_module('module1')\n"
   ]
  },
  {
   "cell_type": "code",
   "execution_count": 42,
   "id": "6da08781",
   "metadata": {},
   "outputs": [
    {
     "data": {
      "text/plain": [
       "<module 'module1' from 'f:\\\\DushyanthData\\\\PythonBook\\\\pythonnotebook\\\\module1.py'>"
      ]
     },
     "execution_count": 42,
     "metadata": {},
     "output_type": "execute_result"
    }
   ],
   "source": [
    "mod1"
   ]
  },
  {
   "cell_type": "code",
   "execution_count": null,
   "id": "25d73a4a",
   "metadata": {},
   "outputs": [
    {
     "data": {
      "text/plain": [
       "ModuleSpec(name='module1', loader=<_frozen_importlib_external.SourceFileLoader object at 0x00000137CEEB5120>, origin='f:\\\\DushyanthData\\\\PythonBook\\\\pythonnotebook\\\\module1.py')"
      ]
     },
     "execution_count": 43,
     "metadata": {},
     "output_type": "execute_result"
    }
   ],
   "source": [
    "mod1.__spec__\n",
    "\n",
    "# Here we can see the loader to import the module"
   ]
  },
  {
   "cell_type": "code",
   "execution_count": 2,
   "id": "2de6aad5",
   "metadata": {},
   "outputs": [
    {
     "data": {
      "text/plain": [
       "'C:\\\\Users\\\\HP'"
      ]
     },
     "execution_count": 2,
     "metadata": {},
     "output_type": "execute_result"
    }
   ],
   "source": [
    "# Since module is in same directory, python easily find the module and imported it/ Now lets see what python will do if it is not in current directory\n",
    "\n",
    "import os\n",
    "\n",
    "file_path = os.environ.get(\"USERPROFILE\")\n",
    "\n",
    "file_path\n"
   ]
  },
  {
   "cell_type": "code",
   "execution_count": 3,
   "id": "9d85ca44",
   "metadata": {},
   "outputs": [],
   "source": [
    "file_abs_path = os.path.join(file_path,'module2.py')\n",
    "\n",
    "with open(file_abs_path, 'w') as f:\n",
    "\n",
    "    f.write(\"print('Module2.py Running')\\n\")\n",
    "    f.write(\"\\nx = 5\")"
   ]
  },
  {
   "cell_type": "code",
   "execution_count": 4,
   "id": "c11b103d",
   "metadata": {},
   "outputs": [
    {
     "ename": "ModuleNotFoundError",
     "evalue": "No module named 'module2'",
     "output_type": "error",
     "traceback": [
      "\u001b[1;31m---------------------------------------------------------------------------\u001b[0m",
      "\u001b[1;31mModuleNotFoundError\u001b[0m                       Traceback (most recent call last)",
      "Cell \u001b[1;32mIn[4], line 3\u001b[0m\n\u001b[0;32m      1\u001b[0m \u001b[38;5;66;03m# Now lets import the module2\u001b[39;00m\n\u001b[1;32m----> 3\u001b[0m \u001b[38;5;28;01mimport\u001b[39;00m\u001b[38;5;250m \u001b[39m\u001b[38;5;21;01mmodule2\u001b[39;00m\n",
      "\u001b[1;31mModuleNotFoundError\u001b[0m: No module named 'module2'"
     ]
    }
   ],
   "source": [
    "# Now lets import the module2\n",
    "\n",
    "import module2\n"
   ]
  },
  {
   "cell_type": "code",
   "execution_count": 5,
   "id": "433d5412",
   "metadata": {},
   "outputs": [
    {
     "data": {
      "text/plain": [
       "['C:\\\\Users\\\\HP\\\\AppData\\\\Local\\\\Programs\\\\Python\\\\Python310\\\\python310.zip',\n",
       " 'C:\\\\Users\\\\HP\\\\AppData\\\\Local\\\\Programs\\\\Python\\\\Python310\\\\DLLs',\n",
       " 'C:\\\\Users\\\\HP\\\\AppData\\\\Local\\\\Programs\\\\Python\\\\Python310\\\\lib',\n",
       " 'C:\\\\Users\\\\HP\\\\AppData\\\\Local\\\\Programs\\\\Python\\\\Python310',\n",
       " 'f:\\\\DushyanthData\\\\PythonBook\\\\Python',\n",
       " '',\n",
       " 'f:\\\\DushyanthData\\\\PythonBook\\\\Python\\\\lib\\\\site-packages',\n",
       " 'f:\\\\DushyanthData\\\\PythonBook\\\\Python\\\\lib\\\\site-packages\\\\win32',\n",
       " 'f:\\\\DushyanthData\\\\PythonBook\\\\Python\\\\lib\\\\site-packages\\\\win32\\\\lib',\n",
       " 'f:\\\\DushyanthData\\\\PythonBook\\\\Python\\\\lib\\\\site-packages\\\\Pythonwin']"
      ]
     },
     "execution_count": 5,
     "metadata": {},
     "output_type": "execute_result"
    }
   ],
   "source": [
    "sys.path"
   ]
  },
  {
   "cell_type": "code",
   "execution_count": 6,
   "id": "7a9eec76",
   "metadata": {},
   "outputs": [
    {
     "data": {
      "text/plain": [
       "False"
      ]
     },
     "execution_count": 6,
     "metadata": {},
     "output_type": "execute_result"
    }
   ],
   "source": [
    "# Here if you see python cannot able to find the module2. This is beacuse the path of the file is not in sys.path\n",
    "\n",
    "file_abs_path in sys.path\n"
   ]
  },
  {
   "cell_type": "code",
   "execution_count": 7,
   "id": "0c490147",
   "metadata": {},
   "outputs": [
    {
     "data": {
      "text/plain": [
       "['C:\\\\Users\\\\HP\\\\AppData\\\\Local\\\\Programs\\\\Python\\\\Python310\\\\python310.zip',\n",
       " 'C:\\\\Users\\\\HP\\\\AppData\\\\Local\\\\Programs\\\\Python\\\\Python310\\\\DLLs',\n",
       " 'C:\\\\Users\\\\HP\\\\AppData\\\\Local\\\\Programs\\\\Python\\\\Python310\\\\lib',\n",
       " 'C:\\\\Users\\\\HP\\\\AppData\\\\Local\\\\Programs\\\\Python\\\\Python310',\n",
       " 'f:\\\\DushyanthData\\\\PythonBook\\\\Python',\n",
       " '',\n",
       " 'f:\\\\DushyanthData\\\\PythonBook\\\\Python\\\\lib\\\\site-packages',\n",
       " 'f:\\\\DushyanthData\\\\PythonBook\\\\Python\\\\lib\\\\site-packages\\\\win32',\n",
       " 'f:\\\\DushyanthData\\\\PythonBook\\\\Python\\\\lib\\\\site-packages\\\\win32\\\\lib',\n",
       " 'f:\\\\DushyanthData\\\\PythonBook\\\\Python\\\\lib\\\\site-packages\\\\Pythonwin',\n",
       " 'C:\\\\Users\\\\HP']"
      ]
     },
     "execution_count": 7,
     "metadata": {},
     "output_type": "execute_result"
    }
   ],
   "source": [
    "# We can see the path of module2 is not in sys.path, so lets append the path\n",
    "\n",
    "# You can say module1 path is also not there. But '' represents current directory. So we don't need additional path for it.\n",
    "\n",
    "# Lets append the module2 path to sys.path list\n",
    "\n",
    "sys.path.append(file_path)\n",
    "\n",
    "sys.path"
   ]
  },
  {
   "cell_type": "code",
   "execution_count": 8,
   "id": "ab034a03",
   "metadata": {},
   "outputs": [
    {
     "name": "stdout",
     "output_type": "stream",
     "text": [
      "Module2.py Running\n"
     ]
    }
   ],
   "source": [
    "# Here we can see 'C:\\\\Users\\\\HP' path added to sys.path\n",
    "\n",
    "# Now lets import the module2\n",
    "\n",
    "import module2"
   ]
  },
  {
   "cell_type": "code",
   "execution_count": null,
   "id": "0c8cbd7c",
   "metadata": {},
   "outputs": [
    {
     "data": {
      "text/plain": [
       "5"
      ]
     },
     "execution_count": 9,
     "metadata": {},
     "output_type": "execute_result"
    }
   ],
   "source": [
    "module2.x\n",
    "\n",
    "# This is how python import a module using finders and loaders. And if you wanna import modules using code we can importlib module."
   ]
  },
  {
   "cell_type": "markdown",
   "id": "d28e8b79",
   "metadata": {},
   "source": [
    "## Import Variants and Misconceptions\n",
    "\n",
    "- For all the examples below consider we are in `module1.py`.\n",
    "\n",
    "  **import math** : When python encounters this import statement, it first looks whether math is present in sys.modules. If not it would load and insert it into sys.modules (like sys.modules['math'] = <module math (builtin)>). After this, it adds the math symbol into modules1's global namespace referencing the same object (`math <module math (builtin)>`). If math symbol already exists in the module1's namespace it just replaces the reference.\n",
    "\n",
    "  **import math as r_math** : When python encounters this import statement, it first looks whether math is present in sys.modules. If not it would load and insert it into sys.modules (like sys.modules['math'] = <module math (builtin)>). After this, it adds the `r_math` symbol into modules1's global namespace referencing the same object (`r_math <module math (builtin)>`). If `r_math` symbol already exists in the module1's namespace it just replaces the reference. Here r_math symbol present in module1's global namespace not math.\n",
    "\n",
    "  **from math import sqrt** : When python encounters this import statement, it first looks whether math is present in sys.modules. If not it would load and insert it into sys.modules (like sys.modules['math'] = <module math (builtin)>). After this, it adds the `sqrt` symbol into modules1's global namespace referencing the `math.sqrt` object (`sqrt <math.sqrt object>`). If `sqrt` symbol already exists in the module1's namespace it just replaces the reference. Here sqrt symbol present in module1's global namespace not math.\n",
    "\n",
    "  **from math import sqrt as r_sqrt** :  When python encounters this import statement, it first looks whether math is present in sys.modules. If not it would load and insert it into sys.modules (like sys.modules['math'] = <module math (builtin)>). After this, it adds the `r_sqrt` symbol into modules1's global namespace referencing the `math.sqrt` object (`r_sqrt <math.sqrt object>`). If `r_sqrt` symbol already exists in the module1's namespace it just replaces the reference. Here r_sqrt symbol present in module1's global namespace not math.\n",
    "\n",
    "  <b>from math import * </b>: When python encounter this import statement, it first looks whether math is present in sys.modules. If not it would load and insert it into sys.modules (like sys.modules['math'] = <module math (builtin)>). After this, it adds all the symbols defined in math module to module1's global namespace along with their objects. If any symbol already present in global namespace , then it replaces their references. Here all the symbols defined in math module is present not math symbol.\n",
    "\n",
    "- In all these cases, `math` module was loaded into memory and referenced in sys.modules. Running `from math import sqrt` do not partially load math module. It completley loads math module in memory and these import statements just effecting the what symbols needs to be placed in module's1 namespace.\n",
    "\n",
    "- But we might ran over some issues if we use `import *` method. Suppose we have imported all the symbols of cmath into our modules namespace by using this syntax `from cmath import *`.  Now some where in our module, we have run `from math import *`. Actually we doesn't somany symbols are common for cmath and math module. So when you imported all the symbols form math module , the symbols which are common in cmath and math get replaced with math module objects. So now we might get some bugs while running code after this. So we need to be careful when we are importing symbols defined in module otherwise they might overwrite the functionalities of previouly imported objects.\n",
    "\n",
    "- When it comes to efficiency of import statements, all import statements are approximately doing same amount work. Suppose consider these two import statements `import math`, `from math import sqrt`. When we run `math.sqrt(2)` and `sqrt(2)` there is minute difference in execution time. In first case python first looks for math symbol in global namespace and then looks for sqrt function in math's namespace. So it needs to perform to lookups. But in second case it just need to do one lookup i.e whether sqrt present in global namespace of module or not. But when we are importing sqrt we are performing an extra lookup in math namespace. So almost both execution time is same."
   ]
  },
  {
   "cell_type": "code",
   "execution_count": 2,
   "id": "8de71140",
   "metadata": {},
   "outputs": [
    {
     "data": {
      "text/plain": [
       "True"
      ]
     },
     "execution_count": 2,
     "metadata": {},
     "output_type": "execute_result"
    }
   ],
   "source": [
    "# Now lets see import variants and thier efficiency in practice\n",
    "\n",
    "import math, sys\n",
    "\n",
    "# Now we have imported math now lets see whethet math is in sys.module and globals or not\n",
    "\n",
    "'math' in sys.modules"
   ]
  },
  {
   "cell_type": "code",
   "execution_count": 3,
   "id": "86b5a979",
   "metadata": {},
   "outputs": [
    {
     "data": {
      "text/plain": [
       "True"
      ]
     },
     "execution_count": 3,
     "metadata": {},
     "output_type": "execute_result"
    }
   ],
   "source": [
    "'math' in globals()"
   ]
  },
  {
   "cell_type": "code",
   "execution_count": 5,
   "id": "8ee3f31e",
   "metadata": {},
   "outputs": [],
   "source": [
    "# Now lets remove math from globals and sys.module\n",
    "\n",
    "del sys.modules['math']\n",
    "del globals()['math']"
   ]
  },
  {
   "cell_type": "code",
   "execution_count": 6,
   "id": "b4550f96",
   "metadata": {},
   "outputs": [
    {
     "data": {
      "text/plain": [
       "False"
      ]
     },
     "execution_count": 6,
     "metadata": {},
     "output_type": "execute_result"
    }
   ],
   "source": [
    "# Now lets check whether math present in globals and sys.modules or not\n",
    "\n",
    "'math' in globals()"
   ]
  },
  {
   "cell_type": "code",
   "execution_count": 8,
   "id": "a32d6a34",
   "metadata": {},
   "outputs": [
    {
     "data": {
      "text/plain": [
       "False"
      ]
     },
     "execution_count": 8,
     "metadata": {},
     "output_type": "execute_result"
    }
   ],
   "source": [
    "'math' in sys.modules"
   ]
  },
  {
   "cell_type": "code",
   "execution_count": 9,
   "id": "0f981357",
   "metadata": {},
   "outputs": [
    {
     "data": {
      "text/plain": [
       "True"
      ]
     },
     "execution_count": 9,
     "metadata": {},
     "output_type": "execute_result"
    }
   ],
   "source": [
    "# Since math is not in globals and sys.modules, now lets perform one more import variant\n",
    "\n",
    "from math import sqrt\n",
    "\n",
    "# Now lets see math is present in sys.modules and globals() or not\n",
    "\n",
    "'math' in sys.modules"
   ]
  },
  {
   "cell_type": "code",
   "execution_count": 10,
   "id": "87e80c12",
   "metadata": {},
   "outputs": [
    {
     "data": {
      "text/plain": [
       "False"
      ]
     },
     "execution_count": 10,
     "metadata": {},
     "output_type": "execute_result"
    }
   ],
   "source": [
    "'math' in globals()"
   ]
  },
  {
   "cell_type": "code",
   "execution_count": 11,
   "id": "c8a7ef74",
   "metadata": {},
   "outputs": [
    {
     "data": {
      "text/plain": [
       "True"
      ]
     },
     "execution_count": 11,
     "metadata": {},
     "output_type": "execute_result"
    }
   ],
   "source": [
    "# We can see math is not present in globals but lets check sqrt is present in globals or not\n",
    "\n",
    "'sqrt' in globals()"
   ]
  },
  {
   "cell_type": "code",
   "execution_count": 12,
   "id": "fafb3d84",
   "metadata": {},
   "outputs": [],
   "source": [
    "# So we can see in this import statment only sqrt is added to global namespace not math\n",
    "\n",
    "# Now lets delete math and sqrt from sys.modules and globals\n",
    "\n",
    "del sys.modules['math']\n",
    "del globals()['sqrt']"
   ]
  },
  {
   "cell_type": "code",
   "execution_count": 13,
   "id": "f28ff75a",
   "metadata": {},
   "outputs": [
    {
     "data": {
      "text/plain": [
       "True"
      ]
     },
     "execution_count": 13,
     "metadata": {},
     "output_type": "execute_result"
    }
   ],
   "source": [
    "# Now lets see another variant of import statement\n",
    "\n",
    "from math import sqrt as r_sqrt\n",
    "\n",
    "# Now lets check math is present in sys.modules or not\n",
    "\n",
    "'math' in sys.modules"
   ]
  },
  {
   "cell_type": "code",
   "execution_count": 14,
   "id": "a3670ce5",
   "metadata": {},
   "outputs": [
    {
     "data": {
      "text/plain": [
       "False"
      ]
     },
     "execution_count": 14,
     "metadata": {},
     "output_type": "execute_result"
    }
   ],
   "source": [
    "# Now lets see sqrt is present in globals\n",
    "\n",
    "'sqrt' in globals()"
   ]
  },
  {
   "cell_type": "code",
   "execution_count": null,
   "id": "d37c57c4",
   "metadata": {},
   "outputs": [
    {
     "data": {
      "text/plain": [
       "True"
      ]
     },
     "execution_count": 15,
     "metadata": {},
     "output_type": "execute_result"
    }
   ],
   "source": [
    "# Now lets check r_sqrt is present in globals or not\n",
    "\n",
    "'r_sqrt' in globals()\n",
    "\n",
    "# In all these import statement math module is always loaded into sys.modules the only thing changing is what symbols are loading into global namespace"
   ]
  },
  {
   "cell_type": "code",
   "execution_count": 16,
   "id": "01b53885",
   "metadata": {},
   "outputs": [],
   "source": [
    "# Now lets see the bug we can get using import *\n",
    "\n",
    "from math import *"
   ]
  },
  {
   "cell_type": "code",
   "execution_count": 17,
   "id": "a75999c5",
   "metadata": {},
   "outputs": [
    {
     "data": {
      "text/plain": [
       "{'__name__': '__main__',\n",
       " '__doc__': 'Automatically created module for IPython interactive environment',\n",
       " '__package__': None,\n",
       " '__loader__': None,\n",
       " '__spec__': None,\n",
       " '__builtin__': <module 'builtins' (built-in)>,\n",
       " '__builtins__': <module 'builtins' (built-in)>,\n",
       " '_ih': ['',\n",
       "  \"# Now lets see import variants and thier efficiency in practice\\n\\nimport math\\n\\n# Now we have imported math now lets see whethet math is in sys.module and globals or not\\n\\n'math' in sys.modules\",\n",
       "  \"# Now lets see import variants and thier efficiency in practice\\n\\nimport math, sys\\n\\n# Now we have imported math now lets see whethet math is in sys.module and globals or not\\n\\n'math' in sys.modules\",\n",
       "  \"'math' in globals()\",\n",
       "  \"# Now lets remove math from globals and sys.module\\n\\ndel sys.module['math']\\ndel globals()['math']\",\n",
       "  \"# Now lets remove math from globals and sys.module\\n\\ndel sys.modules['math']\\ndel globals()['math']\",\n",
       "  \"# Now lets check whether math present in globals and sys.modules or not\\n\\n'math' in globals()\",\n",
       "  \"'math' in sys.modules()\",\n",
       "  \"'math' in sys.modules\",\n",
       "  \"# Since math is not in globals and sys.modules, now lets perform one more import variant\\n\\nfrom math import sqrt\\n\\n# Now lets see math is present in sys.modules and globals() or not\\n\\n'math' in sys.modules\",\n",
       "  \"'math' in globals()\",\n",
       "  \"# We can see math is not present in globals but lets check sqrt is present in globals or not\\n\\n'sqrt' in globals()\",\n",
       "  \"# So we can see in this import statment only sqrt is added to global namespace not math\\n\\n# Now lets delete math and sqrt from sys.modules and globals\\n\\ndel sys.modules['math']\\ndel globals()['sqrt']\",\n",
       "  \"# Now lets see another variant of import statement\\n\\nfrom math import sqrt as r_sqrt\\n\\n# Now lets check math is present in sys.modules or not\\n\\n'math' in sys.modules\",\n",
       "  \"# Now lets see sqrt is present in globals\\n\\n'sqrt' in globals()\",\n",
       "  \"# Now lets check r_sqrt is present in globals or not\\n\\n'r_sqrt' in globals()\",\n",
       "  '# Now lets see the bug we can get using import *\\n\\nfrom math import *',\n",
       "  '# Now lets see what symbols are in globals()\\n\\nglobals()'],\n",
       " '_oh': {2: True,\n",
       "  3: True,\n",
       "  6: False,\n",
       "  8: False,\n",
       "  9: True,\n",
       "  10: False,\n",
       "  11: True,\n",
       "  13: True,\n",
       "  14: False,\n",
       "  15: True},\n",
       " '_dh': [WindowsPath('f:/DushyanthData/PythonBook/pythonnotebook')],\n",
       " 'In': ['',\n",
       "  \"# Now lets see import variants and thier efficiency in practice\\n\\nimport math\\n\\n# Now we have imported math now lets see whethet math is in sys.module and globals or not\\n\\n'math' in sys.modules\",\n",
       "  \"# Now lets see import variants and thier efficiency in practice\\n\\nimport math, sys\\n\\n# Now we have imported math now lets see whethet math is in sys.module and globals or not\\n\\n'math' in sys.modules\",\n",
       "  \"'math' in globals()\",\n",
       "  \"# Now lets remove math from globals and sys.module\\n\\ndel sys.module['math']\\ndel globals()['math']\",\n",
       "  \"# Now lets remove math from globals and sys.module\\n\\ndel sys.modules['math']\\ndel globals()['math']\",\n",
       "  \"# Now lets check whether math present in globals and sys.modules or not\\n\\n'math' in globals()\",\n",
       "  \"'math' in sys.modules()\",\n",
       "  \"'math' in sys.modules\",\n",
       "  \"# Since math is not in globals and sys.modules, now lets perform one more import variant\\n\\nfrom math import sqrt\\n\\n# Now lets see math is present in sys.modules and globals() or not\\n\\n'math' in sys.modules\",\n",
       "  \"'math' in globals()\",\n",
       "  \"# We can see math is not present in globals but lets check sqrt is present in globals or not\\n\\n'sqrt' in globals()\",\n",
       "  \"# So we can see in this import statment only sqrt is added to global namespace not math\\n\\n# Now lets delete math and sqrt from sys.modules and globals\\n\\ndel sys.modules['math']\\ndel globals()['sqrt']\",\n",
       "  \"# Now lets see another variant of import statement\\n\\nfrom math import sqrt as r_sqrt\\n\\n# Now lets check math is present in sys.modules or not\\n\\n'math' in sys.modules\",\n",
       "  \"# Now lets see sqrt is present in globals\\n\\n'sqrt' in globals()\",\n",
       "  \"# Now lets check r_sqrt is present in globals or not\\n\\n'r_sqrt' in globals()\",\n",
       "  '# Now lets see the bug we can get using import *\\n\\nfrom math import *',\n",
       "  '# Now lets see what symbols are in globals()\\n\\nglobals()'],\n",
       " 'Out': {2: True,\n",
       "  3: True,\n",
       "  6: False,\n",
       "  8: False,\n",
       "  9: True,\n",
       "  10: False,\n",
       "  11: True,\n",
       "  13: True,\n",
       "  14: False,\n",
       "  15: True},\n",
       " 'get_ipython': <bound method InteractiveShell.get_ipython of <ipykernel.zmqshell.ZMQInteractiveShell object at 0x0000026D4068F940>>,\n",
       " 'exit': <IPython.core.autocall.ZMQExitAutocall at 0x26d406cc400>,\n",
       " 'quit': <IPython.core.autocall.ZMQExitAutocall at 0x26d406cc400>,\n",
       " 'open': <function io.open(file, mode='r', buffering=-1, encoding=None, errors=None, newline=None, closefd=True, opener=None)>,\n",
       " '_': True,\n",
       " '__': False,\n",
       " '___': True,\n",
       " '__vsc_ipynb_file__': 'f:\\\\DushyanthData\\\\PythonBook\\\\pythonnotebook\\\\10_Modules.ipynb',\n",
       " '_i': '# Now lets see the bug we can get using import *\\n\\nfrom math import *',\n",
       " '_ii': \"# Now lets check r_sqrt is present in globals or not\\n\\n'r_sqrt' in globals()\",\n",
       " '_iii': \"# Now lets see sqrt is present in globals\\n\\n'sqrt' in globals()\",\n",
       " '_i1': \"# Now lets see import variants and thier efficiency in practice\\n\\nimport math\\n\\n# Now we have imported math now lets see whethet math is in sys.module and globals or not\\n\\n'math' in sys.modules\",\n",
       " '_i2': \"# Now lets see import variants and thier efficiency in practice\\n\\nimport math, sys\\n\\n# Now we have imported math now lets see whethet math is in sys.module and globals or not\\n\\n'math' in sys.modules\",\n",
       " 'sys': <module 'sys' (built-in)>,\n",
       " '_2': True,\n",
       " '_i3': \"'math' in globals()\",\n",
       " '_3': True,\n",
       " '_i4': \"# Now lets remove math from globals and sys.module\\n\\ndel sys.module['math']\\ndel globals()['math']\",\n",
       " '_i5': \"# Now lets remove math from globals and sys.module\\n\\ndel sys.modules['math']\\ndel globals()['math']\",\n",
       " '_i6': \"# Now lets check whether math present in globals and sys.modules or not\\n\\n'math' in globals()\",\n",
       " '_6': False,\n",
       " '_i7': \"'math' in sys.modules()\",\n",
       " '_i8': \"'math' in sys.modules\",\n",
       " '_8': False,\n",
       " '_i9': \"# Since math is not in globals and sys.modules, now lets perform one more import variant\\n\\nfrom math import sqrt\\n\\n# Now lets see math is present in sys.modules and globals() or not\\n\\n'math' in sys.modules\",\n",
       " '_9': True,\n",
       " '_i10': \"'math' in globals()\",\n",
       " '_10': False,\n",
       " '_i11': \"# We can see math is not present in globals but lets check sqrt is present in globals or not\\n\\n'sqrt' in globals()\",\n",
       " '_11': True,\n",
       " '_i12': \"# So we can see in this import statment only sqrt is added to global namespace not math\\n\\n# Now lets delete math and sqrt from sys.modules and globals\\n\\ndel sys.modules['math']\\ndel globals()['sqrt']\",\n",
       " '_i13': \"# Now lets see another variant of import statement\\n\\nfrom math import sqrt as r_sqrt\\n\\n# Now lets check math is present in sys.modules or not\\n\\n'math' in sys.modules\",\n",
       " 'r_sqrt': <function math.sqrt(x, /)>,\n",
       " '_13': True,\n",
       " '_i14': \"# Now lets see sqrt is present in globals\\n\\n'sqrt' in globals()\",\n",
       " '_14': False,\n",
       " '_i15': \"# Now lets check r_sqrt is present in globals or not\\n\\n'r_sqrt' in globals()\",\n",
       " '_15': True,\n",
       " '_i16': '# Now lets see the bug we can get using import *\\n\\nfrom math import *',\n",
       " 'acos': <function math.acos(x, /)>,\n",
       " 'acosh': <function math.acosh(x, /)>,\n",
       " 'asin': <function math.asin(x, /)>,\n",
       " 'asinh': <function math.asinh(x, /)>,\n",
       " 'atan': <function math.atan(x, /)>,\n",
       " 'atan2': <function math.atan2(y, x, /)>,\n",
       " 'atanh': <function math.atanh(x, /)>,\n",
       " 'ceil': <function math.ceil(x, /)>,\n",
       " 'copysign': <function math.copysign(x, y, /)>,\n",
       " 'cos': <function math.cos(x, /)>,\n",
       " 'cosh': <function math.cosh(x, /)>,\n",
       " 'degrees': <function math.degrees(x, /)>,\n",
       " 'dist': <function math.dist(p, q, /)>,\n",
       " 'erf': <function math.erf(x, /)>,\n",
       " 'erfc': <function math.erfc(x, /)>,\n",
       " 'exp': <function math.exp(x, /)>,\n",
       " 'expm1': <function math.expm1(x, /)>,\n",
       " 'fabs': <function math.fabs(x, /)>,\n",
       " 'factorial': <function math.factorial(x, /)>,\n",
       " 'floor': <function math.floor(x, /)>,\n",
       " 'fmod': <function math.fmod(x, y, /)>,\n",
       " 'frexp': <function math.frexp(x, /)>,\n",
       " 'fsum': <function math.fsum(seq, /)>,\n",
       " 'gamma': <function math.gamma(x, /)>,\n",
       " 'gcd': <function math.gcd(*integers)>,\n",
       " 'hypot': <function math.hypot>,\n",
       " 'isclose': <function math.isclose(a, b, *, rel_tol=1e-09, abs_tol=0.0)>,\n",
       " 'isfinite': <function math.isfinite(x, /)>,\n",
       " 'isinf': <function math.isinf(x, /)>,\n",
       " 'isnan': <function math.isnan(x, /)>,\n",
       " 'isqrt': <function math.isqrt(n, /)>,\n",
       " 'lcm': <function math.lcm(*integers)>,\n",
       " 'ldexp': <function math.ldexp(x, i, /)>,\n",
       " 'lgamma': <function math.lgamma(x, /)>,\n",
       " 'log': <function math.log>,\n",
       " 'log1p': <function math.log1p(x, /)>,\n",
       " 'log10': <function math.log10(x, /)>,\n",
       " 'log2': <function math.log2(x, /)>,\n",
       " 'modf': <function math.modf(x, /)>,\n",
       " 'pow': <function math.pow(x, y, /)>,\n",
       " 'radians': <function math.radians(x, /)>,\n",
       " 'remainder': <function math.remainder(x, y, /)>,\n",
       " 'sin': <function math.sin(x, /)>,\n",
       " 'sinh': <function math.sinh(x, /)>,\n",
       " 'sqrt': <function math.sqrt(x, /)>,\n",
       " 'tan': <function math.tan(x, /)>,\n",
       " 'tanh': <function math.tanh(x, /)>,\n",
       " 'trunc': <function math.trunc(x, /)>,\n",
       " 'prod': <function math.prod(iterable, /, *, start=1)>,\n",
       " 'perm': <function math.perm(n, k=None, /)>,\n",
       " 'comb': <function math.comb(n, k, /)>,\n",
       " 'nextafter': <function math.nextafter(x, y, /)>,\n",
       " 'ulp': <function math.ulp(x, /)>,\n",
       " 'pi': 3.141592653589793,\n",
       " 'e': 2.718281828459045,\n",
       " 'tau': 6.283185307179586,\n",
       " 'inf': inf,\n",
       " 'nan': nan,\n",
       " '_i17': '# Now lets see what symbols are in globals()\\n\\nglobals()'}"
      ]
     },
     "execution_count": 17,
     "metadata": {},
     "output_type": "execute_result"
    }
   ],
   "source": [
    "# Now lets see what symbols are in globals()\n",
    "\n",
    "globals()"
   ]
  },
  {
   "cell_type": "code",
   "execution_count": null,
   "id": "4208730a",
   "metadata": {},
   "outputs": [
    {
     "data": {
      "text/plain": [
       "{'__name__': '__main__',\n",
       " '__doc__': 'Automatically created module for IPython interactive environment',\n",
       " '__package__': None,\n",
       " '__loader__': None,\n",
       " '__spec__': None,\n",
       " '__builtin__': <module 'builtins' (built-in)>,\n",
       " '__builtins__': <module 'builtins' (built-in)>,\n",
       " '_ih': ['',\n",
       "  \"# Now lets see import variants and thier efficiency in practice\\n\\nimport math\\n\\n# Now we have imported math now lets see whethet math is in sys.module and globals or not\\n\\n'math' in sys.modules\",\n",
       "  \"# Now lets see import variants and thier efficiency in practice\\n\\nimport math, sys\\n\\n# Now we have imported math now lets see whethet math is in sys.module and globals or not\\n\\n'math' in sys.modules\",\n",
       "  \"'math' in globals()\",\n",
       "  \"# Now lets remove math from globals and sys.module\\n\\ndel sys.module['math']\\ndel globals()['math']\",\n",
       "  \"# Now lets remove math from globals and sys.module\\n\\ndel sys.modules['math']\\ndel globals()['math']\",\n",
       "  \"# Now lets check whether math present in globals and sys.modules or not\\n\\n'math' in globals()\",\n",
       "  \"'math' in sys.modules()\",\n",
       "  \"'math' in sys.modules\",\n",
       "  \"# Since math is not in globals and sys.modules, now lets perform one more import variant\\n\\nfrom math import sqrt\\n\\n# Now lets see math is present in sys.modules and globals() or not\\n\\n'math' in sys.modules\",\n",
       "  \"'math' in globals()\",\n",
       "  \"# We can see math is not present in globals but lets check sqrt is present in globals or not\\n\\n'sqrt' in globals()\",\n",
       "  \"# So we can see in this import statment only sqrt is added to global namespace not math\\n\\n# Now lets delete math and sqrt from sys.modules and globals\\n\\ndel sys.modules['math']\\ndel globals()['sqrt']\",\n",
       "  \"# Now lets see another variant of import statement\\n\\nfrom math import sqrt as r_sqrt\\n\\n# Now lets check math is present in sys.modules or not\\n\\n'math' in sys.modules\",\n",
       "  \"# Now lets see sqrt is present in globals\\n\\n'sqrt' in globals()\",\n",
       "  \"# Now lets check r_sqrt is present in globals or not\\n\\n'r_sqrt' in globals()\",\n",
       "  '# Now lets see the bug we can get using import *\\n\\nfrom math import *',\n",
       "  '# Now lets see what symbols are in globals()\\n\\nglobals()',\n",
       "  '# We can see all te functions are from the math modules itself.\\n\\n# Now lets import cmath module like we have imported math module above\\n\\nfrom cmath import *\\n\\nglobals()'],\n",
       " '_oh': {2: True,\n",
       "  3: True,\n",
       "  6: False,\n",
       "  8: False,\n",
       "  9: True,\n",
       "  10: False,\n",
       "  11: True,\n",
       "  13: True,\n",
       "  14: False,\n",
       "  15: True,\n",
       "  17: {...}},\n",
       " '_dh': [WindowsPath('f:/DushyanthData/PythonBook/pythonnotebook')],\n",
       " 'In': ['',\n",
       "  \"# Now lets see import variants and thier efficiency in practice\\n\\nimport math\\n\\n# Now we have imported math now lets see whethet math is in sys.module and globals or not\\n\\n'math' in sys.modules\",\n",
       "  \"# Now lets see import variants and thier efficiency in practice\\n\\nimport math, sys\\n\\n# Now we have imported math now lets see whethet math is in sys.module and globals or not\\n\\n'math' in sys.modules\",\n",
       "  \"'math' in globals()\",\n",
       "  \"# Now lets remove math from globals and sys.module\\n\\ndel sys.module['math']\\ndel globals()['math']\",\n",
       "  \"# Now lets remove math from globals and sys.module\\n\\ndel sys.modules['math']\\ndel globals()['math']\",\n",
       "  \"# Now lets check whether math present in globals and sys.modules or not\\n\\n'math' in globals()\",\n",
       "  \"'math' in sys.modules()\",\n",
       "  \"'math' in sys.modules\",\n",
       "  \"# Since math is not in globals and sys.modules, now lets perform one more import variant\\n\\nfrom math import sqrt\\n\\n# Now lets see math is present in sys.modules and globals() or not\\n\\n'math' in sys.modules\",\n",
       "  \"'math' in globals()\",\n",
       "  \"# We can see math is not present in globals but lets check sqrt is present in globals or not\\n\\n'sqrt' in globals()\",\n",
       "  \"# So we can see in this import statment only sqrt is added to global namespace not math\\n\\n# Now lets delete math and sqrt from sys.modules and globals\\n\\ndel sys.modules['math']\\ndel globals()['sqrt']\",\n",
       "  \"# Now lets see another variant of import statement\\n\\nfrom math import sqrt as r_sqrt\\n\\n# Now lets check math is present in sys.modules or not\\n\\n'math' in sys.modules\",\n",
       "  \"# Now lets see sqrt is present in globals\\n\\n'sqrt' in globals()\",\n",
       "  \"# Now lets check r_sqrt is present in globals or not\\n\\n'r_sqrt' in globals()\",\n",
       "  '# Now lets see the bug we can get using import *\\n\\nfrom math import *',\n",
       "  '# Now lets see what symbols are in globals()\\n\\nglobals()',\n",
       "  '# We can see all te functions are from the math modules itself.\\n\\n# Now lets import cmath module like we have imported math module above\\n\\nfrom cmath import *\\n\\nglobals()'],\n",
       " 'Out': {2: True,\n",
       "  3: True,\n",
       "  6: False,\n",
       "  8: False,\n",
       "  9: True,\n",
       "  10: False,\n",
       "  11: True,\n",
       "  13: True,\n",
       "  14: False,\n",
       "  15: True,\n",
       "  17: {...}},\n",
       " 'get_ipython': <bound method InteractiveShell.get_ipython of <ipykernel.zmqshell.ZMQInteractiveShell object at 0x0000026D4068F940>>,\n",
       " 'exit': <IPython.core.autocall.ZMQExitAutocall at 0x26d406cc400>,\n",
       " 'quit': <IPython.core.autocall.ZMQExitAutocall at 0x26d406cc400>,\n",
       " 'open': <function io.open(file, mode='r', buffering=-1, encoding=None, errors=None, newline=None, closefd=True, opener=None)>,\n",
       " '_': {...},\n",
       " '__': True,\n",
       " '___': False,\n",
       " '__vsc_ipynb_file__': 'f:\\\\DushyanthData\\\\PythonBook\\\\pythonnotebook\\\\10_Modules.ipynb',\n",
       " '_i': '# Now lets see what symbols are in globals()\\n\\nglobals()',\n",
       " '_ii': '# Now lets see the bug we can get using import *\\n\\nfrom math import *',\n",
       " '_iii': \"# Now lets check r_sqrt is present in globals or not\\n\\n'r_sqrt' in globals()\",\n",
       " '_i1': \"# Now lets see import variants and thier efficiency in practice\\n\\nimport math\\n\\n# Now we have imported math now lets see whethet math is in sys.module and globals or not\\n\\n'math' in sys.modules\",\n",
       " '_i2': \"# Now lets see import variants and thier efficiency in practice\\n\\nimport math, sys\\n\\n# Now we have imported math now lets see whethet math is in sys.module and globals or not\\n\\n'math' in sys.modules\",\n",
       " 'sys': <module 'sys' (built-in)>,\n",
       " '_2': True,\n",
       " '_i3': \"'math' in globals()\",\n",
       " '_3': True,\n",
       " '_i4': \"# Now lets remove math from globals and sys.module\\n\\ndel sys.module['math']\\ndel globals()['math']\",\n",
       " '_i5': \"# Now lets remove math from globals and sys.module\\n\\ndel sys.modules['math']\\ndel globals()['math']\",\n",
       " '_i6': \"# Now lets check whether math present in globals and sys.modules or not\\n\\n'math' in globals()\",\n",
       " '_6': False,\n",
       " '_i7': \"'math' in sys.modules()\",\n",
       " '_i8': \"'math' in sys.modules\",\n",
       " '_8': False,\n",
       " '_i9': \"# Since math is not in globals and sys.modules, now lets perform one more import variant\\n\\nfrom math import sqrt\\n\\n# Now lets see math is present in sys.modules and globals() or not\\n\\n'math' in sys.modules\",\n",
       " '_9': True,\n",
       " '_i10': \"'math' in globals()\",\n",
       " '_10': False,\n",
       " '_i11': \"# We can see math is not present in globals but lets check sqrt is present in globals or not\\n\\n'sqrt' in globals()\",\n",
       " '_11': True,\n",
       " '_i12': \"# So we can see in this import statment only sqrt is added to global namespace not math\\n\\n# Now lets delete math and sqrt from sys.modules and globals\\n\\ndel sys.modules['math']\\ndel globals()['sqrt']\",\n",
       " '_i13': \"# Now lets see another variant of import statement\\n\\nfrom math import sqrt as r_sqrt\\n\\n# Now lets check math is present in sys.modules or not\\n\\n'math' in sys.modules\",\n",
       " 'r_sqrt': <function math.sqrt(x, /)>,\n",
       " '_13': True,\n",
       " '_i14': \"# Now lets see sqrt is present in globals\\n\\n'sqrt' in globals()\",\n",
       " '_14': False,\n",
       " '_i15': \"# Now lets check r_sqrt is present in globals or not\\n\\n'r_sqrt' in globals()\",\n",
       " '_15': True,\n",
       " '_i16': '# Now lets see the bug we can get using import *\\n\\nfrom math import *',\n",
       " 'acos': <function cmath.acos(z, /)>,\n",
       " 'acosh': <function cmath.acosh(z, /)>,\n",
       " 'asin': <function cmath.asin(z, /)>,\n",
       " 'asinh': <function cmath.asinh(z, /)>,\n",
       " 'atan': <function cmath.atan(z, /)>,\n",
       " 'atan2': <function math.atan2(y, x, /)>,\n",
       " 'atanh': <function cmath.atanh(z, /)>,\n",
       " 'ceil': <function math.ceil(x, /)>,\n",
       " 'copysign': <function math.copysign(x, y, /)>,\n",
       " 'cos': <function cmath.cos(z, /)>,\n",
       " 'cosh': <function cmath.cosh(z, /)>,\n",
       " 'degrees': <function math.degrees(x, /)>,\n",
       " 'dist': <function math.dist(p, q, /)>,\n",
       " 'erf': <function math.erf(x, /)>,\n",
       " 'erfc': <function math.erfc(x, /)>,\n",
       " 'exp': <function cmath.exp(z, /)>,\n",
       " 'expm1': <function math.expm1(x, /)>,\n",
       " 'fabs': <function math.fabs(x, /)>,\n",
       " 'factorial': <function math.factorial(x, /)>,\n",
       " 'floor': <function math.floor(x, /)>,\n",
       " 'fmod': <function math.fmod(x, y, /)>,\n",
       " 'frexp': <function math.frexp(x, /)>,\n",
       " 'fsum': <function math.fsum(seq, /)>,\n",
       " 'gamma': <function math.gamma(x, /)>,\n",
       " 'gcd': <function math.gcd(*integers)>,\n",
       " 'hypot': <function math.hypot>,\n",
       " 'isclose': <function cmath.isclose(a, b, *, rel_tol=1e-09, abs_tol=0.0)>,\n",
       " 'isfinite': <function cmath.isfinite(z, /)>,\n",
       " 'isinf': <function cmath.isinf(z, /)>,\n",
       " 'isnan': <function cmath.isnan(z, /)>,\n",
       " 'isqrt': <function math.isqrt(n, /)>,\n",
       " 'lcm': <function math.lcm(*integers)>,\n",
       " 'ldexp': <function math.ldexp(x, i, /)>,\n",
       " 'lgamma': <function math.lgamma(x, /)>,\n",
       " 'log': <function cmath.log>,\n",
       " 'log1p': <function math.log1p(x, /)>,\n",
       " 'log10': <function cmath.log10(z, /)>,\n",
       " 'log2': <function math.log2(x, /)>,\n",
       " 'modf': <function math.modf(x, /)>,\n",
       " 'pow': <function math.pow(x, y, /)>,\n",
       " 'radians': <function math.radians(x, /)>,\n",
       " 'remainder': <function math.remainder(x, y, /)>,\n",
       " 'sin': <function cmath.sin(z, /)>,\n",
       " 'sinh': <function cmath.sinh(z, /)>,\n",
       " 'sqrt': <function cmath.sqrt(z, /)>,\n",
       " 'tan': <function cmath.tan(z, /)>,\n",
       " 'tanh': <function cmath.tanh(z, /)>,\n",
       " 'trunc': <function math.trunc(x, /)>,\n",
       " 'prod': <function math.prod(iterable, /, *, start=1)>,\n",
       " 'perm': <function math.perm(n, k=None, /)>,\n",
       " 'comb': <function math.comb(n, k, /)>,\n",
       " 'nextafter': <function math.nextafter(x, y, /)>,\n",
       " 'ulp': <function math.ulp(x, /)>,\n",
       " 'pi': 3.141592653589793,\n",
       " 'e': 2.718281828459045,\n",
       " 'tau': 6.283185307179586,\n",
       " 'inf': inf,\n",
       " 'nan': nan,\n",
       " '_i17': '# Now lets see what symbols are in globals()\\n\\nglobals()',\n",
       " '_17': {...},\n",
       " '_i18': '# We can see all te functions are from the math modules itself.\\n\\n# Now lets import cmath module like we have imported math module above\\n\\nfrom cmath import *\\n\\nglobals()',\n",
       " 'phase': <function cmath.phase(z, /)>,\n",
       " 'polar': <function cmath.polar(z, /)>,\n",
       " 'rect': <function cmath.rect(r, phi, /)>,\n",
       " 'infj': infj,\n",
       " 'nanj': nanj}"
      ]
     },
     "execution_count": 18,
     "metadata": {},
     "output_type": "execute_result"
    }
   ],
   "source": [
    "# We can see all te functions are from the math modules itself.\n",
    "\n",
    "# Now lets import cmath module like we have imported math module above\n",
    "\n",
    "from cmath import *\n",
    "\n",
    "globals()\n",
    "\n",
    "# Here you can see that symbols common in math and cmath are prelaced with cmath objects"
   ]
  },
  {
   "cell_type": "code",
   "execution_count": 19,
   "id": "8a83ff8b",
   "metadata": {},
   "outputs": [],
   "source": [
    "# Now lets see the efficiency of various import statements\n",
    "\n",
    "from collections import namedtuple\n",
    "\n",
    "Timings = namedtuple('Timings', 'timing_1 timing_2 abs_diff rel_diff_perc')"
   ]
  },
  {
   "cell_type": "code",
   "execution_count": 30,
   "id": "ea20bcba",
   "metadata": {},
   "outputs": [],
   "source": [
    "def compare_timings(timing_1, timing_2):\n",
    "\n",
    "    rel_diff = (timing_1-timing_2)/timing_1 * 100\n",
    "\n",
    "    timings = Timings(round(timing_1,2),\n",
    "                      round(timing_2,2),\n",
    "                      round(timing_2 -timing_1,2),\n",
    "                      round(rel_diff,2))\n",
    "    \n",
    "    return timings"
   ]
  },
  {
   "cell_type": "code",
   "execution_count": 27,
   "id": "bbc69c67",
   "metadata": {},
   "outputs": [
    {
     "name": "stdout",
     "output_type": "stream",
     "text": [
      "Elapsed : 1.7830538999987766\n"
     ]
    }
   ],
   "source": [
    "test_reports = 10_000_000\n",
    "\n",
    "from time import perf_counter\n",
    "\n",
    "import math\n",
    "start = perf_counter()\n",
    "\n",
    "for _ in range(test_reports):\n",
    "    math.sqrt(2)\n",
    "\n",
    "end = perf_counter()\n",
    "elasped_fully_qualified = end - start\n",
    "print(f\"Elapsed : {elasped_fully_qualified}\")"
   ]
  },
  {
   "cell_type": "code",
   "execution_count": 28,
   "id": "12d5d871",
   "metadata": {},
   "outputs": [
    {
     "name": "stdout",
     "output_type": "stream",
     "text": [
      "Elapsed : 1.7443914999894332\n"
     ]
    }
   ],
   "source": [
    "from math import sqrt\n",
    "\n",
    "start = perf_counter()\n",
    "\n",
    "for _ in range(test_reports):\n",
    "    sqrt(2)\n",
    "\n",
    "end = perf_counter()\n",
    "elasped_direct_symbol = end - start\n",
    "print(f\"Elapsed : {elasped_direct_symbol}\")"
   ]
  },
  {
   "cell_type": "code",
   "execution_count": 31,
   "id": "2f6ce772",
   "metadata": {},
   "outputs": [
    {
     "data": {
      "text/plain": [
       "Timings(timing_1=1.78, timing_2=1.74, abs_diff=-0.04, rel_diff_perc=2.17)"
      ]
     },
     "execution_count": 31,
     "metadata": {},
     "output_type": "execute_result"
    }
   ],
   "source": [
    "compare_timings(elasped_fully_qualified,elasped_direct_symbol)"
   ]
  },
  {
   "cell_type": "code",
   "execution_count": 32,
   "id": "bfefac48",
   "metadata": {},
   "outputs": [
    {
     "name": "stdout",
     "output_type": "stream",
     "text": [
      "Elapsed : 4.682757700007642\n"
     ]
    }
   ],
   "source": [
    "def func():\n",
    "    import math \n",
    "    math.sqrt(2)\n",
    "\n",
    "start = perf_counter()\n",
    "\n",
    "for _ in range(test_reports):\n",
    "    func()\n",
    "\n",
    "end = perf_counter()\n",
    "elasped_fully_func_qualified = end - start\n",
    "print(f\"Elapsed : {elasped_fully_func_qualified}\")"
   ]
  },
  {
   "cell_type": "code",
   "execution_count": 33,
   "id": "635f2d5c",
   "metadata": {},
   "outputs": [
    {
     "name": "stdout",
     "output_type": "stream",
     "text": [
      "Elapsed : 12.414863400015747\n"
     ]
    }
   ],
   "source": [
    "def func():\n",
    "    from math import sqrt\n",
    "    sqrt(2)\n",
    "\n",
    "start = perf_counter()\n",
    "\n",
    "for _ in range(test_reports):\n",
    "    func()\n",
    "\n",
    "end = perf_counter()\n",
    "elasped_direct_func_symbol = end - start\n",
    "print(f\"Elapsed : {elasped_direct_func_symbol}\")"
   ]
  },
  {
   "cell_type": "code",
   "execution_count": 34,
   "id": "6d2fb989",
   "metadata": {},
   "outputs": [
    {
     "data": {
      "text/plain": [
       "Timings(timing_1=4.68, timing_2=12.41, abs_diff=7.73, rel_diff_perc=-165.12)"
      ]
     },
     "execution_count": 34,
     "metadata": {},
     "output_type": "execute_result"
    }
   ],
   "source": [
    "compare_timings(elasped_fully_func_qualified,elasped_direct_func_symbol)"
   ]
  },
  {
   "cell_type": "markdown",
   "id": "cdae984d",
   "metadata": {},
   "source": [
    "## Reloading the Modules\n",
    "\n",
    "- Generally we update our modules continuously. Suppose we have imported the module in our code and then we have made some changes to that module. For reflecting those changes, we usually re-import the same module. But pyton won't import the updated module. The reason for this it is already in the sys.modules. So it actually loads the module from sys.modules when you have re-imported the same module. To load the updated module to sys.modules we actually need to reload the module.\n",
    "\n",
    "- To reload a module in python we actually use a method called `reload` which is in `importlib` module. The basic syntax is `importlib.reload(<Module_Name>)`. What this reload method actually does , it will just mutate the original module object we have loaded in the sys.modules with the new code, so that we can get the updated module. It just mutate that module object with new code doesn't delete it."
   ]
  },
  {
   "cell_type": "code",
   "execution_count": 35,
   "id": "a08ba25c",
   "metadata": {},
   "outputs": [],
   "source": [
    "# Now lets see how to reload a module whenever we made changes to module.\n",
    "\n",
    "# For this lets create a module called test here\n",
    "\n",
    "import os\n",
    "\n",
    "def create_module(module_name,**kwargs):\n",
    "\n",
    "    '''This function just create a module with module name which we have provided and make that module to print the provided arguments'''\n",
    "\n",
    "    module_file_name = f'{module_name}.py'\n",
    "\n",
    "    module_rel_path = module_file_name\n",
    "\n",
    "    module_abs_path = os.path.abspath(module_rel_path)\n",
    "\n",
    "    with open(module_abs_path, 'w') as f:\n",
    "\n",
    "        f.write(f'# {module_name}.py\\n\\n')\n",
    "        f.write(f\"print('running {module_name}.py....')\\n\\n\")\n",
    "        f.write(f\"def print_values():\\n\")\n",
    "        for (k,v) in kwargs.items():\n",
    "            f.write(f\"\\tprint('{str(k)}','{str(v)}')\\n\")\n",
    "\n",
    "    \n"
   ]
  },
  {
   "cell_type": "code",
   "execution_count": 51,
   "id": "b84be0ba",
   "metadata": {},
   "outputs": [],
   "source": [
    "# Now lets create a test module in it\n",
    "\n",
    "create_module('module_1',k1 = 10, k2 = \"apple\",k3=\"mango\")"
   ]
  },
  {
   "cell_type": "code",
   "execution_count": 52,
   "id": "b164f9b4",
   "metadata": {},
   "outputs": [
    {
     "name": "stdout",
     "output_type": "stream",
     "text": [
      "running module_1.py....\n"
     ]
    }
   ],
   "source": [
    "# Now lets import module_1\n",
    "\n",
    "import module_1"
   ]
  },
  {
   "cell_type": "code",
   "execution_count": 53,
   "id": "8455849e",
   "metadata": {},
   "outputs": [
    {
     "name": "stdout",
     "output_type": "stream",
     "text": [
      "2668278591904\n",
      "2668278591904\n"
     ]
    }
   ],
   "source": [
    "# Now lets see the id of that module and also see whether it is present in that sys.module or not\n",
    "\n",
    "print(id(module_1))\n",
    "print(id(sys.modules['module_1']))"
   ]
  },
  {
   "cell_type": "code",
   "execution_count": 54,
   "id": "d2f3a30d",
   "metadata": {},
   "outputs": [
    {
     "name": "stdout",
     "output_type": "stream",
     "text": [
      "k1 10\n",
      "k2 apple\n",
      "k3 mango\n"
     ]
    }
   ],
   "source": [
    "# Now lets call print_values method in it\n",
    "\n",
    "module_1.print_values()"
   ]
  },
  {
   "cell_type": "code",
   "execution_count": 55,
   "id": "8b95cfea",
   "metadata": {},
   "outputs": [],
   "source": [
    "# Now lets make changes to this module_1\n",
    "\n",
    "create_module('module_1',k1 = 10, k2 = \"apple\",k3=\"mango\", k4 = \"Cheese\")"
   ]
  },
  {
   "cell_type": "code",
   "execution_count": 56,
   "id": "41ab82f7",
   "metadata": {},
   "outputs": [],
   "source": [
    "# Now again import the module\n",
    "\n",
    "import module_1\n",
    "\n"
   ]
  },
  {
   "cell_type": "code",
   "execution_count": 57,
   "id": "9be856fa",
   "metadata": {},
   "outputs": [
    {
     "name": "stdout",
     "output_type": "stream",
     "text": [
      "k1 10\n",
      "k2 apple\n",
      "k3 mango\n"
     ]
    }
   ],
   "source": [
    "# If you see that ,we doesn't seen running module_1.py as output. Becuase python doesn't executed the module which means it found that module in sys.modules and loaded it\n",
    "\n",
    "# So we won't see updated code here, becuase sys.module['module_1'] object doesn't updated\n",
    "\n",
    "module_1.print_values()"
   ]
  },
  {
   "cell_type": "code",
   "execution_count": 59,
   "id": "fbe0aed5",
   "metadata": {},
   "outputs": [
    {
     "name": "stdout",
     "output_type": "stream",
     "text": [
      "running module_1.py....\n"
     ]
    }
   ],
   "source": [
    "# To get updated module we actually need to use the reload method in importlib module\n",
    "\n",
    "import importlib\n",
    "\n",
    "module_1 = importlib.reload(module_1)"
   ]
  },
  {
   "cell_type": "code",
   "execution_count": null,
   "id": "c308335a",
   "metadata": {},
   "outputs": [
    {
     "name": "stdout",
     "output_type": "stream",
     "text": [
      "k1 10\n",
      "k2 apple\n",
      "k3 mango\n",
      "k4 Cheese\n"
     ]
    }
   ],
   "source": [
    "# Now call print_values method\n",
    "\n",
    "module_1.print_values()\n",
    "\n",
    "# Here we can see the updated code"
   ]
  },
  {
   "cell_type": "code",
   "execution_count": 61,
   "id": "be35afff",
   "metadata": {},
   "outputs": [
    {
     "name": "stdout",
     "output_type": "stream",
     "text": [
      "k1 10\n",
      "k2 apple\n",
      "k3 mango\n",
      "k4 Cheese\n"
     ]
    }
   ],
   "source": [
    "# But reloading always gives results as we expected\n",
    "\n",
    "# Suppose lets import print_values directly\n",
    "\n",
    "from module_1 import print_values\n",
    "\n",
    "print_values()"
   ]
  },
  {
   "cell_type": "code",
   "execution_count": 62,
   "id": "ad20093c",
   "metadata": {},
   "outputs": [],
   "source": [
    "# Now lets update the module again and reload the module\n",
    "\n",
    "create_module('module_1',k1 = 10, k2 = \"apple\",k3=\"mango\", k4 = \"Cheese\", k5 = 'Banana')"
   ]
  },
  {
   "cell_type": "code",
   "execution_count": 63,
   "id": "d9c4492d",
   "metadata": {},
   "outputs": [
    {
     "name": "stdout",
     "output_type": "stream",
     "text": [
      "running module_1.py....\n"
     ]
    }
   ],
   "source": [
    "module_1 = importlib.reload(module_1)"
   ]
  },
  {
   "cell_type": "code",
   "execution_count": 65,
   "id": "2c793383",
   "metadata": {},
   "outputs": [
    {
     "name": "stdout",
     "output_type": "stream",
     "text": [
      "k1 10\n",
      "k2 apple\n",
      "k3 mango\n",
      "k4 Cheese\n"
     ]
    }
   ],
   "source": [
    "print_values()"
   ]
  },
  {
   "cell_type": "code",
   "execution_count": null,
   "id": "a68a3f33",
   "metadata": {},
   "outputs": [],
   "source": [
    "# From the above output we can see that print_values is not updated. It won't gets updated because we have already loaded the function into\n",
    "# global namespace before module updation. So those updates won't reflect ever after reloading the module. \n",
    "\n",
    "# Suppose some other people doesn't know above this things and use the print_values() function directly into our code becuase they thought module\n",
    "# gets updated and its already reloaded. But the function won't works like updated function. It works same as before updation.\n",
    "\n",
    "# So sometimes reloading module also won't give results as we have expected. Instead of reloading the module just restart the kernal which give the results as we have expected."
   ]
  },
  {
   "cell_type": "markdown",
   "id": "c92f985d",
   "metadata": {},
   "source": [
    "## Main Module\n",
    "\n",
    "- In python, `__main__` refers to the name of the scope in which top-level code is executed. It is commonly used to distinguish whether a python file is being run as the main program or imported as module. As we know we can run a python file two ways. One is we directly run that file using `python <filename>.py` in command line. And second one is if you imported the python file as module then python will execute entire module and loads it .\n",
    "\n",
    "- Every Python file has built-in variable called `__name__`. When you run a Python file directly (e.g python myscript.py), `__name__` is automatically set to `__main__` in that file. But if you import that file into anothor script (eg. import myscript), then `__name__` is set to module name (\"myscript\"), not `__main__`.\n",
    "\n",
    "- Generally you see this block of at end of every python file\n",
    "\n",
    "  ```python\n",
    "\n",
    "  if __name__ == '__main__' :\n",
    "\n",
    "    # Some Code\n",
    "\n",
    "  ```\n",
    "\n",
    "- This code gets executed only when the file gets executed directly using command line. And this code not gets executed when you import this script as module. And this code also allows you to write reusable code in a file and have a section that only runs when the script is executed directly.\n",
    "\n",
    "- So `__main__` lets you Write the code that only runs when the file executed directly and prevents code from running when the file is imported elsewhere.\n"
   ]
  }
 ],
 "metadata": {
  "kernelspec": {
   "display_name": "Python",
   "language": "python",
   "name": "python3"
  },
  "language_info": {
   "codemirror_mode": {
    "name": "ipython",
    "version": 3
   },
   "file_extension": ".py",
   "mimetype": "text/x-python",
   "name": "python",
   "nbconvert_exporter": "python",
   "pygments_lexer": "ipython3",
   "version": "3.10.0"
  }
 },
 "nbformat": 4,
 "nbformat_minor": 5
}
