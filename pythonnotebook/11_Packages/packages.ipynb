{
 "cells": [
  {
   "cell_type": "markdown",
   "id": "56936bc7",
   "metadata": {},
   "source": [
    "# Packages\n",
    "\n",
    "## Introduction\n",
    "\n",
    "- In Python, Packages are specalized modules which can store modules and packages also (Sub Packages). We can simply say packages are module types but they just have extra functionality to store modules and packages under them.\n",
    "\n",
    "- Generally modules doesn't have `__path__` property. If a module as `__path__` property then it is called as packages. This is the difference between the package and module. \n",
    "\n",
    "- Packages and Modules in python are not just represented by File Systems. But in 99% of applications these modules and packages are represented as files, so we can say `.py` files are considered as modules and directories are considered as packages. But all directories are not considered as packages. The directories which contian `__init__.py` file are considered as packages.\n",
    "\n",
    "- Packages usually represent a hierarichy of modules/packages. Suppose consider this example.\n",
    "\n",
    " <img src=\"..\\_static\\packages.png\" alt=\"Package Structure\" width=\"1200\" height = \"400\"/>\n",
    "\n",
    " Here we have a package name called pack1 which contains two modules module1a, module1b and has one sub package pack1_1. As we know package is an module object it has a namespace under `__dict__` property of package. So here pack1 can also as a namespace. All the packages and modules under this pack1 are considered as attributes to this package. So `pack1.__dict__` contains all these packages and modules labels with corresponding objects if they gets imported. So to access module1a we actually use dot notation i.e `pack1.module1a`. To access the module1_1a we use this syntax `pack1.pack1_1.module1_1a`. So by using dot notation we can access any packages and modules under particular package becuase they are considerd as attributes to top-level package (like pack1 here).\n",
    "\n",
    "- Suppose if you a statement in top-level program such as `import pack1.pack1_1.module1_1a`, then python performs these steps first.\n",
    "\n",
    "  1. It first performs `import pack1` and puts it in sys.modules with label as `pack1`. `pack1` reference pack1 package.\n",
    "  2. Then it performs `import pack1.pack1_1` and puts it in sys.modules with label as `pack1.pack1_1`. `pack1.pack1_1` reference subpackage pack1_1\n",
    "  3. Finally it performs `imports pack1.pack1_1.module1_1a` and puts it in sys.modules with label as `pack1.pack1_1.module1_1a`. `pack1.pack1_1.module1_1a` references module1_1a.\n",
    "\n",
    "  As we know 3 lables are stored in sys.modules but only `pack1` object gets stored in global namespace because python knows we just need only top-level object and with that top-level object we access internal modules and packages. So we have only `pack1` object in global namespace.\n",
    "\n",
    "- As we know most of the packages in python are just directories and we know packages are just modules , modules contain code and these code gets executed when that module gets loaded. So now where we actually write code for packages as they are not files they are just directories. We cannot write code in directories. As we have already know to make a directory as package, we definitely need a file called `__init__.py`. This `__ init__.py` tells python that the directory is a package as opposed to standard directory. We actually write code of the package in this `__init__.py` file. Whenever python imports this package it executes the code present in this `__init__.py` and loads that package object (module type object) to sys.modules and globals. And this loaded object of package contains all the varaibles, functions present in `__init__.py` file as attributes. That means what ever the objects present in the namespace of `__init__.py` file of packages are gets stored in package object(module object).\n",
    "\n",
    "- For each package we have 3 main properties. Those are `__file__` , `__path__` and `__package__` . \n",
    "\n",
    "  `__file__` : It tell us the location of module/package code in the file system (which is `__init__.py` for package and `module.py` for module)\n",
    "\n",
    "  `__package__` : It is the package name where module is located in. (If that module is package then `__package__` contains package name itself else it will show us the package name where this module is located. If it is top-level module then it will show empty string)\n",
    "\n",
    "  `__path__` : It is the location of package in file system. (Modules doesn't have this property.)\n",
    "\n",
    "  For example consider the above package structure :\n",
    "\n",
    "  `module1a.__file__` -> `/app/pack1/module1a.py`\n",
    "\n",
    "  `pack1_1.__file__` -> `/app/pack1/pack1_1/__init__.py`\n",
    "\n",
    "  `module1_1a.__package__` -> `pack1.pack1_1`\n",
    "\n",
    "  `pack1_1.__path__` -> `/app/pack1/pack1_1`"
   ]
  },
  {
   "cell_type": "code",
   "execution_count": 1,
   "id": "8b6e0550",
   "metadata": {},
   "outputs": [
    {
     "name": "stdout",
     "output_type": "stream",
     "text": [
      "Running pack1...\n"
     ]
    },
    {
     "data": {
      "text/plain": [
       "True"
      ]
     },
     "execution_count": 1,
     "metadata": {},
     "output_type": "execute_result"
    }
   ],
   "source": [
    "# Now lets see how sub packages and modules inside the packages gets imported.\n",
    "\n",
    "# Now iam just importing the pack1 only and see whether internal packages and modules gets loaded or not\n",
    "\n",
    "import sys\n",
    "\n",
    "import pack1\n",
    "\n",
    "'pack1' in sys.modules"
   ]
  },
  {
   "cell_type": "code",
   "execution_count": 2,
   "id": "09f9ef8c",
   "metadata": {},
   "outputs": [
    {
     "data": {
      "text/plain": [
       "False"
      ]
     },
     "execution_count": 2,
     "metadata": {},
     "output_type": "execute_result"
    }
   ],
   "source": [
    "# We can see pack1 gets loaded into sys modules nad its init code executed.\n",
    "\n",
    "# Now lets see the internal modules and packages are loaded or not.\n",
    "\n",
    "# If they gets loaded then they must be in pack1.__dict__ \n",
    "\n",
    "'module1a' in pack1.__dict__"
   ]
  },
  {
   "cell_type": "code",
   "execution_count": 3,
   "id": "66b3ccf6",
   "metadata": {},
   "outputs": [
    {
     "name": "stdout",
     "output_type": "stream",
     "text": [
      "Running Module1a ....\n"
     ]
    },
    {
     "data": {
      "text/plain": [
       "True"
      ]
     },
     "execution_count": 3,
     "metadata": {},
     "output_type": "execute_result"
    }
   ],
   "source": [
    "# From the output we can say when we run the import pack1, python actually lloks for pack1 in current directory and create its object using its\n",
    "# init code and just kept that object in sys.modules. It doesn't loaded internal modules and packages in it.\n",
    " \n",
    "# Now lets load the internal modules of pack1\n",
    "\n",
    "import pack1.module1a\n",
    "\n",
    "# Now lets see module1a is in pack1.__dict__\n",
    "\n",
    "'module1a' in pack1.__dict__"
   ]
  },
  {
   "cell_type": "code",
   "execution_count": 4,
   "id": "796db53c",
   "metadata": {},
   "outputs": [
    {
     "data": {
      "text/plain": [
       "False"
      ]
     },
     "execution_count": 4,
     "metadata": {},
     "output_type": "execute_result"
    }
   ],
   "source": [
    "# So module1a got imported \n",
    "\n",
    "# But module1a label is not in globals\n",
    "\n",
    "'module1a' in globals()"
   ]
  },
  {
   "cell_type": "code",
   "execution_count": 5,
   "id": "a02b08ce",
   "metadata": {},
   "outputs": [
    {
     "data": {
      "text/plain": [
       "False"
      ]
     },
     "execution_count": 5,
     "metadata": {},
     "output_type": "execute_result"
    }
   ],
   "source": [
    "# This is because python loads the module1a in sys.module as pack1.module1a along with reference and just add attach that reference and label \n",
    "# to pack1 module (as an attribute). So now we can use pack1 to access that module1a\n",
    "\n",
    "# Lets check module1a is in sys.modules\n",
    "\n",
    "'module1a' in sys.modules"
   ]
  },
  {
   "cell_type": "code",
   "execution_count": 6,
   "id": "42dd8470",
   "metadata": {},
   "outputs": [
    {
     "data": {
      "text/plain": [
       "True"
      ]
     },
     "execution_count": 6,
     "metadata": {},
     "output_type": "execute_result"
    }
   ],
   "source": [
    "# Label module1a is not in sys.modules becuase it is staored as pack1.module1a\n",
    "\n",
    "'pack1.module1a' in sys.modules"
   ]
  },
  {
   "cell_type": "code",
   "execution_count": 1,
   "id": "1f4a069e",
   "metadata": {},
   "outputs": [
    {
     "name": "stdout",
     "output_type": "stream",
     "text": [
      "Running pack1...\n",
      "Running Module1a ....\n"
     ]
    }
   ],
   "source": [
    "# To keep module1a label in globals, we need to import module1a like this\n",
    "\n",
    "from pack1 import module1a\n",
    "\n"
   ]
  },
  {
   "cell_type": "code",
   "execution_count": 2,
   "id": "e7926d39",
   "metadata": {},
   "outputs": [
    {
     "data": {
      "text/plain": [
       "True"
      ]
     },
     "execution_count": 2,
     "metadata": {},
     "output_type": "execute_result"
    }
   ],
   "source": [
    "# Now lets check module1a is in globals or not\n",
    "\n",
    "'module1a' in globals()"
   ]
  },
  {
   "cell_type": "code",
   "execution_count": null,
   "id": "4cf7765f",
   "metadata": {},
   "outputs": [
    {
     "data": {
      "text/plain": [
       "False"
      ]
     },
     "execution_count": 5,
     "metadata": {},
     "output_type": "execute_result"
    }
   ],
   "source": [
    "# Now lets check whether it is in sys.modules or not\n",
    "\n",
    "'module1a' in sys.modules\n",
    "\n",
    "# Label module1a never exist in sys.modules even though you imported it differently. If you import module1a like this, python first imports \n",
    "# pack1 and then it imports module1a and label it as pack1.module1a and returns the module1a object as module1a. Since we are returning that\n",
    "# object as module1a, so this label gets stored in globals\n",
    "\n",
    "# Like this we import internal modules and packages also"
   ]
  },
  {
   "cell_type": "code",
   "execution_count": 9,
   "id": "0c2d9f1a",
   "metadata": {},
   "outputs": [
    {
     "name": "stdout",
     "output_type": "stream",
     "text": [
      " Running Module1_1a ....\n"
     ]
    }
   ],
   "source": [
    "import pack1.pack1_1.module1_1a"
   ]
  },
  {
   "cell_type": "code",
   "execution_count": 10,
   "id": "31eede37",
   "metadata": {},
   "outputs": [
    {
     "data": {
      "text/plain": [
       "True"
      ]
     },
     "execution_count": 10,
     "metadata": {},
     "output_type": "execute_result"
    }
   ],
   "source": [
    "'module1_1a' in pack1.pack1_1.__dict__"
   ]
  },
  {
   "cell_type": "markdown",
   "id": "5dcd43b7",
   "metadata": {},
   "source": [
    "**Note** : This file contain the sample code for implemention of packages -> [Package_Implementation_code](../_static/Packages_Implementation_Demo_Code.zip)"
   ]
  },
  {
   "cell_type": "markdown",
   "id": "3e7bef04",
   "metadata": {},
   "source": [
    "## Need of Packages\n",
    "\n",
    "- By using packages, we can simply break the code up into smaller chunks which makes our code:\n",
    " \n",
    "  1. Easier to write\n",
    "  2. Easier to test and debug\n",
    "  3. Easier to read and understand\n",
    "  4. Easier to document\n",
    "\n",
    "- But all the code which we broken up into chunks can be stitched together by hiding the inner implementation from users and this helps users to write their code , test and debug easily.\n"
   ]
  },
  {
   "cell_type": "markdown",
   "id": "0df380b9",
   "metadata": {},
   "source": [
    "## Structuring the Packages\n",
    "\n",
    "- Generally, we have sub packages inside a main package. Whenever we are performing the imports, we usually use `import <mainpackage>.<subpackage1>.<subpackage1_1>`. But when we are performing these we acutally giving each detail of how our package is structured and also it is tedious for the users to perform these many dot operators if they want to import a particular attribute or function from a subpackage1_1. \n",
    "\n",
    "- So instead of doing these dot operations for import, what we actually do is relative imports. Relative imports simply means we actually need to import sub packages and modules in `__init__.py` file of that paticular package. We gnerally do `from subpackage1_1 import *` in `__init__.py` file of subpackage1 (additionally we also import all attributs and methods present in modules of subpackage1 i.e `from module1 import *`).\n",
    "\n",
    "- Suppose if you are importing a module which is one level up, what means it is present in just outside of this directory (i.e module and this directory are in same directory). So import that module we use these syntax `from ..module1 import *` (Here .. means go 1 level up from current directory, . means current directory, ... means 2 levels up of current directory). \n",
    "\n",
    "- Generally we don't perform `import *` . Because we know these might replaces all common labels with newer objects. And some people only want to import fewer methods and attributes of that module when we performed `import *`. To import whatever methods and attributes that we need to import we use a special attribute called `__all__` which is list. Whatever this list contains those attributes and methods gets imported when we have imported that module. Suppose a module contains boolean(), boolean_helper_1(), boolean_helper_2() methods. If you want to just import boolen() method when you performed `from module import *` then you have write this statement in your module i.e `__all__ = ['boolean']`. This `__all__` is applicable when perform `import *` only"
   ]
  },
  {
   "cell_type": "markdown",
   "id": "fdf72650",
   "metadata": {},
   "source": [
    "**Note** : When you perform `import <package1>.<subpackage1> as subpackage`, then python import packackage1 and package1.subpackage1 into sys.modules and then it places object of package1.subpackage1 in global namespace with label as subpackage."
   ]
  }
 ],
 "metadata": {
  "kernelspec": {
   "display_name": "Python",
   "language": "python",
   "name": "python3"
  },
  "language_info": {
   "codemirror_mode": {
    "name": "ipython",
    "version": 3
   },
   "file_extension": ".py",
   "mimetype": "text/x-python",
   "name": "python",
   "nbconvert_exporter": "python",
   "pygments_lexer": "ipython3",
   "version": "3.10.0"
  }
 },
 "nbformat": 4,
 "nbformat_minor": 5
}
