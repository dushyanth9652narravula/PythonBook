{
 "cells": [
  {
   "cell_type": "markdown",
   "id": "50fe4200",
   "metadata": {},
   "source": [
    "# Function Introspection\n",
    "\n",
    "- Function Introspection in python actually mean examinining the internal properties or metadata of a function at runtime - while program is running. Since functions in python are first class objects, you can treat them like data and introspect (or inspect) them just like any other object.\n",
    "\n",
    "- Generally we inspect these things in a function such as : Function's name, docstring, parameters and defaults, whether it is lambda or not, where it is defined in te code and actual code object.\n",
    "\n",
    "- **dir()** : dir() is a built in function that, given an object as an argument, will return a list of valid attributes for that object.\n",
    "\n",
    "  **Syntax** : `dir(<object_name>)` (In python functions are just objects so we can pass function names also.)\n",
    "\n",
    "- Common Function Attributes are : \n",
    "\n",
    "  1. **__name__** : Gives the name of the function.\n",
    "\n",
    "  2. **__defaults__** : Gives the tuple containing the positional parameter defaults.\n",
    "\n",
    "  3. **__kwdefaults__** : Gives the dictionary containing keyword-only parameter defaults.\n",
    "\n",
    "     **Ex** :\n",
    "\n",
    "     ```python\n",
    "\n",
    "     def my_func(a,b = 2, c = 3, *, kw1, kw2 = 2):\n",
    "      pass\n",
    "\n",
    "     ```\n",
    "     `my_func.__name__` -> my_func\n",
    "\n",
    "     `my_func.__defaults__` -> (2,3) (When deciding which parameter defaults just look move from Rigth to Left in function signature so that we can see reprective prameters of these defaults)\n",
    "\n",
    "     `my_func.__kwdefaults__` -> {'kw2' : 2}\n",
    "\n",
    "  4. **__code__** : It would return the function code object and these code object itself multiple parameters. Some of them are the following.\n",
    "\n",
    "     **co_varnames** : It returns the names of parameter and argument names. Parameters first and followed by arguments.\n",
    "\n",
    "     **co_argcount** : It returns the count of parameters. (Except *args and **kwargs)\n",
    "\n",
    "     **Ex** :\n",
    "\n",
    "     ```python\n",
    "\n",
    "     def my_func(a, b = 1, *args, **kwargs):\n",
    "\n",
    "      i = 1\n",
    "      b = min(i,b)\n",
    "\n",
    "      return a * b\n",
    "\n",
    "     ```\n",
    "\n",
    "     `my_func.__code__.co_varnames` -> ('a','b','args','kwargs','i')\n",
    "\n",
    "     `my_func.__code__.co_argcount` -> 2\n",
    "\n",
    "- Python provides a poweful module called `inspect` to inspect the internal properties or meta data of a function. We have these methods in that inspect module.\n",
    "\n",
    "  1. **ismethod(obj)** : It will tell whether given object is a method or not.\n",
    "\n",
    "  2. **isfunction(obj)** : It will tell whether given object is a function or not.\n",
    "\n",
    "  3. **isroutine(obj)** : It will tell whether given object is function or method or not. If it is function or method then it will result True otherwise False.\n",
    "\n",
    "  4. **inspect.getsource(<function_name>)** : It will return the entire function code including the def statement, annotations, docstring etc.\n",
    "\n",
    "  5. **inspect.getmodule(<function_name>)** : It will return the module name whether function actually located.\n",
    "\n",
    "  6. **inspect.getcomments(<function_name>)** : It will return the which are rigth before the function definition. But there must be nospace between function definition and comments. (i mean there must be no empty line)\n",
    "\n",
    "     **Ex** :\n",
    "\n",
    "     ```python\n",
    "\n",
    "     # Setting up Variable\n",
    "     \n",
    "     i = 10\n",
    "\n",
    "     # Implement function\n",
    "     # Some additional notes\n",
    "     def my_func(a, b = 1):\n",
    "        # Comment inside my_func\n",
    "        pass\n",
    "     ```\n",
    "\n",
    "     `inspect.getcomments(my_func)` -> # Implement function /n # Some additional notes\n",
    "\n",
    "     Here you can see it would just output only those comment right before the function definition not inside the function.\n",
    "\n",
    "  7. **inspect.signature(<function_name>)** -> It actually return the signature object. And these signature object has some attributes such as `parameters` etc. \n",
    "\n",
    "     **inspect.signature(<function_name>).parameters** -> It retruns a dictionary which contains keys as parameter names and values as object with attributes such as name, default, annotation, kind. Here `kind` indicates the whether parameter is positional or keyword etc. There are five types in `kind`. Those are `POSITIONAL_OR_KEYWORD`, `VAR_POSITIONAL`, `KEYWORD_ONLY`, `VAR_KEYWORD`, `POSITIONAL_ONLY`."
   ]
  },
  {
   "cell_type": "code",
   "execution_count": 23,
   "id": "7a9f722c",
   "metadata": {},
   "outputs": [],
   "source": [
    "i = 100\n",
    "\n",
    "# For inspecting the function lets first define a function with annotations and docstring also.\n",
    "def my_func(a : \"Mandatory Positional\",\n",
    "            b : \"optional positional\" = 1,\n",
    "            c = 2,\n",
    "            *args : \"add extra positional arguments here\",\n",
    "            kw1,\n",
    "            kw2 = 100,\n",
    "            kw3 = 200,\n",
    "            **kwargs : \"Add extra keyword arguments here\") -> \"Does nothing\":\n",
    "\n",
    "    \"\"\"This function does nothing but have various parameters and annotations\"\"\"\n",
    "    i = 10\n",
    "    j = 20"
   ]
  },
  {
   "cell_type": "code",
   "execution_count": 2,
   "id": "47902e90",
   "metadata": {},
   "outputs": [
    {
     "data": {
      "text/plain": [
       "['__annotations__',\n",
       " '__builtins__',\n",
       " '__call__',\n",
       " '__class__',\n",
       " '__closure__',\n",
       " '__code__',\n",
       " '__defaults__',\n",
       " '__delattr__',\n",
       " '__dict__',\n",
       " '__dir__',\n",
       " '__doc__',\n",
       " '__eq__',\n",
       " '__format__',\n",
       " '__ge__',\n",
       " '__get__',\n",
       " '__getattribute__',\n",
       " '__globals__',\n",
       " '__gt__',\n",
       " '__hash__',\n",
       " '__init__',\n",
       " '__init_subclass__',\n",
       " '__kwdefaults__',\n",
       " '__le__',\n",
       " '__lt__',\n",
       " '__module__',\n",
       " '__name__',\n",
       " '__ne__',\n",
       " '__new__',\n",
       " '__qualname__',\n",
       " '__reduce__',\n",
       " '__reduce_ex__',\n",
       " '__repr__',\n",
       " '__setattr__',\n",
       " '__sizeof__',\n",
       " '__str__',\n",
       " '__subclasshook__']"
      ]
     },
     "execution_count": 2,
     "metadata": {},
     "output_type": "execute_result"
    }
   ],
   "source": [
    "# First lets see what are the properties does this function object have to inspect\n",
    "\n",
    "dir(my_func)"
   ]
  },
  {
   "cell_type": "code",
   "execution_count": 3,
   "id": "f9d252b1",
   "metadata": {},
   "outputs": [
    {
     "name": "stdout",
     "output_type": "stream",
     "text": [
      "Docstring of my_func is : This function does nothing but have various parameters and annotations\n",
      "Annotations of my_func is : {'a': 'Mandatory Positional', 'b': 'optional positional', 'args': 'add extra positional arguments here', 'kwargs': 'Add extra keyword arguments here', 'return': 'Does nothing'}\n"
     ]
    }
   ],
   "source": [
    "# To get annotations and docstrings we use __doc__ and __annotations__ etc.\n",
    "\n",
    "print(f\"Docstring of my_func is : {my_func.__doc__}\")\n",
    "print(f\"Annotations of my_func is : {my_func.__annotations__}\")"
   ]
  },
  {
   "cell_type": "code",
   "execution_count": 4,
   "id": "e2165650",
   "metadata": {},
   "outputs": [
    {
     "name": "stdout",
     "output_type": "stream",
     "text": [
      "Name of the function is : my_func\n",
      "Positional parameters default values are : (1, 2)\n",
      "Keyword parameter default values are : {'kw2': 100, 'kw3': 200}\n"
     ]
    }
   ],
   "source": [
    "# Now lets see some more properties of my_func\n",
    "\n",
    "print(f\"Name of the function is : {my_func.__name__}\")\n",
    "print(f\"Positional parameters default values are : {my_func.__defaults__}\")\n",
    "print(f\"Keyword parameter default values are : {my_func.__kwdefaults__}\")"
   ]
  },
  {
   "cell_type": "code",
   "execution_count": 5,
   "id": "78ad5018",
   "metadata": {},
   "outputs": [
    {
     "data": {
      "text/plain": [
       "['__class__',\n",
       " '__delattr__',\n",
       " '__dir__',\n",
       " '__doc__',\n",
       " '__eq__',\n",
       " '__format__',\n",
       " '__ge__',\n",
       " '__getattribute__',\n",
       " '__gt__',\n",
       " '__hash__',\n",
       " '__init__',\n",
       " '__init_subclass__',\n",
       " '__le__',\n",
       " '__lt__',\n",
       " '__ne__',\n",
       " '__new__',\n",
       " '__reduce__',\n",
       " '__reduce_ex__',\n",
       " '__repr__',\n",
       " '__setattr__',\n",
       " '__sizeof__',\n",
       " '__str__',\n",
       " '__subclasshook__',\n",
       " 'co_argcount',\n",
       " 'co_cellvars',\n",
       " 'co_code',\n",
       " 'co_consts',\n",
       " 'co_filename',\n",
       " 'co_firstlineno',\n",
       " 'co_flags',\n",
       " 'co_freevars',\n",
       " 'co_kwonlyargcount',\n",
       " 'co_lines',\n",
       " 'co_linetable',\n",
       " 'co_lnotab',\n",
       " 'co_name',\n",
       " 'co_names',\n",
       " 'co_nlocals',\n",
       " 'co_posonlyargcount',\n",
       " 'co_stacksize',\n",
       " 'co_varnames',\n",
       " 'replace']"
      ]
     },
     "execution_count": 5,
     "metadata": {},
     "output_type": "execute_result"
    }
   ],
   "source": [
    "# Now lets see what are the attributes that __code__ object have\n",
    "\n",
    "dir(my_func.__code__)"
   ]
  },
  {
   "cell_type": "code",
   "execution_count": 6,
   "id": "87e7b881",
   "metadata": {},
   "outputs": [
    {
     "name": "stdout",
     "output_type": "stream",
     "text": [
      "Parameters and local variables of my_func are : ('a', 'b', 'c', 'kw1', 'kw2', 'kw3', 'args', 'kwargs', 'i', 'j')\n",
      "Argument count of my_func is : 3\n"
     ]
    }
   ],
   "source": [
    "# But commonly used attributes are co_varnames and co_argcount\n",
    "\n",
    "print(f\"Parameters and local variables of my_func are : {my_func.__code__.co_varnames}\")\n",
    "print(f\"Argument count of my_func is : {my_func.__code__.co_argcount}\")"
   ]
  },
  {
   "cell_type": "code",
   "execution_count": 7,
   "id": "c810edff",
   "metadata": {},
   "outputs": [],
   "source": [
    "# Now lets move towards inspect module in python\n",
    "\n",
    "import inspect\n",
    "\n",
    "from inspect import ismethod, isfunction, isroutine \n"
   ]
  },
  {
   "cell_type": "code",
   "execution_count": 8,
   "id": "99bcca13",
   "metadata": {},
   "outputs": [
    {
     "data": {
      "text/plain": [
       "True"
      ]
     },
     "execution_count": 8,
     "metadata": {},
     "output_type": "execute_result"
    }
   ],
   "source": [
    "isfunction(my_func)"
   ]
  },
  {
   "cell_type": "code",
   "execution_count": 9,
   "id": "fbbe47d7",
   "metadata": {},
   "outputs": [
    {
     "data": {
      "text/plain": [
       "False"
      ]
     },
     "execution_count": 9,
     "metadata": {},
     "output_type": "execute_result"
    }
   ],
   "source": [
    "ismethod(my_func)"
   ]
  },
  {
   "cell_type": "code",
   "execution_count": 10,
   "id": "5d12a66d",
   "metadata": {},
   "outputs": [
    {
     "data": {
      "text/plain": [
       "True"
      ]
     },
     "execution_count": 10,
     "metadata": {},
     "output_type": "execute_result"
    }
   ],
   "source": [
    "isroutine(my_func)"
   ]
  },
  {
   "cell_type": "code",
   "execution_count": 13,
   "id": "d06d29a3",
   "metadata": {},
   "outputs": [
    {
     "data": {
      "text/plain": [
       "False"
      ]
     },
     "execution_count": 13,
     "metadata": {},
     "output_type": "execute_result"
    }
   ],
   "source": [
    "# Now lets see a method here\n",
    "\n",
    "class My_Class:\n",
    "\n",
    "    def f(self):\n",
    "        pass\n",
    "\n",
    "ismethod(My_Class.f)"
   ]
  },
  {
   "cell_type": "code",
   "execution_count": 14,
   "id": "f2b283cb",
   "metadata": {},
   "outputs": [
    {
     "data": {
      "text/plain": [
       "True"
      ]
     },
     "execution_count": 14,
     "metadata": {},
     "output_type": "execute_result"
    }
   ],
   "source": [
    "my_obj  = My_Class()\n",
    "ismethod(my_obj.f)"
   ]
  },
  {
   "cell_type": "code",
   "execution_count": 15,
   "id": "97a6e21f",
   "metadata": {},
   "outputs": [
    {
     "data": {
      "text/plain": [
       "False"
      ]
     },
     "execution_count": 15,
     "metadata": {},
     "output_type": "execute_result"
    }
   ],
   "source": [
    "isfunction(my_obj.f)"
   ]
  },
  {
   "cell_type": "code",
   "execution_count": 17,
   "id": "9239d68e",
   "metadata": {},
   "outputs": [
    {
     "name": "stdout",
     "output_type": "stream",
     "text": [
      "The source code of my_func is : def my_func(a : \"Mandatory Positional\",\n",
      "            b : \"optional positional\" = 1,\n",
      "            c = 2,\n",
      "            *args : \"add extra positional arguments here\",\n",
      "            kw1,\n",
      "            kw2 = 100,\n",
      "            kw3 = 200,\n",
      "            **kwargs : \"Add extra keyword arguments here\") -> \"Does nothing\":\n",
      "\n",
      "    \"\"\"This function does nothing but have various parameters and annotations\"\"\"\n",
      "    i = 10\n",
      "    j = 20\n",
      "\n"
     ]
    }
   ],
   "source": [
    "# Now lets use some common methods in inspect module\n",
    "\n",
    "print(f\"The source code of my_func is : {inspect.getsource(my_func)}\")"
   ]
  },
  {
   "cell_type": "code",
   "execution_count": 18,
   "id": "2b0f0a4d",
   "metadata": {},
   "outputs": [
    {
     "name": "stdout",
     "output_type": "stream",
     "text": [
      "The module name in which my_func is located is : <module '__main__'>\n"
     ]
    }
   ],
   "source": [
    "print(f\"The module name in which my_func is located is : {inspect.getmodule(my_func)}\")"
   ]
  },
  {
   "cell_type": "code",
   "execution_count": 24,
   "id": "86423706",
   "metadata": {},
   "outputs": [
    {
     "name": "stdout",
     "output_type": "stream",
     "text": [
      "The comment defined right before the function definition is : # For inspecting the function lets first define a function with annotations and docstring also.\n",
      "\n"
     ]
    }
   ],
   "source": [
    "print(f\"The comment defined right before the function definition is : {inspect.getcomments(my_func)}\")"
   ]
  },
  {
   "cell_type": "code",
   "execution_count": 25,
   "id": "5b18d968",
   "metadata": {},
   "outputs": [
    {
     "data": {
      "text/plain": [
       "['__class__',\n",
       " '__delattr__',\n",
       " '__dir__',\n",
       " '__doc__',\n",
       " '__eq__',\n",
       " '__format__',\n",
       " '__ge__',\n",
       " '__getattribute__',\n",
       " '__gt__',\n",
       " '__hash__',\n",
       " '__init__',\n",
       " '__init_subclass__',\n",
       " '__le__',\n",
       " '__lt__',\n",
       " '__module__',\n",
       " '__ne__',\n",
       " '__new__',\n",
       " '__reduce__',\n",
       " '__reduce_ex__',\n",
       " '__repr__',\n",
       " '__setattr__',\n",
       " '__setstate__',\n",
       " '__sizeof__',\n",
       " '__slots__',\n",
       " '__str__',\n",
       " '__subclasshook__',\n",
       " '_bind',\n",
       " '_bound_arguments_cls',\n",
       " '_hash_basis',\n",
       " '_parameter_cls',\n",
       " '_parameters',\n",
       " '_return_annotation',\n",
       " 'bind',\n",
       " 'bind_partial',\n",
       " 'empty',\n",
       " 'from_builtin',\n",
       " 'from_callable',\n",
       " 'from_function',\n",
       " 'parameters',\n",
       " 'replace',\n",
       " 'return_annotation']"
      ]
     },
     "execution_count": 25,
     "metadata": {},
     "output_type": "execute_result"
    }
   ],
   "source": [
    "# Now lets see the signature of the function and what attributes the signature object have\n",
    "\n",
    "dir(inspect.signature(my_func))"
   ]
  },
  {
   "cell_type": "code",
   "execution_count": null,
   "id": "691b067b",
   "metadata": {},
   "outputs": [
    {
     "name": "stdout",
     "output_type": "stream",
     "text": [
      "Key is : a\n",
      "Name : a\n",
      "Default : <class 'inspect._empty'>\n",
      "Annotation : Mandatory Positional\n",
      "Kind : POSITIONAL_OR_KEYWORD\n",
      "-------------------------\n",
      "Key is : b\n",
      "Name : b\n",
      "Default : 1\n",
      "Annotation : optional positional\n",
      "Kind : POSITIONAL_OR_KEYWORD\n",
      "-------------------------\n",
      "Key is : c\n",
      "Name : c\n",
      "Default : 2\n",
      "Annotation : <class 'inspect._empty'>\n",
      "Kind : POSITIONAL_OR_KEYWORD\n",
      "-------------------------\n",
      "Key is : args\n",
      "Name : args\n",
      "Default : <class 'inspect._empty'>\n",
      "Annotation : add extra positional arguments here\n",
      "Kind : VAR_POSITIONAL\n",
      "-------------------------\n",
      "Key is : kw1\n",
      "Name : kw1\n",
      "Default : <class 'inspect._empty'>\n",
      "Annotation : <class 'inspect._empty'>\n",
      "Kind : KEYWORD_ONLY\n",
      "-------------------------\n",
      "Key is : kw2\n",
      "Name : kw2\n",
      "Default : 100\n",
      "Annotation : <class 'inspect._empty'>\n",
      "Kind : KEYWORD_ONLY\n",
      "-------------------------\n",
      "Key is : kw3\n",
      "Name : kw3\n",
      "Default : 200\n",
      "Annotation : <class 'inspect._empty'>\n",
      "Kind : KEYWORD_ONLY\n",
      "-------------------------\n",
      "Key is : kwargs\n",
      "Name : kwargs\n",
      "Default : <class 'inspect._empty'>\n",
      "Annotation : Add extra keyword arguments here\n",
      "Kind : VAR_KEYWORD\n",
      "-------------------------\n"
     ]
    }
   ],
   "source": [
    "# The most common attribute is parametes. If you see below param is an object which has name, default, annotation, kind attributs.\n",
    "\n",
    "# You can use dir(param) to know what attributes it actually supports.\n",
    "\n",
    "for key, param in inspect.signature(my_func).parameters.items():\n",
    "    print(f\"Key is : {key}\")\n",
    "    print(f\"Name : {param.name}\")\n",
    "    print(f\"Default : {param.default}\")\n",
    "    print(f\"Annotation : {param.annotation}\")\n",
    "    print(f\"Kind : {param.kind}\")\n",
    "    print(\"-------------------------\")"
   ]
  },
  {
   "cell_type": "code",
   "execution_count": 33,
   "id": "31842be4",
   "metadata": {},
   "outputs": [
    {
     "name": "stdout",
     "output_type": "stream",
     "text": [
      "POSITIONAL_ONLY\n",
      "POSITIONAL_ONLY\n"
     ]
    }
   ],
   "source": [
    "# But we have one more kind of parameter which is Postional Only. We actually cannot define these kind of parameters.\n",
    "\n",
    "# But python internally defines these kind of parameters.\n",
    "\n",
    "for param in inspect.signature(divmod).parameters.values():\n",
    "    print(param.kind)"
   ]
  },
  {
   "cell_type": "code",
   "execution_count": 34,
   "id": "4b179bd9",
   "metadata": {},
   "outputs": [
    {
     "name": "stdout",
     "output_type": "stream",
     "text": [
      "Help on built-in function divmod in module builtins:\n",
      "\n",
      "divmod(x, y, /)\n",
      "    Return the tuple (x//y, x%y).  Invariant: div*y + mod == x.\n",
      "\n"
     ]
    }
   ],
   "source": [
    "# This is happening because divmod has / as parameter which makes before parameters as psotional parameters only\n",
    "\n",
    "help(divmod)"
   ]
  }
 ],
 "metadata": {
  "kernelspec": {
   "display_name": "Python",
   "language": "python",
   "name": "python3"
  },
  "language_info": {
   "codemirror_mode": {
    "name": "ipython",
    "version": 3
   },
   "file_extension": ".py",
   "mimetype": "text/x-python",
   "name": "python",
   "nbconvert_exporter": "python",
   "pygments_lexer": "ipython3",
   "version": "3.10.0"
  }
 },
 "nbformat": 4,
 "nbformat_minor": 5
}
