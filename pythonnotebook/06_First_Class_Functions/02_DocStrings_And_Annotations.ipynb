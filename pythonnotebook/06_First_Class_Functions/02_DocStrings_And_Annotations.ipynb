{
 "cells": [
  {
   "cell_type": "markdown",
   "id": "33a21137",
   "metadata": {},
   "source": [
    "# Docstrings And Annotations"
   ]
  },
  {
   "cell_type": "markdown",
   "id": "4e262d26",
   "metadata": {},
   "source": [
    "# Docstrings\n",
    "\n",
    "- Before going to learn about first class functions, lets first see how to document a function.\n",
    "\n",
    "- We have seen `help(x)` function before, which returns the documentation of object x if that object is available in python. Similary we can document our own functions, modules and classes to achieve the same result by using docstrings.\n",
    "\n",
    "- <b>Docstrings</b> are simply strings. If the first line of the function statement is a string (not an assigment, comment. It just a string) then it will be interpreted as docstring.\n",
    " \n",
    "  **Ex**\n",
    "\n",
    "  ```python\n",
    "\n",
    "  def func(a):\n",
    "\n",
    "    \"documentation of function\"\n",
    "\n",
    "    return a\n",
    "\n",
    "  ```\n",
    "\n",
    "  When you have executed the `help(func)` then it would result like the following. \n",
    "\n",
    "  ```python\n",
    "\n",
    "  func(a)\n",
    "    documentation of function\n",
    "\n",
    "  ```\n",
    "- We can write multiline docstrings by using multi line strings. All these docstrings are strored in `__doc__` method of that function object. When you execute `function_name.__doc__` then it returns the documentation of that fucntion object. If you executed `help(function_name)` then it actually returns the function signature (or header) and its documentation.\n",
    "\n",
    "- So docstrings are simply used to document our custom functions, modules and classes itself by making first line of that object as string and that string is called as docstring.\n",
    "\n",
    "  **Note** : We can write the parameter information that means what is the type of each paramater and what the parameter indicates and what does it return in the docstring. Anything you want to document about that object then you can write in that docstring."
   ]
  },
  {
   "cell_type": "code",
   "execution_count": 1,
   "id": "31a63f2e",
   "metadata": {},
   "outputs": [],
   "source": [
    "# Now lets do docstrings \n",
    "\n",
    "def func(a , b) :\n",
    "\n",
    "    return a*b"
   ]
  },
  {
   "cell_type": "code",
   "execution_count": 2,
   "id": "7df0800b",
   "metadata": {},
   "outputs": [
    {
     "name": "stdout",
     "output_type": "stream",
     "text": [
      "Help on function func in module __main__:\n",
      "\n",
      "func(a, b)\n",
      "\n"
     ]
    }
   ],
   "source": [
    "# Suppose if you use help(func) then it actually returns the function header only.\n",
    "\n",
    "help(func) "
   ]
  },
  {
   "cell_type": "code",
   "execution_count": 3,
   "id": "d6016d63",
   "metadata": {},
   "outputs": [
    {
     "name": "stdout",
     "output_type": "stream",
     "text": [
      "Help on function func in module __main__:\n",
      "\n",
      "func(a, b)\n",
      "    This is the documentation of the func\n",
      "\n"
     ]
    }
   ],
   "source": [
    "# If you write any here any docstring in that function then it will return it also.\n",
    "\n",
    "def func(a, b):\n",
    "\n",
    "    \"\"\"This is the documentation of the func\"\"\"\n",
    "\n",
    "    return a * b\n",
    "\n",
    "help(func)\n",
    "\n",
    "# Here we can see the function documentation also."
   ]
  },
  {
   "cell_type": "code",
   "execution_count": 4,
   "id": "dc72c901",
   "metadata": {},
   "outputs": [
    {
     "name": "stdout",
     "output_type": "stream",
     "text": [
      "Help on function func in module __main__:\n",
      "\n",
      "func(a, b)\n",
      "    This will return the a times b -> a * b\n",
      "\n"
     ]
    }
   ],
   "source": [
    "# Suppose i have written the documentation like this \n",
    "\n",
    "def func(a,b):\n",
    "\n",
    "    'This will return the a times b -> a * b'\n",
    "\n",
    "    \"\"\"This is the documentation of the func\"\"\"\n",
    "\n",
    "    return a * b\n",
    "\n",
    "help(func)\n",
    "\n",
    "# Here we can see that we only first string as function as function documentation, because as we know the first string in the function itself a docstring only. So we got first line itself.\n"
   ]
  },
  {
   "cell_type": "code",
   "execution_count": 5,
   "id": "43584fce",
   "metadata": {},
   "outputs": [
    {
     "data": {
      "text/plain": [
       "'This will return the a times b -> a * b'"
      ]
     },
     "execution_count": 5,
     "metadata": {},
     "output_type": "execute_result"
    }
   ],
   "source": [
    "# All these docstrings are stored in __doc__ property of that function\n",
    "\n",
    "func.__doc__\n",
    "\n",
    "# Actually all these docstring are stored in the __doc__ property once we have created the function in the memory itself which is similar to default value case."
   ]
  },
  {
   "cell_type": "markdown",
   "id": "9befc230",
   "metadata": {},
   "source": [
    "## Function Annotations\n",
    "\n",
    "- Function Annotations are simply another way of documenting the functions. The syntax of function annotations is :\n",
    "\n",
    "  **Syntax**\n",
    "\n",
    "  ```python\n",
    "\n",
    "  def my_func(a : <expression1>, b : <expression2>) -> <expression3>:\n",
    "\n",
    "    pass\n",
    "\n",
    "  ```\n",
    " \n",
    "  Here expression1 and expression2 can be anything that describes the given parameters of the function. And expression3 might describes, what that function might return or what that function actually performs. Anything you can write in that expression such as object or any types etc. These expressions won't effect the python code.\n",
    "\n",
    "  **Ex : 1**\n",
    "\n",
    "  ```python\n",
    "\n",
    "  def my_func(a : \"a string\", b : \"a positive number\") -> \"a string\":\n",
    "\n",
    "    return a*b\n",
    "\n",
    "  ```\n",
    "\n",
    "  Then `help(my_func)` returns the following :\n",
    "\n",
    "  ```python\n",
    "\n",
    "   my_func(a : \"a string\", b : \"a positive number\") -> \"a string\"\n",
    "\n",
    "  ```\n",
    "\n",
    "  **Ex : 2**\n",
    "\n",
    "  ```python\n",
    "\n",
    "  def func(a : str, b : int) -> int:\n",
    "\n",
    "    return a * b\n",
    "\n",
    "  ```\n",
    "\n",
    "  In this function definition, it is not forcing a to be string and b to be int and return type is int. They are just describing a is string and b is integer type and return type is int for this function func. The function will run eventhough you given int for a also. It doesn't a problem. Annotation can be any expressions.\n",
    "\n",
    "  Eventhough there are annotations for each parameter we can use the default values to parameters as usual.\n",
    "\n",
    "  **Ex : 3**\n",
    "\n",
    "  ```python\n",
    "\n",
    "  def func(a : str = 'xyz', *args : 'additional parameters', b : int = 1, *kwargs : 'additional keyword only arguments') -> str :\n",
    "\n",
    "    pass\n",
    "\n",
    "  ```\n",
    "\n",
    "  This is how we can pass default arguments eventhough we have annotations.\n",
    "\n",
    "- Function Annotation are stored in the `__annotations__` property of the function. These annotations are not stored in `__doc__` method. But these annotations are stored as dictionary format where keys are parameters but for return annotation key is return itself and values are the annotations.\n",
    "\n",
    "  **Ex**\n",
    "\n",
    "  ```python\n",
    "\n",
    "  def my_func(a : 'info on a', b : int) -> float :\n",
    "\n",
    "    pass\n",
    "\n",
    "  ```\n",
    "\n",
    "  `my_func.__annotations__` -> { a : 'info on a', b : int, return : float}\n",
    "\n",
    "  These Annotations and docstrings are mainly used when your modules are accessed by other users. These users uses external softwares such as sphinx which produces nice documents for our python code by exatracting the docstrings and annotations with effecting the python code.\n",
    "\n"
   ]
  },
  {
   "cell_type": "code",
   "execution_count": 6,
   "id": "f0f73c7d",
   "metadata": {},
   "outputs": [
    {
     "name": "stdout",
     "output_type": "stream",
     "text": [
      "Help on function func in module __main__:\n",
      "\n",
      "func(a: str, b: 'some integer' = 1) -> 'a string'\n",
      "\n"
     ]
    }
   ],
   "source": [
    "# Now lets see function annotations\n",
    "\n",
    "def func(a : str, b : 'some integer' = 1) -> 'a string':\n",
    "\n",
    "    return a * b\n",
    "\n",
    "help(func)\n",
    "\n",
    "# Here we have retrived the function annotations by using the help function"
   ]
  },
  {
   "cell_type": "code",
   "execution_count": 7,
   "id": "0623a286",
   "metadata": {},
   "outputs": [
    {
     "name": "stdout",
     "output_type": "stream",
     "text": [
      "None\n",
      "{'a': <class 'str'>, 'b': 'some integer', 'return': 'a string'}\n"
     ]
    }
   ],
   "source": [
    "# All these annotations are stored in the __annotations__ property of that function.\n",
    "\n",
    "print(func.__doc__) # It will return the empty value or None. Because annotations are not stored in the __doc__ property.\n",
    "\n",
    "print(func.__annotations__) # It will returns the annotations in dictionary format"
   ]
  },
  {
   "cell_type": "code",
   "execution_count": 8,
   "id": "45d97c8e",
   "metadata": {},
   "outputs": [],
   "source": [
    "# As we know annotations and docstrings are created as soon as the function got created in te memory\n",
    "\n",
    "x = 5\n",
    "y = 10\n",
    "\n",
    "def func(a : str, b : 'an integer' = max(x,y)) -> 'a is repeated ' + str(max(x,y)) + ' times' :\n",
    "\n",
    "    \"This function will repeates string a as b times\"\n",
    "\n",
    "    print(b)\n",
    "    return a * b\n",
    "                                                                         "
   ]
  },
  {
   "cell_type": "code",
   "execution_count": 9,
   "id": "99e7eef0",
   "metadata": {},
   "outputs": [
    {
     "name": "stdout",
     "output_type": "stream",
     "text": [
      "Help on function func in module __main__:\n",
      "\n",
      "func(a: str, b: 'an integer' = 10) -> 'a is repeated 10 times'\n",
      "    This function will repeates string a as b times\n",
      "\n"
     ]
    }
   ],
   "source": [
    "help(func)\n",
    "\n",
    "# Here we can see b got evaluated in the function creation itself and also return annotation got evaluated.\n"
   ]
  },
  {
   "cell_type": "code",
   "execution_count": 10,
   "id": "afe3a243",
   "metadata": {},
   "outputs": [
    {
     "name": "stdout",
     "output_type": "stream",
     "text": [
      "Help on function func in module __main__:\n",
      "\n",
      "func(a: str, b: 'an integer' = 10) -> 'a is repeated 10 times'\n",
      "    This function will repeates string a as b times\n",
      "\n"
     ]
    }
   ],
   "source": [
    "# Suppose now we have changed the value of y. And run the help function again.\n",
    "\n",
    "y = 20\n",
    "\n",
    "help(func)\n",
    "\n",
    "# Actually max(x,y) should be 20 now. Since annotations and default values are created at functions creation itself, so their values are not changed eventhough y value got changed."
   ]
  },
  {
   "cell_type": "code",
   "execution_count": null,
   "id": "68843423",
   "metadata": {},
   "outputs": [],
   "source": [
    "# So we can say docstrings and function annotations are simply used for documentation purpose only. They doesn't effect any other python code."
   ]
  }
 ],
 "metadata": {
  "kernelspec": {
   "display_name": "Python",
   "language": "python",
   "name": "python3"
  },
  "language_info": {
   "codemirror_mode": {
    "name": "ipython",
    "version": 3
   },
   "file_extension": ".py",
   "mimetype": "text/x-python",
   "name": "python",
   "nbconvert_exporter": "python",
   "pygments_lexer": "ipython3",
   "version": "3.10.0"
  }
 },
 "nbformat": 4,
 "nbformat_minor": 5
}
