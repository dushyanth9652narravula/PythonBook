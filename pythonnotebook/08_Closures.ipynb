{
 "cells": [
  {
   "cell_type": "markdown",
   "id": "388d33b9",
   "metadata": {},
   "source": [
    "# Closures\n",
    "\n",
    "## Introduction\n",
    "\n",
    "- As we know functions defined inside another function can access the outer (nonlocal) variables. Suppose consider the following example\n",
    "\n",
    "  ```python\n",
    "\n",
    "  def outer():\n",
    "\n",
    "    x = 'python'\n",
    "\n",
    "    def inner():\n",
    "\n",
    "        print(\"{0} rocks!\".format(x))\n",
    "\n",
    "    return inner\n",
    "\n",
    "  fn = outer()\n",
    "\n",
    "  fn()\n",
    "\n",
    "  ```\n",
    "\n",
    "  In this code, varibale `x` in inner() refers to one in outer's scope and we call this nonlocal variable `x` as free variable. In this code when we call outer() function then it first a new scope gets created and in that scope variable `x` and function `inner` gets created. And here we are returning the function object. Once the `inner()` function object gets returned then scope of outer() function gets deleted. Then variable `x` also gets deleted. Now a new question is raised i.e if variable `x` gets deleted then how the inner() function access the variable `x` now. But it can access that variable `x` and prints te outputs as `python rocks!`. The reason behind this output is because of closures.\n",
    "\n",
    "- A closure is a function object that remembers the values in enclosing scopes even if they are not in memory anymore. To eloborate this a closure occurs when a nested function (a function defined inside another function) remembers and uses variables from its enclosing scope, even after the outer function has finished executing. So simply closure is function and free variables. In above example closure is nothing but function `inner` and free variable `x`. \n",
    "\n",
    "- So what python actually doing is it actually creates an internal object called `cell` and that cell points to object refereing by the free varaible and these free variable in outer and inner refers to this cell. And object returned by the outer function is not just function object it is actually a closure. Since these closures remembering the free variables by using the indirect reference called `cell`, they can able to get those nonlocal variables eventhough nonlocal scope got exhausted.\n",
    "\n",
    "- CLosures only form with nonlocal variables only. They don't form with global varaibles. To know the free variables and closures, we can use these syntax. Those are : `<function_object or closure>.__code__.cofreevars` to get free vriables and `<function_object or closure>.__closure__` to get the closure cell address and its reference object.\n",
    "\n",
    "  **Ex**\n",
    "\n",
    "  ```python\n",
    "\n",
    "  def outer():\n",
    "\n",
    "    x = \"python\"\n",
    "\n",
    "    def inner():\n",
    "\n",
    "      print(x)\n",
    "\n",
    "    return inner\n",
    "\n",
    "  outer()\n",
    "\n",
    "  ```\n",
    "\n",
    "  Here the value of `x` is shared between the two scopes. One is `outer` and another one is `closure`. Here the label of x is in two different scopes but always reference the same value. Python does this by creating the a `cell` an intermediary object which refers the actual value of `x` and `x` in two different scopes (`outer` and `inner`) refers to this `cell` object. When we requesting the value of the variable, python will double hop and gets the value. \n",
    "\n",
    "\n",
    "  <img src=\"closure.png\" alt=\"Closure Mechanism in Python\" width=\"1200\"/>"
   ]
  },
  {
   "cell_type": "markdown",
   "id": "a9dc6596",
   "metadata": {},
   "source": []
  }
 ],
 "metadata": {
  "language_info": {
   "name": "python"
  }
 },
 "nbformat": 4,
 "nbformat_minor": 5
}
