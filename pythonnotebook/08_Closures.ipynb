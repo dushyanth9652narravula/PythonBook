{
 "cells": [
  {
   "cell_type": "markdown",
   "id": "388d33b9",
   "metadata": {},
   "source": [
    "# Closures\n",
    "\n",
    "## Introduction\n",
    "\n",
    "- As we know functions defined inside another function can access the outer (nonlocal) variables. Suppose consider the following example\n",
    "\n",
    "  ```python\n",
    "\n",
    "  def outer():\n",
    "\n",
    "    x = 'python'\n",
    "\n",
    "    def inner():\n",
    "\n",
    "        print(\"{0} rocks!\".format(x))\n",
    "\n",
    "    return inner\n",
    "\n",
    "  fn = outer()\n",
    "\n",
    "  fn()\n",
    "\n",
    "  ```\n",
    "\n",
    "  In this code, varibale `x` in inner() refers to one in outer's scope and we call this nonlocal variable `x` as free variable. In this code when we call outer() function then it first a new scope gets created and in that scope variable `x` and function `inner` gets created. And here we are returning the function object. Once the `inner()` function object gets returned then scope of outer() function gets deleted. Then variable `x` also gets deleted. Now a new question is raised i.e if variable `x` gets deleted then how the inner() function access the variable `x` now. But it can access that variable `x` and prints te outputs as `python rocks!`. The reason behind this output is because of closures.\n",
    "\n",
    "- A closure is a function object that remembers the values in enclosing scopes even if they are not in memory anymore. To eloborate this a closure occurs when a nested function (a function defined inside another function) remembers and uses variables from its enclosing scope, even after the outer function has finished executing. So simply closure is function and free variables. In above example closure is nothing but function `inner` and free variable `x`. \n",
    "\n",
    "- So what python actually doing is it actually creates an internal object called `cell` and that cell points to object refereing by the free varaible and these free variable in outer and inner refers to this cell. And object returned by the outer function is not just function object it is actually a closure. Since these closures remembering the free variables by using the indirect reference called `cell`, they can able to get those nonlocal variables eventhough nonlocal scope got exhausted.\n",
    "\n",
    "- CLosures only form with nonlocal variables only. They don't form with global varaibles. To know the free variables and closures, we can use these syntax. Those are : `<function_object or closure>.__code__.cofreevars` to get free vriables and `<function_object or closure>.__closure__` to get the closure cell address and its reference object.\n",
    "\n",
    "  **Ex**\n",
    "\n",
    "  ```python\n",
    "\n",
    "  def outer():\n",
    "\n",
    "    x = \"python\"\n",
    "\n",
    "    def inner():\n",
    "\n",
    "      print(x)\n",
    "\n",
    "    return inner\n",
    "\n",
    "  fn = outer()\n",
    "  fn()\n",
    "\n",
    "  ```\n",
    "\n",
    "  Here the value of `x` is shared between the two scopes. One is `outer` and another one is `closure`. Here the label of x is in two different scopes but always reference the same value. Python does this by creating the a `cell` an intermediary object which refers the actual value of `x` and `x` in two different scopes (`outer` and `inner`) refers to this `cell` object. When we requesting the value of the variable, python will double hop and gets the value. \n",
    "\n",
    "\n",
    "  <img src=\"_static\\closure.png\" alt=\"Closure Mechanism in Python\" width=\"1200\"/>\n",
    "\n",
    "  From the image we can say closure as `function -> inner + extended scope x (cell)`\n",
    "\n",
    "- So we can think closure as a function + an extended scope that contains the free variables. The free variables value is the object the cell points to -so that could change over time. Every time the function in the closure is called and the free variance gets referenced then python looks up the cell object and then return whatever the cell is pointing.\n",
    "\n"
   ]
  },
  {
   "cell_type": "markdown",
   "id": "a9dc6596",
   "metadata": {},
   "source": [
    "## Modifying the free variables\n",
    "\n",
    "- Consider an the following code :\n",
    "\n",
    "  ```python\n",
    "\n",
    "  def counter():\n",
    "\n",
    "    count = 0\n",
    "\n",
    "    def inc():\n",
    "\n",
    "        nonlocal count\n",
    "\n",
    "        count += 1\n",
    "        return count\n",
    "\n",
    "    return inc\n",
    "  \n",
    "  fn = counter()\n",
    "  fn()\n",
    "\n",
    "  ```\n",
    "\n",
    "  Here if you see the free variable is count. So closure contains the `inc()` function and free variable `count`. When counter counter() function gets executed, we get a closure as return value. At first cell points to the integer object `0`. Whenever that closure gets called the cell starts point to integer object `1`. If you again run the closure the cell now points to integer object `2`. But variable count in both counter() and inc() functions refer to same cell. Just the object referenced by cell gets changing here.\n"
   ]
  },
  {
   "cell_type": "code",
   "execution_count": 1,
   "id": "61a447d4",
   "metadata": {},
   "outputs": [],
   "source": [
    "# Now lets see this in practice\n",
    "\n",
    "def counter():\n",
    "\n",
    "    count = 0\n",
    "\n",
    "    def inc():\n",
    "        \n",
    "        nonlocal count\n",
    "\n",
    "        count +=1\n",
    "\n",
    "        return count\n",
    "    return inc\n",
    "\n",
    "fn = counter()"
   ]
  },
  {
   "cell_type": "code",
   "execution_count": null,
   "id": "01b9ee00",
   "metadata": {},
   "outputs": [
    {
     "data": {
      "text/plain": [
       "('count',)"
      ]
     },
     "execution_count": 3,
     "metadata": {},
     "output_type": "execute_result"
    }
   ],
   "source": [
    "# Now lets introspect the closure using fn\n",
    "\n",
    "fn.__code__.co_freevars\n",
    "\n",
    "# Here we can see the free variables in the closure which is count"
   ]
  },
  {
   "cell_type": "code",
   "execution_count": null,
   "id": "4072b22b",
   "metadata": {},
   "outputs": [
    {
     "data": {
      "text/plain": [
       "(<cell at 0x000002B13010B400: int object at 0x000002B12A7D00D0>,)"
      ]
     },
     "execution_count": 4,
     "metadata": {},
     "output_type": "execute_result"
    }
   ],
   "source": [
    "# Now lets see the cell and what cell actually pointing to\n",
    "\n",
    "fn.__closure__\n",
    "\n",
    "# Here we can see the cell memory address and integer object memory address"
   ]
  },
  {
   "cell_type": "code",
   "execution_count": null,
   "id": "331bc194",
   "metadata": {},
   "outputs": [
    {
     "data": {
      "text/plain": [
       "'0x2b12a7d00d0'"
      ]
     },
     "execution_count": 5,
     "metadata": {},
     "output_type": "execute_result"
    }
   ],
   "source": [
    "# As we know this integer is 0 and since 0 is singleton object, then it memory address is fixed.\n",
    "\n",
    "hex(id(0))\n",
    "\n",
    "# So if you compare both the memory address is same."
   ]
  },
  {
   "cell_type": "code",
   "execution_count": null,
   "id": "964156b2",
   "metadata": {},
   "outputs": [
    {
     "data": {
      "text/plain": [
       "(<cell at 0x000002B13010B400: int object at 0x000002B12A7D00F0>,)"
      ]
     },
     "execution_count": 6,
     "metadata": {},
     "output_type": "execute_result"
    }
   ],
   "source": [
    "# Now lets call the function\n",
    "\n",
    "fn()\n",
    "\n",
    "fn.__closure__\n",
    "\n",
    "# If you see the address of integer object gets changed, now it should points to 1"
   ]
  },
  {
   "cell_type": "code",
   "execution_count": null,
   "id": "ce238f5f",
   "metadata": {},
   "outputs": [
    {
     "data": {
      "text/plain": [
       "'0x2b12a7d00f0'"
      ]
     },
     "execution_count": 7,
     "metadata": {},
     "output_type": "execute_result"
    }
   ],
   "source": [
    "# Lets check the address of 1 as it is also a singleton object\n",
    "\n",
    "hex(id(1))\n",
    "\n",
    "# If you see both address are same"
   ]
  },
  {
   "cell_type": "code",
   "execution_count": 8,
   "id": "6f18ad83",
   "metadata": {},
   "outputs": [
    {
     "data": {
      "text/plain": [
       "(<cell at 0x000002B13010B400: int object at 0x000002B12A7D0110>,)"
      ]
     },
     "execution_count": 8,
     "metadata": {},
     "output_type": "execute_result"
    }
   ],
   "source": [
    "# Lets again call the function\n",
    "\n",
    "fn()\n",
    "\n",
    "fn.__closure__"
   ]
  },
  {
   "cell_type": "code",
   "execution_count": null,
   "id": "7f455e05",
   "metadata": {},
   "outputs": [
    {
     "data": {
      "text/plain": [
       "'0x2b12a7d0110'"
      ]
     },
     "execution_count": 9,
     "metadata": {},
     "output_type": "execute_result"
    }
   ],
   "source": [
    "hex(id(2))\n",
    "\n",
    "# If you see in all the three cases cell object is same, the only thing changing is the object referenced by cell. This is how python modifies free variables."
   ]
  },
  {
   "cell_type": "markdown",
   "id": "2a8ddd79",
   "metadata": {},
   "source": [
    "## Multiple Instances of Closure\n",
    "\n",
    "- As we know, Everytime we run a function a new scope gets created. If the function generates a closure then a new closure also gets created everytime.\n",
    "\n",
    "- Consider the same example provided above , if you executed the `fn1 = counter()` then a new scope and closure gets generated (that means new cell object gets created). If you again run the counter function as `fn2 = counter()` a new scope and closure gets created which is different from initial scope and clsoure."
   ]
  },
  {
   "cell_type": "code",
   "execution_count": 10,
   "id": "2eed23ac",
   "metadata": {},
   "outputs": [],
   "source": [
    "def counter():\n",
    "\n",
    "    count = 0\n",
    "\n",
    "    def inc():\n",
    "        nonlocal count\n",
    "        count += 1\n",
    "        return count\n",
    "    return inc"
   ]
  },
  {
   "cell_type": "code",
   "execution_count": 11,
   "id": "d96e5002",
   "metadata": {},
   "outputs": [
    {
     "data": {
      "text/plain": [
       "(<cell at 0x000002B1301093F0: int object at 0x000002B12A7D00D0>,)"
      ]
     },
     "execution_count": 11,
     "metadata": {},
     "output_type": "execute_result"
    }
   ],
   "source": [
    "fn1 = counter()\n",
    "\n",
    "fn1.__closure__"
   ]
  },
  {
   "cell_type": "code",
   "execution_count": null,
   "id": "bbaa3a2c",
   "metadata": {},
   "outputs": [
    {
     "data": {
      "text/plain": [
       "(<cell at 0x000002B130108CA0: int object at 0x000002B12A7D00D0>,)"
      ]
     },
     "execution_count": 12,
     "metadata": {},
     "output_type": "execute_result"
    }
   ],
   "source": [
    "fn2 = counter()\n",
    "\n",
    "fn2.__closure__\n",
    "\n",
    "# If you observe the cell addresses of bot closures, they are different. From this we can say everytime you run the function a new scope gets created\n",
    "# If it generates closure, a new closure also gets created."
   ]
  },
  {
   "cell_type": "markdown",
   "id": "74555f80",
   "metadata": {},
   "source": [
    "## Shared Extended Scopes\n",
    "\n",
    "- Consider the following example :\n",
    "\n",
    "  ```python\n",
    "\n",
    "  def outer():\n",
    "\n",
    "    count = 0\n",
    "\n",
    "    def inc1():\n",
    "        nonlocal count\n",
    "\n",
    "        count + = 1\n",
    "\n",
    "        return count\n",
    "\n",
    "    def inc2():\n",
    "        nonlocal count\n",
    "\n",
    "        count + = 1\n",
    "\n",
    "        return count\n",
    "\n",
    "    return inc1,inc2\n",
    "\n",
    "  fn1,fn2 = outer()\n",
    "  fn1()\n",
    "  fn2()\n",
    "\n",
    "  ```\n",
    "\n",
    "- In this example if you see closure generated by the function inc1() and inc2() share same free variable which means both closures generates same cell object and free variable in these two closures points to same cell."
   ]
  },
  {
   "cell_type": "code",
   "execution_count": 15,
   "id": "c401480b",
   "metadata": {},
   "outputs": [],
   "source": [
    "def outer():\n",
    "\n",
    "    count = 0\n",
    "\n",
    "    def inc1():\n",
    "        nonlocal count\n",
    "\n",
    "        count += 1\n",
    "\n",
    "        return count\n",
    "\n",
    "    def inc2():\n",
    "        nonlocal count\n",
    "\n",
    "        count += 1\n",
    "\n",
    "        return count\n",
    "\n",
    "    return inc1,inc2\n",
    "\n",
    "fn1,fn2 = outer()"
   ]
  },
  {
   "cell_type": "code",
   "execution_count": 16,
   "id": "eb61fb8a",
   "metadata": {},
   "outputs": [
    {
     "data": {
      "text/plain": [
       "(<cell at 0x000002B13010A260: int object at 0x000002B12A7D00D0>,)"
      ]
     },
     "execution_count": 16,
     "metadata": {},
     "output_type": "execute_result"
    }
   ],
   "source": [
    "fn1.__closure__"
   ]
  },
  {
   "cell_type": "code",
   "execution_count": 17,
   "id": "474f86c2",
   "metadata": {},
   "outputs": [
    {
     "data": {
      "text/plain": [
       "(<cell at 0x000002B13010A260: int object at 0x000002B12A7D00D0>,)"
      ]
     },
     "execution_count": 17,
     "metadata": {},
     "output_type": "execute_result"
    }
   ],
   "source": [
    "fn2.__closure__"
   ]
  },
  {
   "cell_type": "code",
   "execution_count": 18,
   "id": "31eee04c",
   "metadata": {},
   "outputs": [
    {
     "data": {
      "text/plain": [
       "1"
      ]
     },
     "execution_count": 18,
     "metadata": {},
     "output_type": "execute_result"
    }
   ],
   "source": [
    "# If you see you share same cell object, so they will increment same count.\n",
    "\n",
    "fn1()"
   ]
  },
  {
   "cell_type": "code",
   "execution_count": 19,
   "id": "4cd66644",
   "metadata": {},
   "outputs": [
    {
     "data": {
      "text/plain": [
       "2"
      ]
     },
     "execution_count": 19,
     "metadata": {},
     "output_type": "execute_result"
    }
   ],
   "source": [
    "fn2()"
   ]
  },
  {
   "cell_type": "code",
   "execution_count": null,
   "id": "b2d0b12d",
   "metadata": {},
   "outputs": [
    {
     "data": {
      "text/plain": [
       "3"
      ]
     },
     "execution_count": 21,
     "metadata": {},
     "output_type": "execute_result"
    }
   ],
   "source": [
    "fn1()\n",
    "\n",
    "# If you see both are incrementing same count. This is how shared closures work."
   ]
  },
  {
   "cell_type": "code",
   "execution_count": 25,
   "id": "16ea512d",
   "metadata": {},
   "outputs": [
    {
     "data": {
      "text/plain": [
       "11"
      ]
     },
     "execution_count": 25,
     "metadata": {},
     "output_type": "execute_result"
    }
   ],
   "source": [
    "# But we may think shared extended scopes are highly unusual which may not occur in real life scenario. But consider the following example\n",
    "\n",
    "def adder(n):\n",
    "    def inner(x):\n",
    "        return x + n\n",
    "    return inner\n",
    "\n",
    "# Here n is free variable.\n",
    "\n",
    "add_1 = adder(1) # This adder add 1 to each number you have provided\n",
    "\n",
    "add_2 = adder(2) # This adder adds 2 to each number you have provided\n",
    "\n",
    "add_3 = adder(3) # This adder adds 3 to each number you have provided\n",
    "\n",
    "# Here we have got three different closures as we have called adder function three times.\n",
    "\n",
    "add_1(10)"
   ]
  },
  {
   "cell_type": "code",
   "execution_count": 26,
   "id": "651fc734",
   "metadata": {},
   "outputs": [
    {
     "data": {
      "text/plain": [
       "12"
      ]
     },
     "execution_count": 26,
     "metadata": {},
     "output_type": "execute_result"
    }
   ],
   "source": [
    "add_2(10)"
   ]
  },
  {
   "cell_type": "code",
   "execution_count": 27,
   "id": "9548ffa4",
   "metadata": {},
   "outputs": [
    {
     "data": {
      "text/plain": [
       "13"
      ]
     },
     "execution_count": 27,
     "metadata": {},
     "output_type": "execute_result"
    }
   ],
   "source": [
    "add_3(10)"
   ]
  },
  {
   "cell_type": "code",
   "execution_count": 28,
   "id": "67bdc342",
   "metadata": {},
   "outputs": [
    {
     "name": "stdout",
     "output_type": "stream",
     "text": [
      "[<function <lambda> at 0x000002B12F10A950>, <function <lambda> at 0x000002B1302C7640>, <function <lambda> at 0x000002B1302C6D40>]\n"
     ]
    }
   ],
   "source": [
    "# But generally we don't like to hardcode these things if we have loops in python. So we can write above code as like this\n",
    "\n",
    "adders = []\n",
    "for n in range(1,4):\n",
    "\n",
    "    adders.append(lambda x : x + n)\n",
    "\n",
    "# Here we think all the three adders are append into list. But here we ave shared variable of n in all these three cases.\n",
    "\n",
    "# At first n points to 1 and lambda function gets appended into adders list. Next n points to 2 since lambda function is not evaluated now,\n",
    "# so n value in first lambda function also changed. At last all three lambda functions have same n which points to 3 only.\n",
    "\n",
    "print(adders)"
   ]
  },
  {
   "cell_type": "code",
   "execution_count": null,
   "id": "0ba28820",
   "metadata": {},
   "outputs": [
    {
     "name": "stdout",
     "output_type": "stream",
     "text": [
      "13\n",
      "13\n",
      "13\n"
     ]
    }
   ],
   "source": [
    "print(adders[0](10))\n",
    "print(adders[1](10))\n",
    "print(adders[2](10))\n",
    "\n",
    "# As we see all results same value. These problems might happen if we have shared varaibles. So we need to take care while dealing problems with shared closures or variables.\n"
   ]
  },
  {
   "cell_type": "code",
   "execution_count": null,
   "id": "d5d64c3b",
   "metadata": {},
   "outputs": [],
   "source": [
    "# Here lambda is not a closure as n is global variable. Closure generated only with nonlocal variables.\n",
    "\n",
    "adders[0].__closure__\n",
    "\n",
    "# If you see nothing gets printed"
   ]
  },
  {
   "cell_type": "code",
   "execution_count": null,
   "id": "c09b5b15",
   "metadata": {},
   "outputs": [
    {
     "data": {
      "text/plain": [
       "()"
      ]
     },
     "execution_count": 34,
     "metadata": {},
     "output_type": "execute_result"
    }
   ],
   "source": [
    "adders[0].__code__.co_freevars\n",
    "\n",
    "# We can see that we got an empty tuple of free variables. From these we can say that clsoures are formed with nonlocal variables only."
   ]
  },
  {
   "cell_type": "markdown",
   "id": "f742aa35",
   "metadata": {},
   "source": [
    "**Note** : Similar to shared closures we have nested closures also which are also follows same concept. One example for nested closures is the following code.\n",
    "\n",
    "```python\n",
    "\n",
    "def incrementor(n):\n",
    "\n",
    "    def inner(start):\n",
    "        current = start\n",
    "\n",
    "        def inc():\n",
    "            nonlocal current\n",
    "\n",
    "            current += n\n",
    "            return current\n",
    "\n",
    "        return inc\n",
    "    \n",
    "    return inner\n",
    "\n",
    "```\n",
    "\n",
    "`fn = incrementor(2)` -> `fn.__code__.co_freevars` -> ('n') where  n = 2\n",
    "\n",
    "`inc_2 = fn(100)` -> `inc_2.__code__.co_freevars` -> ('current', 'n') where current = 100, n = 2\n",
    "\n",
    "`inc_2()` -> 102\n",
    "\n",
    "`inc_2()` -> 104"
   ]
  }
 ],
 "metadata": {
  "kernelspec": {
   "display_name": "Python",
   "language": "python",
   "name": "python3"
  },
  "language_info": {
   "codemirror_mode": {
    "name": "ipython",
    "version": 3
   },
   "file_extension": ".py",
   "mimetype": "text/x-python",
   "name": "python",
   "nbconvert_exporter": "python",
   "pygments_lexer": "ipython3",
   "version": "3.10.0"
  }
 },
 "nbformat": 4,
 "nbformat_minor": 5
}
