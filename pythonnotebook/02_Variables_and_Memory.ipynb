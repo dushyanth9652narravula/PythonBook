{
 "cells": [
  {
   "cell_type": "markdown",
   "id": "7a533084",
   "metadata": {},
   "source": [
    "# Variables and Memory"
   ]
  },
  {
   "cell_type": "markdown",
   "id": "02d5751c",
   "metadata": {},
   "source": [
    "## 1) Variables and Memory References\n",
    "\n",
    "- Variables are the placeholders of data in python. The variables we create are just memory references. They didn't equal to data value. They actually refer the memory address where actual data is stored in. \n",
    "\n",
    "- Generally memory is divided into slots. Each slot has an unique memory address. These unique memory address actually stores original data. Since we cannot remember these memory addresses, we actually create an aliases to these memory addresses as variables.\n",
    "\n",
    "- So, when we want to display the value of the variable, then python looks for memory address referenced by that variable and finds the value present in it and then displays that value to the console.\n",
    "\n",
    "- To check the memory address referenced by the variable, we use the `id()` function. It returns the decimal value of the memory address. If we want the hexadecimal value then we use `hex(id())` function."
   ]
  },
  {
   "cell_type": "code",
   "execution_count": 1,
   "id": "c5b4636d",
   "metadata": {},
   "outputs": [
    {
     "name": "stdout",
     "output_type": "stream",
     "text": [
      "2509153370640\n"
     ]
    }
   ],
   "source": [
    "my_var = 10\n",
    "\n",
    "print(id(my_var))"
   ]
  },
  {
   "cell_type": "code",
   "execution_count": 2,
   "id": "79adc2e1",
   "metadata": {},
   "outputs": [
    {
     "name": "stdout",
     "output_type": "stream",
     "text": [
      "0x24835320210\n"
     ]
    }
   ],
   "source": [
    "print(hex(id(my_var)))"
   ]
  },
  {
   "cell_type": "markdown",
   "id": "8952514f",
   "metadata": {},
   "source": [
    "## 2) Reference Counting\n",
    "\n",
    "- Reference Counting means how many references that each memory address have. Suppose we have a variable `a` which references the memory address `0x1000`. Now i have another variable `b` which also references same memory address `0x1000` (This can be obtianed by `b = a`). Now the reference count for memory address `0x1000` is 2. \n",
    "\n",
    "- Suppose we equate `b` to `None` then the reference count for `0x1000` is 1. If we do it for variable `a` also then reference count for `0x1000` is 0 . Now python thinks that there is no use of this object and deletes that object from memory address. This is python removes garbages.\n",
    "\n",
    "- To find the reference count of a memory address, we use sys module. Sys module has a function called `getrefcount()` to get reference count of the memory address.\n",
    "\n",
    "  **Syntax** : `sys.getrefcount(variable)`\n",
    "\n",
    "- But this function doesn't give actual reference count. Because we pass this variable as argument to that function then in the scope of the function we have another variable which also references the same memory address. Becuase of these we will get incorrect reference count (actual  + 1).\n",
    "\n",
    "- To get actual reference count we use `ctype` module.\n",
    "\n",
    "  **Syntax** : `ctype.c_long.from_address(id(variable)).value`"
   ]
  },
  {
   "cell_type": "code",
   "execution_count": 3,
   "id": "a1f6268f",
   "metadata": {},
   "outputs": [
    {
     "data": {
      "text/plain": [
       "2"
      ]
     },
     "execution_count": 3,
     "metadata": {},
     "output_type": "execute_result"
    }
   ],
   "source": [
    "import sys\n",
    "\n",
    "a = -10\n",
    "\n",
    "sys.getrefcount(a)"
   ]
  },
  {
   "cell_type": "code",
   "execution_count": 4,
   "id": "a02a1f0c",
   "metadata": {},
   "outputs": [
    {
     "data": {
      "text/plain": [
       "1"
      ]
     },
     "execution_count": 4,
     "metadata": {},
     "output_type": "execute_result"
    }
   ],
   "source": [
    "import ctypes\n",
    "\n",
    "ctypes.c_long.from_address(id(a)).value"
   ]
  },
  {
   "cell_type": "code",
   "execution_count": 5,
   "id": "ba28f34a",
   "metadata": {},
   "outputs": [
    {
     "data": {
      "text/plain": [
       "2"
      ]
     },
     "execution_count": 5,
     "metadata": {},
     "output_type": "execute_result"
    }
   ],
   "source": [
    "b = a\n",
    "\n",
    "ctypes.c_long.from_address(id(a)).value"
   ]
  },
  {
   "cell_type": "code",
   "execution_count": 6,
   "id": "7be0df8b",
   "metadata": {},
   "outputs": [
    {
     "data": {
      "text/plain": [
       "1"
      ]
     },
     "execution_count": 6,
     "metadata": {},
     "output_type": "execute_result"
    }
   ],
   "source": [
    "b = None\n",
    "\n",
    "ctypes.c_long.from_address(id(a)).value"
   ]
  },
  {
   "cell_type": "code",
   "execution_count": null,
   "id": "32d9483d",
   "metadata": {},
   "outputs": [
    {
     "data": {
      "text/plain": [
       "0"
      ]
     },
     "execution_count": 7,
     "metadata": {},
     "output_type": "execute_result"
    }
   ],
   "source": [
    "c = id(a)\n",
    "\n",
    "a = None\n",
    "\n",
    "ctypes.c_long.from_address(c).value\n",
    "\n",
    "# Here we can see that reference count for memory address is zero"
   ]
  },
  {
   "cell_type": "code",
   "execution_count": null,
   "id": "0dc19894",
   "metadata": {},
   "outputs": [],
   "source": []
  }
 ],
 "metadata": {
  "kernelspec": {
   "display_name": "Python",
   "language": "python",
   "name": "python3"
  },
  "language_info": {
   "codemirror_mode": {
    "name": "ipython",
    "version": 3
   },
   "file_extension": ".py",
   "mimetype": "text/x-python",
   "name": "python",
   "nbconvert_exporter": "python",
   "pygments_lexer": "ipython3",
   "version": "3.10.0"
  }
 },
 "nbformat": 4,
 "nbformat_minor": 5
}
