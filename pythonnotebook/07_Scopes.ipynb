{
 "cells": [
  {
   "cell_type": "markdown",
   "id": "b7199895",
   "metadata": {},
   "source": [
    "# Scopes and Namespaces\n",
    "\n",
    "## Intoduction\n",
    "\n",
    "- When an object is assigned to a variable (`a = 10`) then that variable points or references to that object and we say that variable is bound to that object. That object can be accessed using that name in various parts of the code but not everywhere.\n",
    "\n",
    "- This variable name and its binding (name and object) exists in specific parts of our code. he portion of code where name and its binding is defined as lexical scope of the variable and these binidings are stored in namespaces.\n",
    "\n",
    "- Generally, namespace is a system that ensures all the objects have unique names. It is just mapping of names to objects. Think of it as an dictionary where keys are name and respective values are objects. Namespace prevent naming collisions by ensuring different parts of the program can use same name without causing confusion.\n",
    "\n",
    "- Whereas Scope refers to the region of code where particular namespace is directly accessible. So each scope contains a namespace which determines what variables that can be accessed in this scope. Whenever you made an assignment or defined a function then those assigned variables or defined functions gets stored in that namespace along with their objects.\n",
    "\n",
    "- There are actually different types of scopes in python. Those are Global Scope, Local Scope and Built-in Scope."
   ]
  },
  {
   "cell_type": "markdown",
   "id": "ba731e37",
   "metadata": {},
   "source": [
    "## Global Scope\n",
    "\n",
    "- The global scope is essentially a module scope which means it spans single python file only. Whenever you create a .py or .ipynb file a global scope gets created and all the variables and functions defined in this file are stored in namespace of this scope which is called global namespace.\n",
    "\n",
    "- The variables defined in global scope of particular file cannot be accessed in another module or file because that file has another namespace which is capable os storing variables and functions defined in that scope only.\n",
    "\n",
    "- So in general we can access only those variables or functions that are present in the namespace of that particular scope."
   ]
  },
  {
   "cell_type": "markdown",
   "id": "479f3188",
   "metadata": {},
   "source": [
    "## Built-in Scope\n",
    "\n",
    "- Built-in Scope is the top-level scope in python in which all the built-in objects are stored. The namespace present in built-in scope is called built-in namespace. In these namespace all the built-in objects such as `print`, `True`,`False`, `None` etc, gets stored.\n",
    "\n",
    "- Suppose you have created a python file which is moduel1.py and in that file, you have written the following code.\n",
    "\n",
    "  ```python\n",
    "\n",
    "  a = 10\n",
    "\n",
    "  print(a)\n",
    "  print(True)\n",
    "\n",
    "  ```\n",
    "\n",
    "  Now when the file is compiled a global namespace gets created in this file which contains a variable a referencing the integer object 10. When python starts executing the file then it first encounters object or function called `print`. So it first searches in the global namespace whether `print` is defined in global namespace or not. Since we haven't defined it in global namespace then it moves to next level scope which is on top of global scope. Here it is `built-in scope`. Since `print` already defined in `built-in scope`, so it runs that functionality. Next it encounters `a`. So it first checks whether `a` is defined in global scope or not. Since `a` is defined in global scope it extracts that object from namespace and prints the value of a. This is how that single statement gets executed. Similary `print(True)` gets executed (Here both objects are defined in builtin scope itself)."
   ]
  },
  {
   "cell_type": "markdown",
   "id": "524f217b",
   "metadata": {},
   "source": [
    "## Local Scope\n",
    "\n",
    "- When we create functions, we create variable names inside those functions (using assignments or as parameters etc.). Variables defined inside the function are not created until the function is called. Everytime the function is called a new scope gets created which is called Functional Scope or Local Scope and variables defined inside that function are assigned to that scope.\n",
    "\n",
    "  **Ex** : Consider the following function\n",
    "\n",
    "  ```python\n",
    "\n",
    "  def my_func(a,b):\n",
    "\n",
    "    c = a * b\n",
    "    return c\n",
    "\n",
    "  ```\n",
    "\n",
    "  When the function gets compiled , first that function name `my_func` gets stored in namespace where function is written. Here my_func gets stored in global namespace. And during compilation pyton searches for any assignments inside the function. Here we can see variable `c` assigned to `a * b`. So python considers `c` as local variable and stores it in local namespace which is located in local scope. Since `a` and `b` are parameters they are automatically considered as local variables.\n",
    "\n",
    "  Whenever function gets called then new local scope gets created and all those local variables reside in the local namespace itself. And whenever function completes its execution this local  scope gets deleted, because variables migth not bound to same object at each function call as values of `a` and `b` gets changed at each call.\n",
    "\n",
    "- Whenever you are retrieving the  value of a variable from inside a function, python automatically searches the local scope's namespace and up the chain of enclosing all the namespaces. i.e `local scope -> global scope -> built-in scope`\n",
    "\n",
    "- Suppose you are modifying a global variable inside a function then what generally happens :\n",
    "\n",
    "  ```python\n",
    "\n",
    "  a = 10\n",
    "\n",
    "  def my_func():\n",
    "\n",
    "    a = 100\n",
    "\n",
    "    print(a)\n",
    "\n",
    "  my_func()\n",
    "  print(a)\n",
    "\n",
    "  ```\n",
    "\n",
    "  Whenever python starts compiling, it first creates variable `a` in global scope and then defines `my_func` in global scope itself. During this compilation, python seaches any variables are assigned in this function, if so then it makes a local variable. Here we have variable `a` insode my_func so python considers this variable as local variable and its local to my_func. When python starts executing the function my_func() a local scope gets created and variable `a` resides in it. Now we are printing `a`, so python first looks `a` in local namespace. Since `a` is already present in local namespace so we get result as 100. Now execution of my_func ended. So that local scope gets deleted. Now when python encounters `print(a)` in the module then python searches for `a` in module scope which is global scope. Since `a` is 10 in global scope, we get 10 as result.\n",
    "\n",
    "- If you want to modify a global variable inside a function then we need to use `global` keyword before modifying a variable. If you use this global keyword then python won't consider that variable as local during compile time and create that variable in global scope if that variable is not present.\n",
    "\n",
    "  **Ex** :\n",
    "\n",
    "  ```python\n",
    "\n",
    "  a = 10\n",
    "\n",
    "  def my_func():\n",
    "\n",
    "    global a\n",
    "\n",
    "    a = 100\n",
    "\n",
    "    print(a)\n",
    "\n",
    "  my_func()\n",
    "  print(a)\n",
    "\n",
    "  ```\n",
    "\n",
    "  Here we have declared `a` as global variable inside the function. So `a` is not present in local scope of that function. So whenever you are accessing that variable inside the function, python moves to next level of scope which is global scope to get the value of `a`. So here we get 100 as output in both the cases.\n",
    "\n",
    "- So when python encounters a function definition in comiple time, it will scan any lables(variables) that have values assigned to them (anywhere in the function), if the lables are not specified as global, then it will be local. Variables which are referenced but not assigned a value anywhere in the function will not be local , and python look for them in enclosing scopes at run-time."
   ]
  },
  {
   "cell_type": "code",
   "execution_count": 1,
   "id": "a96395f4",
   "metadata": {},
   "outputs": [
    {
     "name": "stdout",
     "output_type": "stream",
     "text": [
      "100\n",
      "10\n"
     ]
    }
   ],
   "source": [
    "# Now lets look scopes in practice.\n",
    "\n",
    "a = 10\n",
    "\n",
    "def my_func():\n",
    "    a = 100\n",
    "    print(a)\n",
    "\n",
    "my_func()\n",
    "print(a)\n",
    "\n",
    "# Here you can see first 100 is printed and then 10. Becuase in first print statement a is local to my_func and in second print a is global"
   ]
  },
  {
   "cell_type": "code",
   "execution_count": 2,
   "id": "8b631952",
   "metadata": {},
   "outputs": [
    {
     "name": "stdout",
     "output_type": "stream",
     "text": [
      "10\n"
     ]
    }
   ],
   "source": [
    "a = 10\n",
    "\n",
    "def my_func():\n",
    "    print(a)\n",
    "\n",
    "my_func()\n",
    "\n",
    "# Here you can see 10 gets printed. Because a is not local to function we have defined a inside the function to make it local. We just referenced it"
   ]
  },
  {
   "cell_type": "code",
   "execution_count": 3,
   "id": "8dce0916",
   "metadata": {},
   "outputs": [
    {
     "name": "stdout",
     "output_type": "stream",
     "text": [
      "100\n",
      "100\n"
     ]
    }
   ],
   "source": [
    "a = 10\n",
    "\n",
    "def my_func():\n",
    "    global a\n",
    "\n",
    "    a = 100\n",
    "\n",
    "    print(a)\n",
    "\n",
    "my_func()\n",
    "print(a)\n",
    "\n",
    "# Here we are making a as global before assignment so a gets changed to 100 in global namespace as it is not present in locla namespace"
   ]
  },
  {
   "cell_type": "code",
   "execution_count": null,
   "id": "b14d463d",
   "metadata": {},
   "outputs": [
    {
     "ename": "SyntaxError",
     "evalue": "name 'a' is assigned to before global declaration (4071021988.py, line 9)",
     "output_type": "error",
     "traceback": [
      "\u001b[1;36m  Cell \u001b[1;32mIn[4], line 9\u001b[1;36m\u001b[0m\n\u001b[1;33m    global a\u001b[0m\n\u001b[1;37m    ^\u001b[0m\n\u001b[1;31mSyntaxError\u001b[0m\u001b[1;31m:\u001b[0m name 'a' is assigned to before global declaration\n"
     ]
    }
   ],
   "source": [
    "# Now lets see what happen if we make it global after assignment.\n",
    "\n",
    "a = 10\n",
    "\n",
    "def my_func():\n",
    "\n",
    "    a = 100\n",
    "\n",
    "    global a\n",
    "\n",
    "    print(a)\n",
    "\n",
    "my_func()\n",
    "print(a)\n",
    "\n",
    "# Here we gets syntax error because when python encounters the assigment first it treats a as local variable but when it encounters global statement then it become a conflict and it trows a syntax error."
   ]
  },
  {
   "cell_type": "code",
   "execution_count": 5,
   "id": "6445ca8d",
   "metadata": {},
   "outputs": [
    {
     "ename": "UnboundLocalError",
     "evalue": "local variable 'a' referenced before assignment",
     "output_type": "error",
     "traceback": [
      "\u001b[1;31m---------------------------------------------------------------------------\u001b[0m",
      "\u001b[1;31mUnboundLocalError\u001b[0m                         Traceback (most recent call last)",
      "Cell \u001b[1;32mIn[5], line 10\u001b[0m\n\u001b[0;32m      7\u001b[0m     a \u001b[38;5;241m=\u001b[39m \u001b[38;5;241m100\u001b[39m\n\u001b[0;32m      8\u001b[0m     \u001b[38;5;28mprint\u001b[39m(a)\n\u001b[1;32m---> 10\u001b[0m \u001b[43mmy_func\u001b[49m\u001b[43m(\u001b[49m\u001b[43m)\u001b[49m\n\u001b[0;32m     11\u001b[0m \u001b[38;5;28mprint\u001b[39m(a)\n\u001b[0;32m     13\u001b[0m \u001b[38;5;66;03m# Here also, python makes a as local variable during compile time since we have an assignment there for a. When function starts executing we are accessing a before assignment. \u001b[39;00m\n\u001b[0;32m     14\u001b[0m \u001b[38;5;66;03m# So python throws a is undefined error because print statement won't gets executed at compile time.\u001b[39;00m\n",
      "Cell \u001b[1;32mIn[5], line 6\u001b[0m, in \u001b[0;36mmy_func\u001b[1;34m()\u001b[0m\n\u001b[0;32m      5\u001b[0m \u001b[38;5;28;01mdef\u001b[39;00m\u001b[38;5;250m \u001b[39m\u001b[38;5;21mmy_func\u001b[39m():\n\u001b[1;32m----> 6\u001b[0m     \u001b[38;5;28mprint\u001b[39m(\u001b[43ma\u001b[49m)\n\u001b[0;32m      7\u001b[0m     a \u001b[38;5;241m=\u001b[39m \u001b[38;5;241m100\u001b[39m\n\u001b[0;32m      8\u001b[0m     \u001b[38;5;28mprint\u001b[39m(a)\n",
      "\u001b[1;31mUnboundLocalError\u001b[0m: local variable 'a' referenced before assignment"
     ]
    }
   ],
   "source": [
    "# Similarly we have same error when you referenced the global variable first and make assignment inside the function\n",
    "\n",
    "a = 10\n",
    "\n",
    "def my_func():\n",
    "    print(a)\n",
    "    a = 100\n",
    "    print(a)\n",
    "\n",
    "my_func()\n",
    "print(a)\n",
    "\n",
    "# Here also, python makes a as local variable during compile time since we have an assignment there for a. When function starts executing we are accessing a before assignment. \n",
    "# So python throws a is undefined error because print statement won't gets executed at compile time.\n"
   ]
  },
  {
   "cell_type": "code",
   "execution_count": 6,
   "id": "5f5b25c5",
   "metadata": {},
   "outputs": [
    {
     "name": "stdout",
     "output_type": "stream",
     "text": [
      "100\n",
      "100\n"
     ]
    }
   ],
   "source": [
    "# As we know global keyword create the variable eventhough the variable doesn't exist globally\n",
    "\n",
    "def my_func():\n",
    "    global b\n",
    "\n",
    "    b = 100\n",
    "\n",
    "    print(b)\n",
    "\n",
    "my_func()\n",
    "print(b)"
   ]
  }
 ],
 "metadata": {
  "kernelspec": {
   "display_name": "Python",
   "language": "python",
   "name": "python3"
  },
  "language_info": {
   "codemirror_mode": {
    "name": "ipython",
    "version": 3
   },
   "file_extension": ".py",
   "mimetype": "text/x-python",
   "name": "python",
   "nbconvert_exporter": "python",
   "pygments_lexer": "ipython3",
   "version": "3.10.0"
  }
 },
 "nbformat": 4,
 "nbformat_minor": 5
}
