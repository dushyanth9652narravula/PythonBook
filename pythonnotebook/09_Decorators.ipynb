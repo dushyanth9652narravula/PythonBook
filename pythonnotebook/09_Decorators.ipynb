{
 "cells": [
  {
   "cell_type": "markdown",
   "id": "13f54771",
   "metadata": {},
   "source": [
    "# Decorators\n",
    "\n",
    "## Introduction\n",
    "\n",
    "- Decorators is a function that takes anothor function as input and returns a new function that usually extends or alters the behaviour of original one. We can simply say decorator are a way to modify or enhance the behaviour of functions or classes without changing the code.\n",
    "\n",
    "- Recall the closure example where we have calculated the no of times the function gets called :\n",
    "\n",
    "  ```python\n",
    "\n",
    "  def counter(fn, counters):\n",
    "\n",
    "    count = 0\n",
    "\n",
    "    def inner(*args,**kwargs):\n",
    "\n",
    "        nonlocal count\n",
    "\n",
    "        count += 1\n",
    "\n",
    "        counters[fn.__name__] = count\n",
    "\n",
    "        return fn(*args,**kwargs)\n",
    "    \n",
    "    return inner\n",
    "\n",
    "  def add(a,b):\n",
    "\n",
    "    return a + b\n",
    "\n",
    "  add = counter(add)\n",
    "\n",
    "  result = add(1,2)\n",
    "\n",
    "  ```\n",
    "\n",
    "  Here we have modified our add function by wrapping it inside the counter function that added the functionality which is counting the no of times add functions gets called. Since counter function changed the functionality of the add function, then we can say `counter` is called as\n",
    "  Decorator.\n",
    "\n",
    "- In general a decorator function : \n",
    "\n",
    "  1. takes function as argument\n",
    "  2. returns a closure\n",
    "  3. the closure usually accepts any combination of parameters\n",
    "  4. runs some code in the inner function (closure)\n",
    "  5. the closure function calls the original function using the arguments passed to the closure\n",
    "  6. returns whatever is returned by the function call.\n",
    "\n",
    "- So in above example, we say `counter` is a decorator. In general, if `func` is a decorator function, we decorate another function `my_func` using `my_func = func(my_func)`. But python provides another way to decorate a function (not by the assignment we have seen just now.)\n",
    "\n",
    "  ```python\n",
    "\n",
    "  @counter\n",
    "  def add(a,b):\n",
    "\n",
    "    return a + b\n",
    "  \n",
    "  ```\n",
    "\n",
    "  The above code is same as this\n",
    "\n",
    "  ```python\n",
    "\n",
    "  def add(a,b):\n",
    "\n",
    "    return a + b\n",
    "\n",
    "  add = counter(add)\n",
    "\n",
    "  ```\n",
    "\n",
    "  So we can use `@decorator_function_name` before the function that we actually wanna decorate instead of using that assignment operation we have seen."
   ]
  },
  {
   "cell_type": "code",
   "execution_count": 1,
   "id": "70ff4983",
   "metadata": {},
   "outputs": [
    {
     "data": {
      "text/plain": [
       "3"
      ]
     },
     "execution_count": 1,
     "metadata": {},
     "output_type": "execute_result"
    }
   ],
   "source": [
    "# Now lets see the decorators in practice\n",
    "\n",
    "def add(a,b):\n",
    "\n",
    "    return a + b\n",
    "\n",
    "add(1,2)"
   ]
  },
  {
   "cell_type": "code",
   "execution_count": 3,
   "id": "60b5d8fb",
   "metadata": {},
   "outputs": [],
   "source": [
    "# Now we actually wanna change the functionality of add function, so that it should result the how many times this function gets called.\n",
    "\n",
    "# For this iam writing a function called counter\n",
    "\n",
    "def counter(fn):\n",
    "\n",
    "    count = 0\n",
    "\n",
    "    def inner(*args,**kwargs):\n",
    "\n",
    "        nonlocal count\n",
    "\n",
    "        count += 1\n",
    "\n",
    "        print(f'Function {fn.__name__} gets called {count} times')\n",
    "        return fn(*args,**kwargs)\n",
    "    \n",
    "    return inner"
   ]
  },
  {
   "cell_type": "code",
   "execution_count": 4,
   "id": "e76b128b",
   "metadata": {},
   "outputs": [
    {
     "name": "stdout",
     "output_type": "stream",
     "text": [
      "Function add gets called 1 times\n"
     ]
    },
    {
     "data": {
      "text/plain": [
       "3"
      ]
     },
     "execution_count": 4,
     "metadata": {},
     "output_type": "execute_result"
    }
   ],
   "source": [
    "# Now we call the counter by passing the add function. So it would return a closure which contain the function inner\n",
    "\n",
    "add = counter(add)\n",
    "\n",
    "# Now we can try this closure is working correctly or not which means it is performing the add functionality or not.\n",
    "\n",
    "add(1,2)"
   ]
  },
  {
   "cell_type": "code",
   "execution_count": 7,
   "id": "0fedf331",
   "metadata": {},
   "outputs": [
    {
     "name": "stdout",
     "output_type": "stream",
     "text": [
      "Function add gets called 1 times\n"
     ]
    },
    {
     "data": {
      "text/plain": [
       "11"
      ]
     },
     "execution_count": 7,
     "metadata": {},
     "output_type": "execute_result"
    }
   ],
   "source": [
    "# If you see the retuned closure performing addition operation well.\n",
    "\n",
    "# As we know instead of using the assignment operation we can use @ for decorating a function\n",
    "\n",
    "@counter\n",
    "\n",
    "def add(a,b = 1):\n",
    "\n",
    "    \"\"\"\n",
    "    This add function takes two arguments a and b. This will return addition of a and b.\n",
    "    \"\"\"\n",
    "\n",
    "    return a + b\n",
    "\n",
    "add(5,6)"
   ]
  },
  {
   "cell_type": "code",
   "execution_count": 8,
   "id": "f9ceddbe",
   "metadata": {},
   "outputs": [
    {
     "name": "stdout",
     "output_type": "stream",
     "text": [
      "Help on function inner in module __main__:\n",
      "\n",
      "inner(*args, **kwargs)\n",
      "\n"
     ]
    }
   ],
   "source": [
    "# If you see the above output, the functionality of add gets changed because of the counter decorator.\n",
    "\n",
    "# But we have a problem here. SInce we have created the counter and add function we know which parameters we need to pass here. \n",
    "\n",
    "# But when some other person using this closure, he might not know which parameters need to pass for add function. SO he will use help function to get the function info.\n",
    "\n",
    "help(add)"
   ]
  },
  {
   "cell_type": "code",
   "execution_count": 9,
   "id": "5a78d4fc",
   "metadata": {},
   "outputs": [],
   "source": [
    "# But if you see the output , it doesn't contain the signature of the add function. Because from counter function we actually get a closure \n",
    "# which contain the function called inner and this add variable references the closure object not actual add function.\n",
    "\n",
    "# So when we run the help function, it actually returns the doc string or annotations of inner function not add function. This might be a confusion\n",
    "# when a new user will see this.\n",
    "\n",
    "# So to replace the signature and annotations of closure (or inner) with the function we actually passing (here passing function is add), we use \n",
    "# another decorator called wraps which this passing function as input and decorates the inner function by replacing the singnature, docstring, \n",
    "# annotations of inner with the passing function (here it is add).\n",
    "\n",
    "from functools import wraps\n",
    "\n",
    "def counter(fn):\n",
    "\n",
    "    count = 0\n",
    "\n",
    "    @wraps(fn) # Here it is equivalent to inner = wraps(fn)(inner). We will see these kind of decorators in parameterized decorators.\n",
    "    def inner(*args,**kwargs):\n",
    "\n",
    "        nonlocal count\n",
    "\n",
    "        count += 1\n",
    "\n",
    "        print(f'Function {fn.__name__} gets called {count} times')\n",
    "\n",
    "        return fn(*args,**kwargs)\n",
    "    \n",
    "    return inner"
   ]
  },
  {
   "cell_type": "code",
   "execution_count": 10,
   "id": "abe1912f",
   "metadata": {},
   "outputs": [
    {
     "name": "stdout",
     "output_type": "stream",
     "text": [
      "Function add gets called 1 times\n"
     ]
    },
    {
     "data": {
      "text/plain": [
       "11"
      ]
     },
     "execution_count": 10,
     "metadata": {},
     "output_type": "execute_result"
    }
   ],
   "source": [
    "\n",
    "@counter\n",
    "\n",
    "def add(a,b = 1):\n",
    "\n",
    "    \"\"\"\n",
    "    This add function takes two arguments a and b. This will return addition of a and b.\n",
    "    \"\"\"\n",
    "\n",
    "    return a + b\n",
    "\n",
    "add(5,6)"
   ]
  },
  {
   "cell_type": "code",
   "execution_count": null,
   "id": "47bab49a",
   "metadata": {},
   "outputs": [
    {
     "name": "stdout",
     "output_type": "stream",
     "text": [
      "Help on function add in module __main__:\n",
      "\n",
      "add(a, b=1)\n",
      "    This add function takes two arguments a and b. This will return addition of a and b.\n",
      "\n"
     ]
    }
   ],
   "source": [
    "# Now lets see the signature of this add function using help function\n",
    "\n",
    "help(add)\n",
    "\n",
    "# Here we can see the wraps decorator overwritten the signature of inner with signature of add."
   ]
  }
 ],
 "metadata": {
  "kernelspec": {
   "display_name": "Python",
   "language": "python",
   "name": "python3"
  },
  "language_info": {
   "codemirror_mode": {
    "name": "ipython",
    "version": 3
   },
   "file_extension": ".py",
   "mimetype": "text/x-python",
   "name": "python",
   "nbconvert_exporter": "python",
   "pygments_lexer": "ipython3",
   "version": "3.10.0"
  }
 },
 "nbformat": 4,
 "nbformat_minor": 5
}
