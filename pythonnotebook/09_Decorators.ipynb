{
 "cells": [
  {
   "cell_type": "markdown",
   "id": "13f54771",
   "metadata": {},
   "source": [
    "# Decorators\n",
    "\n",
    "## Introduction\n",
    "\n",
    "- Decorators is a function that takes anothor function as input and returns a new function that usually extends or alters the behaviour of original one. We can simply say decorator are a way to modify or enhance the behaviour of functions or classes without changing the code.\n",
    "\n",
    "- Recall the closure example where we have calculated the no of times the function gets called :\n",
    "\n",
    "  ```python\n",
    "\n",
    "  def counter(fn, counters):\n",
    "\n",
    "    count = 0\n",
    "\n",
    "    def inner(*args,**kwargs):\n",
    "\n",
    "        nonlocal count\n",
    "\n",
    "        count += 1\n",
    "\n",
    "        counters[fn.__name__] = count\n",
    "\n",
    "        return fn(*args,**kwargs)\n",
    "    \n",
    "    return inner\n",
    "\n",
    "  def add(a,b):\n",
    "\n",
    "    return a + b\n",
    "\n",
    "  add = counter(add)\n",
    "\n",
    "  result = add(1,2)\n",
    "\n",
    "  ```\n",
    "\n",
    "  Here we have modified our add function by wrapping it inside the counter function that added the functionality which is counting the no of times add functions gets called. Since counter function changed the functionality of the add function, then we can say `counter` is called as\n",
    "  Decorator.\n",
    "\n",
    "- In general a decorator function : \n",
    "\n",
    "  1. takes function as argument\n",
    "  2. returns a closure\n",
    "  3. the closure usually accepts any combination of parameters\n",
    "  4. runs some code in the inner function (closure)\n",
    "  5. the closure function calls the original function using the arguments passed to the closure\n",
    "  6. returns whatever is returned by the function call.\n",
    "\n",
    "- So in above example, we say `counter` is a decorator. In general, if `func` is a decorator function, we decorate another function `my_func` using `my_func = func(my_func)`. But python provides another way to decorate a function (not by the assignment we have seen just now.)\n",
    "\n",
    "  ```python\n",
    "\n",
    "  @counter\n",
    "  def add(a,b):\n",
    "\n",
    "    return a + b\n",
    "  \n",
    "  ```\n",
    "\n",
    "  The above code is same as this\n",
    "\n",
    "  ```python\n",
    "\n",
    "  def add(a,b):\n",
    "\n",
    "    return a + b\n",
    "\n",
    "  add = counter(add)\n",
    "\n",
    "  ```\n",
    "\n",
    "  So we can use `@decorator_function_name` before the function that we actually wanna decorate instead of using that assignment operation we have seen."
   ]
  },
  {
   "cell_type": "code",
   "execution_count": 1,
   "id": "70ff4983",
   "metadata": {},
   "outputs": [
    {
     "data": {
      "text/plain": [
       "3"
      ]
     },
     "execution_count": 1,
     "metadata": {},
     "output_type": "execute_result"
    }
   ],
   "source": [
    "# Now lets see the decorators in practice\n",
    "\n",
    "def add(a,b):\n",
    "\n",
    "    return a + b\n",
    "\n",
    "add(1,2)"
   ]
  },
  {
   "cell_type": "code",
   "execution_count": 3,
   "id": "60b5d8fb",
   "metadata": {},
   "outputs": [],
   "source": [
    "# Now we actually wanna change the functionality of add function, so that it should result the how many times this function gets called.\n",
    "\n",
    "# For this iam writing a function called counter\n",
    "\n",
    "def counter(fn):\n",
    "\n",
    "    count = 0\n",
    "\n",
    "    def inner(*args,**kwargs):\n",
    "\n",
    "        nonlocal count\n",
    "\n",
    "        count += 1\n",
    "\n",
    "        print(f'Function {fn.__name__} gets called {count} times')\n",
    "        return fn(*args,**kwargs)\n",
    "    \n",
    "    return inner"
   ]
  },
  {
   "cell_type": "code",
   "execution_count": 4,
   "id": "e76b128b",
   "metadata": {},
   "outputs": [
    {
     "name": "stdout",
     "output_type": "stream",
     "text": [
      "Function add gets called 1 times\n"
     ]
    },
    {
     "data": {
      "text/plain": [
       "3"
      ]
     },
     "execution_count": 4,
     "metadata": {},
     "output_type": "execute_result"
    }
   ],
   "source": [
    "# Now we call the counter by passing the add function. So it would return a closure which contain the function inner\n",
    "\n",
    "add = counter(add)\n",
    "\n",
    "# Now we can try this closure is working correctly or not which means it is performing the add functionality or not.\n",
    "\n",
    "add(1,2)"
   ]
  },
  {
   "cell_type": "code",
   "execution_count": 7,
   "id": "0fedf331",
   "metadata": {},
   "outputs": [
    {
     "name": "stdout",
     "output_type": "stream",
     "text": [
      "Function add gets called 1 times\n"
     ]
    },
    {
     "data": {
      "text/plain": [
       "11"
      ]
     },
     "execution_count": 7,
     "metadata": {},
     "output_type": "execute_result"
    }
   ],
   "source": [
    "# If you see the retuned closure performing addition operation well.\n",
    "\n",
    "# As we know instead of using the assignment operation we can use @ for decorating a function\n",
    "\n",
    "@counter\n",
    "\n",
    "def add(a,b = 1):\n",
    "\n",
    "    \"\"\"\n",
    "    This add function takes two arguments a and b. This will return addition of a and b.\n",
    "    \"\"\"\n",
    "\n",
    "    return a + b\n",
    "\n",
    "add(5,6)"
   ]
  },
  {
   "cell_type": "code",
   "execution_count": 8,
   "id": "f9ceddbe",
   "metadata": {},
   "outputs": [
    {
     "name": "stdout",
     "output_type": "stream",
     "text": [
      "Help on function inner in module __main__:\n",
      "\n",
      "inner(*args, **kwargs)\n",
      "\n"
     ]
    }
   ],
   "source": [
    "# If you see the above output, the functionality of add gets changed because of the counter decorator.\n",
    "\n",
    "# But we have a problem here. SInce we have created the counter and add function we know which parameters we need to pass here. \n",
    "\n",
    "# But when some other person using this closure, he might not know which parameters need to pass for add function. SO he will use help function to get the function info.\n",
    "\n",
    "help(add)"
   ]
  },
  {
   "cell_type": "code",
   "execution_count": 9,
   "id": "5a78d4fc",
   "metadata": {},
   "outputs": [],
   "source": [
    "# But if you see the output , it doesn't contain the signature of the add function. Because from counter function we actually get a closure \n",
    "# which contain the function called inner and this add variable references the closure object not actual add function.\n",
    "\n",
    "# So when we run the help function, it actually returns the doc string or annotations of inner function not add function. This might be a confusion\n",
    "# when a new user will see this.\n",
    "\n",
    "# So to replace the signature and annotations of closure (or inner) with the function we actually passing (here passing function is add), we use \n",
    "# another decorator called wraps which this passing function as input and decorates the inner function by replacing the singnature, docstring, \n",
    "# annotations of inner with the passing function (here it is add).\n",
    "\n",
    "from functools import wraps\n",
    "\n",
    "def counter(fn):\n",
    "\n",
    "    count = 0\n",
    "\n",
    "    @wraps(fn) # Here it is equivalent to inner = wraps(fn)(inner). We will see these kind of decorators in parameterized decorators.\n",
    "    def inner(*args,**kwargs):\n",
    "\n",
    "        nonlocal count\n",
    "\n",
    "        count += 1\n",
    "\n",
    "        print(f'Function {fn.__name__} gets called {count} times')\n",
    "\n",
    "        return fn(*args,**kwargs)\n",
    "    \n",
    "    return inner"
   ]
  },
  {
   "cell_type": "code",
   "execution_count": 10,
   "id": "abe1912f",
   "metadata": {},
   "outputs": [
    {
     "name": "stdout",
     "output_type": "stream",
     "text": [
      "Function add gets called 1 times\n"
     ]
    },
    {
     "data": {
      "text/plain": [
       "11"
      ]
     },
     "execution_count": 10,
     "metadata": {},
     "output_type": "execute_result"
    }
   ],
   "source": [
    "\n",
    "@counter\n",
    "\n",
    "def add(a,b = 1):\n",
    "\n",
    "    \"\"\"\n",
    "    This add function takes two arguments a and b. This will return addition of a and b.\n",
    "    \"\"\"\n",
    "\n",
    "    return a + b\n",
    "\n",
    "add(5,6)"
   ]
  },
  {
   "cell_type": "code",
   "execution_count": null,
   "id": "47bab49a",
   "metadata": {},
   "outputs": [
    {
     "name": "stdout",
     "output_type": "stream",
     "text": [
      "Help on function add in module __main__:\n",
      "\n",
      "add(a, b=1)\n",
      "    This add function takes two arguments a and b. This will return addition of a and b.\n",
      "\n"
     ]
    }
   ],
   "source": [
    "# Now lets see the signature of this add function using help function\n",
    "\n",
    "help(add)\n",
    "\n",
    "# Here we can see the wraps decorator overwritten the signature of inner with signature of add."
   ]
  },
  {
   "cell_type": "markdown",
   "id": "1a102ece",
   "metadata": {},
   "source": [
    "## Applications"
   ]
  },
  {
   "cell_type": "code",
   "execution_count": 1,
   "id": "b837cf4e",
   "metadata": {},
   "outputs": [],
   "source": [
    "# 1) Timer\n",
    "\n",
    "# It actually finds the time taken by each function to gets executed\n",
    "\n",
    "def timed(fn):\n",
    "\n",
    "    from time import perf_counter\n",
    "    from functools import wraps\n",
    "\n",
    "    @wraps(fn)\n",
    "    def inner(*args,**kwargs):\n",
    "\n",
    "        start = perf_counter()\n",
    "\n",
    "        result = fn(*args,**kwargs)\n",
    "\n",
    "        end = perf_counter()\n",
    "\n",
    "        elapsed = end - start\n",
    "\n",
    "        args_ = [str(a) for a in args]\n",
    "        kwargs_ = ['{0}={1}'.format(k,v) for (k,v) in kwargs.items()]\n",
    "        all_args = args_ + kwargs_\n",
    "        args_str = ','.join(all_args)\n",
    "\n",
    "        print('{0}({1}) took {2:.6f}s to run'.format(fn.__name__,args_str,elapsed))\n",
    "\n",
    "        return result\n",
    "    return inner"
   ]
  },
  {
   "cell_type": "code",
   "execution_count": null,
   "id": "49b10857",
   "metadata": {},
   "outputs": [],
   "source": [
    "# Now lets test the fibbonacci function runtime written in 3 different ways. One is recursive, loop and using reduce function.\n",
    "\n",
    "@timed\n",
    "def fibonacci_rescursive(n):\n",
    "\n",
    "    if n<=2:\n",
    "        return 1\n",
    "    return fibonacci_rescursive(n-1) + fibonacci_rescursive(n-2)"
   ]
  },
  {
   "cell_type": "code",
   "execution_count": 3,
   "id": "f34caa19",
   "metadata": {},
   "outputs": [
    {
     "name": "stdout",
     "output_type": "stream",
     "text": [
      "fibonacci_rescursive(2) took 0.000001s to run\n",
      "fibonacci_rescursive(1) took 0.000002s to run\n",
      "fibonacci_rescursive(3) took 0.000708s to run\n",
      "fibonacci_rescursive(2) took 0.000001s to run\n",
      "fibonacci_rescursive(4) took 0.000756s to run\n"
     ]
    },
    {
     "data": {
      "text/plain": [
       "3"
      ]
     },
     "execution_count": 3,
     "metadata": {},
     "output_type": "execute_result"
    }
   ],
   "source": [
    "fibonacci_rescursive(4)"
   ]
  },
  {
   "cell_type": "code",
   "execution_count": 4,
   "id": "efe9a364",
   "metadata": {},
   "outputs": [],
   "source": [
    "# Here we have problem, we are  getting the additional runtimes along with actual runtime for finding the fibonacci number 4.\n",
    "# This is because decorator function gets applied for all the internal recursive functions.\n",
    "\n",
    "# But we want only time taken for finding the fibbonacci number 4. So to get this, we use another function which calls this fibbonacci function.\n",
    "\n",
    "def fibonacci_rescursive(n):\n",
    "\n",
    "    if n<=2:\n",
    "        return 1\n",
    "    return fibonacci_rescursive(n-1) + fibonacci_rescursive(n-2)\n",
    "\n",
    "@timed\n",
    "\n",
    "def recusive_fibonacci(n):\n",
    "    return fibonacci_rescursive(n)"
   ]
  },
  {
   "cell_type": "code",
   "execution_count": 5,
   "id": "511a06be",
   "metadata": {},
   "outputs": [
    {
     "name": "stdout",
     "output_type": "stream",
     "text": [
      "recusive_fibonacci(5) took 0.000005s to run\n"
     ]
    },
    {
     "data": {
      "text/plain": [
       "5"
      ]
     },
     "execution_count": 5,
     "metadata": {},
     "output_type": "execute_result"
    }
   ],
   "source": [
    "recusive_fibonacci(5)"
   ]
  },
  {
   "cell_type": "code",
   "execution_count": 7,
   "id": "3ce6bc35",
   "metadata": {},
   "outputs": [
    {
     "name": "stdout",
     "output_type": "stream",
     "text": [
      "recusive_fibonacci(35) took 3.075924s to run\n"
     ]
    },
    {
     "data": {
      "text/plain": [
       "9227465"
      ]
     },
     "execution_count": 7,
     "metadata": {},
     "output_type": "execute_result"
    }
   ],
   "source": [
    "recusive_fibonacci(35)"
   ]
  },
  {
   "cell_type": "code",
   "execution_count": 8,
   "id": "374d3924",
   "metadata": {},
   "outputs": [
    {
     "name": "stdout",
     "output_type": "stream",
     "text": [
      "recusive_fibonacci(36) took 4.553590s to run\n"
     ]
    },
    {
     "data": {
      "text/plain": [
       "14930352"
      ]
     },
     "execution_count": 8,
     "metadata": {},
     "output_type": "execute_result"
    }
   ],
   "source": [
    "recusive_fibonacci(36)"
   ]
  },
  {
   "cell_type": "code",
   "execution_count": 9,
   "id": "4c0ad9ff",
   "metadata": {},
   "outputs": [],
   "source": [
    "# Now lets check the runtime of fibonacci using the loop\n",
    "\n",
    "@timed\n",
    "\n",
    "def fibonacci_loop(n):\n",
    "\n",
    "    fib_1 = 1\n",
    "    fib_2 = 1\n",
    "\n",
    "    for i in range(3,n+1):\n",
    "        fib_1, fib_2 = fib_2, fib_1 + fib_2\n",
    "    \n",
    "    return fib_2"
   ]
  },
  {
   "cell_type": "code",
   "execution_count": 10,
   "id": "baea94fb",
   "metadata": {},
   "outputs": [
    {
     "name": "stdout",
     "output_type": "stream",
     "text": [
      "fibonacci_loop(4) took 0.000003s to run\n"
     ]
    },
    {
     "data": {
      "text/plain": [
       "3"
      ]
     },
     "execution_count": 10,
     "metadata": {},
     "output_type": "execute_result"
    }
   ],
   "source": [
    "fibonacci_loop(4)"
   ]
  },
  {
   "cell_type": "code",
   "execution_count": 11,
   "id": "4a9055ef",
   "metadata": {},
   "outputs": [
    {
     "name": "stdout",
     "output_type": "stream",
     "text": [
      "fibonacci_loop(35) took 0.000007s to run\n"
     ]
    },
    {
     "data": {
      "text/plain": [
       "9227465"
      ]
     },
     "execution_count": 11,
     "metadata": {},
     "output_type": "execute_result"
    }
   ],
   "source": [
    "fibonacci_loop(35)"
   ]
  },
  {
   "cell_type": "code",
   "execution_count": null,
   "id": "78a35e0c",
   "metadata": {},
   "outputs": [
    {
     "name": "stdout",
     "output_type": "stream",
     "text": [
      "fibonacci_loop(36) took 0.000008s to run\n"
     ]
    },
    {
     "data": {
      "text/plain": [
       "14930352"
      ]
     },
     "execution_count": 12,
     "metadata": {},
     "output_type": "execute_result"
    }
   ],
   "source": [
    "fibonacci_loop(36)\n",
    "\n",
    "# If you see fibonacci_loop runs faster than recursive function"
   ]
  },
  {
   "cell_type": "code",
   "execution_count": null,
   "id": "f86552e8",
   "metadata": {},
   "outputs": [],
   "source": [
    "# Now lets do this by using reduce function\n",
    "\n",
    "from functools import reduce\n",
    "@timed\n",
    "def fibonacci_reduce(n):\n",
    "\n",
    "    fib = reduce(lambda prev,n : (prev[0]+prev[1],prev[0]),range(0,n),(1,0))\n",
    "    \n",
    "    return fib[0]"
   ]
  },
  {
   "cell_type": "code",
   "execution_count": 16,
   "id": "5490ac71",
   "metadata": {},
   "outputs": [
    {
     "name": "stdout",
     "output_type": "stream",
     "text": [
      "fibonacci_reduce(4) took 0.000007s to run\n"
     ]
    },
    {
     "data": {
      "text/plain": [
       "5"
      ]
     },
     "execution_count": 16,
     "metadata": {},
     "output_type": "execute_result"
    }
   ],
   "source": [
    "fibonacci_reduce(4)"
   ]
  },
  {
   "cell_type": "code",
   "execution_count": 17,
   "id": "f640003f",
   "metadata": {},
   "outputs": [
    {
     "name": "stdout",
     "output_type": "stream",
     "text": [
      "fibonacci_reduce(35) took 0.000019s to run\n"
     ]
    },
    {
     "data": {
      "text/plain": [
       "14930352"
      ]
     },
     "execution_count": 17,
     "metadata": {},
     "output_type": "execute_result"
    }
   ],
   "source": [
    "fibonacci_reduce(35)"
   ]
  },
  {
   "cell_type": "code",
   "execution_count": 19,
   "id": "1d620fcc",
   "metadata": {},
   "outputs": [
    {
     "name": "stdout",
     "output_type": "stream",
     "text": [
      "fibonacci_reduce(36) took 0.000013s to run\n"
     ]
    },
    {
     "data": {
      "text/plain": [
       "24157817"
      ]
     },
     "execution_count": 19,
     "metadata": {},
     "output_type": "execute_result"
    }
   ],
   "source": [
    "fibonacci_reduce(36)"
   ]
  },
  {
   "cell_type": "code",
   "execution_count": 26,
   "id": "b5785947",
   "metadata": {},
   "outputs": [],
   "source": [
    "# Generally if you run same code mutiple times it would give different time becuase of process in cpu. So instead of absolute difference, here we need to consider average elapsed time of certain number iterations.\n",
    "\n",
    "# So here iam changing the code of timed decorator to incoperate this.\n",
    "\n",
    "def timed(fn):\n",
    "\n",
    "    from time import perf_counter\n",
    "    from functools import wraps\n",
    "\n",
    "\n",
    "    @wraps(fn)\n",
    "    def inner(*args,**kwargs):\n",
    "\n",
    "        elapsed_total = 0\n",
    "        elapsed_count = 0\n",
    "\n",
    "        for i in range(10):\n",
    "\n",
    "            print(f\"Running iteration {i} .....\")\n",
    "\n",
    "            start = perf_counter()\n",
    "\n",
    "            result = fn(*args,**kwargs)\n",
    "\n",
    "            end = perf_counter()\n",
    "\n",
    "            elapsed = end - start\n",
    "\n",
    "            elapsed_total += elapsed\n",
    "\n",
    "            elapsed_count += 1\n",
    "\n",
    "        args_ = [str(a) for a in args]\n",
    "        kwargs_ = ['{0}={1}'.format(k,v) for (k,v) in kwargs.items()]\n",
    "        all_args = args_ + kwargs_\n",
    "        args_str = ','.join(all_args)\n",
    "\n",
    "        elapsed_avg = elapsed_total/elapsed_count\n",
    "\n",
    "        print('{0}({1}) took {2:.6f}s to run'.format(fn.__name__,args_str,elapsed_avg))\n",
    "\n",
    "        return result\n",
    "    return inner"
   ]
  },
  {
   "cell_type": "code",
   "execution_count": 27,
   "id": "3b024e08",
   "metadata": {},
   "outputs": [],
   "source": [
    "\n",
    "from functools import reduce\n",
    "@timed\n",
    "def fibonacci_reduce(n):\n",
    "\n",
    "    fib = reduce(lambda prev,n : (prev[0]+prev[1],prev[0]),range(0,n),(1,0))\n",
    "    \n",
    "    return fib[0]"
   ]
  },
  {
   "cell_type": "code",
   "execution_count": null,
   "id": "f4d2549a",
   "metadata": {},
   "outputs": [
    {
     "name": "stdout",
     "output_type": "stream",
     "text": [
      "Running iteration 0 .....\n",
      "Running iteration 1 .....\n",
      "Running iteration 2 .....\n",
      "Running iteration 3 .....\n",
      "Running iteration 4 .....\n",
      "Running iteration 5 .....\n",
      "Running iteration 6 .....\n",
      "Running iteration 7 .....\n",
      "Running iteration 8 .....\n",
      "Running iteration 9 .....\n",
      "fibonacci_reduce(35) took 0.000009s to run\n"
     ]
    },
    {
     "data": {
      "text/plain": [
       "14930352"
      ]
     },
     "execution_count": 28,
     "metadata": {},
     "output_type": "execute_result"
    }
   ],
   "source": [
    "fibonacci_reduce(35)\n",
    "\n",
    "# Here we are hardcoding the value in for loop. Instead we wanna pass it as value to counter, so that we can find accurate runtime.\n",
    "\n",
    "# But we cannot use @ notation for creating decorated function with parameters. We need to use parameterized decorators for it."
   ]
  },
  {
   "cell_type": "code",
   "execution_count": null,
   "id": "b5d82feb",
   "metadata": {},
   "outputs": [],
   "source": []
  }
 ],
 "metadata": {
  "kernelspec": {
   "display_name": "Python",
   "language": "python",
   "name": "python3"
  },
  "language_info": {
   "codemirror_mode": {
    "name": "ipython",
    "version": 3
   },
   "file_extension": ".py",
   "mimetype": "text/x-python",
   "name": "python",
   "nbconvert_exporter": "python",
   "pygments_lexer": "ipython3",
   "version": "3.10.0"
  }
 },
 "nbformat": 4,
 "nbformat_minor": 5
}
