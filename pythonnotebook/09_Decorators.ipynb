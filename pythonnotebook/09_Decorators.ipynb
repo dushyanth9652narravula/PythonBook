{
 "cells": [
  {
   "cell_type": "markdown",
   "id": "13f54771",
   "metadata": {},
   "source": [
    "# Decorators\n",
    "\n",
    "## Introduction\n",
    "\n",
    "- Decorators is a function that takes anothor function as input and returns a new function that usually extends or alters the behaviour of original one. We can simply say decorator are a way to modify or enhance the behaviour of functions or classes without changing the code.\n",
    "\n",
    "- Recall the closure example where we have calculated the no of times the function gets called :\n",
    "\n",
    "  ```python\n",
    "\n",
    "  def counter(fn, counters):\n",
    "\n",
    "    count = 0\n",
    "\n",
    "    def inner(*args,**kwargs):\n",
    "\n",
    "        nonlocal count\n",
    "\n",
    "        count += 1\n",
    "\n",
    "        counters[fn.__name__] = count\n",
    "\n",
    "        return fn(*args,**kwargs)\n",
    "    \n",
    "    return inner\n",
    "\n",
    "  def add(a,b):\n",
    "\n",
    "    return a + b\n",
    "\n",
    "  add = counter(add)\n",
    "\n",
    "  result = add(1,2)\n",
    "\n",
    "  ```\n",
    "\n",
    "  Here we have modified our add function by wrapping it inside the counter function that added the functionality which is counting the no of times add functions gets called. Since counter function changed the functionality of the add function, then we can say `counter` is called as\n",
    "  Decorator.\n",
    "\n",
    "- In general a decorator function : \n",
    "\n",
    "  1. takes function as argument\n",
    "  2. returns a closure\n",
    "  3. the closure usually accepts any combination of parameters\n",
    "  4. runs some code in the inner function (closure)\n",
    "  5. the closure function calls the original function using the arguments passed to the closure\n",
    "  6. returns whatever is returned by the function call.\n",
    "\n",
    "- So in above example, we say `counter` is a decorator. In general, if `func` is a decorator function, we decorate another function `my_func` using `my_func = func(my_func)`. But python provides another way to decorate a function (not by the assignment we have seen just now.)\n",
    "\n",
    "  ```python\n",
    "\n",
    "  @counter\n",
    "  def add(a,b):\n",
    "\n",
    "    return a + b\n",
    "  \n",
    "  ```\n",
    "\n",
    "  The above code is same as this\n",
    "\n",
    "  ```python\n",
    "\n",
    "  def add(a,b):\n",
    "\n",
    "    return a + b\n",
    "\n",
    "  add = counter(add)\n",
    "\n",
    "  ```\n",
    "\n",
    "  So we can use `@decorator_function_name` before the function that we actually wanna decorate instead of using that assignment operation we have seen."
   ]
  },
  {
   "cell_type": "code",
   "execution_count": 1,
   "id": "70ff4983",
   "metadata": {},
   "outputs": [
    {
     "data": {
      "text/plain": [
       "3"
      ]
     },
     "execution_count": 1,
     "metadata": {},
     "output_type": "execute_result"
    }
   ],
   "source": [
    "# Now lets see the decorators in practice\n",
    "\n",
    "def add(a,b):\n",
    "\n",
    "    return a + b\n",
    "\n",
    "add(1,2)"
   ]
  },
  {
   "cell_type": "code",
   "execution_count": 3,
   "id": "60b5d8fb",
   "metadata": {},
   "outputs": [],
   "source": [
    "# Now we actually wanna change the functionality of add function, so that it should result the how many times this function gets called.\n",
    "\n",
    "# For this iam writing a function called counter\n",
    "\n",
    "def counter(fn):\n",
    "\n",
    "    count = 0\n",
    "\n",
    "    def inner(*args,**kwargs):\n",
    "\n",
    "        nonlocal count\n",
    "\n",
    "        count += 1\n",
    "\n",
    "        print(f'Function {fn.__name__} gets called {count} times')\n",
    "        return fn(*args,**kwargs)\n",
    "    \n",
    "    return inner"
   ]
  },
  {
   "cell_type": "code",
   "execution_count": 4,
   "id": "e76b128b",
   "metadata": {},
   "outputs": [
    {
     "name": "stdout",
     "output_type": "stream",
     "text": [
      "Function add gets called 1 times\n"
     ]
    },
    {
     "data": {
      "text/plain": [
       "3"
      ]
     },
     "execution_count": 4,
     "metadata": {},
     "output_type": "execute_result"
    }
   ],
   "source": [
    "# Now we call the counter by passing the add function. So it would return a closure which contain the function inner\n",
    "\n",
    "add = counter(add)\n",
    "\n",
    "# Now we can try this closure is working correctly or not which means it is performing the add functionality or not.\n",
    "\n",
    "add(1,2)"
   ]
  },
  {
   "cell_type": "code",
   "execution_count": 7,
   "id": "0fedf331",
   "metadata": {},
   "outputs": [
    {
     "name": "stdout",
     "output_type": "stream",
     "text": [
      "Function add gets called 1 times\n"
     ]
    },
    {
     "data": {
      "text/plain": [
       "11"
      ]
     },
     "execution_count": 7,
     "metadata": {},
     "output_type": "execute_result"
    }
   ],
   "source": [
    "# If you see the retuned closure performing addition operation well.\n",
    "\n",
    "# As we know instead of using the assignment operation we can use @ for decorating a function\n",
    "\n",
    "@counter\n",
    "\n",
    "def add(a,b = 1):\n",
    "\n",
    "    \"\"\"\n",
    "    This add function takes two arguments a and b. This will return addition of a and b.\n",
    "    \"\"\"\n",
    "\n",
    "    return a + b\n",
    "\n",
    "add(5,6)"
   ]
  },
  {
   "cell_type": "code",
   "execution_count": 8,
   "id": "f9ceddbe",
   "metadata": {},
   "outputs": [
    {
     "name": "stdout",
     "output_type": "stream",
     "text": [
      "Help on function inner in module __main__:\n",
      "\n",
      "inner(*args, **kwargs)\n",
      "\n"
     ]
    }
   ],
   "source": [
    "# If you see the above output, the functionality of add gets changed because of the counter decorator.\n",
    "\n",
    "# But we have a problem here. SInce we have created the counter and add function we know which parameters we need to pass here. \n",
    "\n",
    "# But when some other person using this closure, he might not know which parameters need to pass for add function. SO he will use help function to get the function info.\n",
    "\n",
    "help(add)"
   ]
  },
  {
   "cell_type": "code",
   "execution_count": 9,
   "id": "5a78d4fc",
   "metadata": {},
   "outputs": [],
   "source": [
    "# But if you see the output , it doesn't contain the signature of the add function. Because from counter function we actually get a closure \n",
    "# which contain the function called inner and this add variable references the closure object not actual add function.\n",
    "\n",
    "# So when we run the help function, it actually returns the doc string or annotations of inner function not add function. This might be a confusion\n",
    "# when a new user will see this.\n",
    "\n",
    "# So to replace the signature and annotations of closure (or inner) with the function we actually passing (here passing function is add), we use \n",
    "# another decorator called wraps which this passing function as input and decorates the inner function by replacing the singnature, docstring, \n",
    "# annotations of inner with the passing function (here it is add).\n",
    "\n",
    "from functools import wraps\n",
    "\n",
    "def counter(fn):\n",
    "\n",
    "    count = 0\n",
    "\n",
    "    @wraps(fn) # Here it is equivalent to inner = wraps(fn)(inner). We will see these kind of decorators in parameterized decorators.\n",
    "    def inner(*args,**kwargs):\n",
    "\n",
    "        nonlocal count\n",
    "\n",
    "        count += 1\n",
    "\n",
    "        print(f'Function {fn.__name__} gets called {count} times')\n",
    "\n",
    "        return fn(*args,**kwargs)\n",
    "    \n",
    "    return inner"
   ]
  },
  {
   "cell_type": "code",
   "execution_count": 10,
   "id": "abe1912f",
   "metadata": {},
   "outputs": [
    {
     "name": "stdout",
     "output_type": "stream",
     "text": [
      "Function add gets called 1 times\n"
     ]
    },
    {
     "data": {
      "text/plain": [
       "11"
      ]
     },
     "execution_count": 10,
     "metadata": {},
     "output_type": "execute_result"
    }
   ],
   "source": [
    "\n",
    "@counter\n",
    "\n",
    "def add(a,b = 1):\n",
    "\n",
    "    \"\"\"\n",
    "    This add function takes two arguments a and b. This will return addition of a and b.\n",
    "    \"\"\"\n",
    "\n",
    "    return a + b\n",
    "\n",
    "add(5,6)"
   ]
  },
  {
   "cell_type": "code",
   "execution_count": null,
   "id": "47bab49a",
   "metadata": {},
   "outputs": [
    {
     "name": "stdout",
     "output_type": "stream",
     "text": [
      "Help on function add in module __main__:\n",
      "\n",
      "add(a, b=1)\n",
      "    This add function takes two arguments a and b. This will return addition of a and b.\n",
      "\n"
     ]
    }
   ],
   "source": [
    "# Now lets see the signature of this add function using help function\n",
    "\n",
    "help(add)\n",
    "\n",
    "# Here we can see the wraps decorator overwritten the signature of inner with signature of add."
   ]
  },
  {
   "cell_type": "markdown",
   "id": "1a102ece",
   "metadata": {},
   "source": [
    "## Application 1 : Timer"
   ]
  },
  {
   "cell_type": "code",
   "execution_count": 1,
   "id": "b837cf4e",
   "metadata": {},
   "outputs": [],
   "source": [
    "# 1) Timer\n",
    "\n",
    "# It actually finds the time taken by each function to gets executed\n",
    "\n",
    "def timed(fn):\n",
    "\n",
    "    from time import perf_counter\n",
    "    from functools import wraps\n",
    "\n",
    "    @wraps(fn)\n",
    "    def inner(*args,**kwargs):\n",
    "\n",
    "        start = perf_counter()\n",
    "\n",
    "        result = fn(*args,**kwargs)\n",
    "\n",
    "        end = perf_counter()\n",
    "\n",
    "        elapsed = end - start\n",
    "\n",
    "        args_ = [str(a) for a in args]\n",
    "        kwargs_ = ['{0}={1}'.format(k,v) for (k,v) in kwargs.items()]\n",
    "        all_args = args_ + kwargs_\n",
    "        args_str = ','.join(all_args)\n",
    "\n",
    "        print('{0}({1}) took {2:.6f}s to run'.format(fn.__name__,args_str,elapsed))\n",
    "\n",
    "        return result\n",
    "    return inner"
   ]
  },
  {
   "cell_type": "code",
   "execution_count": null,
   "id": "49b10857",
   "metadata": {},
   "outputs": [],
   "source": [
    "# Now lets test the fibbonacci function runtime written in 3 different ways. One is recursive, loop and using reduce function.\n",
    "\n",
    "@timed\n",
    "def fibonacci_rescursive(n):\n",
    "\n",
    "    if n<=2:\n",
    "        return 1\n",
    "    return fibonacci_rescursive(n-1) + fibonacci_rescursive(n-2)"
   ]
  },
  {
   "cell_type": "code",
   "execution_count": 3,
   "id": "f34caa19",
   "metadata": {},
   "outputs": [
    {
     "name": "stdout",
     "output_type": "stream",
     "text": [
      "fibonacci_rescursive(2) took 0.000001s to run\n",
      "fibonacci_rescursive(1) took 0.000002s to run\n",
      "fibonacci_rescursive(3) took 0.000708s to run\n",
      "fibonacci_rescursive(2) took 0.000001s to run\n",
      "fibonacci_rescursive(4) took 0.000756s to run\n"
     ]
    },
    {
     "data": {
      "text/plain": [
       "3"
      ]
     },
     "execution_count": 3,
     "metadata": {},
     "output_type": "execute_result"
    }
   ],
   "source": [
    "fibonacci_rescursive(4)"
   ]
  },
  {
   "cell_type": "code",
   "execution_count": 4,
   "id": "efe9a364",
   "metadata": {},
   "outputs": [],
   "source": [
    "# Here we have problem, we are  getting the additional runtimes along with actual runtime for finding the fibonacci number 4.\n",
    "# This is because decorator function gets applied for all the internal recursive functions.\n",
    "\n",
    "# But we want only time taken for finding the fibbonacci number 4. So to get this, we use another function which calls this fibbonacci function.\n",
    "\n",
    "def fibonacci_rescursive(n):\n",
    "\n",
    "    if n<=2:\n",
    "        return 1\n",
    "    return fibonacci_rescursive(n-1) + fibonacci_rescursive(n-2)\n",
    "\n",
    "@timed\n",
    "\n",
    "def recusive_fibonacci(n):\n",
    "    return fibonacci_rescursive(n)"
   ]
  },
  {
   "cell_type": "code",
   "execution_count": 5,
   "id": "511a06be",
   "metadata": {},
   "outputs": [
    {
     "name": "stdout",
     "output_type": "stream",
     "text": [
      "recusive_fibonacci(5) took 0.000005s to run\n"
     ]
    },
    {
     "data": {
      "text/plain": [
       "5"
      ]
     },
     "execution_count": 5,
     "metadata": {},
     "output_type": "execute_result"
    }
   ],
   "source": [
    "recusive_fibonacci(5)"
   ]
  },
  {
   "cell_type": "code",
   "execution_count": 7,
   "id": "3ce6bc35",
   "metadata": {},
   "outputs": [
    {
     "name": "stdout",
     "output_type": "stream",
     "text": [
      "recusive_fibonacci(35) took 3.075924s to run\n"
     ]
    },
    {
     "data": {
      "text/plain": [
       "9227465"
      ]
     },
     "execution_count": 7,
     "metadata": {},
     "output_type": "execute_result"
    }
   ],
   "source": [
    "recusive_fibonacci(35)"
   ]
  },
  {
   "cell_type": "code",
   "execution_count": 8,
   "id": "374d3924",
   "metadata": {},
   "outputs": [
    {
     "name": "stdout",
     "output_type": "stream",
     "text": [
      "recusive_fibonacci(36) took 4.553590s to run\n"
     ]
    },
    {
     "data": {
      "text/plain": [
       "14930352"
      ]
     },
     "execution_count": 8,
     "metadata": {},
     "output_type": "execute_result"
    }
   ],
   "source": [
    "recusive_fibonacci(36)"
   ]
  },
  {
   "cell_type": "code",
   "execution_count": 9,
   "id": "4c0ad9ff",
   "metadata": {},
   "outputs": [],
   "source": [
    "# Now lets check the runtime of fibonacci using the loop\n",
    "\n",
    "@timed\n",
    "\n",
    "def fibonacci_loop(n):\n",
    "\n",
    "    fib_1 = 1\n",
    "    fib_2 = 1\n",
    "\n",
    "    for i in range(3,n+1):\n",
    "        fib_1, fib_2 = fib_2, fib_1 + fib_2\n",
    "    \n",
    "    return fib_2"
   ]
  },
  {
   "cell_type": "code",
   "execution_count": 10,
   "id": "baea94fb",
   "metadata": {},
   "outputs": [
    {
     "name": "stdout",
     "output_type": "stream",
     "text": [
      "fibonacci_loop(4) took 0.000003s to run\n"
     ]
    },
    {
     "data": {
      "text/plain": [
       "3"
      ]
     },
     "execution_count": 10,
     "metadata": {},
     "output_type": "execute_result"
    }
   ],
   "source": [
    "fibonacci_loop(4)"
   ]
  },
  {
   "cell_type": "code",
   "execution_count": 11,
   "id": "4a9055ef",
   "metadata": {},
   "outputs": [
    {
     "name": "stdout",
     "output_type": "stream",
     "text": [
      "fibonacci_loop(35) took 0.000007s to run\n"
     ]
    },
    {
     "data": {
      "text/plain": [
       "9227465"
      ]
     },
     "execution_count": 11,
     "metadata": {},
     "output_type": "execute_result"
    }
   ],
   "source": [
    "fibonacci_loop(35)"
   ]
  },
  {
   "cell_type": "code",
   "execution_count": null,
   "id": "78a35e0c",
   "metadata": {},
   "outputs": [
    {
     "name": "stdout",
     "output_type": "stream",
     "text": [
      "fibonacci_loop(36) took 0.000008s to run\n"
     ]
    },
    {
     "data": {
      "text/plain": [
       "14930352"
      ]
     },
     "execution_count": 12,
     "metadata": {},
     "output_type": "execute_result"
    }
   ],
   "source": [
    "fibonacci_loop(36)\n",
    "\n",
    "# If you see fibonacci_loop runs faster than recursive function"
   ]
  },
  {
   "cell_type": "code",
   "execution_count": null,
   "id": "f86552e8",
   "metadata": {},
   "outputs": [],
   "source": [
    "# Now lets do this by using reduce function\n",
    "\n",
    "from functools import reduce\n",
    "@timed\n",
    "def fibonacci_reduce(n):\n",
    "\n",
    "    fib = reduce(lambda prev,n : (prev[0]+prev[1],prev[0]),range(0,n),(1,0))\n",
    "    \n",
    "    return fib[0]"
   ]
  },
  {
   "cell_type": "code",
   "execution_count": 16,
   "id": "5490ac71",
   "metadata": {},
   "outputs": [
    {
     "name": "stdout",
     "output_type": "stream",
     "text": [
      "fibonacci_reduce(4) took 0.000007s to run\n"
     ]
    },
    {
     "data": {
      "text/plain": [
       "5"
      ]
     },
     "execution_count": 16,
     "metadata": {},
     "output_type": "execute_result"
    }
   ],
   "source": [
    "fibonacci_reduce(4)"
   ]
  },
  {
   "cell_type": "code",
   "execution_count": 17,
   "id": "f640003f",
   "metadata": {},
   "outputs": [
    {
     "name": "stdout",
     "output_type": "stream",
     "text": [
      "fibonacci_reduce(35) took 0.000019s to run\n"
     ]
    },
    {
     "data": {
      "text/plain": [
       "14930352"
      ]
     },
     "execution_count": 17,
     "metadata": {},
     "output_type": "execute_result"
    }
   ],
   "source": [
    "fibonacci_reduce(35)"
   ]
  },
  {
   "cell_type": "code",
   "execution_count": 19,
   "id": "1d620fcc",
   "metadata": {},
   "outputs": [
    {
     "name": "stdout",
     "output_type": "stream",
     "text": [
      "fibonacci_reduce(36) took 0.000013s to run\n"
     ]
    },
    {
     "data": {
      "text/plain": [
       "24157817"
      ]
     },
     "execution_count": 19,
     "metadata": {},
     "output_type": "execute_result"
    }
   ],
   "source": [
    "fibonacci_reduce(36)"
   ]
  },
  {
   "cell_type": "code",
   "execution_count": 26,
   "id": "b5785947",
   "metadata": {},
   "outputs": [],
   "source": [
    "# Generally if you run same code mutiple times it would give different time becuase of process in cpu. So instead of absolute difference, here we need to consider average elapsed time of certain number iterations.\n",
    "\n",
    "# So here iam changing the code of timed decorator to incoperate this.\n",
    "\n",
    "def timed(fn):\n",
    "\n",
    "    from time import perf_counter\n",
    "    from functools import wraps\n",
    "\n",
    "\n",
    "    @wraps(fn)\n",
    "    def inner(*args,**kwargs):\n",
    "\n",
    "        elapsed_total = 0\n",
    "        elapsed_count = 0\n",
    "\n",
    "        for i in range(10):\n",
    "\n",
    "            print(f\"Running iteration {i} .....\")\n",
    "\n",
    "            start = perf_counter()\n",
    "\n",
    "            result = fn(*args,**kwargs)\n",
    "\n",
    "            end = perf_counter()\n",
    "\n",
    "            elapsed = end - start\n",
    "\n",
    "            elapsed_total += elapsed\n",
    "\n",
    "            elapsed_count += 1\n",
    "\n",
    "        args_ = [str(a) for a in args]\n",
    "        kwargs_ = ['{0}={1}'.format(k,v) for (k,v) in kwargs.items()]\n",
    "        all_args = args_ + kwargs_\n",
    "        args_str = ','.join(all_args)\n",
    "\n",
    "        elapsed_avg = elapsed_total/elapsed_count\n",
    "\n",
    "        print('{0}({1}) took {2:.6f}s to run'.format(fn.__name__,args_str,elapsed_avg))\n",
    "\n",
    "        return result\n",
    "    return inner"
   ]
  },
  {
   "cell_type": "code",
   "execution_count": 27,
   "id": "3b024e08",
   "metadata": {},
   "outputs": [],
   "source": [
    "\n",
    "from functools import reduce\n",
    "@timed\n",
    "def fibonacci_reduce(n):\n",
    "\n",
    "    fib = reduce(lambda prev,n : (prev[0]+prev[1],prev[0]),range(0,n),(1,0))\n",
    "    \n",
    "    return fib[0]"
   ]
  },
  {
   "cell_type": "code",
   "execution_count": null,
   "id": "f4d2549a",
   "metadata": {},
   "outputs": [
    {
     "name": "stdout",
     "output_type": "stream",
     "text": [
      "Running iteration 0 .....\n",
      "Running iteration 1 .....\n",
      "Running iteration 2 .....\n",
      "Running iteration 3 .....\n",
      "Running iteration 4 .....\n",
      "Running iteration 5 .....\n",
      "Running iteration 6 .....\n",
      "Running iteration 7 .....\n",
      "Running iteration 8 .....\n",
      "Running iteration 9 .....\n",
      "fibonacci_reduce(35) took 0.000009s to run\n"
     ]
    },
    {
     "data": {
      "text/plain": [
       "14930352"
      ]
     },
     "execution_count": 28,
     "metadata": {},
     "output_type": "execute_result"
    }
   ],
   "source": [
    "fibonacci_reduce(35)\n",
    "\n",
    "# Here we are hardcoding the value in for loop. Instead we wanna pass it as value to counter, so that we can find accurate runtime.\n",
    "\n",
    "# But we cannot use @ notation for creating decorated function with parameters. We need to use parameterized decorators for it."
   ]
  },
  {
   "cell_type": "markdown",
   "id": "ffaa50b7",
   "metadata": {},
   "source": [
    "## Application 2 : Logging and Stacked Decorators\n",
    "\n",
    "- Stacking decorators mean we actually applying one decorator after anothor. Consider the following example here :\n",
    "\n",
    "  ```python\n",
    "\n",
    "  @dec_1\n",
    "  @dec_2\n",
    "\n",
    "  def my_func():\n",
    "    pass\n",
    "\n",
    "  ```\n",
    "\n",
    "  Here we actually applying decorator 1 first and passing the inner function of decorator 2 to decorator 1. The above code is simply equivalent to `my_func = dec_1(dec_2(my_func))`. So we simply passing my_func to dec_2 first and then the resultant closure is again decorated by the decorator 1 which is dec_1."
   ]
  },
  {
   "cell_type": "code",
   "execution_count": 63,
   "id": "ce8042de",
   "metadata": {},
   "outputs": [],
   "source": [
    "# Now lets see te application of logging. Logging simply means when the function gets called and that info must be stored in seperate files.\n",
    "# But here we are just printing it.\n",
    "\n",
    "def logged(fn):\n",
    "\n",
    "    from functools import wraps\n",
    "    from datetime import datetime , timezone, timedelta\n",
    "    @wraps(fn)\n",
    "    def inner(*args,**kwargs):\n",
    "\n",
    "        run_dt = datetime.now(timezone(timedelta(hours = -4)))\n",
    "        result = fn(*args,**kwargs)\n",
    "        print('{0} called {1}'.format(run_dt, fn.__name__))\n",
    "        return result\n",
    "    return inner"
   ]
  },
  {
   "cell_type": "code",
   "execution_count": 64,
   "id": "2e1b5a0b",
   "metadata": {},
   "outputs": [],
   "source": [
    "# For explain the stacked decorators iam just usign timer decorator again.\n",
    "\n",
    "def timed(fn):\n",
    "\n",
    "    from time import perf_counter\n",
    "    from functools import wraps\n",
    "\n",
    "    @wraps(fn)\n",
    "    def inner(*args,**kwargs):\n",
    "\n",
    "        start = perf_counter()\n",
    "\n",
    "        result = fn(*args,**kwargs)\n",
    "\n",
    "        end = perf_counter()\n",
    "\n",
    "        elapsed = end - start\n",
    "\n",
    "        args_ = [str(a) for a in args]\n",
    "        kwargs_ = ['{0}={1}'.format(k,v) for (k,v) in kwargs.items()]\n",
    "        all_args = args_ + kwargs_\n",
    "        args_str = ','.join(all_args)\n",
    "\n",
    "        print('{0}({1}) took {2:.6f}s to run'.format(fn.__name__,args_str,elapsed))\n",
    "\n",
    "        return result\n",
    "    return inner"
   ]
  },
  {
   "cell_type": "code",
   "execution_count": 65,
   "id": "3fc4c9b7",
   "metadata": {},
   "outputs": [
    {
     "data": {
      "text/plain": [
       "120"
      ]
     },
     "execution_count": 65,
     "metadata": {},
     "output_type": "execute_result"
    }
   ],
   "source": [
    "# Now iam defining the factorial function using reduce\n",
    "\n",
    "def fact(n):\n",
    "\n",
    "    from operator import mul\n",
    "    from functools import reduce\n",
    "\n",
    "    return reduce(mul,range(1,n+1))\n",
    "fact(5)"
   ]
  },
  {
   "cell_type": "code",
   "execution_count": 66,
   "id": "40fab24c",
   "metadata": {},
   "outputs": [
    {
     "name": "stdout",
     "output_type": "stream",
     "text": [
      "2025-06-17 11:56:30.076660-04:00 called fact\n"
     ]
    },
    {
     "data": {
      "text/plain": [
       "120"
      ]
     },
     "execution_count": 66,
     "metadata": {},
     "output_type": "execute_result"
    }
   ],
   "source": [
    "# Now iam decorating it using logged function\n",
    "\n",
    "@logged\n",
    "\n",
    "def fact(n):\n",
    "\n",
    "    from operator import mul\n",
    "    from functools import reduce\n",
    "\n",
    "    return reduce(mul,range(1,n+1))\n",
    "\n",
    "fact(5)\n"
   ]
  },
  {
   "cell_type": "code",
   "execution_count": null,
   "id": "f5a395c4",
   "metadata": {},
   "outputs": [
    {
     "name": "stdout",
     "output_type": "stream",
     "text": [
      "fact(5) took 0.000011s to run\n",
      "2025-06-17 11:56:35.377179-04:00 called fact\n"
     ]
    },
    {
     "data": {
      "text/plain": [
       "120"
      ]
     },
     "execution_count": 67,
     "metadata": {},
     "output_type": "execute_result"
    }
   ],
   "source": [
    "# Now lets decorate the fact function using both logged and timed one.\n",
    "\n",
    "@logged\n",
    "\n",
    "@timed\n",
    "\n",
    "def fact(n):\n",
    "\n",
    "    from operator import mul\n",
    "    from functools import reduce\n",
    "\n",
    "    return reduce(mul,range(1,n+1))\n",
    "\n",
    "fact(5)\n",
    "\n",
    "# Here it is equivalent to fact = logged(timed(fact))"
   ]
  },
  {
   "cell_type": "code",
   "execution_count": null,
   "id": "973c4c0a",
   "metadata": {},
   "outputs": [
    {
     "name": "stdout",
     "output_type": "stream",
     "text": [
      "2025-06-17 11:56:37.001234-04:00 called fact\n",
      "fact(5) took 0.000547s to run\n"
     ]
    },
    {
     "data": {
      "text/plain": [
       "120"
      ]
     },
     "execution_count": 68,
     "metadata": {},
     "output_type": "execute_result"
    }
   ],
   "source": [
    "# See the difference if written decorators in reverse order \n",
    "\n",
    "@timed\n",
    "@logged\n",
    "def fact(n):\n",
    "\n",
    "    from operator import mul\n",
    "    from functools import reduce\n",
    "\n",
    "    return reduce(mul,range(1,n+1))\n",
    "\n",
    "fact(5)\n",
    "# It is equivalent to fact = timed(logged(fact))"
   ]
  },
  {
   "cell_type": "markdown",
   "id": "5d6bb128",
   "metadata": {},
   "source": [
    "## Application 3 : Memoization"
   ]
  },
  {
   "cell_type": "code",
   "execution_count": 69,
   "id": "d263e08f",
   "metadata": {},
   "outputs": [],
   "source": [
    "# As we have seen fibonacci series using recursion takes lot of time.This is becuase we are calculating same fibonacci number many times.\n",
    "# So to overcome this we can use a concept called memoization. Instead of calculate it so many times we can calculate it first and store it in some data structure and use it for later.\n",
    "\n",
    "def fib(n):\n",
    "\n",
    "    print(\"Claculating fib({0})\".format(n))\n",
    "    return 1 if n < 3 else fib(n-1) + fib(n-2)"
   ]
  },
  {
   "cell_type": "code",
   "execution_count": null,
   "id": "eed27d3f",
   "metadata": {},
   "outputs": [
    {
     "name": "stdout",
     "output_type": "stream",
     "text": [
      "Claculating fib(5)\n",
      "Claculating fib(4)\n",
      "Claculating fib(3)\n",
      "Claculating fib(2)\n",
      "Claculating fib(1)\n",
      "Claculating fib(2)\n",
      "Claculating fib(3)\n",
      "Claculating fib(2)\n",
      "Claculating fib(1)\n"
     ]
    },
    {
     "data": {
      "text/plain": [
       "5"
      ]
     },
     "execution_count": 71,
     "metadata": {},
     "output_type": "execute_result"
    }
   ],
   "source": [
    "fib(5)\n",
    "\n",
    "# In this output we can see fib(2), fib(1) is calculated so many times. So to overcome it we can use concept called memoization"
   ]
  },
  {
   "cell_type": "code",
   "execution_count": 73,
   "id": "87807f01",
   "metadata": {},
   "outputs": [],
   "source": [
    "# Here iam implementing it by using a simple class\n",
    "\n",
    "class Memoization:\n",
    "\n",
    "    def __init__(self):\n",
    "\n",
    "        self.cache = {1:1,2:1}\n",
    "\n",
    "    def fib(self,n):\n",
    "\n",
    "        if n not in self.cache:\n",
    "            print(\"calculating fib({0})\".format(n))\n",
    "            self.cache[n] = self.fib(n-1) + self.fib(n-2)\n",
    "        return self.cache[n]"
   ]
  },
  {
   "cell_type": "code",
   "execution_count": null,
   "id": "e482a11b",
   "metadata": {},
   "outputs": [
    {
     "name": "stdout",
     "output_type": "stream",
     "text": [
      "calculating fib(5)\n",
      "calculating fib(4)\n",
      "calculating fib(3)\n"
     ]
    },
    {
     "data": {
      "text/plain": [
       "5"
      ]
     },
     "execution_count": 74,
     "metadata": {},
     "output_type": "execute_result"
    }
   ],
   "source": [
    "# Now lets create object for this class and call fib function\n",
    "\n",
    "f = Memoization()\n",
    "f.fib(5)\n",
    "\n",
    "# In the output we can see that we just calculated only 3 things"
   ]
  },
  {
   "cell_type": "code",
   "execution_count": null,
   "id": "dc2f702d",
   "metadata": {},
   "outputs": [
    {
     "name": "stdout",
     "output_type": "stream",
     "text": [
      "calculating fib(10)\n",
      "calculating fib(9)\n",
      "calculating fib(8)\n",
      "calculating fib(7)\n",
      "calculating fib(6)\n"
     ]
    },
    {
     "data": {
      "text/plain": [
       "55"
      ]
     },
     "execution_count": 75,
     "metadata": {},
     "output_type": "execute_result"
    }
   ],
   "source": [
    "f.fib(10)\n",
    "\n",
    "# Here we have calculated only 10,9,8,7,6 becasue until 5 we have already calculated and stored it in cache."
   ]
  },
  {
   "cell_type": "code",
   "execution_count": 79,
   "id": "5e33ab7f",
   "metadata": {},
   "outputs": [
    {
     "name": "stdout",
     "output_type": "stream",
     "text": [
      "Calaculating fib(5)\n",
      "Calaculating fib(4)\n",
      "Calaculating fib(3)\n"
     ]
    },
    {
     "data": {
      "text/plain": [
       "5"
      ]
     },
     "execution_count": 79,
     "metadata": {},
     "output_type": "execute_result"
    }
   ],
   "source": [
    "# As we know all the simple classes can be written as closures. Now lets write the above class as a closure.\n",
    "\n",
    "def fib():\n",
    "\n",
    "    cache = {1:1,2:1}\n",
    "\n",
    "    def calculate_fib(n):\n",
    "\n",
    "        if n not in cache:\n",
    "            print(\"Calaculating fib({0})\".format(n))\n",
    "            cache[n] = calculate_fib(n-1) + calculate_fib(n-2)\n",
    "\n",
    "        return cache[n]\n",
    "    return calculate_fib\n",
    "\n",
    "f = fib()\n",
    "f(5)"
   ]
  },
  {
   "cell_type": "code",
   "execution_count": 80,
   "id": "4e1cf760",
   "metadata": {},
   "outputs": [
    {
     "name": "stdout",
     "output_type": "stream",
     "text": [
      "Calaculating fib(10)\n",
      "Calaculating fib(9)\n",
      "Calaculating fib(8)\n",
      "Calaculating fib(7)\n",
      "Calaculating fib(6)\n"
     ]
    },
    {
     "data": {
      "text/plain": [
       "55"
      ]
     },
     "execution_count": 80,
     "metadata": {},
     "output_type": "execute_result"
    }
   ],
   "source": [
    "f(10)"
   ]
  },
  {
   "cell_type": "code",
   "execution_count": 81,
   "id": "b2b11d38",
   "metadata": {},
   "outputs": [],
   "source": [
    "# So now lets convert this closure into a decorator. As we know decorator takes a function and enhance the behaviour of the function\n",
    "\n",
    "def memoize(fn):\n",
    "\n",
    "    from functools import wraps\n",
    "    cache = dict()\n",
    "\n",
    "    @wraps(fn)\n",
    "    def inner(n):\n",
    "\n",
    "        if n not in cache:\n",
    "            cache[n] = fn(n)\n",
    "        return cache[n]\n",
    "    return inner\n",
    "\n",
    "# This function is general memoize function which actually stores all the calculated values."
   ]
  },
  {
   "cell_type": "code",
   "execution_count": 82,
   "id": "0c02468e",
   "metadata": {},
   "outputs": [],
   "source": [
    "# Now lets define the fib function and decorate it\n",
    "\n",
    "@memoize\n",
    "\n",
    "def fib(n):\n",
    "\n",
    "    print(\"Calculating fib({0})\".format(n))\n",
    "    return 1 if n < 3 else fib(n-1) + fib(n-2)"
   ]
  },
  {
   "cell_type": "code",
   "execution_count": 83,
   "id": "09f2d956",
   "metadata": {},
   "outputs": [
    {
     "name": "stdout",
     "output_type": "stream",
     "text": [
      "Calculating fib(5)\n",
      "Calculating fib(4)\n",
      "Calculating fib(3)\n",
      "Calculating fib(2)\n",
      "Calculating fib(1)\n"
     ]
    },
    {
     "data": {
      "text/plain": [
       "5"
      ]
     },
     "execution_count": 83,
     "metadata": {},
     "output_type": "execute_result"
    }
   ],
   "source": [
    "fib(5)"
   ]
  },
  {
   "cell_type": "code",
   "execution_count": null,
   "id": "28ebc37f",
   "metadata": {},
   "outputs": [
    {
     "name": "stdout",
     "output_type": "stream",
     "text": [
      "Calculating fib(10)\n",
      "Calculating fib(9)\n",
      "Calculating fib(8)\n",
      "Calculating fib(7)\n",
      "Calculating fib(6)\n"
     ]
    },
    {
     "data": {
      "text/plain": [
       "55"
      ]
     },
     "execution_count": 84,
     "metadata": {},
     "output_type": "execute_result"
    }
   ],
   "source": [
    "# Now lets see the fib(10)\n",
    "fib(10)\n",
    "# We can see it as used the pre-calulated values of fibonacci series stored in cache."
   ]
  },
  {
   "cell_type": "code",
   "execution_count": 86,
   "id": "106ed62b",
   "metadata": {},
   "outputs": [
    {
     "name": "stdout",
     "output_type": "stream",
     "text": [
      "Calculating fact(5)\n",
      "Calculating fact(4)\n",
      "Calculating fact(3)\n",
      "Calculating fact(2)\n",
      "Calculating fact(1)\n"
     ]
    },
    {
     "data": {
      "text/plain": [
       "120"
      ]
     },
     "execution_count": 86,
     "metadata": {},
     "output_type": "execute_result"
    }
   ],
   "source": [
    "# This decorator can be used for any other function which need s memoization technique\n",
    "\n",
    "# We know factorial also requires memoization.So lets do memoization for factorial\n",
    "\n",
    "@memoize\n",
    "def fact(n):\n",
    "    print(\"Calculating fact({0})\".format(n))\n",
    "    return 1 if n <=1 else n*fact(n-1)\n",
    "\n",
    "fact(5)"
   ]
  },
  {
   "cell_type": "code",
   "execution_count": 87,
   "id": "0ee3fb54",
   "metadata": {},
   "outputs": [
    {
     "name": "stdout",
     "output_type": "stream",
     "text": [
      "Calculating fact(10)\n",
      "Calculating fact(9)\n",
      "Calculating fact(8)\n",
      "Calculating fact(7)\n",
      "Calculating fact(6)\n"
     ]
    },
    {
     "data": {
      "text/plain": [
       "3628800"
      ]
     },
     "execution_count": 87,
     "metadata": {},
     "output_type": "execute_result"
    }
   ],
   "source": [
    "fact(10)"
   ]
  },
  {
   "cell_type": "code",
   "execution_count": 96,
   "id": "ed045b75",
   "metadata": {},
   "outputs": [],
   "source": [
    "# So we have seen how decorators can be used for memoization technique. But we know this cache is unlimited which means we can store numerous numbers.\n",
    "\n",
    "# If you have unlimited cache, we might end up the memory overflow errors. To overcome this error we need to use limited cache. But it is complicated to code this.\n",
    "\n",
    "# But python has builtin decorator called lru_cache which performs memoization and limited caching. It is in functools. It is also a paramaterized decorator\n",
    "\n",
    "from functools import lru_cache\n",
    "\n",
    "@lru_cache(maxsize = 8) # Here iam limiting cache size is 8\n",
    "def fib(n):\n",
    "    print(\"calculating fib({0})\".format(n))\n",
    "    return 1 if n < 3 else fib(n-1) + fib(n-2)"
   ]
  },
  {
   "cell_type": "code",
   "execution_count": 97,
   "id": "8f5bdeea",
   "metadata": {},
   "outputs": [
    {
     "name": "stdout",
     "output_type": "stream",
     "text": [
      "calculating fib(8)\n",
      "calculating fib(7)\n",
      "calculating fib(6)\n",
      "calculating fib(5)\n",
      "calculating fib(4)\n",
      "calculating fib(3)\n",
      "calculating fib(2)\n",
      "calculating fib(1)\n"
     ]
    },
    {
     "data": {
      "text/plain": [
       "21"
      ]
     },
     "execution_count": 97,
     "metadata": {},
     "output_type": "execute_result"
    }
   ],
   "source": [
    "fib(8)"
   ]
  },
  {
   "cell_type": "code",
   "execution_count": null,
   "id": "a9d79117",
   "metadata": {},
   "outputs": [
    {
     "name": "stdout",
     "output_type": "stream",
     "text": [
      "calculating fib(16)\n",
      "calculating fib(15)\n",
      "calculating fib(14)\n",
      "calculating fib(13)\n",
      "calculating fib(12)\n",
      "calculating fib(11)\n",
      "calculating fib(10)\n",
      "calculating fib(9)\n"
     ]
    },
    {
     "data": {
      "text/plain": [
       "987"
      ]
     },
     "execution_count": 98,
     "metadata": {},
     "output_type": "execute_result"
    }
   ],
   "source": [
    "# Now lets calculate fib(16)\n",
    "\n",
    "fib(16)\n",
    "\n",
    "# Here it is calcualted only from 9 to 16 becuase upto 8 are stored in cache"
   ]
  },
  {
   "cell_type": "code",
   "execution_count": null,
   "id": "8cdc69cc",
   "metadata": {},
   "outputs": [
    {
     "name": "stdout",
     "output_type": "stream",
     "text": [
      "calculating fib(8)\n",
      "calculating fib(7)\n",
      "calculating fib(6)\n",
      "calculating fib(5)\n",
      "calculating fib(4)\n",
      "calculating fib(3)\n",
      "calculating fib(2)\n",
      "calculating fib(1)\n"
     ]
    },
    {
     "data": {
      "text/plain": [
       "21"
      ]
     },
     "execution_count": 99,
     "metadata": {},
     "output_type": "execute_result"
    }
   ],
   "source": [
    "# So now again calcualte fib(8)\n",
    "\n",
    "fib(8)\n",
    "\n",
    "# If you see it is again calculated from 1 to 8. Since we have limited cache size to 8 , at first it is stored the values of 8 and when run fib(16),\n",
    "# its starts deleting the oldest one first and stores the newest one. So like this its start deleting fib(1) when fib(9) got calculated. Like that,\n",
    "# its deleted 1 to 8 to store fib(9) to fib(16) "
   ]
  },
  {
   "cell_type": "code",
   "execution_count": 100,
   "id": "68fa8fed",
   "metadata": {},
   "outputs": [
    {
     "name": "stdout",
     "output_type": "stream",
     "text": [
      "calculating fib(16)\n",
      "calculating fib(15)\n",
      "calculating fib(14)\n",
      "calculating fib(13)\n",
      "calculating fib(12)\n",
      "calculating fib(11)\n",
      "calculating fib(10)\n",
      "calculating fib(9)\n"
     ]
    },
    {
     "data": {
      "text/plain": [
       "987"
      ]
     },
     "execution_count": 100,
     "metadata": {},
     "output_type": "execute_result"
    }
   ],
   "source": [
    "# If you calculate fib(16) again it starts calculating them from 9 to 16.\n",
    "\n",
    "fib(16)"
   ]
  },
  {
   "cell_type": "markdown",
   "id": "7a15d173",
   "metadata": {},
   "source": [
    "## Decorator Factories\n",
    "\n",
    "- So far we ave seen the decorators which are not parameterized. Now lets see how to create a decorator which can take parameters also. Suppose consider the decorator timed we have created above in which we have hardcoded the value in the for loop. Now we wanna pass it as parameter. Generally we write code like this :\n",
    "\n",
    "  ```python\n",
    "\n",
    "  def timed(fn,reps):\n",
    "\n",
    "    from time import perf_counter\n",
    "    from functools import wraps\n",
    "\n",
    "\n",
    "    @wraps(fn)\n",
    "    def inner(*args,**kwargs):\n",
    "\n",
    "        elapsed_total = 0\n",
    "\n",
    "        for i in range(reps):\n",
    "\n",
    "            print(f\"Running iteration {i} .....\")\n",
    "\n",
    "            start = perf_counter()\n",
    "\n",
    "            result = fn(*args,**kwargs)\n",
    "\n",
    "            end = perf_counter()\n",
    "\n",
    "            elapsed = end - start\n",
    "\n",
    "            elapsed_total += elapsed\n",
    "\n",
    "\n",
    "        args_ = [str(a) for a in args]\n",
    "        kwargs_ = ['{0}={1}'.format(k,v) for (k,v) in kwargs.items()]\n",
    "        all_args = args_ + kwargs_\n",
    "        args_str = ','.join(all_args)\n",
    "\n",
    "        elapsed_avg = elapsed_total/reps\n",
    "\n",
    "        print('{0}({1}) took {2:.6f}s to run ({3} reps)'.format(fn.__name__,args_str,elapsed_avg, reps))\n",
    "\n",
    "        return result\n",
    "    return inner\n",
    "\n",
    "    # Now lets define a fib function to which we need to decorate by using timed decorator\n",
    "\n",
    "    def fib(n):\n",
    "      return 1 if n < 3 else return fib(n-1) + fib(n-2)\n",
    "    \n",
    "    fib = timed(fib,5) \n",
    "\n",
    "  ```\n",
    "\n",
    "  In this, we cannot use the `@` symbol to decorate the `fib` function. Generally we think we decorate fib function like this `@timed(10)`. But timed function actually takes two arguments one is function and anothor one is reps. So if you pass only 10 as argument then python raises error that timed function need two positional arguments.\n",
    "\n",
    "- If we want to use `@` symbol for decorating the function then `function_name(10)` (here timed(10)) must return a decorator and that decorator is used for decorating the function which means `function_name(<parameter>)` must return a decorator. So here we need to create an additional function whic takes parameters and in that function we need to define our decorator which uses these parameters and that function return this decorator. The function which returns a decorator is called as decorator factory. So inorder to create parameterized decoractors we actually need a decorator factory.\n",
    "\n",
    "- To make above timed decorator as parameterized decorator, we need to add a decorator factory function and define this timed decorator in that function.\n",
    "\n",
    "  ```python\n",
    "\n",
    "  def timed(reps):\n",
    "\n",
    "    def dec(fn):\n",
    "\n",
    "      from time import perf_counter\n",
    "      from functools import wraps\n",
    "\n",
    "\n",
    "      @wraps(fn)\n",
    "      def inner(*args,**kwargs):\n",
    "\n",
    "          elapsed_total = 0\n",
    "\n",
    "          for i in range(reps):\n",
    "\n",
    "              print(f\"Running iteration {i} .....\")\n",
    "\n",
    "              start = perf_counter()\n",
    "\n",
    "              result = fn(*args,**kwargs)\n",
    "\n",
    "              end = perf_counter()\n",
    "\n",
    "              elapsed = end - start\n",
    "\n",
    "              elapsed_total += elapsed\n",
    "\n",
    "\n",
    "          args_ = [str(a) for a in args]\n",
    "          kwargs_ = ['{0}={1}'.format(k,v) for (k,v) in kwargs.items()]\n",
    "          all_args = args_ + kwargs_\n",
    "          args_str = ','.join(all_args)\n",
    "\n",
    "          elapsed_avg = elapsed_total/reps\n",
    "\n",
    "          print('{0}({1}) took {2:.6f}s to run ({3} reps)'.format(fn.__name__,args_str,elapsed_avg, reps))\n",
    "\n",
    "          return result\n",
    "      return inner\n",
    "    return dec\n",
    "\n",
    "    @timed(5) # This is equivalent to fib = timed(10)(fib). Here timed(10) returns actual decorator which decorates fib function and this timed function is just a factory function.\n",
    "\n",
    "    def fib(n):\n",
    "      return 1 if n < 3 else fib(n-1) + fib(2)\n",
    "\n",
    "    fib(5)\n"
   ]
  },
  {
   "cell_type": "code",
   "execution_count": 101,
   "id": "ae75bbf7",
   "metadata": {},
   "outputs": [],
   "source": [
    "def timed(reps):\n",
    "\n",
    "    def dec(fn):\n",
    "\n",
    "      from time import perf_counter\n",
    "      from functools import wraps\n",
    "\n",
    "\n",
    "      @wraps(fn)\n",
    "      def inner(*args,**kwargs):\n",
    "\n",
    "          elapsed_total = 0\n",
    "\n",
    "          for i in range(reps):\n",
    "\n",
    "              print(f\"Running iteration {i} .....\")\n",
    "\n",
    "              start = perf_counter()\n",
    "\n",
    "              result = fn(*args,**kwargs)\n",
    "\n",
    "              end = perf_counter()\n",
    "\n",
    "              elapsed = end - start\n",
    "\n",
    "              elapsed_total += elapsed\n",
    "\n",
    "\n",
    "          args_ = [str(a) for a in args]\n",
    "          kwargs_ = ['{0}={1}'.format(k,v) for (k,v) in kwargs.items()]\n",
    "          all_args = args_ + kwargs_\n",
    "          args_str = ','.join(all_args)\n",
    "\n",
    "          elapsed_avg = elapsed_total/reps\n",
    "\n",
    "          print('{0}({1}) took {2:.6f}s to run ({3} reps)'.format(fn.__name__,args_str,elapsed_avg, reps))\n",
    "\n",
    "          return result\n",
    "      return inner\n",
    "    return dec"
   ]
  },
  {
   "cell_type": "code",
   "execution_count": null,
   "id": "b26bfda8",
   "metadata": {},
   "outputs": [
    {
     "name": "stdout",
     "output_type": "stream",
     "text": [
      "Running iteration 0 .....\n",
      "Running iteration 1 .....\n",
      "Running iteration 2 .....\n",
      "Running iteration 3 .....\n",
      "Running iteration 4 .....\n",
      "fib(10) took 0.000043s to run (5 reps)\n"
     ]
    },
    {
     "data": {
      "text/plain": [
       "55"
      ]
     },
     "execution_count": 103,
     "metadata": {},
     "output_type": "execute_result"
    }
   ],
   "source": [
    "# Now lets create a decorator in standard way\n",
    "\n",
    "dec = timed(5)\n",
    "\n",
    "def cal_fib(n):\n",
    "    return 1 if n < 3 else cal_fib(n-1) + cal_fib(n-2)\n",
    "\n",
    "@dec\n",
    "def fib(n):\n",
    "    return cal_fib(n)\n",
    "\n",
    "fib(10)\n",
    "\n",
    "# From the output we can say timed(10) is returning a decorator. It is not decorating the function"
   ]
  },
  {
   "cell_type": "code",
   "execution_count": null,
   "id": "27617614",
   "metadata": {},
   "outputs": [
    {
     "name": "stdout",
     "output_type": "stream",
     "text": [
      "Running iteration 0 .....\n",
      "Running iteration 1 .....\n",
      "Running iteration 2 .....\n",
      "Running iteration 3 .....\n",
      "Running iteration 4 .....\n",
      "Running iteration 5 .....\n",
      "Running iteration 6 .....\n",
      "Running iteration 7 .....\n",
      "fib(10) took 0.000027s to run (8 reps)\n"
     ]
    },
    {
     "data": {
      "text/plain": [
       "55"
      ]
     },
     "execution_count": 104,
     "metadata": {},
     "output_type": "execute_result"
    }
   ],
   "source": [
    "# Now we directly use @ symbol without that extra dec variable\n",
    "\n",
    "@timed(8)\n",
    "\n",
    "def fib(n):\n",
    "    return cal_fib(n)\n",
    "\n",
    "fib(10)\n",
    "\n",
    "# we can see we have got 8 iterations."
   ]
  },
  {
   "cell_type": "markdown",
   "id": "be0f9669",
   "metadata": {},
   "source": [
    "**Note** : As we know, we use `@` symbol to apply decorators to a function. What `@decorator` line is tells to python is, Take the function `my_function` and pass it to the decorator function and assign the result back to `my_function`."
   ]
  },
  {
   "cell_type": "markdown",
   "id": "848a0dd8",
   "metadata": {},
   "source": [
    "# Decorator Class\n",
    "\n",
    "- Till now we have used functions to decorate anothor functions. But we can use classes to decorate if we make them callable.As we know that to make classes as callable we just need to implement `__call__` method in the class. \n",
    "\n",
    "- To make that class as decorator we just need to define this inner function in the `__call__` method and make that `__call__` method to return this inner function. Then we can use this class as decorator."
   ]
  },
  {
   "cell_type": "code",
   "execution_count": 110,
   "id": "913f892c",
   "metadata": {},
   "outputs": [],
   "source": [
    "# Now lets first make te class as callable\n",
    "\n",
    "class MyClass:\n",
    "\n",
    "    def __init__(self,a,b):\n",
    "\n",
    "        self.a = a\n",
    "        self.b = b\n",
    "\n",
    "    def __call__(self,c): # This call method just makes the object callable. This is what we need to make this class as decorator.\n",
    "\n",
    "        print(\"Class gets called with parameters a = {0}, b = {1}, c = {2}\".format(self.a,self.b,c))\n",
    "\n"
   ]
  },
  {
   "cell_type": "code",
   "execution_count": null,
   "id": "90a6e45a",
   "metadata": {},
   "outputs": [
    {
     "name": "stdout",
     "output_type": "stream",
     "text": [
      "Class gets called with parameters a = 10, b = 20, c = 30\n"
     ]
    }
   ],
   "source": [
    "# Now lets create an object for this class\n",
    "\n",
    "myobj = MyClass(10,20)\n",
    "\n",
    "myobj(30)"
   ]
  },
  {
   "cell_type": "code",
   "execution_count": 112,
   "id": "7ece6164",
   "metadata": {},
   "outputs": [],
   "source": [
    "# If you observe it is just looks like parameterized decorator where class is acting as factory function which takes parameter used inside the class.\n",
    "\n",
    "# And the __call__ method is our decorator here. If we just place inner function inside the __call__ method then make it to take a function as argument\n",
    "#  and returns inner function. This is what happening while decorating the function.\n",
    "\n",
    "# So here class acts as decorator factory and __call__ is our decorator there.\n",
    "\n",
    "# Now lets define our timed class and decorate fibonacci function\n",
    "\n",
    "class timed:\n",
    "\n",
    "    def __init__(self,reps):\n",
    "\n",
    "        self.reps = reps\n",
    "\n",
    "    def __call__(self,fn):\n",
    "\n",
    "        from time import perf_counter\n",
    "        from functools import wraps\n",
    "\n",
    "\n",
    "        @wraps(fn)\n",
    "        def inner(*args,**kwargs):\n",
    "          \n",
    "\n",
    "          elapsed_total = 0\n",
    "\n",
    "          for i in range(self.reps):\n",
    "\n",
    "              print(f\"Running iteration {i} .....\")\n",
    "\n",
    "              start = perf_counter()\n",
    "\n",
    "              result = fn(*args,**kwargs)\n",
    "\n",
    "              end = perf_counter()\n",
    "\n",
    "              elapsed = end - start\n",
    "\n",
    "              elapsed_total += elapsed\n",
    "\n",
    "\n",
    "          args_ = [str(a) for a in args]\n",
    "          kwargs_ = ['{0}={1}'.format(k,v) for (k,v) in kwargs.items()]\n",
    "          all_args = args_ + kwargs_\n",
    "          args_str = ','.join(all_args)\n",
    "\n",
    "          elapsed_avg = elapsed_total/self.reps\n",
    "\n",
    "          print('{0}({1}) took {2:.6f}s to run ({3} reps)'.format(fn.__name__,args_str,elapsed_avg, self.reps))\n",
    "\n",
    "          return result\n",
    "        return inner\n",
    "    \n"
   ]
  },
  {
   "cell_type": "code",
   "execution_count": null,
   "id": "b38e635c",
   "metadata": {},
   "outputs": [
    {
     "name": "stdout",
     "output_type": "stream",
     "text": [
      "Running iteration 0 .....\n",
      "Running iteration 1 .....\n",
      "Running iteration 2 .....\n",
      "Running iteration 3 .....\n",
      "Running iteration 4 .....\n",
      "fib(5) took 0.000004s to run (5 reps)\n"
     ]
    },
    {
     "data": {
      "text/plain": [
       "5"
      ]
     },
     "execution_count": 113,
     "metadata": {},
     "output_type": "execute_result"
    }
   ],
   "source": [
    "# Now lets instantiate the object for timed class\n",
    "\n",
    "mydec = timed(5)\n",
    "\n",
    "def cal_fib(n):\n",
    "    return 1 if n < 3 else cal_fib(n-1) + cal_fib(n-2)\n",
    "\n",
    "def fib(n):\n",
    "    return cal_fib(n)\n",
    "\n",
    "# Now decorate the fib function using mydec object\n",
    "\n",
    "fib = mydec(fib)\n",
    "\n",
    "fib(5)\n",
    "\n",
    "# The object is exactly same as we have got using the function as decorator. \n",
    "\n",
    "# So we can say fib = timed(10)(fib) which is similar to using @timed(10) before function definition."
   ]
  },
  {
   "cell_type": "code",
   "execution_count": null,
   "id": "8b5b0d5b",
   "metadata": {},
   "outputs": [
    {
     "name": "stdout",
     "output_type": "stream",
     "text": [
      "Running iteration 0 .....\n",
      "Running iteration 1 .....\n",
      "Running iteration 2 .....\n",
      "Running iteration 3 .....\n",
      "Running iteration 4 .....\n",
      "Running iteration 5 .....\n",
      "Running iteration 6 .....\n",
      "Running iteration 7 .....\n",
      "fib(10) took 0.000028s to run (8 reps)\n"
     ]
    },
    {
     "data": {
      "text/plain": [
       "55"
      ]
     },
     "execution_count": 114,
     "metadata": {},
     "output_type": "execute_result"
    }
   ],
   "source": [
    "@timed(8)\n",
    "\n",
    "def fib(n):\n",
    "    return cal_fib(n)\n",
    "\n",
    "fib(10)\n",
    "\n",
    "# This is how we use class as decorator to decorate a function."
   ]
  },
  {
   "cell_type": "markdown",
   "id": "6a49dec4",
   "metadata": {},
   "source": [
    "## Decorating the Class\n",
    "\n",
    "- Till now we have decorated the functions using the functions and also classes also. So now lets decorate the classes using functions. As we all know that python is dynamically typed language, so we can change the behaviour of any object at runtime even the standard library built-in classes and objects also. Changing the behaviour of class or object at runtime is called monkeypactching.\n",
    "\n",
    "- For example consider the `Fraction class` in fraction module. We know this fraction class has numerator or denominator property. But it doesn't have method called `is_integral` which tells us whether the fraction is integral or not. To do this we just the code like below.\n",
    "\n",
    "  ```python\n",
    "\n",
    "  from fractions import Fraction\n",
    "\n",
    "  Fraction.is_integral = lambda self : self.denominator == 1\n",
    "\n",
    "  f = Fraction(2,3)\n",
    "\n",
    "  f.is_integral()\n",
    "\n",
    "  ```\n",
    "\n",
    "  Here this fraction is not integral so it would return False. Like this we can change the behaviour of the class. If you just write this using a function, then it would become a decorator which decorates a class.\n",
    "\n",
    "  ```python\n",
    "\n",
    "  from fractions import Fraction\n",
    "\n",
    "  def dec_integral(cls):\n",
    "\n",
    "    cls.is_integral = lambda self: self.denominator == 1\n",
    "\n",
    "    return cls\n",
    "\n",
    "  Fraction = dec_integral(Fraction) # This syntax is exactly similar to a decorator syntax.\n",
    "\n",
    "  # Here this function just added is_integral functionality to this class. Here we doesn't need to return class. Because we are just mutating \n",
    "  # the class in the function itself. But if we won't return the class then Fraction becomes None type as dec_integral would return None.\n",
    "  # So make this similar to decorator syntax we actually need to return the class.\n",
    "\n",
    "  ```\n",
    "- So we can use `@` symbol directly for decorating the class instead of writing the assignment statement. "
   ]
  },
  {
   "cell_type": "code",
   "execution_count": 115,
   "id": "792aa3fa",
   "metadata": {},
   "outputs": [
    {
     "data": {
      "text/plain": [
       "False"
      ]
     },
     "execution_count": 115,
     "metadata": {},
     "output_type": "execute_result"
    }
   ],
   "source": [
    "# So now lets decorate the Fraction Class\n",
    "\n",
    "from fractions import Fraction\n",
    "\n",
    "# Now lets define the function for decorating the fractions class\n",
    "\n",
    "def dec_integral(cls):\n",
    "\n",
    "    cls.is_integral = lambda self : self.denominator == 1\n",
    "\n",
    "    return cls\n",
    "\n",
    "Fraction = dec_integral(Fraction)\n",
    "\n",
    "f = Fraction(2,3)\n",
    "f.is_integral()\n"
   ]
  },
  {
   "cell_type": "code",
   "execution_count": 116,
   "id": "de8c9408",
   "metadata": {},
   "outputs": [
    {
     "data": {
      "text/plain": [
       "True"
      ]
     },
     "execution_count": 116,
     "metadata": {},
     "output_type": "execute_result"
    }
   ],
   "source": [
    "f = Fraction(2,1)\n",
    "f.is_integral()"
   ]
  },
  {
   "cell_type": "code",
   "execution_count": 135,
   "id": "2fec28e1",
   "metadata": {},
   "outputs": [],
   "source": [
    "# Now lets define a class called point which just indicates the cooridnates in cordinate axis.\n",
    "\n",
    "from math import sqrt\n",
    "\n",
    "class Point:\n",
    "\n",
    "    def __init__(self,a,b):\n",
    "\n",
    "        self.a = a\n",
    "        self.b = b\n",
    "    \n",
    "    def __abs__(self):\n",
    "\n",
    "        return sqrt(self.a**2 + self.b**2)\n",
    "    \n",
    "    def __repr__(self):\n",
    "\n",
    "        return \"({0},{1})\".format(self.a,self.b)\n",
    "    \n",
    "    def __eq__(self,other):\n",
    "\n",
    "        if isinstance(other,Point):\n",
    "\n",
    "            return self.a == other.a and self.b == other.b\n",
    "        else:\n",
    "            return NotImplemented\n",
    "    \n",
    "    def __lt__(self,other):\n",
    "        if isinstance(other,Point):\n",
    "\n",
    "            return abs(self) < abs(other)\n",
    "        \n",
    "        else:\n",
    "            return NotImplemented\n",
    "        \n",
    "# Here this class has two values as x value and y value to represent the point and we have some methods such as abs which is absolute distance\n",
    "# from origin and some comparision methods to comapre two point objects\n"
   ]
  },
  {
   "cell_type": "code",
   "execution_count": 136,
   "id": "9e4d68a8",
   "metadata": {},
   "outputs": [],
   "source": [
    "p1,p2,p3,p4 = Point(2,3), Point(1,2), Point(0,0), Point(10,20)"
   ]
  },
  {
   "cell_type": "code",
   "execution_count": 137,
   "id": "c5855a4e",
   "metadata": {},
   "outputs": [
    {
     "data": {
      "text/plain": [
       "3.605551275463989"
      ]
     },
     "execution_count": 137,
     "metadata": {},
     "output_type": "execute_result"
    }
   ],
   "source": [
    "abs(p1)"
   ]
  },
  {
   "cell_type": "code",
   "execution_count": 138,
   "id": "26a27557",
   "metadata": {},
   "outputs": [
    {
     "data": {
      "text/plain": [
       "False"
      ]
     },
     "execution_count": 138,
     "metadata": {},
     "output_type": "execute_result"
    }
   ],
   "source": [
    "# Now lets compare whether p1 is equal to p2\n",
    "\n",
    "p1 == p2"
   ]
  },
  {
   "cell_type": "code",
   "execution_count": 139,
   "id": "acc7993d",
   "metadata": {},
   "outputs": [
    {
     "data": {
      "text/plain": [
       "False"
      ]
     },
     "execution_count": 139,
     "metadata": {},
     "output_type": "execute_result"
    }
   ],
   "source": [
    "p1 < p2"
   ]
  },
  {
   "cell_type": "code",
   "execution_count": null,
   "id": "ecaef384",
   "metadata": {},
   "outputs": [
    {
     "data": {
      "text/plain": [
       "True"
      ]
     },
     "execution_count": 140,
     "metadata": {},
     "output_type": "execute_result"
    }
   ],
   "source": [
    "p1 > p2"
   ]
  },
  {
   "cell_type": "code",
   "execution_count": 141,
   "id": "f3f9b605",
   "metadata": {},
   "outputs": [
    {
     "ename": "TypeError",
     "evalue": "'<=' not supported between instances of 'Point' and 'Point'",
     "output_type": "error",
     "traceback": [
      "\u001b[1;31m---------------------------------------------------------------------------\u001b[0m",
      "\u001b[1;31mTypeError\u001b[0m                                 Traceback (most recent call last)",
      "Cell \u001b[1;32mIn[141], line 3\u001b[0m\n\u001b[0;32m      1\u001b[0m \u001b[38;5;66;03m# But if you try less than or equal to operation it would say this class doesn't supported that operator as we haven't defined __le__ method.\u001b[39;00m\n\u001b[1;32m----> 3\u001b[0m \u001b[43mp1\u001b[49m\u001b[43m \u001b[49m\u001b[38;5;241;43m<\u001b[39;49m\u001b[38;5;241;43m=\u001b[39;49m\u001b[43m \u001b[49m\u001b[43mp2\u001b[49m\n",
      "\u001b[1;31mTypeError\u001b[0m: '<=' not supported between instances of 'Point' and 'Point'"
     ]
    }
   ],
   "source": [
    "# But if you try less than or equal to operation it would say this class doesn't supported that operator as we haven't defined __le__ method.\n",
    "\n",
    "p1 <= p2"
   ]
  },
  {
   "cell_type": "code",
   "execution_count": 143,
   "id": "92c195e6",
   "metadata": {},
   "outputs": [],
   "source": [
    "# But we can define this if we have eq and lt methods.\n",
    "\n",
    "# a > b -> not (a < b) and a != b\n",
    "# a <=b -> iff a < b or a == b\n",
    "# a >=b -> iff not a < b\n",
    "\n",
    "# So if any class implements eq and lt then we easily implements gt, le, ge with those. So it is generic which can be applicable for any class.\n",
    "# So iam writing a generic decorator to implement these.\n",
    "\n",
    "def ordering(cls):\n",
    "\n",
    "    if '__eq__'in dir(cls) and '__lt__' in dir(cls):\n",
    "\n",
    "        cls.__gt__ = lambda self, other : not (self < other) and not (self == other)\n",
    "        cls.__le__ = lambda self, other : self < other or self == other\n",
    "        cls.__ge__ = lambda self, other : not self < other\n",
    "    \n",
    "    return cls"
   ]
  },
  {
   "cell_type": "code",
   "execution_count": 144,
   "id": "a19d2e44",
   "metadata": {},
   "outputs": [],
   "source": [
    "# Now lets decorate the class using @ symbol\n",
    "\n",
    "@ordering\n",
    "\n",
    "class Point:\n",
    "\n",
    "    def __init__(self,a,b):\n",
    "\n",
    "        self.a = a\n",
    "        self.b = b\n",
    "    \n",
    "    def __abs__(self):\n",
    "\n",
    "        return sqrt(self.a**2 + self.b**2)\n",
    "    \n",
    "    def __repr__(self):\n",
    "\n",
    "        return \"({0},{1})\".format(self.a,self.b)\n",
    "    \n",
    "    def __eq__(self,other):\n",
    "\n",
    "        if isinstance(other,Point):\n",
    "\n",
    "            return self.a == other.a and self.b == other.b\n",
    "        else:\n",
    "            return NotImplemented\n",
    "    \n",
    "    def __lt__(self,other):\n",
    "        if isinstance(other,Point):\n",
    "\n",
    "            return abs(self) < abs(other)\n",
    "        \n",
    "        else:\n",
    "            return NotImplemented"
   ]
  },
  {
   "cell_type": "code",
   "execution_count": 145,
   "id": "753dc1ec",
   "metadata": {},
   "outputs": [],
   "source": [
    "p1,p2,p3,p4 = Point(2,3), Point(1,2), Point(0,0), Point(10,20)"
   ]
  },
  {
   "cell_type": "code",
   "execution_count": null,
   "id": "ca1970dd",
   "metadata": {},
   "outputs": [
    {
     "data": {
      "text/plain": [
       "False"
      ]
     },
     "execution_count": 146,
     "metadata": {},
     "output_type": "execute_result"
    }
   ],
   "source": [
    "# Now try to execute those operators\n",
    "p1 <= p2"
   ]
  },
  {
   "cell_type": "code",
   "execution_count": 147,
   "id": "e0b13530",
   "metadata": {},
   "outputs": [
    {
     "data": {
      "text/plain": [
       "False"
      ]
     },
     "execution_count": 147,
     "metadata": {},
     "output_type": "execute_result"
    }
   ],
   "source": [
    "p2 >= p1"
   ]
  },
  {
   "cell_type": "code",
   "execution_count": 148,
   "id": "38cef7a2",
   "metadata": {},
   "outputs": [
    {
     "data": {
      "text/plain": [
       "True"
      ]
     },
     "execution_count": 148,
     "metadata": {},
     "output_type": "execute_result"
    }
   ],
   "source": [
    "p4 >= p1"
   ]
  },
  {
   "cell_type": "code",
   "execution_count": 149,
   "id": "845280a0",
   "metadata": {},
   "outputs": [
    {
     "data": {
      "text/plain": [
       "True"
      ]
     },
     "execution_count": 149,
     "metadata": {},
     "output_type": "execute_result"
    }
   ],
   "source": [
    "p2 <= p1"
   ]
  },
  {
   "cell_type": "code",
   "execution_count": 150,
   "id": "37544409",
   "metadata": {},
   "outputs": [
    {
     "data": {
      "text/plain": [
       "False"
      ]
     },
     "execution_count": 150,
     "metadata": {},
     "output_type": "execute_result"
    }
   ],
   "source": [
    "p2 > p1"
   ]
  },
  {
   "cell_type": "code",
   "execution_count": null,
   "id": "b04f98a0",
   "metadata": {},
   "outputs": [
    {
     "data": {
      "text/plain": [
       "True"
      ]
     },
     "execution_count": 151,
     "metadata": {},
     "output_type": "execute_result"
    }
   ],
   "source": [
    "p4 > p3\n",
    "\n",
    "# This is how we decorate the classes using decorating functions"
   ]
  }
 ],
 "metadata": {
  "kernelspec": {
   "display_name": "Python",
   "language": "python",
   "name": "python3"
  },
  "language_info": {
   "codemirror_mode": {
    "name": "ipython",
    "version": 3
   },
   "file_extension": ".py",
   "mimetype": "text/x-python",
   "name": "python",
   "nbconvert_exporter": "python",
   "pygments_lexer": "ipython3",
   "version": "3.10.0"
  }
 },
 "nbformat": 4,
 "nbformat_minor": 5
}
