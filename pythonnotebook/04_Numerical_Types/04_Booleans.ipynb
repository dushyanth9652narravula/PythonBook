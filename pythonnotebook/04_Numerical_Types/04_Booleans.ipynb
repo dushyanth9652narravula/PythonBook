{
 "cells": [
  {
   "cell_type": "markdown",
   "id": "85d10993",
   "metadata": {},
   "source": [
    "# Booleans"
   ]
  },
  {
   "cell_type": "markdown",
   "id": "c4bd2633",
   "metadata": {},
   "source": [
    "## Introduction\n",
    "\n",
    "- Python has concrete bool class to represent the Boolean values. This bool class is the sub class of int class which means it inherits all the properties and methods of the int class and also have some other properties or methods such as `and` , `or` etc. You can use `issubclass(bool,int)` to check whether bool is sub class of int ot not\n",
    "\n",
    "- The Bool class has only two instances. Those are `True` and `False`. These two objects are singleton objects which means they are unique instances and there have unique memory address. If you assign `True` or `False` to many variables then all those variable referes to same memory address. So, singleton objects are unique instances which are created only once in the memory. To check whether `True` or `False` is an instance of bool or not we use `isinstance()` method.\n",
    "\n",
    "- The singleton object `True` has internal state as 1 and `False` has internal state as 0. Since they are created only once we can use both `is` and `==` operator to compare boolean values.\n",
    "\n",
    "- Since booleans are integer objects so we can apply all operators of integers to booleans also. Suppose `True + True + True -> 3` , `(True + True + True) % 2 -> 1`. \n",
    "\n",
    "- Boolean are defined by using bool(x) constructor. bool(x) returns True if x is True otherwise it returns False. If you see it has only two functionalites either returning True or False. So it sounds like useless. What really happens is that many classes contain a definition of how to cast instances of themselves into booleans. Every class has method to cast themselves into other instances. So every class will have a casting method to convert them into booleans. For example, consider 'int' class, if value of int is 0 it returns False, otherwise it returns True. This is how integers, can be casted into booleans."
   ]
  },
  {
   "cell_type": "code",
   "execution_count": 1,
   "id": "d12fec9b",
   "metadata": {},
   "outputs": [
    {
     "name": "stdout",
     "output_type": "stream",
     "text": [
      "Help on class bool in module builtins:\n",
      "\n",
      "class bool(int)\n",
      " |  bool(x) -> bool\n",
      " |  \n",
      " |  Returns True when the argument x is true, False otherwise.\n",
      " |  The builtins True and False are the only two instances of the class bool.\n",
      " |  The class bool is a subclass of the class int, and cannot be subclassed.\n",
      " |  \n",
      " |  Method resolution order:\n",
      " |      bool\n",
      " |      int\n",
      " |      object\n",
      " |  \n",
      " |  Methods defined here:\n",
      " |  \n",
      " |  __and__(self, value, /)\n",
      " |      Return self&value.\n",
      " |  \n",
      " |  __or__(self, value, /)\n",
      " |      Return self|value.\n",
      " |  \n",
      " |  __rand__(self, value, /)\n",
      " |      Return value&self.\n",
      " |  \n",
      " |  __repr__(self, /)\n",
      " |      Return repr(self).\n",
      " |  \n",
      " |  __ror__(self, value, /)\n",
      " |      Return value|self.\n",
      " |  \n",
      " |  __rxor__(self, value, /)\n",
      " |      Return value^self.\n",
      " |  \n",
      " |  __xor__(self, value, /)\n",
      " |      Return self^value.\n",
      " |  \n",
      " |  ----------------------------------------------------------------------\n",
      " |  Static methods defined here:\n",
      " |  \n",
      " |  __new__(*args, **kwargs) from builtins.type\n",
      " |      Create and return a new object.  See help(type) for accurate signature.\n",
      " |  \n",
      " |  ----------------------------------------------------------------------\n",
      " |  Methods inherited from int:\n",
      " |  \n",
      " |  __abs__(self, /)\n",
      " |      abs(self)\n",
      " |  \n",
      " |  __add__(self, value, /)\n",
      " |      Return self+value.\n",
      " |  \n",
      " |  __bool__(self, /)\n",
      " |      self != 0\n",
      " |  \n",
      " |  __ceil__(...)\n",
      " |      Ceiling of an Integral returns itself.\n",
      " |  \n",
      " |  __divmod__(self, value, /)\n",
      " |      Return divmod(self, value).\n",
      " |  \n",
      " |  __eq__(self, value, /)\n",
      " |      Return self==value.\n",
      " |  \n",
      " |  __float__(self, /)\n",
      " |      float(self)\n",
      " |  \n",
      " |  __floor__(...)\n",
      " |      Flooring an Integral returns itself.\n",
      " |  \n",
      " |  __floordiv__(self, value, /)\n",
      " |      Return self//value.\n",
      " |  \n",
      " |  __format__(self, format_spec, /)\n",
      " |      Default object formatter.\n",
      " |  \n",
      " |  __ge__(self, value, /)\n",
      " |      Return self>=value.\n",
      " |  \n",
      " |  __getattribute__(self, name, /)\n",
      " |      Return getattr(self, name).\n",
      " |  \n",
      " |  __getnewargs__(self, /)\n",
      " |  \n",
      " |  __gt__(self, value, /)\n",
      " |      Return self>value.\n",
      " |  \n",
      " |  __hash__(self, /)\n",
      " |      Return hash(self).\n",
      " |  \n",
      " |  __index__(self, /)\n",
      " |      Return self converted to an integer, if self is suitable for use as an index into a list.\n",
      " |  \n",
      " |  __int__(self, /)\n",
      " |      int(self)\n",
      " |  \n",
      " |  __invert__(self, /)\n",
      " |      ~self\n",
      " |  \n",
      " |  __le__(self, value, /)\n",
      " |      Return self<=value.\n",
      " |  \n",
      " |  __lshift__(self, value, /)\n",
      " |      Return self<<value.\n",
      " |  \n",
      " |  __lt__(self, value, /)\n",
      " |      Return self<value.\n",
      " |  \n",
      " |  __mod__(self, value, /)\n",
      " |      Return self%value.\n",
      " |  \n",
      " |  __mul__(self, value, /)\n",
      " |      Return self*value.\n",
      " |  \n",
      " |  __ne__(self, value, /)\n",
      " |      Return self!=value.\n",
      " |  \n",
      " |  __neg__(self, /)\n",
      " |      -self\n",
      " |  \n",
      " |  __pos__(self, /)\n",
      " |      +self\n",
      " |  \n",
      " |  __pow__(self, value, mod=None, /)\n",
      " |      Return pow(self, value, mod).\n",
      " |  \n",
      " |  __radd__(self, value, /)\n",
      " |      Return value+self.\n",
      " |  \n",
      " |  __rdivmod__(self, value, /)\n",
      " |      Return divmod(value, self).\n",
      " |  \n",
      " |  __rfloordiv__(self, value, /)\n",
      " |      Return value//self.\n",
      " |  \n",
      " |  __rlshift__(self, value, /)\n",
      " |      Return value<<self.\n",
      " |  \n",
      " |  __rmod__(self, value, /)\n",
      " |      Return value%self.\n",
      " |  \n",
      " |  __rmul__(self, value, /)\n",
      " |      Return value*self.\n",
      " |  \n",
      " |  __round__(...)\n",
      " |      Rounding an Integral returns itself.\n",
      " |      \n",
      " |      Rounding with an ndigits argument also returns an integer.\n",
      " |  \n",
      " |  __rpow__(self, value, mod=None, /)\n",
      " |      Return pow(value, self, mod).\n",
      " |  \n",
      " |  __rrshift__(self, value, /)\n",
      " |      Return value>>self.\n",
      " |  \n",
      " |  __rshift__(self, value, /)\n",
      " |      Return self>>value.\n",
      " |  \n",
      " |  __rsub__(self, value, /)\n",
      " |      Return value-self.\n",
      " |  \n",
      " |  __rtruediv__(self, value, /)\n",
      " |      Return value/self.\n",
      " |  \n",
      " |  __sizeof__(self, /)\n",
      " |      Returns size in memory, in bytes.\n",
      " |  \n",
      " |  __sub__(self, value, /)\n",
      " |      Return self-value.\n",
      " |  \n",
      " |  __truediv__(self, value, /)\n",
      " |      Return self/value.\n",
      " |  \n",
      " |  __trunc__(...)\n",
      " |      Truncating an Integral returns itself.\n",
      " |  \n",
      " |  as_integer_ratio(self, /)\n",
      " |      Return integer ratio.\n",
      " |      \n",
      " |      Return a pair of integers, whose ratio is exactly equal to the original int\n",
      " |      and with a positive denominator.\n",
      " |      \n",
      " |      >>> (10).as_integer_ratio()\n",
      " |      (10, 1)\n",
      " |      >>> (-10).as_integer_ratio()\n",
      " |      (-10, 1)\n",
      " |      >>> (0).as_integer_ratio()\n",
      " |      (0, 1)\n",
      " |  \n",
      " |  bit_count(self, /)\n",
      " |      Number of ones in the binary representation of the absolute value of self.\n",
      " |      \n",
      " |      Also known as the population count.\n",
      " |      \n",
      " |      >>> bin(13)\n",
      " |      '0b1101'\n",
      " |      >>> (13).bit_count()\n",
      " |      3\n",
      " |  \n",
      " |  bit_length(self, /)\n",
      " |      Number of bits necessary to represent self in binary.\n",
      " |      \n",
      " |      >>> bin(37)\n",
      " |      '0b100101'\n",
      " |      >>> (37).bit_length()\n",
      " |      6\n",
      " |  \n",
      " |  conjugate(...)\n",
      " |      Returns self, the complex conjugate of any int.\n",
      " |  \n",
      " |  to_bytes(self, /, length, byteorder, *, signed=False)\n",
      " |      Return an array of bytes representing an integer.\n",
      " |      \n",
      " |      length\n",
      " |        Length of bytes object to use.  An OverflowError is raised if the\n",
      " |        integer is not representable with the given number of bytes.\n",
      " |      byteorder\n",
      " |        The byte order used to represent the integer.  If byteorder is 'big',\n",
      " |        the most significant byte is at the beginning of the byte array.  If\n",
      " |        byteorder is 'little', the most significant byte is at the end of the\n",
      " |        byte array.  To request the native byte order of the host system, use\n",
      " |        `sys.byteorder' as the byte order value.\n",
      " |      signed\n",
      " |        Determines whether two's complement is used to represent the integer.\n",
      " |        If signed is False and a negative integer is given, an OverflowError\n",
      " |        is raised.\n",
      " |  \n",
      " |  ----------------------------------------------------------------------\n",
      " |  Class methods inherited from int:\n",
      " |  \n",
      " |  from_bytes(bytes, byteorder, *, signed=False) from builtins.type\n",
      " |      Return the integer represented by the given array of bytes.\n",
      " |      \n",
      " |      bytes\n",
      " |        Holds the array of bytes to convert.  The argument must either\n",
      " |        support the buffer protocol or be an iterable object producing bytes.\n",
      " |        Bytes and bytearray are examples of built-in objects that support the\n",
      " |        buffer protocol.\n",
      " |      byteorder\n",
      " |        The byte order used to represent the integer.  If byteorder is 'big',\n",
      " |        the most significant byte is at the beginning of the byte array.  If\n",
      " |        byteorder is 'little', the most significant byte is at the end of the\n",
      " |        byte array.  To request the native byte order of the host system, use\n",
      " |        `sys.byteorder' as the byte order value.\n",
      " |      signed\n",
      " |        Indicates whether two's complement is used to represent the integer.\n",
      " |  \n",
      " |  ----------------------------------------------------------------------\n",
      " |  Data descriptors inherited from int:\n",
      " |  \n",
      " |  denominator\n",
      " |      the denominator of a rational number in lowest terms\n",
      " |  \n",
      " |  imag\n",
      " |      the imaginary part of a complex number\n",
      " |  \n",
      " |  numerator\n",
      " |      the numerator of a rational number in lowest terms\n",
      " |  \n",
      " |  real\n",
      " |      the real part of a complex number\n",
      "\n"
     ]
    }
   ],
   "source": [
    "help(bool)"
   ]
  },
  {
   "cell_type": "code",
   "execution_count": 2,
   "id": "861a023f",
   "metadata": {},
   "outputs": [
    {
     "data": {
      "text/plain": [
       "True"
      ]
     },
     "execution_count": 2,
     "metadata": {},
     "output_type": "execute_result"
    }
   ],
   "source": [
    "# Now lets check whether bool class is the subclass os integer class\n",
    "\n",
    "issubclass(bool,int)"
   ]
  },
  {
   "cell_type": "code",
   "execution_count": 3,
   "id": "713f2b37",
   "metadata": {},
   "outputs": [
    {
     "data": {
      "text/plain": [
       "True"
      ]
     },
     "execution_count": 3,
     "metadata": {},
     "output_type": "execute_result"
    }
   ],
   "source": [
    "# Now lets check whether the two instances of bool class are singleton objects which means they have unique memory \n",
    "# address.\n",
    "\n",
    "a = True\n",
    "\n",
    "a is True"
   ]
  },
  {
   "cell_type": "code",
   "execution_count": 4,
   "id": "1599ccd7",
   "metadata": {},
   "outputs": [
    {
     "data": {
      "text/plain": [
       "True"
      ]
     },
     "execution_count": 4,
     "metadata": {},
     "output_type": "execute_result"
    }
   ],
   "source": [
    "a == True"
   ]
  },
  {
   "cell_type": "code",
   "execution_count": 5,
   "id": "042c0fea",
   "metadata": {},
   "outputs": [
    {
     "data": {
      "text/plain": [
       "3"
      ]
     },
     "execution_count": 5,
     "metadata": {},
     "output_type": "execute_result"
    }
   ],
   "source": [
    "# We know booleans are subclass of the integer class, so these exhibits all the properties of the integers. That means \n",
    "# we can add, subtract, multiply and soon.\n",
    "\n",
    "True + True + True"
   ]
  },
  {
   "cell_type": "code",
   "execution_count": 6,
   "id": "a21f817d",
   "metadata": {},
   "outputs": [
    {
     "data": {
      "text/plain": [
       "1"
      ]
     },
     "execution_count": 6,
     "metadata": {},
     "output_type": "execute_result"
    }
   ],
   "source": [
    "(True + True + True)%2"
   ]
  },
  {
   "cell_type": "code",
   "execution_count": 7,
   "id": "fbb5261f",
   "metadata": {},
   "outputs": [
    {
     "data": {
      "text/plain": [
       "2"
      ]
     },
     "execution_count": 7,
     "metadata": {},
     "output_type": "execute_result"
    }
   ],
   "source": [
    "# We can add boolenas and integers also\n",
    "\n",
    "1 + True"
   ]
  },
  {
   "cell_type": "code",
   "execution_count": 8,
   "id": "6ccb64be",
   "metadata": {},
   "outputs": [
    {
     "data": {
      "text/plain": [
       "0"
      ]
     },
     "execution_count": 8,
     "metadata": {},
     "output_type": "execute_result"
    }
   ],
   "source": [
    "100 * False"
   ]
  },
  {
   "cell_type": "code",
   "execution_count": 9,
   "id": "4dce29de",
   "metadata": {},
   "outputs": [
    {
     "data": {
      "text/plain": [
       "12"
      ]
     },
     "execution_count": 9,
     "metadata": {},
     "output_type": "execute_result"
    }
   ],
   "source": [
    "10 + 2 *True + 5 * False"
   ]
  },
  {
   "cell_type": "markdown",
   "id": "b88b8993",
   "metadata": {},
   "source": [
    "- So from these we can say booleans are specialized integers since they can exhibit all the properties of integers along with some additional properties such as and , or etc."
   ]
  },
  {
   "cell_type": "markdown",
   "id": "e8c8575f",
   "metadata": {},
   "source": [
    "## Truth Values\n",
    "\n",
    "- All objects in python are associated with a truth value. That means every object you have created for a class is definitely have a truth value. Suppose if you see integers 0 is evaluated as False and all other integers are evaluated as True.\n",
    "\n",
    "- The reason why each object in python is associated with truth value is all the classes as built in bool or len method which evaluates each class object to True or False.\n",
    "\n",
    "- By default all clases have truth value `True` except `None`, `False`, `0` in any numeric type (0,0.0, 0+0j), empty sequences (list, tuple, string) and empty mapping types (dictionary, set.)\n",
    "\n",
    "- We know every class define their truth values by defining  a special instance method `__bool__(self)` or `__len__(self)`. If you call bool(x), then python actually executes `x.bool()` or `len` if `bool` is not defined. If neither is defined then True.\n",
    "\n",
    "- For integers bool method is the following\n",
    "\n",
    "  ```python\n",
    "\n",
    "  def bool(self):\n",
    "\n",
    "    return self != 0\n",
    "\n",
    "  ```\n",
    "\n",
    "  When you call bool(100) python actually executes `100.__bool__()` and therfore returns the result of 100!=0 which is True. Simmilary we have `__bool__()` method for other classes.\n",
    "\n",
    "- Because of this only if blocks are executed without actual boolean expression. \n",
    "\n",
    "  ``` python\n",
    "\n",
    "  if my_list:\n",
    "\n",
    "    <Statements>\n",
    "\n",
    "  ```\n",
    "\n",
    "  As we know each object is associated with boolean value, whenever python encounters this if block then it starts evaluating the truth value of the my_list then if it returns True it goes inside the if block otherwise it wouldn't execute the if block.\n"
   ]
  },
  {
   "cell_type": "code",
   "execution_count": 10,
   "id": "73f04f55",
   "metadata": {},
   "outputs": [
    {
     "data": {
      "text/plain": [
       "False"
      ]
     },
     "execution_count": 10,
     "metadata": {},
     "output_type": "execute_result"
    }
   ],
   "source": [
    "# Now lets see the truth values of ecah type in python\n",
    "\n",
    "# For Integers:\n",
    "\n",
    "bool(0)"
   ]
  },
  {
   "cell_type": "code",
   "execution_count": 11,
   "id": "d3cc609a",
   "metadata": {},
   "outputs": [
    {
     "data": {
      "text/plain": [
       "(True, True, True)"
      ]
     },
     "execution_count": 11,
     "metadata": {},
     "output_type": "execute_result"
    }
   ],
   "source": [
    "bool(1),bool(-1), bool(100) # All these return True only"
   ]
  },
  {
   "cell_type": "code",
   "execution_count": 12,
   "id": "3e0412a7",
   "metadata": {},
   "outputs": [
    {
     "data": {
      "text/plain": [
       "(True, True)"
      ]
     },
     "execution_count": 12,
     "metadata": {},
     "output_type": "execute_result"
    }
   ],
   "source": [
    "# As we know whenever u are running bool(<integer>), python simply do this -> integer.__bool__()\n",
    "\n",
    "bool(100), 100 .__bool__() # Here you see both will return true only. Because both are equal\n",
    "\n",
    "# We can use both the syntax"
   ]
  },
  {
   "cell_type": "code",
   "execution_count": 13,
   "id": "2551b401",
   "metadata": {},
   "outputs": [
    {
     "data": {
      "text/plain": [
       "(False, False, False)"
      ]
     },
     "execution_count": 13,
     "metadata": {},
     "output_type": "execute_result"
    }
   ],
   "source": [
    "# Similary for floats, decimals and fractions\n",
    "\n",
    "from fractions import Fraction\n",
    "\n",
    "from decimal import Decimal\n",
    "\n",
    "bool(0.0), bool(Fraction(0,1)), bool(Decimal('0.0'))"
   ]
  },
  {
   "cell_type": "code",
   "execution_count": 14,
   "id": "07c5e06b",
   "metadata": {},
   "outputs": [
    {
     "data": {
      "text/plain": [
       "(True, True, True)"
      ]
     },
     "execution_count": 14,
     "metadata": {},
     "output_type": "execute_result"
    }
   ],
   "source": [
    "bool(10.5), bool(Fraction(3,4)), bool(Decimal('20.45'))\n",
    "\n",
    "# So for all numeric types the truth value of 0 is False and for all others the truth value is True"
   ]
  },
  {
   "cell_type": "code",
   "execution_count": 15,
   "id": "0c21692a",
   "metadata": {},
   "outputs": [
    {
     "data": {
      "text/plain": [
       "True"
      ]
     },
     "execution_count": 15,
     "metadata": {},
     "output_type": "execute_result"
    }
   ],
   "source": [
    "# Lets see for sequence types\n",
    "\n",
    "a = [1,2]\n",
    "\n",
    "bool(a)"
   ]
  },
  {
   "cell_type": "code",
   "execution_count": 16,
   "id": "7603307e",
   "metadata": {},
   "outputs": [
    {
     "data": {
      "text/plain": [
       "2"
      ]
     },
     "execution_count": 16,
     "metadata": {},
     "output_type": "execute_result"
    }
   ],
   "source": [
    "# Let see how python is executing the above statement\n",
    "\n",
    "# In List class we have __len__() function which retirns length of the list\n",
    "\n",
    "a.__len__()"
   ]
  },
  {
   "cell_type": "code",
   "execution_count": 17,
   "id": "6129326c",
   "metadata": {},
   "outputs": [
    {
     "data": {
      "text/plain": [
       "(False, False)"
      ]
     },
     "execution_count": 17,
     "metadata": {},
     "output_type": "execute_result"
    }
   ],
   "source": [
    "# When python encounters bool(sequence), then it converts that into bool(sequence.__len__()) which becomes as bool(int)\n",
    "\n",
    "# If that int is 0 then bool(sequence) is False otherwise True.as_integer_ratio\n",
    "\n",
    "a = []\n",
    "\n",
    "bool(a), bool(a.__len__())"
   ]
  },
  {
   "cell_type": "code",
   "execution_count": 18,
   "id": "209713ff",
   "metadata": {},
   "outputs": [
    {
     "data": {
      "text/plain": [
       "(False, False)"
      ]
     },
     "execution_count": 18,
     "metadata": {},
     "output_type": "execute_result"
    }
   ],
   "source": [
    "# It works similarly for tuples and strings also\n",
    "\n",
    "a = ()\n",
    "\n",
    "bool(a), bool(a.__len__())"
   ]
  },
  {
   "cell_type": "code",
   "execution_count": 19,
   "id": "7c553c70",
   "metadata": {},
   "outputs": [
    {
     "data": {
      "text/plain": [
       "(True, True)"
      ]
     },
     "execution_count": 19,
     "metadata": {},
     "output_type": "execute_result"
    }
   ],
   "source": [
    "a = (1,2)\n",
    "\n",
    "bool(a), bool(a.__len__())"
   ]
  },
  {
   "cell_type": "code",
   "execution_count": 20,
   "id": "094e04c4",
   "metadata": {},
   "outputs": [
    {
     "data": {
      "text/plain": [
       "(False, False)"
      ]
     },
     "execution_count": 20,
     "metadata": {},
     "output_type": "execute_result"
    }
   ],
   "source": [
    "a = ''\n",
    "\n",
    "bool(a),bool(a.__len__())"
   ]
  },
  {
   "cell_type": "code",
   "execution_count": 21,
   "id": "e78b1de9",
   "metadata": {},
   "outputs": [
    {
     "data": {
      "text/plain": [
       "(True, True)"
      ]
     },
     "execution_count": 21,
     "metadata": {},
     "output_type": "execute_result"
    }
   ],
   "source": [
    "a = '0'\n",
    "\n",
    "bool(a),bool(a.__len__())"
   ]
  },
  {
   "cell_type": "code",
   "execution_count": 22,
   "id": "ed6f0252",
   "metadata": {},
   "outputs": [
    {
     "name": "stdout",
     "output_type": "stream",
     "text": [
      "Help on class list in module builtins:\n",
      "\n",
      "class list(object)\n",
      " |  list(iterable=(), /)\n",
      " |  \n",
      " |  Built-in mutable sequence.\n",
      " |  \n",
      " |  If no argument is given, the constructor creates a new empty list.\n",
      " |  The argument must be an iterable if specified.\n",
      " |  \n",
      " |  Methods defined here:\n",
      " |  \n",
      " |  __add__(self, value, /)\n",
      " |      Return self+value.\n",
      " |  \n",
      " |  __contains__(self, key, /)\n",
      " |      Return key in self.\n",
      " |  \n",
      " |  __delitem__(self, key, /)\n",
      " |      Delete self[key].\n",
      " |  \n",
      " |  __eq__(self, value, /)\n",
      " |      Return self==value.\n",
      " |  \n",
      " |  __ge__(self, value, /)\n",
      " |      Return self>=value.\n",
      " |  \n",
      " |  __getattribute__(self, name, /)\n",
      " |      Return getattr(self, name).\n",
      " |  \n",
      " |  __getitem__(...)\n",
      " |      x.__getitem__(y) <==> x[y]\n",
      " |  \n",
      " |  __gt__(self, value, /)\n",
      " |      Return self>value.\n",
      " |  \n",
      " |  __iadd__(self, value, /)\n",
      " |      Implement self+=value.\n",
      " |  \n",
      " |  __imul__(self, value, /)\n",
      " |      Implement self*=value.\n",
      " |  \n",
      " |  __init__(self, /, *args, **kwargs)\n",
      " |      Initialize self.  See help(type(self)) for accurate signature.\n",
      " |  \n",
      " |  __iter__(self, /)\n",
      " |      Implement iter(self).\n",
      " |  \n",
      " |  __le__(self, value, /)\n",
      " |      Return self<=value.\n",
      " |  \n",
      " |  __len__(self, /)\n",
      " |      Return len(self).\n",
      " |  \n",
      " |  __lt__(self, value, /)\n",
      " |      Return self<value.\n",
      " |  \n",
      " |  __mul__(self, value, /)\n",
      " |      Return self*value.\n",
      " |  \n",
      " |  __ne__(self, value, /)\n",
      " |      Return self!=value.\n",
      " |  \n",
      " |  __repr__(self, /)\n",
      " |      Return repr(self).\n",
      " |  \n",
      " |  __reversed__(self, /)\n",
      " |      Return a reverse iterator over the list.\n",
      " |  \n",
      " |  __rmul__(self, value, /)\n",
      " |      Return value*self.\n",
      " |  \n",
      " |  __setitem__(self, key, value, /)\n",
      " |      Set self[key] to value.\n",
      " |  \n",
      " |  __sizeof__(self, /)\n",
      " |      Return the size of the list in memory, in bytes.\n",
      " |  \n",
      " |  append(self, object, /)\n",
      " |      Append object to the end of the list.\n",
      " |  \n",
      " |  clear(self, /)\n",
      " |      Remove all items from list.\n",
      " |  \n",
      " |  copy(self, /)\n",
      " |      Return a shallow copy of the list.\n",
      " |  \n",
      " |  count(self, value, /)\n",
      " |      Return number of occurrences of value.\n",
      " |  \n",
      " |  extend(self, iterable, /)\n",
      " |      Extend list by appending elements from the iterable.\n",
      " |  \n",
      " |  index(self, value, start=0, stop=9223372036854775807, /)\n",
      " |      Return first index of value.\n",
      " |      \n",
      " |      Raises ValueError if the value is not present.\n",
      " |  \n",
      " |  insert(self, index, object, /)\n",
      " |      Insert object before index.\n",
      " |  \n",
      " |  pop(self, index=-1, /)\n",
      " |      Remove and return item at index (default last).\n",
      " |      \n",
      " |      Raises IndexError if list is empty or index is out of range.\n",
      " |  \n",
      " |  remove(self, value, /)\n",
      " |      Remove first occurrence of value.\n",
      " |      \n",
      " |      Raises ValueError if the value is not present.\n",
      " |  \n",
      " |  reverse(self, /)\n",
      " |      Reverse *IN PLACE*.\n",
      " |  \n",
      " |  sort(self, /, *, key=None, reverse=False)\n",
      " |      Sort the list in ascending order and return None.\n",
      " |      \n",
      " |      The sort is in-place (i.e. the list itself is modified) and stable (i.e. the\n",
      " |      order of two equal elements is maintained).\n",
      " |      \n",
      " |      If a key function is given, apply it once to each list item and sort them,\n",
      " |      ascending or descending, according to their function values.\n",
      " |      \n",
      " |      The reverse flag can be set to sort in descending order.\n",
      " |  \n",
      " |  ----------------------------------------------------------------------\n",
      " |  Class methods defined here:\n",
      " |  \n",
      " |  __class_getitem__(...) from builtins.type\n",
      " |      See PEP 585\n",
      " |  \n",
      " |  ----------------------------------------------------------------------\n",
      " |  Static methods defined here:\n",
      " |  \n",
      " |  __new__(*args, **kwargs) from builtins.type\n",
      " |      Create and return a new object.  See help(type) for accurate signature.\n",
      " |  \n",
      " |  ----------------------------------------------------------------------\n",
      " |  Data and other attributes defined here:\n",
      " |  \n",
      " |  __hash__ = None\n",
      "\n"
     ]
    }
   ],
   "source": [
    "# This is working because list class has no bool method, it has only len method. We can see the methods and properties of list class using help method. Similary for all other sequences\n",
    "\n",
    "help(list)"
   ]
  },
  {
   "cell_type": "code",
   "execution_count": 23,
   "id": "7daf3ed9",
   "metadata": {},
   "outputs": [
    {
     "name": "stdout",
     "output_type": "stream",
     "text": [
      "Nothing to display...\n"
     ]
    }
   ],
   "source": [
    "# So in if statement also if you specify a sequence or numeric type instead of boolean expression instead of condition\n",
    "# then python actually evaluates it as bool(<that type>).\n",
    "\n",
    "my_list = []\n",
    "\n",
    "if my_list:\n",
    "    print(my_list[0])\n",
    "else:\n",
    "    print(\"Nothing to display...\")"
   ]
  },
  {
   "cell_type": "code",
   "execution_count": 24,
   "id": "33064c6d",
   "metadata": {},
   "outputs": [
    {
     "name": "stdout",
     "output_type": "stream",
     "text": [
      "Nothing to display...\n"
     ]
    }
   ],
   "source": [
    "# Here python implicitly converting the above code as :\n",
    "\n",
    "if my_list is not None and len(my_list) > 0:\n",
    "    print(my_list[0])\n",
    "else:\n",
    "    print(\"Nothing to display...\")"
   ]
  },
  {
   "cell_type": "code",
   "execution_count": 25,
   "id": "f28cbcd2",
   "metadata": {},
   "outputs": [
    {
     "ename": "TypeError",
     "evalue": "object of type 'int' has no len()",
     "output_type": "error",
     "traceback": [
      "\u001b[1;31m---------------------------------------------------------------------------\u001b[0m",
      "\u001b[1;31mTypeError\u001b[0m                                 Traceback (most recent call last)",
      "Cell \u001b[1;32mIn[25], line 13\u001b[0m\n\u001b[0;32m      1\u001b[0m \u001b[38;5;66;03m# This will happen for other sequence types, mappings and numeric types also.\u001b[39;00m\n\u001b[0;32m      2\u001b[0m \n\u001b[0;32m      3\u001b[0m \u001b[38;5;66;03m# But if you write condition like this : len(my_list)>0 and my_list is not None, then python raises error for numeric \u001b[39;00m\n\u001b[1;32m   (...)\u001b[0m\n\u001b[0;32m      9\u001b[0m \u001b[38;5;66;03m# Why this condition will not raising error is , python short circuiting the expresion. The condition after 'and' if \u001b[39;00m\n\u001b[0;32m     10\u001b[0m \u001b[38;5;66;03m# condition before 'and' is False. If my_list is numeric type then it is automatically not equal to None. \u001b[39;00m\n\u001b[0;32m     12\u001b[0m my_list \u001b[38;5;241m=\u001b[39m \u001b[38;5;241m0\u001b[39m\n\u001b[1;32m---> 13\u001b[0m \u001b[38;5;28;01mif\u001b[39;00m \u001b[38;5;28;43mlen\u001b[39;49m\u001b[43m(\u001b[49m\u001b[43mmy_list\u001b[49m\u001b[43m)\u001b[49m \u001b[38;5;241m>\u001b[39m \u001b[38;5;241m0\u001b[39m \u001b[38;5;129;01mand\u001b[39;00m my_list \u001b[38;5;129;01mis\u001b[39;00m \u001b[38;5;129;01mnot\u001b[39;00m \u001b[38;5;28;01mNone\u001b[39;00m:\n\u001b[0;32m     14\u001b[0m     \u001b[38;5;28mprint\u001b[39m(my_list)\n\u001b[0;32m     15\u001b[0m \u001b[38;5;28;01melse\u001b[39;00m:\n",
      "\u001b[1;31mTypeError\u001b[0m: object of type 'int' has no len()"
     ]
    }
   ],
   "source": [
    "# This will happen for other sequence types, mappings and numeric types also.\n",
    "\n",
    "# But if you write condition like this : len(my_list)>0 and my_list is not None, then python raises error for numeric \n",
    "# types.\n",
    "\n",
    "# Because numeric types dont have len() function.So it is raising an error.That is the reason why python writes \n",
    "# condition like this -> my_list is not None and len(my_list)>0\n",
    "\n",
    "# Why this condition will not raising error is , python short circuiting the expresion. The condition after 'and' if \n",
    "# condition before 'and' is False. If my_list is numeric type then it is automatically not equal to None. \n",
    "\n",
    "my_list = 0\n",
    "if len(my_list) > 0 and my_list is not None:\n",
    "    print(my_list)\n",
    "else:\n",
    "    print(\"Nothing to display...\")"
   ]
  },
  {
   "cell_type": "markdown",
   "id": "0bb696b4",
   "metadata": {},
   "source": [
    "## Precedence and Short Circuiting\n",
    "\n",
    "- While evaluating boolean expressions python follows some preference of operators. Here is the preference from highest to lowest.\n",
    "\n",
    "  () : 1st \n",
    "\n",
    "  ==, >=, <=, !=, >, < : 2nd\n",
    "\n",
    "  not : 3rd\n",
    "\n",
    "  and : 4th\n",
    "\n",
    "  or : 5th\n",
    "\n",
    "  **Ex** : `True or True and False`. Here python evaluates `True and False` first which returns `False` and then it evalues `True or False` which returns True.\n",
    "\n",
    "- Short Circuiting means expression is not executed completely, some part of the expression gets short circuited.\n",
    "\n",
    "  **Case 1 - X or Y** : Here if X is True then the expression always returns True then there i no need to evaluate Y. Then expression Y automatically short circuited.\n",
    "\n",
    "  **Case 2 - X and Y** : We know, if X is False then the expression X and Y always returns False. From this we can say if X is False, then we can\n",
    "   say X and Y is False without evaluating Y."
   ]
  },
  {
   "cell_type": "code",
   "execution_count": 26,
   "id": "25bb9a12",
   "metadata": {},
   "outputs": [
    {
     "data": {
      "text/plain": [
       "True"
      ]
     },
     "execution_count": 26,
     "metadata": {},
     "output_type": "execute_result"
    }
   ],
   "source": [
    "# Now let see the precendence in practice\n",
    "\n",
    "True or True and False\n",
    "\n",
    "# Here Python treating this expression as True or (True and False)"
   ]
  },
  {
   "cell_type": "code",
   "execution_count": 27,
   "id": "aff6d897",
   "metadata": {},
   "outputs": [
    {
     "data": {
      "text/plain": [
       "False"
      ]
     },
     "execution_count": 27,
     "metadata": {},
     "output_type": "execute_result"
    }
   ],
   "source": [
    "(True or True) and False\n",
    "\n",
    "# Here we enforced python to execute or first by keeping brackets,instead of executing and statement."
   ]
  },
  {
   "cell_type": "code",
   "execution_count": 28,
   "id": "6a24d4a7",
   "metadata": {},
   "outputs": [
    {
     "name": "stdout",
     "output_type": "stream",
     "text": [
      "a is twice than b\n"
     ]
    }
   ],
   "source": [
    "# Now lets see the examples of short circuiting.\n",
    "\n",
    "#  Suppose consider an example, we need to check whether a is atleast twice than b.\n",
    "\n",
    "a = 10\n",
    "b = 2\n",
    "\n",
    "if a/b > 2:\n",
    "    print(\"a is twice than b\")\n",
    "else:\n",
    "    print(\"a is less than two times of b\")"
   ]
  },
  {
   "cell_type": "code",
   "execution_count": 29,
   "id": "de7b3b4b",
   "metadata": {},
   "outputs": [
    {
     "name": "stdout",
     "output_type": "stream",
     "text": [
      "a is less than two times of b or b might be zero\n"
     ]
    }
   ],
   "source": [
    "# As we saw the problem, we write code like above. Now what if b is zero. If b is zero then we get ZeroDivisionError.\n",
    "\n",
    "# So the updated code is :\n",
    "\n",
    "a = 10\n",
    "b = 0\n",
    "\n",
    "if b>0 and a/b > 2:\n",
    "    print(\"a is twice than b\")\n",
    "else:\n",
    "    print(\"a is less than two times of b or b might be zero\")\n",
    "\n",
    "# Here we can see the condition in if statement got short circuited. Because if b is not greater than zero then the \n",
    "# expression return False without even executing the expression a/b > 2. Becuase it gets short circuited by python.\n",
    "\n",
    "# But here is another case what if b is None."
   ]
  },
  {
   "cell_type": "code",
   "execution_count": 30,
   "id": "18a289d1",
   "metadata": {},
   "outputs": [
    {
     "name": "stdout",
     "output_type": "stream",
     "text": [
      "a is less than two times of b or b might be zero\n"
     ]
    }
   ],
   "source": [
    "# If we know b can be None, then we might actually write the expression like below:\n",
    "# b is not None and b>0 and a/b > 2.\n",
    "\n",
    "# Instead of writing like this we can write the expression like this:\n",
    "# b and a/b > 2. This expression automatically checks whether b is None or 0 . Becuase python automatically evaluates the \n",
    "# truth value of b. if it None or 0, then expression gets shortcircuited otherwise it executed normally.\n",
    "a = 10\n",
    "b = None\n",
    "\n",
    "if b and a/b > 2:\n",
    "    print(\"a is twice than b\")\n",
    "else:\n",
    "    print(\"a is less than two times of b or b might be zero\")"
   ]
  },
  {
   "cell_type": "code",
   "execution_count": 31,
   "id": "c739d1bc",
   "metadata": {},
   "outputs": [
    {
     "name": "stdout",
     "output_type": "stream",
     "text": [
      "Help on module string:\n",
      "\n",
      "NAME\n",
      "    string - A collection of string constants.\n",
      "\n",
      "MODULE REFERENCE\n",
      "    https://docs.python.org/3.10/library/string.html\n",
      "    \n",
      "    The following documentation is automatically generated from the Python\n",
      "    source files.  It may be incomplete, incorrect or include features that\n",
      "    are considered implementation detail and may vary between Python\n",
      "    implementations.  When in doubt, consult the module reference at the\n",
      "    location listed above.\n",
      "\n",
      "DESCRIPTION\n",
      "    Public module variables:\n",
      "    \n",
      "    whitespace -- a string containing all ASCII whitespace\n",
      "    ascii_lowercase -- a string containing all ASCII lowercase letters\n",
      "    ascii_uppercase -- a string containing all ASCII uppercase letters\n",
      "    ascii_letters -- a string containing all ASCII letters\n",
      "    digits -- a string containing all ASCII decimal digits\n",
      "    hexdigits -- a string containing all ASCII hexadecimal digits\n",
      "    octdigits -- a string containing all ASCII octal digits\n",
      "    punctuation -- a string containing all ASCII punctuation characters\n",
      "    printable -- a string containing all ASCII characters considered printable\n",
      "\n",
      "CLASSES\n",
      "    builtins.object\n",
      "        Formatter\n",
      "        Template\n",
      "    \n",
      "    class Formatter(builtins.object)\n",
      "     |  Methods defined here:\n",
      "     |  \n",
      "     |  check_unused_args(self, used_args, args, kwargs)\n",
      "     |  \n",
      "     |  convert_field(self, value, conversion)\n",
      "     |  \n",
      "     |  format(self, format_string, /, *args, **kwargs)\n",
      "     |  \n",
      "     |  format_field(self, value, format_spec)\n",
      "     |  \n",
      "     |  get_field(self, field_name, args, kwargs)\n",
      "     |      # given a field_name, find the object it references.\n",
      "     |      #  field_name:   the field being looked up, e.g. \"0.name\"\n",
      "     |      #                 or \"lookup[3]\"\n",
      "     |      #  used_args:    a set of which args have been used\n",
      "     |      #  args, kwargs: as passed in to vformat\n",
      "     |  \n",
      "     |  get_value(self, key, args, kwargs)\n",
      "     |  \n",
      "     |  parse(self, format_string)\n",
      "     |      # returns an iterable that contains tuples of the form:\n",
      "     |      # (literal_text, field_name, format_spec, conversion)\n",
      "     |      # literal_text can be zero length\n",
      "     |      # field_name can be None, in which case there's no\n",
      "     |      #  object to format and output\n",
      "     |      # if field_name is not None, it is looked up, formatted\n",
      "     |      #  with format_spec and conversion and then used\n",
      "     |  \n",
      "     |  vformat(self, format_string, args, kwargs)\n",
      "     |  \n",
      "     |  ----------------------------------------------------------------------\n",
      "     |  Data descriptors defined here:\n",
      "     |  \n",
      "     |  __dict__\n",
      "     |      dictionary for instance variables (if defined)\n",
      "     |  \n",
      "     |  __weakref__\n",
      "     |      list of weak references to the object (if defined)\n",
      "    \n",
      "    class Template(builtins.object)\n",
      "     |  Template(template)\n",
      "     |  \n",
      "     |  A string class for supporting $-substitutions.\n",
      "     |  \n",
      "     |  Methods defined here:\n",
      "     |  \n",
      "     |  __init__(self, template)\n",
      "     |      Initialize self.  See help(type(self)) for accurate signature.\n",
      "     |  \n",
      "     |  safe_substitute(self, mapping={}, /, **kws)\n",
      "     |  \n",
      "     |  substitute(self, mapping={}, /, **kws)\n",
      "     |  \n",
      "     |  ----------------------------------------------------------------------\n",
      "     |  Class methods defined here:\n",
      "     |  \n",
      "     |  __init_subclass__() from builtins.type\n",
      "     |      This method is called when a class is subclassed.\n",
      "     |      \n",
      "     |      The default implementation does nothing. It may be\n",
      "     |      overridden to extend subclasses.\n",
      "     |  \n",
      "     |  ----------------------------------------------------------------------\n",
      "     |  Data descriptors defined here:\n",
      "     |  \n",
      "     |  __dict__\n",
      "     |      dictionary for instance variables (if defined)\n",
      "     |  \n",
      "     |  __weakref__\n",
      "     |      list of weak references to the object (if defined)\n",
      "     |  \n",
      "     |  ----------------------------------------------------------------------\n",
      "     |  Data and other attributes defined here:\n",
      "     |  \n",
      "     |  braceidpattern = None\n",
      "     |  \n",
      "     |  delimiter = '$'\n",
      "     |  \n",
      "     |  flags = re.IGNORECASE\n",
      "     |  \n",
      "     |  idpattern = '(?a:[_a-z][_a-z0-9]*)'\n",
      "     |  \n",
      "     |  pattern = re.compile('\\n            \\\\$(?:\\n              ...identifie...\n",
      "\n",
      "FUNCTIONS\n",
      "    capwords(s, sep=None)\n",
      "        capwords(s [,sep]) -> string\n",
      "        \n",
      "        Split the argument into words using split, capitalize each\n",
      "        word using capitalize, and join the capitalized words using\n",
      "        join.  If the optional second argument sep is absent or None,\n",
      "        runs of whitespace characters are replaced by a single space\n",
      "        and leading and trailing whitespace are removed, otherwise\n",
      "        sep is used to split and join the words.\n",
      "\n",
      "DATA\n",
      "    __all__ = ['ascii_letters', 'ascii_lowercase', 'ascii_uppercase', 'cap...\n",
      "    ascii_letters = 'abcdefghijklmnopqrstuvwxyzABCDEFGHIJKLMNOPQRSTUVWXYZ'\n",
      "    ascii_lowercase = 'abcdefghijklmnopqrstuvwxyz'\n",
      "    ascii_uppercase = 'ABCDEFGHIJKLMNOPQRSTUVWXYZ'\n",
      "    digits = '0123456789'\n",
      "    hexdigits = '0123456789abcdefABCDEF'\n",
      "    octdigits = '01234567'\n",
      "    printable = '0123456789abcdefghijklmnopqrstuvwxyzABCDEFGHIJKLMNOPQRSTU...\n",
      "    punctuation = '!\"#$%&\\'()*+,-./:;<=>?@[\\\\]^_`{|}~'\n",
      "    whitespace = ' \\t\\n\\r\\x0b\\x0c'\n",
      "\n",
      "FILE\n",
      "    c:\\users\\hp\\appdata\\local\\programs\\python\\python310\\lib\\string.py\n",
      "\n",
      "\n"
     ]
    }
   ],
   "source": [
    "import string\n",
    "help(string)"
   ]
  },
  {
   "cell_type": "code",
   "execution_count": 32,
   "id": "c7ecf090",
   "metadata": {},
   "outputs": [
    {
     "name": "stdout",
     "output_type": "stream",
     "text": [
      "Name should not start with digits\n"
     ]
    }
   ],
   "source": [
    "# Now write the code to check whether the given string first charecter is a digit or not.\n",
    "\n",
    "# Here iam writing the code by using both truth value and short circuiting concept.\n",
    "\n",
    "name = \"1Bob\"\n",
    "\n",
    "if name and name[0] in string.digits:\n",
    "    print(\"Name should not start with digits\")\n",
    "else:\n",
    "    print(\"Name started correctly.\")"
   ]
  },
  {
   "cell_type": "markdown",
   "id": "05b41928",
   "metadata": {},
   "source": [
    "## Boolean Operators\n",
    "\n",
    "- **X and Y** :  X if X is falsy otherwise it evaluate Y and returns it. In python X, Y need not to be boolean values (Such as True or False). It can be any kind of Objects.\n",
    "  \n",
    "  **Ex** : Suppose, You want to divide two numbers a,b. You need to return division of a,b if b!=0 otherwise return 0.\n",
    "\n",
    "  Normally all of us write it as :\n",
    "\n",
    "  ```python\n",
    "\n",
    "  if b!=0:\n",
    "    return a/b\n",
    "  else:\n",
    "    return b\n",
    "\n",
    "  ```\n",
    "\n",
    "  As, we know the definition of 'and', we can use it here, if b is falsy return b other evaluate a/b and return it.\n",
    "\n",
    "  Since b is an integer, it can be falsy only when b = 0.So here we are writing it as if b=0 then return b.\n",
    "\n",
    "  So this division can be written as: `result = b and (a/b)`\n",
    "\n",
    "\n",
    "- **X or Y** : X if X is truthy, otherwise evaluate Y and return it. Here also X and Y need not to be boolean values, it can be any objects. But when we perform these operations python internally convert these objects into respective boolean values.\n",
    "\n",
    "  **Ex** : Suppose you want to return a valid string. If the string is valid return it . If string is empty or None then return 'N/A'\n",
    "\n",
    "  Here, we can use 'or' operator for getting this result. Because string is truthy if only string has some charecter. String is falsy if string is empty or None. 'or' operator also has does the same thing. If X is truty then return X else evaluate Y and return it.\n",
    "\n",
    "  So `result = s or 'N/A'`\n",
    "\n",
    "- **Not Operator** : not X : False if X is Truthy or True if X is Falsy"
   ]
  },
  {
   "cell_type": "code",
   "execution_count": 33,
   "id": "fd5c2114",
   "metadata": {},
   "outputs": [
    {
     "name": "stdout",
     "output_type": "stream",
     "text": [
      "N/A\n",
      "N/A\n",
      "abc\n"
     ]
    }
   ],
   "source": [
    "# Now lets see how or operators works with other objects.\n",
    "\n",
    "# Suppose You are reading strings from the database. But the strings in the database might be None or empty. If string \n",
    "# is None or empty replace it with 'N/A' else put the same string.\n",
    "\n",
    "s1 = None\n",
    "s2 = ''\n",
    "s3 = 'abc'\n",
    "\n",
    "print(s1 or 'N/A')\n",
    "print(s2 or 'N/A')\n",
    "print(s3 or 'N/A')\n",
    "\n",
    "# Here we put the default value as 'N/A'"
   ]
  },
  {
   "cell_type": "code",
   "execution_count": 34,
   "id": "4620f129",
   "metadata": {},
   "outputs": [
    {
     "name": "stdout",
     "output_type": "stream",
     "text": [
      "0\n"
     ]
    }
   ],
   "source": [
    "# Now lets see how 'and' operator works\n",
    "\n",
    "# Consider the situation, here we need to do division operation where we need to divide two value a,b. If b=0 then \n",
    "# return zero else do the operation.\n",
    "\n",
    "a = 2\n",
    "b = 0\n",
    "\n",
    "print(b and a/b)"
   ]
  },
  {
   "cell_type": "code",
   "execution_count": 36,
   "id": "b486b2ff",
   "metadata": {},
   "outputs": [
    {
     "name": "stdout",
     "output_type": "stream",
     "text": [
      "empty\n",
      "empty\n",
      "a\n"
     ]
    }
   ],
   "source": [
    "# Now lets consider another senario. Now u need to get the first charecter of string. That string might be empty, None\n",
    "# or Normal String. If string is None or Empty then return empty string else return the first charecter of the string. \n",
    "\n",
    "s1 = None\n",
    "s2 = ''\n",
    "s3 = 'abc'\n",
    "\n",
    "print((s1 and s1[0]) or 'empty')\n",
    "print((s2 and s2[0]) or 'empty')\n",
    "print((s3 and s3[0]) or 'empty')\n",
    "\n",
    "# Here, we have used the conjunction of the 'or' and 'and' operator "
   ]
  },
  {
   "cell_type": "code",
   "execution_count": 37,
   "id": "c6affd0b",
   "metadata": {},
   "outputs": [
    {
     "name": "stdout",
     "output_type": "stream",
     "text": [
      "False\n"
     ]
    }
   ],
   "source": [
    "# Now, lets see the not operator.\n",
    "\n",
    "# We know not operator just returns the opposite truth value of that object.\n",
    "\n",
    "s = 'abc'\n",
    "\n",
    "print(not s) # It returns False. Because truth value of s is true"
   ]
  },
  {
   "cell_type": "markdown",
   "id": "4497922c",
   "metadata": {},
   "source": [
    "- Boolean Operators 'and', 'or', and 'not' operator doesn't operate only on boolean values. It can operate on any kind of object. Because in python each object is associated with a boolean value."
   ]
  }
 ],
 "metadata": {
  "kernelspec": {
   "display_name": "Python",
   "language": "python",
   "name": "python3"
  },
  "language_info": {
   "codemirror_mode": {
    "name": "ipython",
    "version": 3
   },
   "file_extension": ".py",
   "mimetype": "text/x-python",
   "name": "python",
   "nbconvert_exporter": "python",
   "pygments_lexer": "ipython3",
   "version": "3.10.0"
  }
 },
 "nbformat": 4,
 "nbformat_minor": 5
}
