{
 "cells": [
  {
   "cell_type": "markdown",
   "id": "9dc06646",
   "metadata": {},
   "source": [
    "# Reducing Functions\n",
    "\n",
    "- Reducing Functions are those which recombine an iterable recursively ending up with a single return value. This means these function takes an iterable as parameter and combine all elements of that iterable recursively according to a function and returns a single value. These functions are also called as accumulators, aggregators, or folding functions.\n",
    "\n",
    "- For example, finding maximum value of an iterable that contains values `a0,a1,a2,a3,a4,a5 ...`. Now here we actually assume a0 as maximum value initially. So result = a0 . Now we acutally find `result = max(result, a1)`. Next we find `result = max(result,a2)`. Like we will go upto an . So finally we will return the result.\n",
    "\n",
    "- The code for this is :\n",
    "\n",
    "  ```python\n",
    "\n",
    "  def _max(a,b):\n",
    "\n",
    "    fn = lambda x,y : max(x,y)\n",
    "    return fn(a,b)\n",
    "\n",
    "  def _reduce(iterable):\n",
    "\n",
    "    result = iterable[0]\n",
    "\n",
    "    for a in iterable[1:]:\n",
    "\n",
    "        result = _max(result,a)\n",
    "\n",
    "    return result\n",
    "\n",
    "  ```\n",
    "- Similarly we will write code for `_min` function also and we will use _min in _reduce function instead of _max. This is how we reduce the sequences into single values recursively. But here we are hardcoding the function. Instead of hardcode the function we actually give that function as parameter and use that funcion in the loop. The code for this is :\n",
    "\n",
    "  ```python\n",
    "\n",
    "  def _reduce(fn,iterable):\n",
    "\n",
    "    result = iterable[0]\n",
    "\n",
    "    for a in iterable[1:]:\n",
    "\n",
    "        result = fn(result,a)\n",
    "\n",
    "    return result\n",
    "\n",
    "  ```\n",
    "\n",
    "- But our own reduce works for sequence types only. These won't work for other iterables such as sets , dictionaries etc. But python provides a built in `reduce` which works for all kinds of iterables. This function just takes two inputs such as a function and an iterable. This `reduce` function is imported from `functools` module. This reduce function is custom which we can provide any type of function and any iterable as we want.\n",
    "\n",
    "- But python has other reducing functions which are responsible for particular action only. Those are :\n",
    "\n",
    "  **max** : Finds maximum value in an iterable\n",
    "\n",
    "  **min** : Finds minimum value in an iterable\n",
    "\n",
    "  **sum** : Finds the sum of all values in an iterable\n",
    "\n",
    "  **any** : Returns the true if any value in that iterable is truthy.\n",
    "\n",
    "  **all** : Returns True if all elements in that iterable is truthy."
   ]
  },
  {
   "cell_type": "code",
   "execution_count": 1,
   "id": "47c5e4c7",
   "metadata": {},
   "outputs": [
    {
     "data": {
      "text/plain": [
       "10"
      ]
     },
     "execution_count": 1,
     "metadata": {},
     "output_type": "execute_result"
    }
   ],
   "source": [
    "# Now lets see the reduce function in practice.\n",
    "\n",
    "from functools import reduce\n",
    "\n",
    "# First lets perform maximum operation in an iterable\n",
    "\n",
    "reduce(lambda x,y : max(x,y), {5,7,1,3,10,-3})"
   ]
  },
  {
   "cell_type": "code",
   "execution_count": 2,
   "id": "b29da182",
   "metadata": {},
   "outputs": [
    {
     "data": {
      "text/plain": [
       "-4"
      ]
     },
     "execution_count": 2,
     "metadata": {},
     "output_type": "execute_result"
    }
   ],
   "source": [
    "# Now lets find te minum element in an iterable\n",
    "\n",
    "reduce(lambda x,y : min(x,y), [1,4,-4,2,6,83])"
   ]
  },
  {
   "cell_type": "code",
   "execution_count": 3,
   "id": "b8fd252c",
   "metadata": {},
   "outputs": [
    {
     "data": {
      "text/plain": [
       "28"
      ]
     },
     "execution_count": 3,
     "metadata": {},
     "output_type": "execute_result"
    }
   ],
   "source": [
    "# Now lets find sum of all elements in an iterable\n",
    "\n",
    "reduce(lambda x,y : x +y, [1,2,3,4,5,6,7])"
   ]
  },
  {
   "cell_type": "code",
   "execution_count": 4,
   "id": "f32489eb",
   "metadata": {},
   "outputs": [
    {
     "data": {
      "text/plain": [
       "28"
      ]
     },
     "execution_count": 4,
     "metadata": {},
     "output_type": "execute_result"
    }
   ],
   "source": [
    "sum([1,2,3,4,5,6,7])"
   ]
  },
  {
   "cell_type": "code",
   "execution_count": 5,
   "id": "b80f3edd",
   "metadata": {},
   "outputs": [
    {
     "data": {
      "text/plain": [
       "120"
      ]
     },
     "execution_count": 5,
     "metadata": {},
     "output_type": "execute_result"
    }
   ],
   "source": [
    "# Now lets find the product of elements in an iterable\n",
    "\n",
    "reduce(lambda x,y: x *y, [1,2,3,4,5])\n"
   ]
  },
  {
   "cell_type": "code",
   "execution_count": 6,
   "id": "9a9ce2f8",
   "metadata": {},
   "outputs": [
    {
     "data": {
      "text/plain": [
       "120"
      ]
     },
     "execution_count": 6,
     "metadata": {},
     "output_type": "execute_result"
    }
   ],
   "source": [
    "# Now lets find the factorial of a given number using this reducing function\n",
    "\n",
    "def fact(n):\n",
    "\n",
    "    return reduce(lambda x,y : x*y,range(1,n+1))\n",
    "\n",
    "fact(5)"
   ]
  },
  {
   "cell_type": "code",
   "execution_count": 7,
   "id": "8e1e6878",
   "metadata": {},
   "outputs": [
    {
     "data": {
      "text/plain": [
       "5040"
      ]
     },
     "execution_count": 7,
     "metadata": {},
     "output_type": "execute_result"
    }
   ],
   "source": [
    "fact(7)"
   ]
  },
  {
   "cell_type": "code",
   "execution_count": 8,
   "id": "6eec2b69",
   "metadata": {},
   "outputs": [
    {
     "data": {
      "text/plain": [
       "True"
      ]
     },
     "execution_count": 8,
     "metadata": {},
     "output_type": "execute_result"
    }
   ],
   "source": [
    "# Now lets perform any operation using reduce function\n",
    "\n",
    "# As we know any retuns True if any of the element in the iterable is True. That means it is performing or operation on all elements in an iterable.\n",
    "\n",
    "reduce(lambda x,y : bool(x) or bool(y), [None, 0, 2])"
   ]
  },
  {
   "cell_type": "code",
   "execution_count": 9,
   "id": "2191800b",
   "metadata": {},
   "outputs": [
    {
     "data": {
      "text/plain": [
       "False"
      ]
     },
     "execution_count": 9,
     "metadata": {},
     "output_type": "execute_result"
    }
   ],
   "source": [
    "# If any perform or operation then all performs and operation.\n",
    "\n",
    "reduce(lambda x,y : bool(x) and bool(y), ['None',0,2,4,5])"
   ]
  },
  {
   "cell_type": "code",
   "execution_count": 10,
   "id": "1c2274d0",
   "metadata": {},
   "outputs": [
    {
     "data": {
      "text/plain": [
       "128"
      ]
     },
     "execution_count": 10,
     "metadata": {},
     "output_type": "execute_result"
    }
   ],
   "source": [
    "# In Builtin reduce we have one parameter called Initializer which sets the starting value for the result as we have set first value to result\n",
    "# in our own reduce function.\n",
    "\n",
    "# Similar to this if you want to set your own inital value instead of starting value of iterable we can provide it as initialier to reduce function.\n",
    "\n",
    "# But we cannot give whatever initial value we want. It must suit for operation or function we are applying. If you are performing addition amoong elements in an iterable\n",
    "# then setting 0 as inital value would result correct output. Otherwise We might get wrong results.\n",
    "\n",
    "reduce(lambda x,y : x+y, [1,2,3,4,5,6,7], 100) # Here i have given initializer as 100."
   ]
  },
  {
   "cell_type": "code",
   "execution_count": 11,
   "id": "88d3c3ac",
   "metadata": {},
   "outputs": [
    {
     "data": {
      "text/plain": [
       "28"
      ]
     },
     "execution_count": 11,
     "metadata": {},
     "output_type": "execute_result"
    }
   ],
   "source": [
    "# But sum of [1,2,3,4,5,6,7] is 28 only\n",
    "\n",
    "sum([1,2,3,4,5,6,7])"
   ]
  },
  {
   "cell_type": "code",
   "execution_count": null,
   "id": "b0b2311b",
   "metadata": {},
   "outputs": [],
   "source": [
    "# So we need to set iniltializer carefully and we need to set it based on the operation we are performing. If you won't set any initializer reduce function actually takes starting value as intial value.\n",
    "# If you pass inital then it is treated as first argument to the function. For example in above lambda function 100 is passed as initial so 100 is passed into x for lambda function."
   ]
  }
 ],
 "metadata": {
  "kernelspec": {
   "display_name": "Python",
   "language": "python",
   "name": "python3"
  },
  "language_info": {
   "codemirror_mode": {
    "name": "ipython",
    "version": 3
   },
   "file_extension": ".py",
   "mimetype": "text/x-python",
   "name": "python",
   "nbconvert_exporter": "python",
   "pygments_lexer": "ipython3",
   "version": "3.10.0"
  }
 },
 "nbformat": 4,
 "nbformat_minor": 5
}
