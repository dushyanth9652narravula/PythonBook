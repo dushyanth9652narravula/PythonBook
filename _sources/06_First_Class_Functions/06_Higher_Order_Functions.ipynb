{
 "cells": [
  {
   "cell_type": "markdown",
   "id": "7985e030",
   "metadata": {},
   "source": [
    "# Higher Order Functions\n",
    "\n",
    "- Higher Order functions simply a function which takes function as a parameter and/or returns a functions as its return value. For example we have seen `sorted` function which takes function as parameter. So it is called higher order function.\n",
    "\n",
    "- In python we have mainly two types of Higher Order Functions. Those are `Map` and `Filter`."
   ]
  },
  {
   "cell_type": "markdown",
   "id": "0501bfd8",
   "metadata": {},
   "source": [
    "## Map Function\n",
    "\n",
    "- The map function actually takes function and iterators as an argument and applies that function to each elements of the iterators and returns an iterator object.\n",
    "\n",
    "  **Syntax** : `map(func,*iterables)`\n",
    "\n",
    "  `*iterables` : a variable no of iterable objects.\n",
    "\n",
    "  `func` : some function that takes as many arguments as there are iterable objects passed to iterables.\n",
    "\n",
    "  `map(func,*iterables)` -> will return an iterator that calculates the function applied to each element of the iterables. \n",
    "\n",
    "  The function stops as soon as one of the iterator has been exhausted.\n",
    "\n",
    "  **Ex** :\n",
    "\n",
    "  `map(lambda x : x**2, [1,2,3,4])` : Here it actually returns a map object which is a generator. Here map function doesn't actually applies function to all elements of the iterator. Whenenver you run over that iterator then it starts applying that function to iterator and then calculates the result. For example if run this `list(map(lambda x : x**2, [1,2,3,4]))` then it applies lambda function to all the elements in the list and returns [1,4,9,16].\n",
    "\n",
    "  `list(map(lambda x,y : x+y, [1,2,3,4,5],[10,20,30,40]))` -> [11,22,33,44] . Why we cannot get fifth element is list2 got exhausted and it does contain anly element to perform lambda function. So map function stoped that iteration."
   ]
  },
  {
   "cell_type": "code",
   "execution_count": 1,
   "id": "7dbff5b3",
   "metadata": {},
   "outputs": [],
   "source": [
    "# Now lets see map function in practice\n",
    "\n",
    "def fact(n):\n",
    "    return 1 if n<2 else n*fact(n-1)"
   ]
  },
  {
   "cell_type": "code",
   "execution_count": 2,
   "id": "eb4aef8d",
   "metadata": {},
   "outputs": [
    {
     "data": {
      "text/plain": [
       "<map at 0x2288f60bd30>"
      ]
     },
     "execution_count": 2,
     "metadata": {},
     "output_type": "execute_result"
    }
   ],
   "source": [
    "results = map(fact,[1,2,3,4,5])\n",
    "results"
   ]
  },
  {
   "cell_type": "code",
   "execution_count": 3,
   "id": "00a38c8a",
   "metadata": {},
   "outputs": [
    {
     "name": "stdout",
     "output_type": "stream",
     "text": [
      "1\n",
      "2\n",
      "6\n",
      "24\n",
      "120\n"
     ]
    }
   ],
   "source": [
    "# From the above output we can see a map object which is an iterator. Now lest run a for loop over that iterator to check elements in it.\n",
    "\n",
    "for i in results:\n",
    "    print(i)"
   ]
  },
  {
   "cell_type": "code",
   "execution_count": 4,
   "id": "305e063d",
   "metadata": {},
   "outputs": [],
   "source": [
    "# Now if you run same for loop again, we won't get any thing. Becuase when you start accessing the map iterator then it calucates all the \n",
    "# elements and then gets exhausted. This is what a generator in python does. It calculates everything in runtime and gets exhausted. \n",
    "# If you want to store that items then you need to store them as list.\n",
    "\n",
    "for i in results:\n",
    "    print(i)"
   ]
  },
  {
   "cell_type": "code",
   "execution_count": 5,
   "id": "4233b7a7",
   "metadata": {},
   "outputs": [
    {
     "data": {
      "text/plain": [
       "[1, 2, 6, 24, 120]"
      ]
     },
     "execution_count": 5,
     "metadata": {},
     "output_type": "execute_result"
    }
   ],
   "source": [
    "results = list(map(fact,[1,2,3,4,5]))\n",
    "results"
   ]
  },
  {
   "cell_type": "code",
   "execution_count": null,
   "id": "e5cfaf61",
   "metadata": {},
   "outputs": [
    {
     "data": {
      "text/plain": [
       "[11, 22, 33, 44]"
      ]
     },
     "execution_count": 6,
     "metadata": {},
     "output_type": "execute_result"
    }
   ],
   "source": [
    "# As we know map takes mutiple iterators as input.\n",
    "\n",
    "results = list(map(lambda x,y : x + y, [1,2,3,4,5],[10,20,30,40]))\n",
    "results\n",
    "\n",
    "# Here we can see that map function stops working when the shorter list gets exhausted."
   ]
  },
  {
   "cell_type": "code",
   "execution_count": null,
   "id": "149322cc",
   "metadata": {},
   "outputs": [],
   "source": [
    "results = map(lambda x,y:x+y,[1,2,3],[10,20,30],[100,200,300,400])\n",
    "\n",
    "# Here you can see map function doesn't raise any error eventhough we have provide 1 execess iterator. This is because it doesn't perform \n",
    "# calculation at the time of creation"
   ]
  },
  {
   "cell_type": "code",
   "execution_count": 8,
   "id": "c3ea7898",
   "metadata": {},
   "outputs": [
    {
     "ename": "TypeError",
     "evalue": "<lambda>() takes 2 positional arguments but 3 were given",
     "output_type": "error",
     "traceback": [
      "\u001b[1;31m---------------------------------------------------------------------------\u001b[0m",
      "\u001b[1;31mTypeError\u001b[0m                                 Traceback (most recent call last)",
      "Cell \u001b[1;32mIn[8], line 2\u001b[0m\n\u001b[0;32m      1\u001b[0m \u001b[38;5;66;03m# Now it raises error, since map starts perfroming calculations now\u001b[39;00m\n\u001b[1;32m----> 2\u001b[0m \u001b[38;5;28;01mfor\u001b[39;00m i \u001b[38;5;129;01min\u001b[39;00m results:\n\u001b[0;32m      3\u001b[0m     \u001b[38;5;28mprint\u001b[39m(i)\n",
      "\u001b[1;31mTypeError\u001b[0m: <lambda>() takes 2 positional arguments but 3 were given"
     ]
    }
   ],
   "source": [
    "# Now it raises error, since map starts perfroming calculations now\n",
    "for i in results:\n",
    "    print(i)"
   ]
  },
  {
   "cell_type": "markdown",
   "id": "ec4187ba",
   "metadata": {},
   "source": [
    "## Filter Function\n",
    "\n",
    "- Filter function takes a function and an iterable as input and return the elements of the iterables fo which the function returns truthy. The syntax of the filter function is :\n",
    "\n",
    "  **Syntax** : `filter(func,iterable)`\n",
    "\n",
    "  `iterable` -> a single iterable\n",
    "\n",
    "  `func` -> some function that takes a single argument.\n",
    "\n",
    "  `filter(func,iterable)` -> will return an iterater that contains all the elements of the iterator for which the function called on its truthy.Here also filter function returns a generator not the actual output. Whenever you iterater over the filter object then only it starts calculating the output. If you given function as `None` then filter actually returns same iterable as output which you passed as input.\n",
    "\n",
    "  **Ex** :\n",
    "\n",
    "  `list(filter(None,[1,2,3,4]))` -> [1,2,3,4] .\n",
    "\n",
    "  `list(filter(lambda x : x%2 == 0, [1,2,3,4,5]))` -> [2,4]."
   ]
  },
  {
   "cell_type": "code",
   "execution_count": 9,
   "id": "cd8de04b",
   "metadata": {},
   "outputs": [],
   "source": [
    "# Filter is also similar to map, but working is different.\n",
    "\n",
    "results  = filter(None, [1,2,3,4])"
   ]
  },
  {
   "cell_type": "code",
   "execution_count": null,
   "id": "91aa59b6",
   "metadata": {},
   "outputs": [
    {
     "name": "stdout",
     "output_type": "stream",
     "text": [
      "1\n",
      "2\n",
      "3\n",
      "4\n"
     ]
    }
   ],
   "source": [
    "for i in results:\n",
    "    print(i)"
   ]
  },
  {
   "cell_type": "code",
   "execution_count": 11,
   "id": "ebfd2f7a",
   "metadata": {},
   "outputs": [],
   "source": [
    "# If you again run the same for loop you won't gets any output similar to map\n",
    "\n",
    "for i in results:\n",
    "    print(i)\n"
   ]
  },
  {
   "cell_type": "code",
   "execution_count": 12,
   "id": "6cb836c7",
   "metadata": {},
   "outputs": [
    {
     "data": {
      "text/plain": [
       "[2, 4, 6]"
      ]
     },
     "execution_count": 12,
     "metadata": {},
     "output_type": "execute_result"
    }
   ],
   "source": [
    "# So we need to store that output before it gets exhausted.\n",
    "\n",
    "results = list(filter(lambda x : x%2 == 0, [1,2,3,4,5,6]))\n",
    "results"
   ]
  },
  {
   "cell_type": "markdown",
   "id": "d4f7fb9d",
   "metadata": {},
   "source": [
    "## Zip Function\n",
    "\n",
    "- Zip function is not a higher order function but it can be used in list comprehensions. Zip function takes as many as iterators you would like to provide and combines all respective elements in tuples and returns an iterator object which contains these tuples.\n",
    "\n",
    "  **Syntax** : `zip(*iterators)`\n",
    "\n",
    "  **Ex** :\n",
    "\n",
    "  `list(zip([1,2,3,4],'python'))` : [(1,'p'),(2,'y'),(3,'t'),(4,'h')]\n",
    "\n",
    "  Here zip function stoped because iterator 1 got exhausted. So its stops zipping."
   ]
  },
  {
   "cell_type": "code",
   "execution_count": 13,
   "id": "8ff8ee0c",
   "metadata": {},
   "outputs": [
    {
     "name": "stdout",
     "output_type": "stream",
     "text": [
      "1 p\n",
      "2 y\n",
      "3 t\n",
      "4 h\n"
     ]
    }
   ],
   "source": [
    "# Now lets see zip in practice\n",
    "\n",
    "results = zip([1,2,3,4],'python')\n",
    "\n",
    "for x,y in results:\n",
    "    print(x,y)"
   ]
  },
  {
   "cell_type": "code",
   "execution_count": null,
   "id": "a34ce864",
   "metadata": {},
   "outputs": [],
   "source": [
    "# Zip also similar to map and filter. It gets exhausted one you have acessed that iterator. You need to store that some where else.\n",
    "for x,y in results:\n",
    "    print(x,y)"
   ]
  },
  {
   "cell_type": "code",
   "execution_count": 15,
   "id": "f682d177",
   "metadata": {},
   "outputs": [
    {
     "data": {
      "text/plain": [
       "[(1, 10, 100), (2, 20, 200), (3, 30, 300), (4, 40, 400)]"
      ]
     },
     "execution_count": 15,
     "metadata": {},
     "output_type": "execute_result"
    }
   ],
   "source": [
    "results = list(zip([1,2,3,4],[10,20,30,40],[100,200,300,400,500]))\n",
    "results"
   ]
  },
  {
   "cell_type": "code",
   "execution_count": 16,
   "id": "8e741901",
   "metadata": {},
   "outputs": [
    {
     "data": {
      "text/plain": [
       "[1, 2, 6, 24, 120]"
      ]
     },
     "execution_count": 16,
     "metadata": {},
     "output_type": "execute_result"
    }
   ],
   "source": [
    "# Generally List comprehension are perfect alternative to these map and filter function. Through list comprehensions we can increase readability also.\n",
    "\n",
    "# The basic syntax of list comphrension is :\n",
    "\n",
    "# [<expression> for <var> in <iterator> if <expression> ]\n",
    "\n",
    "# Now lets perform factorial of list by using this technique\n",
    "\n",
    "results = [fact(n) for n in [1,2,3,4,5]]\n",
    "results"
   ]
  },
  {
   "cell_type": "code",
   "execution_count": 17,
   "id": "33ea79c6",
   "metadata": {},
   "outputs": [
    {
     "data": {
      "text/plain": [
       "[11, 22, 33, 44]"
      ]
     },
     "execution_count": 17,
     "metadata": {},
     "output_type": "execute_result"
    }
   ],
   "source": [
    "# Now lets perform addition of two lists which we have perfromed there\n",
    "\n",
    "results = [x + y for x,y in zip([1,2,3,4],[10,20,30,40,50])]\n",
    "results"
   ]
  },
  {
   "cell_type": "code",
   "execution_count": 18,
   "id": "91a801b5",
   "metadata": {},
   "outputs": [
    {
     "data": {
      "text/plain": [
       "[2, 4, 6]"
      ]
     },
     "execution_count": 18,
     "metadata": {},
     "output_type": "execute_result"
    }
   ],
   "source": [
    "# Now lets replicate filter function using list comprehension\n",
    "\n",
    "results = [x for x in [1,2,3,4,5,6] if x%2 == 0]\n",
    "results"
   ]
  },
  {
   "cell_type": "code",
   "execution_count": 19,
   "id": "c695b6a3",
   "metadata": {},
   "outputs": [
    {
     "data": {
      "text/plain": [
       "[1, 4, 9, 16]"
      ]
     },
     "execution_count": 19,
     "metadata": {},
     "output_type": "execute_result"
    }
   ],
   "source": [
    "# Now lets combine map and filter \n",
    "\n",
    "results = list(filter(lambda y :y < 25,map(lambda x : x**2, [1,2,3,4,5,6,7])))\n",
    "results"
   ]
  },
  {
   "cell_type": "code",
   "execution_count": null,
   "id": "7aca592c",
   "metadata": {},
   "outputs": [
    {
     "data": {
      "text/plain": [
       "[1, 4, 9, 16]"
      ]
     },
     "execution_count": 20,
     "metadata": {},
     "output_type": "execute_result"
    }
   ],
   "source": [
    "# Now lets do the same using list comprehension which gives more readability but gives same output.\n",
    "\n",
    "results = [x**2 for x in [1,2,3,4,5,6,7] if x**2 <25]\n",
    "results\n",
    "\n",
    "# This is how we can use list comprehensions are alternative to map and filter"
   ]
  }
 ],
 "metadata": {
  "kernelspec": {
   "display_name": "Python",
   "language": "python",
   "name": "python3"
  },
  "language_info": {
   "codemirror_mode": {
    "name": "ipython",
    "version": 3
   },
   "file_extension": ".py",
   "mimetype": "text/x-python",
   "name": "python",
   "nbconvert_exporter": "python",
   "pygments_lexer": "ipython3",
   "version": "3.10.0"
  }
 },
 "nbformat": 4,
 "nbformat_minor": 5
}
