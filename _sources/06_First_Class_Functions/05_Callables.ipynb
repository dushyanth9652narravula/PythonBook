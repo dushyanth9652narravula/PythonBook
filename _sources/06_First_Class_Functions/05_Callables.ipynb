{
 "cells": [
  {
   "cell_type": "markdown",
   "id": "9d6247b2",
   "metadata": {},
   "source": [
    "# Callables\n",
    "\n",
    "- Callables are any objects that can be called using the paranthesis `()` operator. Callables always return a value (either `None` or any value). We generally know functions and methods are callables. But there are other objects that are also callable in python.\n",
    "\n",
    "- To check whether an object is callable or not we need to use the built-in function `callable()`.\n",
    "  \n",
    "  **Syntax** : callable(<object>)\n",
    "\n",
    "  **Ex** :\n",
    "\n",
    "  `callable(print)` -> True . So `print` object is a callable.\n",
    "\n",
    "- Generally there are different types of callables in python. Those are \n",
    "\n",
    "  **Built in Functions** : Bulit in functions such as `print`, `len` are callables.\n",
    "\n",
    "  **Built in Methods** : Built in methods such as `a_str.upper`, `a_list.append` are callables.\n",
    "\n",
    "  **User Defined Functions** : Functions created by using `def` or `lambda` expressions are callables.\n",
    "\n",
    "  **Methods** : Functions bound to an object are also callables.\n",
    "\n",
    "  **Classes** : Classes are also callables. Because for creating object we write code like this `my_obj = My_Class()` which returns the objec reference. So Class is also a callable. \n",
    "\n",
    "  **Class Instance** : Class instances are also callables if that class implements `__call__` method."
   ]
  },
  {
   "cell_type": "code",
   "execution_count": 1,
   "id": "a67bb0a9",
   "metadata": {},
   "outputs": [
    {
     "data": {
      "text/plain": [
       "True"
      ]
     },
     "execution_count": 1,
     "metadata": {},
     "output_type": "execute_result"
    }
   ],
   "source": [
    "# Now lets whether all above mentioned types are callable or not\n",
    "\n",
    "callable(print)"
   ]
  },
  {
   "cell_type": "code",
   "execution_count": null,
   "id": "9c72a330",
   "metadata": {},
   "outputs": [
    {
     "name": "stdout",
     "output_type": "stream",
     "text": [
      "hello\n",
      "None\n"
     ]
    }
   ],
   "source": [
    "# From above output we can see print is callable so it must return something\n",
    "\n",
    "result = print('hello')\n",
    "print(result)\n",
    "\n",
    "# So print actually returns none"
   ]
  },
  {
   "cell_type": "code",
   "execution_count": 7,
   "id": "b4792138",
   "metadata": {},
   "outputs": [
    {
     "data": {
      "text/plain": [
       "True"
      ]
     },
     "execution_count": 7,
     "metadata": {},
     "output_type": "execute_result"
    }
   ],
   "source": [
    "# Now lets see built-in methods\n",
    "\n",
    "l = [1,2,3,5]\n",
    "\n",
    "callable(l.append)"
   ]
  },
  {
   "cell_type": "code",
   "execution_count": null,
   "id": "a67ee343",
   "metadata": {},
   "outputs": [
    {
     "name": "stdout",
     "output_type": "stream",
     "text": [
      "None\n",
      "[1, 2, 3, 5, 6]\n"
     ]
    }
   ],
   "source": [
    "# so append method is also callable, lets see what it actually returns.\n",
    "\n",
    "result = l.append(6)\n",
    "print(result)\n",
    "print(l)\n",
    "\n",
    "# So append method actually returns None"
   ]
  },
  {
   "cell_type": "code",
   "execution_count": 9,
   "id": "17618cc0",
   "metadata": {},
   "outputs": [
    {
     "data": {
      "text/plain": [
       "True"
      ]
     },
     "execution_count": 9,
     "metadata": {},
     "output_type": "execute_result"
    }
   ],
   "source": [
    "from decimal import Decimal\n",
    "\n",
    "# As we know Decimal is a class. So lets check whether it is callable or not\n",
    "\n",
    "callable(Decimal)"
   ]
  },
  {
   "cell_type": "code",
   "execution_count": 10,
   "id": "4b9d322e",
   "metadata": {},
   "outputs": [
    {
     "data": {
      "text/plain": [
       "Decimal('10.5')"
      ]
     },
     "execution_count": 10,
     "metadata": {},
     "output_type": "execute_result"
    }
   ],
   "source": [
    "a = Decimal('10.5')\n",
    "a"
   ]
  },
  {
   "cell_type": "code",
   "execution_count": 11,
   "id": "21eddea8",
   "metadata": {},
   "outputs": [
    {
     "data": {
      "text/plain": [
       "False"
      ]
     },
     "execution_count": 11,
     "metadata": {},
     "output_type": "execute_result"
    }
   ],
   "source": [
    "# Now we know a is an instance of decimal class. So lets check whether it is callable or not.\n",
    "\n",
    "callable(a)"
   ]
  },
  {
   "cell_type": "code",
   "execution_count": 12,
   "id": "23d26686",
   "metadata": {},
   "outputs": [
    {
     "data": {
      "text/plain": [
       "True"
      ]
     },
     "execution_count": 12,
     "metadata": {},
     "output_type": "execute_result"
    }
   ],
   "source": [
    "# Now lets write user defined class and check whether it is callable or not\n",
    "\n",
    "class My_class:\n",
    "\n",
    "    def __init__(self, x = 0):\n",
    "        print(\"Initializing\")\n",
    "        self.counter = x\n",
    "\n",
    "callable(My_class)"
   ]
  },
  {
   "cell_type": "code",
   "execution_count": 13,
   "id": "31f734c6",
   "metadata": {},
   "outputs": [
    {
     "name": "stdout",
     "output_type": "stream",
     "text": [
      "Initializing\n"
     ]
    }
   ],
   "source": [
    "my_obj = My_class()"
   ]
  },
  {
   "cell_type": "code",
   "execution_count": 14,
   "id": "b85ca554",
   "metadata": {},
   "outputs": [
    {
     "data": {
      "text/plain": [
       "False"
      ]
     },
     "execution_count": 14,
     "metadata": {},
     "output_type": "execute_result"
    }
   ],
   "source": [
    "# Now lets check whether my_obj is callable or not\n",
    "\n",
    "callable(my_obj)"
   ]
  },
  {
   "cell_type": "code",
   "execution_count": 15,
   "id": "44dd3913",
   "metadata": {},
   "outputs": [],
   "source": [
    "# But we can make my_obj as callable by implementing __call__method in it\n",
    "\n",
    "class My_class:\n",
    "\n",
    "    def __init__(self, x = 0):\n",
    "        print(\"Initializing\")\n",
    "        self.counter = x\n",
    "\n",
    "    def __call__(self, x = 1):\n",
    "        print(\"Updating Counter\")\n",
    "        self.counter += x"
   ]
  },
  {
   "cell_type": "code",
   "execution_count": 16,
   "id": "94e99a4f",
   "metadata": {},
   "outputs": [
    {
     "name": "stdout",
     "output_type": "stream",
     "text": [
      "Initializing\n"
     ]
    }
   ],
   "source": [
    "my_obj = My_class()\n",
    "\n"
   ]
  },
  {
   "cell_type": "code",
   "execution_count": 17,
   "id": "9fa683de",
   "metadata": {},
   "outputs": [
    {
     "name": "stdout",
     "output_type": "stream",
     "text": [
      "Updating Counter\n"
     ]
    }
   ],
   "source": [
    "My_class.__call__(my_obj,100)"
   ]
  },
  {
   "cell_type": "code",
   "execution_count": 18,
   "id": "fa1a47a9",
   "metadata": {},
   "outputs": [
    {
     "data": {
      "text/plain": [
       "100"
      ]
     },
     "execution_count": 18,
     "metadata": {},
     "output_type": "execute_result"
    }
   ],
   "source": [
    "my_obj.counter"
   ]
  },
  {
   "cell_type": "code",
   "execution_count": 19,
   "id": "3e94173c",
   "metadata": {},
   "outputs": [
    {
     "name": "stdout",
     "output_type": "stream",
     "text": [
      "Updating Counter\n"
     ]
    }
   ],
   "source": [
    "my_obj(120)"
   ]
  },
  {
   "cell_type": "code",
   "execution_count": 20,
   "id": "3d83516c",
   "metadata": {},
   "outputs": [
    {
     "data": {
      "text/plain": [
       "220"
      ]
     },
     "execution_count": 20,
     "metadata": {},
     "output_type": "execute_result"
    }
   ],
   "source": [
    "# Now check counter value whether it is updated to 220 or not\n",
    "\n",
    "my_obj.counter"
   ]
  },
  {
   "cell_type": "code",
   "execution_count": 21,
   "id": "0b48b079",
   "metadata": {},
   "outputs": [
    {
     "data": {
      "text/plain": [
       "True"
      ]
     },
     "execution_count": 21,
     "metadata": {},
     "output_type": "execute_result"
    }
   ],
   "source": [
    "callable(my_obj)\n",
    "\n",
    "# So we can say if any class implements __call__ method then those instances are also callables."
   ]
  }
 ],
 "metadata": {
  "kernelspec": {
   "display_name": "Python",
   "language": "python",
   "name": "python3"
  },
  "language_info": {
   "codemirror_mode": {
    "name": "ipython",
    "version": 3
   },
   "file_extension": ".py",
   "mimetype": "text/x-python",
   "name": "python",
   "nbconvert_exporter": "python",
   "pygments_lexer": "ipython3",
   "version": "3.10.0"
  }
 },
 "nbformat": 4,
 "nbformat_minor": 5
}
