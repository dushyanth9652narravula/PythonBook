{
 "cells": [
  {
   "cell_type": "markdown",
   "id": "21e90eec",
   "metadata": {},
   "source": [
    "# Lambda Functions"
   ]
  },
  {
   "cell_type": "markdown",
   "id": "f64bed4f",
   "metadata": {},
   "source": [
    "## Introduction\n",
    "\n",
    "- We have already seen how to create a traditional functions using `def` statement in python. These functions actually takes some values as parameters and performs some actions on it and returns the final result. If that function doesn't have return statement then it actually returns a default value `None`.\n",
    "\n",
    "- Lambda Functions are simply another way of creating the functions. The basic syntax for creating the lambda function is :\n",
    "\n",
    "  **Syntax** : `lambda [parameter list] : expression`\n",
    "\n",
    "  Here `lambda` is a keyword. Since it is a function it would take the list of `parameters` and these parameters would be optional also. The `expression` is evaluated and returned when the lambda function is called (think this `expression` as body of the function). Similar to traditional functions these lambda functions are also gets created in memory and returns function objects. So lambda functions are also similar to traditional functions in python. Only syntax is different.\n",
    "\n",
    "  **Ex** : \n",
    "\n",
    "  ```python\n",
    "\n",
    "  lambda x : x**2\n",
    "\n",
    "  ```\n",
    "\n",
    "  This actually takes one argument x and returns the square of that value.\n",
    "\n",
    "- Since that syntax or expression returns a function object , we can assign lambda functions to a variable or passed as an argument to the function.\n",
    "\n",
    "- Generally we call these lambda functions are anonymous functions because these functions doesn't have a name . They just have a keyword `lambda` and some expression.\n",
    "\n",
    "- But there are some limitations to the lambda functions. Those are :\n",
    "\n",
    "  1. The body of the lambda function must be limited to single expression only. That means we cannot write multi line statements as expressions in lambda functions.\n",
    "\n",
    "  2. There must be no assignments in lambda expressions. For example `lambda x : x = 5` and `lambda x : x = x +5` are not valid.\n",
    "\n",
    "  3. There must be no annotations in lambda functions. For example `lambda x:int : x**2` is invalid. These annotations are ok for traditional functions.\n",
    "\n",
    "  4. But lambda functions can have default values for parameters. `lambda x, y = 20 : x + y`\n",
    "\n",
    "  5. Eventhough lambda functions are single logical line code, the line continuation is ok, but still just one expression. \n",
    "\n",
    "     **Ex** \n",
    "\n",
    "     ```python \n",
    "\n",
    "     lambda x : x \\\n",
    "      math.sin(x)\n",
    "\n",
    "     ```"
   ]
  },
  {
   "cell_type": "code",
   "execution_count": null,
   "id": "858dc422",
   "metadata": {},
   "outputs": [
    {
     "data": {
      "text/plain": [
       "<function __main__.<lambda>(x)>"
      ]
     },
     "execution_count": 1,
     "metadata": {},
     "output_type": "execute_result"
    }
   ],
   "source": [
    "# Now lets see the basic lambda function in action\n",
    "\n",
    "lambda x : x**2\n",
    "\n",
    "# In the below output, we can see that it is returning the function object itself which is loacted in the main module."
   ]
  },
  {
   "cell_type": "code",
   "execution_count": 3,
   "id": "cea4850d",
   "metadata": {},
   "outputs": [
    {
     "data": {
      "text/plain": [
       "function"
      ]
     },
     "execution_count": 3,
     "metadata": {},
     "output_type": "execute_result"
    }
   ],
   "source": [
    "# Now lets assign the lambda function to the variable\n",
    "\n",
    "f = lambda x : x**2\n",
    "\n",
    "type(f)"
   ]
  },
  {
   "cell_type": "code",
   "execution_count": 4,
   "id": "fc04c2f0",
   "metadata": {},
   "outputs": [
    {
     "data": {
      "text/plain": [
       "9"
      ]
     },
     "execution_count": 4,
     "metadata": {},
     "output_type": "execute_result"
    }
   ],
   "source": [
    "f(3)"
   ]
  },
  {
   "cell_type": "code",
   "execution_count": 5,
   "id": "80ebbe92",
   "metadata": {},
   "outputs": [
    {
     "data": {
      "text/plain": [
       "23"
      ]
     },
     "execution_count": 5,
     "metadata": {},
     "output_type": "execute_result"
    }
   ],
   "source": [
    "# We can pass default arguments to the lambda function \n",
    "\n",
    "f = lambda x , y = 20 : x + y\n",
    "\n",
    "f(3)"
   ]
  },
  {
   "cell_type": "code",
   "execution_count": 7,
   "id": "8425e09d",
   "metadata": {},
   "outputs": [
    {
     "name": "stdout",
     "output_type": "stream",
     "text": [
      "Sum of 1,2,3 is : 6\n",
      "Sum of 2,3,4,5,6,7 is :27\n"
     ]
    }
   ],
   "source": [
    "# We can pass any no of arguments to te lambda function.\n",
    "\n",
    "# Here iam just finding the sum of arguemnts passed to lambda functions\n",
    "\n",
    "f = lambda *args : sum(args)\n",
    "\n",
    "print(f\"Sum of 1,2,3 is : {f(1,2,3)}\")\n",
    "\n",
    "print(f\"Sum of 2,3,4,5,6,7 is :{f(2,3,4,5,6,7)}\")"
   ]
  },
  {
   "cell_type": "code",
   "execution_count": null,
   "id": "0f0e891d",
   "metadata": {},
   "outputs": [
    {
     "data": {
      "text/plain": [
       "(1, (2, 3, 4, 5), 10, {'a': 12, 'b': 13, 'c': 14})"
      ]
     },
     "execution_count": 12,
     "metadata": {},
     "output_type": "execute_result"
    }
   ],
   "source": [
    "# Now lets see how to pass a lambda function as an argument to normal function\n",
    "\n",
    "# Here i have demonstrated how to pass lambda function to a function and lambda function also handles any number of arguments.\n",
    "\n",
    "def apply_fun(fn, x, *args, y, **kwargs):\n",
    "\n",
    "    return fn(x, *args,k = y, **kwargs)\n",
    "\n",
    "func = lambda x, *args,k,**kwargs : (x,args,k,kwargs)\n",
    "apply_fun(func, 1,2,3,4,5, y=10, a = 12, b = 13, c =14)"
   ]
  },
  {
   "cell_type": "markdown",
   "id": "d0afe948",
   "metadata": {},
   "source": [
    "## Lambdas and Sorting\n",
    "\n",
    "- In python, we have a `sorted` method to sort the iterables in python. It actually takes an iterable an input and returns te same iterable in ascending order. The basic syntax of sorted is :\n",
    "\n",
    "  **Syntax** : `sorted(iterable, /, *, Key = None, reverse = False)`\n",
    "\n",
    "- But mostly we dont sort te iterable directly. Sometimes we want to sort it based on the last carecter of the strings if the iterable contains strings. Some elements in iterables may not have ordering such as complex numbers etc. Sometimes we want to sort the dictionary based on values instead of keys. In all these situations we have manuplate the iterable we have provided intitally. To do this we actually use the keyword only argument called `key` which takes a custom function and applies it to each element of iterables and provides results what ever we want.\n",
    "\n",
    "- **Key** : The key parameter in Python's sorted() function allows you to customize how the items are compared by providing a function. This function is applied to each element, and sorting is based on the results of that function, not the elements themselves."
   ]
  },
  {
   "cell_type": "code",
   "execution_count": 23,
   "id": "e574a735",
   "metadata": {},
   "outputs": [
    {
     "name": "stdout",
     "output_type": "stream",
     "text": [
      "Help on built-in function sorted in module builtins:\n",
      "\n",
      "sorted(iterable, /, *, key=None, reverse=False)\n",
      "    Return a new list containing all items from the iterable in ascending order.\n",
      "    \n",
      "    A custom key function can be supplied to customize the sort order, and the\n",
      "    reverse flag can be set to request the result in descending order.\n",
      "\n"
     ]
    }
   ],
   "source": [
    "help(sorted)"
   ]
  },
  {
   "cell_type": "code",
   "execution_count": 13,
   "id": "a2f4385a",
   "metadata": {},
   "outputs": [
    {
     "data": {
      "text/plain": [
       "[-5, 6, 10, 20, 300]"
      ]
     },
     "execution_count": 13,
     "metadata": {},
     "output_type": "execute_result"
    }
   ],
   "source": [
    "# First lets see how sorted function works.\n",
    "\n",
    "l = [300,10,-5,6, 20]\n",
    "\n",
    "sorted(l)"
   ]
  },
  {
   "cell_type": "code",
   "execution_count": 14,
   "id": "49554698",
   "metadata": {},
   "outputs": [
    {
     "data": {
      "text/plain": [
       "['abc', 'def', 'gfi']"
      ]
     },
     "execution_count": 14,
     "metadata": {},
     "output_type": "execute_result"
    }
   ],
   "source": [
    "d = {'abc': 200, 'def' : 300, 'gfi' : 100 }\n",
    "\n",
    "sorted(d)"
   ]
  },
  {
   "cell_type": "code",
   "execution_count": null,
   "id": "f3ecf2b5",
   "metadata": {},
   "outputs": [
    {
     "data": {
      "text/plain": [
       "['gfi', 'abc', 'def']"
      ]
     },
     "execution_count": 15,
     "metadata": {},
     "output_type": "execute_result"
    }
   ],
   "source": [
    "# From the above output we can see that, it actually sorted the keys of the dictionary.\n",
    "\n",
    "# But we actually wanna sort the dictionary based on the values of it. To do this we actually need to use 'key' parameter.\n",
    "\n",
    "sorted(d, key = lambda e : d[e])\n",
    "\n",
    "# From the output we can see that the dictionary is sorted based on their values."
   ]
  },
  {
   "cell_type": "code",
   "execution_count": 16,
   "id": "1df56ed7",
   "metadata": {},
   "outputs": [
    {
     "data": {
      "text/plain": [
       "[0, (2-1j), -3, (3+3j), 10]"
      ]
     },
     "execution_count": 16,
     "metadata": {},
     "output_type": "execute_result"
    }
   ],
   "source": [
    "# Now lets see how to sort te numbers if we have complex numbers. \n",
    "\n",
    "l = [10, 3 + 3j, 2-1j, 0, -3]\n",
    "\n",
    "sorted(l,key = lambda x : x.real**2 + x.imag**2)"
   ]
  },
  {
   "cell_type": "code",
   "execution_count": null,
   "id": "8d2b8a40",
   "metadata": {},
   "outputs": [
    {
     "data": {
      "text/plain": [
       "['Sita', 'Geetha', 'Satwikh', 'Sai', 'Mouli', 'Charan']"
      ]
     },
     "execution_count": 17,
     "metadata": {},
     "output_type": "execute_result"
    }
   ],
   "source": [
    "# Now lets sort the list of strings based on their last charecters.\n",
    "\n",
    "l = [\"Sita\", \"Geetha\", \"Charan\", \"Sai\", \"Mouli\", \"Satwikh\"]\n",
    "\n",
    "sorted(l, key = lambda x : x[-1])\n",
    "\n",
    "# Here there is a conflict occured between Sita and Geeta to sort which one first. By default python uses stable sort which means whenever there is an conflict then it actually results the same order as it is in inital list."
   ]
  },
  {
   "cell_type": "code",
   "execution_count": 18,
   "id": "add569f9",
   "metadata": {},
   "outputs": [
    {
     "data": {
      "text/plain": [
       "['Geetha', 'Sita', 'Satwikh', 'Sai', 'Mouli', 'Charan']"
      ]
     },
     "execution_count": 18,
     "metadata": {},
     "output_type": "execute_result"
    }
   ],
   "source": [
    "l = [\"Geetha\",\"Sita\", \"Charan\", \"Sai\", \"Mouli\", \"Satwikh\"]\n",
    "\n",
    "sorted(l, key = lambda x : x[-1])"
   ]
  },
  {
   "cell_type": "code",
   "execution_count": null,
   "id": "eaa8a984",
   "metadata": {},
   "outputs": [
    {
     "data": {
      "text/plain": [
       "[8, 5, 4, 3, 7, 10, 1, 2, 9, 6]"
      ]
     },
     "execution_count": 21,
     "metadata": {},
     "output_type": "execute_result"
    }
   ],
   "source": [
    "# Now lets shuffle the list by using the sorted function\n",
    "\n",
    "# Here random.random() function providing a float value for each input in list and sorting is actually happening in these random values. \n",
    "\n",
    "# And the output is actually we are getting is respective inputs for each random values.\n",
    "\n",
    "# Suppose the list is [1,2,3] and corresponding random values are [0.45, 0.2, 0.43]. Now sorted function first sort these random values then the sorted list is [0.2,0.42,0.45].\n",
    "\n",
    "# Now corresponding elements are [2,3,1] that is what we are getting as actual output.\n",
    "\n",
    "# This is how we suffle the list using sorted function.\n",
    "\n",
    "import random\n",
    "l = [1,2,3,4,5,6,7,8,9,10]\n",
    "\n",
    "sorted(l, key = lambda x : random.random())"
   ]
  }
 ],
 "metadata": {
  "kernelspec": {
   "display_name": "Python",
   "language": "python",
   "name": "python3"
  },
  "language_info": {
   "codemirror_mode": {
    "name": "ipython",
    "version": 3
   },
   "file_extension": ".py",
   "mimetype": "text/x-python",
   "name": "python",
   "nbconvert_exporter": "python",
   "pygments_lexer": "ipython3",
   "version": "3.10.0"
  }
 },
 "nbformat": 4,
 "nbformat_minor": 5
}
