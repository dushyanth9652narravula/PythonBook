{
 "cells": [
  {
   "cell_type": "markdown",
   "id": "e9148932",
   "metadata": {},
   "source": [
    "# Partial Functions\n",
    "\n",
    "- In python, partial functions are used to fix or pre fill some arguments of a function and produce a new function with fewer arguments. These functions are particularly useful in situations where you are repeatedly calling a function with some common arguments and you would like to simplify that call.\n",
    "\n",
    "- These functions are useful in  :\n",
    "\n",
    "  1. Avoid re-writting the same lambda or function call over and over.\n",
    "  2. Make a general purpose function fit into a narrower context or API\n",
    "  3. Makes code more readable by reducing repetition and clarifying intention.\n",
    "  4. They are natural fit for higher order functions like map, filter etc.\n",
    "\n",
    "- Suppose consider a scenario where you have a function called `pow` which takes two arguments base and exponent and finds base to the power of exponent which is shown below.\n",
    "\n",
    "  ```python\n",
    "\n",
    "  def pow(base, exponent):\n",
    "    return base ** exponent\n",
    "\n",
    "  ```\n",
    "\n",
    "- Now your code mostly uses this function to find the square of a number (base). Now instead of writing `pow(base,2)` repeatedly in your code, we can define one more function which takes argument `base` only and predefines the exponent which is shown below.\n",
    "\n",
    "  ```python\n",
    "\n",
    "  def square(base):\n",
    "    return pow(base,2)\n",
    "\n",
    "  ```\n",
    "\n",
    "- We can also write the above function by using lambda function also.\n",
    "\n",
    "  ```python\n",
    "\n",
    "  square = lambda base : pow(base,2)\n",
    "\n",
    "  ```\n",
    "\n",
    "- For simpler functions like this `pow`, it would be easier to write functions by reducing the no of arguments. But for complex functions it would be difficult to ardcode the arguments. For example, consider the following function\n",
    "\n",
    "  ```python\n",
    "\n",
    "  def func(a,b,*args,k1,k2,**kwargs):\n",
    "    print(a,b,args,k1,k2,kwargs)\n",
    "\n",
    "  ```\n",
    "\n",
    "- The above function just prints the arguments, you have been provided. Now i usually provide same argument for a and k1. So to reduce the function i create another function like this.\n",
    "\n",
    "  ```python\n",
    "\n",
    "  f = lambda b,*vars,kw,**kvars : func(10,b,*vars,k1 = 'a', k2=kw,**kvars)\n",
    "\n",
    "  ```\n",
    "\n",
    "- Now if you see new function f, we need to handle all other arguments carefully. Sometimes it would be hard to handle all. So instead of  reducing the function arguments like this, we can use builtin function called `partial` in python which handles this use case in better way.\n",
    "\n",
    "  **Syntax** : `partial(<function>, <argumets you want to predefine>)`\n",
    "\n",
    "  **Ex** :\n",
    "\n",
    "  ```python\n",
    "\n",
    "  f = partial(func, a = 10, k1 = 'a')\n",
    "\n",
    "  ```\n",
    "\n",
    "  So here we doesn't need to take care of other arguments. We just provide the function and repeatedly used arguments. This way of writing the reducing arguments function is much more readable and easy to write.\n",
    "\n",
    "  Similarly the `square` function can also be written as `partial(pow,exponent = 2)`\n"
   ]
  },
  {
   "cell_type": "code",
   "execution_count": 1,
   "id": "dbe9839f",
   "metadata": {},
   "outputs": [
    {
     "name": "stdout",
     "output_type": "stream",
     "text": [
      "10 20 30\n"
     ]
    }
   ],
   "source": [
    "# Now lets see partial functions in practice\n",
    "\n",
    "def func(a,b,c):\n",
    "    print(a,b,c)\n",
    "\n",
    "# Now we usually know a mostly 10 not always. So now we have to reduce the arguments so that we usually provide only b and c only\n",
    "\n",
    "f = lambda b,c : func(10,b,c)\n",
    "\n",
    "f(20,30)"
   ]
  },
  {
   "cell_type": "code",
   "execution_count": 5,
   "id": "36af50dd",
   "metadata": {},
   "outputs": [
    {
     "name": "stdout",
     "output_type": "stream",
     "text": [
      "10 20 30\n"
     ]
    }
   ],
   "source": [
    "# Instead of using the lambda function we can directly use built-in partial function to create a function with less no of arguments\n",
    "\n",
    "from functools import partial\n",
    "\n",
    "f = partial(func,10) # Here if you won't specify argument name then it automatically assigns it to first argument.\n",
    "\n",
    "f(20,30)"
   ]
  },
  {
   "cell_type": "code",
   "execution_count": 6,
   "id": "25cf7176",
   "metadata": {},
   "outputs": [
    {
     "ename": "TypeError",
     "evalue": "func() takes 3 positional arguments but 4 were given",
     "output_type": "error",
     "traceback": [
      "\u001b[1;31m---------------------------------------------------------------------------\u001b[0m",
      "\u001b[1;31mTypeError\u001b[0m                                 Traceback (most recent call last)",
      "Cell \u001b[1;32mIn[6], line 3\u001b[0m\n\u001b[0;32m      1\u001b[0m \u001b[38;5;66;03m# Now if you provide three arguments to function `f` then it raises error\u001b[39;00m\n\u001b[1;32m----> 3\u001b[0m \u001b[43mf\u001b[49m\u001b[43m(\u001b[49m\u001b[38;5;241;43m40\u001b[39;49m\u001b[43m,\u001b[49m\u001b[38;5;241;43m20\u001b[39;49m\u001b[43m,\u001b[49m\u001b[38;5;241;43m30\u001b[39;49m\u001b[43m)\u001b[49m\n",
      "\u001b[1;31mTypeError\u001b[0m: func() takes 3 positional arguments but 4 were given"
     ]
    }
   ],
   "source": [
    "# Now if you provide three arguments to function `f` then it raises error\n",
    "\n",
    "f(40,20,30)"
   ]
  },
  {
   "cell_type": "code",
   "execution_count": 10,
   "id": "2debb55f",
   "metadata": {},
   "outputs": [
    {
     "name": "stdout",
     "output_type": "stream",
     "text": [
      "40 20 30\n"
     ]
    }
   ],
   "source": [
    "# Here your thought would be assign 40 to a, if you want to override value of a then you need to use keyword only arguments to do this.\n",
    "\n",
    "# So first you would use keyword arguments while defining the partial function itself\n",
    "\n",
    "f = partial(func,a = 10)\n",
    "\n",
    "# Now you can override the value of a using keyword only arguments\n",
    "\n",
    "f(a = 40, b = 20, c = 30)"
   ]
  },
  {
   "cell_type": "code",
   "execution_count": 11,
   "id": "6f0a07da",
   "metadata": {},
   "outputs": [
    {
     "data": {
      "text/plain": [
       "25"
      ]
     },
     "execution_count": 11,
     "metadata": {},
     "output_type": "execute_result"
    }
   ],
   "source": [
    "# So now lets do the power function which we have seen above\n",
    "\n",
    "def pow(base, exponent):\n",
    "\n",
    "    return base ** exponent\n",
    "\n",
    "square = partial(pow, exponent = 2)\n",
    "\n",
    "square(5)"
   ]
  },
  {
   "cell_type": "code",
   "execution_count": 12,
   "id": "0e50ce37",
   "metadata": {},
   "outputs": [
    {
     "data": {
      "text/plain": [
       "125"
      ]
     },
     "execution_count": 12,
     "metadata": {},
     "output_type": "execute_result"
    }
   ],
   "source": [
    "# Now lets define cube function\n",
    "\n",
    "cube = partial(pow, exponent = 3)\n",
    "\n",
    "cube(5)"
   ]
  },
  {
   "cell_type": "code",
   "execution_count": 18,
   "id": "69fc1e67",
   "metadata": {},
   "outputs": [
    {
     "data": {
      "text/plain": [
       "[(0, 0), (-1, 0), (0, 1), (1, 1), (0, 2), (2, -3), (10, 20), (40, -20)]"
      ]
     },
     "execution_count": 18,
     "metadata": {},
     "output_type": "execute_result"
    }
   ],
   "source": [
    "# Now lets see the real world use case of partial function.\n",
    "\n",
    "# Suppose you have points and you want to sort those points based on the distance of that point from origin.\n",
    "\n",
    "points = [(1,1),(0,0),(2,-3),(10,20),(40,-20),(-1,0),(0,1),(0,2)]\n",
    "\n",
    "# So to sort we genrally use sorted function and we actually provide a function as key to sorted to sort the iterable based on that key.\n",
    "\n",
    "origin = (0,0)\n",
    "\n",
    "distance_from_origin = lambda a,b : (a[0] - b[0])**2 + (a[1]-b[1])**2\n",
    "\n",
    "# Any way we know a or b is origin itself and for sorted we just provide the function name itself and we cannot provide function that takes multiple arguments.\n",
    "\n",
    "# And we know one argument for distance function is fixed. So we can provide partial function to sorted function as key which takes only one input.\n",
    "\n",
    "sorted(points, key = partial(distance_from_origin, b = origin))\n",
    "\n"
   ]
  },
  {
   "cell_type": "code",
   "execution_count": null,
   "id": "59022eeb",
   "metadata": {},
   "outputs": [],
   "source": [
    "# The only problem with partial function is to deal with arguments carefully. Sometime we might provide multiple values to same argument."
   ]
  }
 ],
 "metadata": {
  "kernelspec": {
   "display_name": "Python",
   "language": "python",
   "name": "python3"
  },
  "language_info": {
   "codemirror_mode": {
    "name": "ipython",
    "version": 3
   },
   "file_extension": ".py",
   "mimetype": "text/x-python",
   "name": "python",
   "nbconvert_exporter": "python",
   "pygments_lexer": "ipython3",
   "version": "3.10.0"
  }
 },
 "nbformat": 4,
 "nbformat_minor": 5
}
