{
 "cells": [
  {
   "cell_type": "markdown",
   "id": "7a533084",
   "metadata": {},
   "source": [
    "# Variables and Memory"
   ]
  },
  {
   "cell_type": "markdown",
   "id": "02d5751c",
   "metadata": {},
   "source": [
    "## 1) Variables and Memory References\n",
    "\n",
    "- Variables are the placeholders of data in python. The variables we create are just memory references. They didn't equal to data value. They actually refer the memory address where actual data is stored in. \n",
    "\n",
    "- Generally memory is divided into slots. Each slot has an unique memory address. These unique memory address actually stores original data. Since we cannot remember these memory addresses, we actually create an aliases to these memory addresses as variables.\n",
    "\n",
    "- So, when we want to display the value of the variable, then python looks for memory address referenced by that variable and finds the value present in it and then displays that value to the console.\n",
    "\n",
    "- To check the memory address referenced by the variable, we use the `id()` function. It returns the decimal value of the memory address. If we want the hexadecimal value then we use `hex(id())` function."
   ]
  },
  {
   "cell_type": "code",
   "execution_count": 1,
   "id": "c5b4636d",
   "metadata": {},
   "outputs": [
    {
     "name": "stdout",
     "output_type": "stream",
     "text": [
      "2509153370640\n"
     ]
    }
   ],
   "source": [
    "my_var = 10\n",
    "\n",
    "print(id(my_var))"
   ]
  },
  {
   "cell_type": "code",
   "execution_count": 2,
   "id": "79adc2e1",
   "metadata": {},
   "outputs": [
    {
     "name": "stdout",
     "output_type": "stream",
     "text": [
      "0x24835320210\n"
     ]
    }
   ],
   "source": [
    "print(hex(id(my_var)))"
   ]
  },
  {
   "cell_type": "markdown",
   "id": "8952514f",
   "metadata": {},
   "source": [
    "## 2) Reference Counting\n",
    "\n",
    "- Reference Counting means how many references that each memory address have. Suppose we have a variable `a` which references the memory address `0x1000`. Now i have another variable `b` which also references same memory address `0x1000` (This can be obtianed by `b = a`). Now the reference count for memory address `0x1000` is 2. \n",
    "\n",
    "- Suppose we equate `b` to `None` then the reference count for `0x1000` is 1. If we do it for variable `a` also then reference count for `0x1000` is 0 . Now python thinks that there is no use of this object and deletes that object from memory address. This is python removes garbages.\n",
    "\n",
    "- To find the reference count of a memory address, we use sys module. Sys module has a function called `getrefcount()` to get reference count of the memory address.\n",
    "\n",
    "  **Syntax** : `sys.getrefcount(variable)`\n",
    "\n",
    "- But this function doesn't give actual reference count. Because we pass this variable as argument to that function then in the scope of the function we have another variable which also references the same memory address. Becuase of these we will get incorrect reference count (actual  + 1).\n",
    "\n",
    "- To get actual reference count we use `ctype` module.\n",
    "\n",
    "  **Syntax** : `ctype.c_long.from_address(id(variable)).value`"
   ]
  },
  {
   "cell_type": "code",
   "execution_count": 3,
   "id": "a1f6268f",
   "metadata": {},
   "outputs": [
    {
     "data": {
      "text/plain": [
       "2"
      ]
     },
     "execution_count": 3,
     "metadata": {},
     "output_type": "execute_result"
    }
   ],
   "source": [
    "import sys\n",
    "\n",
    "a = -10\n",
    "\n",
    "sys.getrefcount(a)"
   ]
  },
  {
   "cell_type": "code",
   "execution_count": 4,
   "id": "a02a1f0c",
   "metadata": {},
   "outputs": [
    {
     "data": {
      "text/plain": [
       "1"
      ]
     },
     "execution_count": 4,
     "metadata": {},
     "output_type": "execute_result"
    }
   ],
   "source": [
    "import ctypes\n",
    "\n",
    "ctypes.c_long.from_address(id(a)).value"
   ]
  },
  {
   "cell_type": "code",
   "execution_count": 5,
   "id": "ba28f34a",
   "metadata": {},
   "outputs": [
    {
     "data": {
      "text/plain": [
       "2"
      ]
     },
     "execution_count": 5,
     "metadata": {},
     "output_type": "execute_result"
    }
   ],
   "source": [
    "b = a\n",
    "\n",
    "ctypes.c_long.from_address(id(a)).value"
   ]
  },
  {
   "cell_type": "code",
   "execution_count": 6,
   "id": "7be0df8b",
   "metadata": {},
   "outputs": [
    {
     "data": {
      "text/plain": [
       "1"
      ]
     },
     "execution_count": 6,
     "metadata": {},
     "output_type": "execute_result"
    }
   ],
   "source": [
    "b = None\n",
    "\n",
    "ctypes.c_long.from_address(id(a)).value"
   ]
  },
  {
   "cell_type": "code",
   "execution_count": null,
   "id": "32d9483d",
   "metadata": {},
   "outputs": [
    {
     "data": {
      "text/plain": [
       "0"
      ]
     },
     "execution_count": 7,
     "metadata": {},
     "output_type": "execute_result"
    }
   ],
   "source": [
    "c = id(a)\n",
    "\n",
    "a = None\n",
    "\n",
    "ctypes.c_long.from_address(c).value\n",
    "\n",
    "# Here we can see that reference count for memory address is zero"
   ]
  },
  {
   "cell_type": "markdown",
   "id": "126098e3",
   "metadata": {},
   "source": [
    "## 3) Python Garbage Collector\n",
    "\n",
    "- So from reference counting method, we can say that if the reference count for any memory address becomes zero then we can say that python automatically deletes that object from the memory. This is how python manages memory.\n",
    "\n",
    "- But reference counting method fails when there are circular references. Circular references occurs when an instance variable of object1 referencing object2 and instance variable of object 2 referencing object1.\n",
    "\n",
    "- To effectively manage these circular references, python uses a better memory management technique called Garbage collector. Garbage collector actually scans the group of objects periodically and track their internal references then looks for internal references which are unreachable from outside. Of it finds any cycles that are unreachable from outside of your code then it will marks them as collectables and frees them.\n",
    "\n",
    "- Garbage collector is programatically controlled by the gc module. It is turned on by default. If your code doesn't create any circular references, then we can disable it."
   ]
  },
  {
   "cell_type": "code",
   "execution_count": 8,
   "id": "0dc19894",
   "metadata": {},
   "outputs": [],
   "source": [
    "# So now see an example of circular refereces\n",
    "\n",
    "import ctypes\n",
    "\n",
    "import gc\n",
    "\n",
    "class B:\n",
    "\n",
    "    def __init__(self,a):\n",
    "\n",
    "        self.a = a\n",
    "        print(f\"A : {hex(id(self.a))} B : {hex(id(self))}\")\n",
    "\n",
    "class A:\n",
    "\n",
    "    def __init__(self):\n",
    "\n",
    "        self.b = B(self)\n",
    "\n",
    "        print(f\"A : {hex(id(self))} B : {hex(id(self.b))}\")\n",
    "\n",
    "# Here you can see instance variable of class A (b) references class B and similarly instance variable of Class B (a) references class A.\n"
   ]
  },
  {
   "cell_type": "code",
   "execution_count": 10,
   "id": "3565ae73",
   "metadata": {},
   "outputs": [],
   "source": [
    "# This function actually checks whether the object is present in memory or not.\n",
    "\n",
    "def object_by_id(object_id):\n",
    "    for obj in gc.get_objects():\n",
    "        if id(obj) == object_id:\n",
    "            return \"Object Exists\"\n",
    "        \n",
    "    return \"Not Found\"\n",
    "\n",
    "def ref_count(address):\n",
    "    return ctypes.c_long.from_address(address).value"
   ]
  },
  {
   "cell_type": "code",
   "execution_count": null,
   "id": "1c690e56",
   "metadata": {},
   "outputs": [
    {
     "name": "stdout",
     "output_type": "stream",
     "text": [
      "A : 0x24839bce3b0 B : 0x24839bce440\n",
      "A : 0x24839bce3b0 B : 0x24839bce440\n"
     ]
    }
   ],
   "source": [
    "# Now lets create an object for Class A which automatically creates an object for Class B and creates a circular reference here\n",
    "\n",
    "my_var = A()\n",
    "\n",
    "# In the output you can see object for class B is also created becuase we have an memory address for class B"
   ]
  },
  {
   "cell_type": "code",
   "execution_count": null,
   "id": "890d6657",
   "metadata": {},
   "outputs": [
    {
     "name": "stdout",
     "output_type": "stream",
     "text": [
      "0x24839bce3b0\n",
      "0x24839bce3b0\n"
     ]
    }
   ],
   "source": [
    "# Now u can see the cyclic references are created\n",
    "\n",
    "print(hex(id(my_var))) # Object of Class A\n",
    "print(hex(id(my_var.b.a))) # a -> Instance variable of Class B\n",
    "\n",
    "# SO from these we can see both my_var and a refers same memory address where class A is present."
   ]
  },
  {
   "cell_type": "code",
   "execution_count": 13,
   "id": "6fa47435",
   "metadata": {},
   "outputs": [
    {
     "name": "stdout",
     "output_type": "stream",
     "text": [
      "0x24839bce440\n",
      "0x24839bce440\n"
     ]
    }
   ],
   "source": [
    "\n",
    "# Similarly for class B. Eventhough we doesn't created an external object for class B, we have memory address for class B.\n",
    "\n",
    "# This is because instance variable of class A (b) referes class B.\n",
    "\n",
    "print(hex(id(my_var.b)))\n",
    "print(hex(id(my_var.b.a.b)))"
   ]
  },
  {
   "cell_type": "code",
   "execution_count": 14,
   "id": "4a06bdf3",
   "metadata": {},
   "outputs": [],
   "source": [
    "a_id = id(my_var)\n",
    "b_id = id(my_var.b)"
   ]
  },
  {
   "cell_type": "code",
   "execution_count": 16,
   "id": "b8c0385a",
   "metadata": {},
   "outputs": [
    {
     "name": "stdout",
     "output_type": "stream",
     "text": [
      "Reference Count of A : 2\n",
      "Reference Count of B : 1\n"
     ]
    }
   ],
   "source": [
    "# Now let's check reference count of each object\n",
    "\n",
    "print(f\"Reference Count of A : {ref_count(a_id)}\")\n",
    "print(f\"Reference Count of B : {ref_count(b_id)}\")"
   ]
  },
  {
   "cell_type": "code",
   "execution_count": 17,
   "id": "5d7b4de8",
   "metadata": {},
   "outputs": [
    {
     "name": "stdout",
     "output_type": "stream",
     "text": [
      "Reference Count of A : 1\n",
      "Reference Count of B : 1\n"
     ]
    }
   ],
   "source": [
    "# Now iam disabling the garbage collector in python and making my_var as None. \n",
    "# Now externally none of the classes has object. But still they have reference count as one because of circular references.\n",
    "\n",
    "gc.disable()\n",
    "\n",
    "my_var = None\n",
    "\n",
    "print(f\"Reference Count of A : {ref_count(a_id)}\")\n",
    "print(f\"Reference Count of B : {ref_count(b_id)}\")"
   ]
  },
  {
   "cell_type": "code",
   "execution_count": 18,
   "id": "a4a045a4",
   "metadata": {},
   "outputs": [
    {
     "name": "stdout",
     "output_type": "stream",
     "text": [
      " Object A is : Object Exists\n",
      " Object B is : Object Exists\n"
     ]
    }
   ],
   "source": [
    "# Now lets check whether objects exits in memory or not\n",
    "\n",
    "print(f\" Object A is : {object_by_id(a_id)}\")\n",
    "print(f\" Object B is : {object_by_id(b_id)}\")"
   ]
  },
  {
   "cell_type": "code",
   "execution_count": 19,
   "id": "bf0fe247",
   "metadata": {},
   "outputs": [
    {
     "name": "stdout",
     "output_type": "stream",
     "text": [
      " Object A is : Not Found\n",
      " Object B is : Not Found\n"
     ]
    }
   ],
   "source": [
    "# So now lets enable the garbage collector and then checks whether objects are existed or not\n",
    "\n",
    "gc.collect()\n",
    "\n",
    "print(f\" Object A is : {object_by_id(a_id)}\")\n",
    "print(f\" Object B is : {object_by_id(b_id)}\")"
   ]
  },
  {
   "cell_type": "code",
   "execution_count": 20,
   "id": "9321f986",
   "metadata": {},
   "outputs": [
    {
     "name": "stdout",
     "output_type": "stream",
     "text": [
      "Reference Count of A : 0\n",
      "Reference Count of B : 0\n"
     ]
    }
   ],
   "source": [
    "print(f\"Reference Count of A : {ref_count(a_id)}\")\n",
    "print(f\"Reference Count of B : {ref_count(b_id)}\")\n",
    "\n",
    "# From these outputs we can say garbage collector frees those two unreachable objects "
   ]
  },
  {
   "cell_type": "markdown",
   "id": "281264c4",
   "metadata": {},
   "source": [
    "## 4) Dynamic vs Static Typing\n",
    "\n",
    "- Python is dynamically typed language which means the type of the variable might be dynmaic where as in other languages the type of the variable is static which means once we have created a variable we cannot assign this variable with other data type value. \n",
    "\n",
    "- But in python we can easily reassign any variable with any type whenever we want. This is becuase variable in python are just memory references. They won't store any values (data) like other languages. They are just aliases to memory addresses. if you reassign a variable with new datatype then this variable references the newly created object.\n",
    "\n",
    "- For example if `a = \"Hello\"`. Here variable `a` references the object `\"Hello\"` . Now you reassign `a with 10`, now `a` references the newly created integer object `10` and the object `\"Hello\"` string gets deleted from memory if its reference count becomes zero."
   ]
  },
  {
   "cell_type": "code",
   "execution_count": 21,
   "id": "99b5124b",
   "metadata": {},
   "outputs": [
    {
     "name": "stdout",
     "output_type": "stream",
     "text": [
      "<class 'str'>\n",
      "<class 'int'>\n"
     ]
    }
   ],
   "source": [
    "my_var = \"Hello\"\n",
    "\n",
    "print(type(my_var))\n",
    "\n",
    "my_var = 10\n",
    "\n",
    "print(type(my_var))"
   ]
  },
  {
   "cell_type": "markdown",
   "id": "f5c30219",
   "metadata": {},
   "source": [
    "## 5) Variable Reassignment\n",
    "\n",
    "- As we know python actually deletes the previous object (if its reference count is zero) whenever you reassign the variable with new value. We generally think this occurs when we reasign it with new value. But actually this occurs when we increment the orignal varaible also.\n",
    "\n",
    "- Suppose `a = 10`. Now i made this operation `a = a + 10`. Here a new object gets created which is `20` and variable `a` starts referencing that new object `20` instead of changing the original object `10`. This is occured because intergers are immutable."
   ]
  },
  {
   "cell_type": "code",
   "execution_count": null,
   "id": "52eb4f82",
   "metadata": {},
   "outputs": [
    {
     "name": "stdout",
     "output_type": "stream",
     "text": [
      "2509153370640\n",
      "2509153370960\n"
     ]
    }
   ],
   "source": [
    "my_var = 10\n",
    "\n",
    "print(id(my_var))\n",
    "\n",
    "my_var = my_var + 10\n",
    "\n",
    "print(id(my_var))\n",
    "\n",
    "# Here you can see address of my_var in these two cases are different."
   ]
  },
  {
   "cell_type": "markdown",
   "id": "53afeaa3",
   "metadata": {},
   "source": [
    "## 6) Objects Mutability\n",
    "\n",
    "- In python every object has a type and internal state (which we call it as data). Changing the data inside the object is called changing the internal state of the object.\n",
    "\n",
    "- Mutability simply means changing the internal state of the data without creating the new object. So in case of mutable objects, we can change the data of that object but still that object stays in same memory address. Some of the mutable objects in python are Lists, Sets, Dictionaries, User - Defined Classes.\n",
    "\n",
    "- Whereas immutability is simply opposite to mutability which means we cannot change the internal state of the object without creating new object. If you try to change the internal state of the data a new object gets created and variable references the new object and original object stays in memory if its reference count is not zero. Some of the immutable objects are Numbers, Strings, Tuples, Frozen Sets etc. User Defined Classes can be considered as immutable and mutable also.\n"
   ]
  },
  {
   "cell_type": "code",
   "execution_count": 24,
   "id": "87c7aa33",
   "metadata": {},
   "outputs": [
    {
     "data": {
      "text/plain": [
       "2509230440704"
      ]
     },
     "execution_count": 24,
     "metadata": {},
     "output_type": "execute_result"
    }
   ],
   "source": [
    "# Consider an element list which is mutable\n",
    "\n",
    "my_list = [1,3,5]\n",
    "id(my_list)"
   ]
  },
  {
   "cell_type": "code",
   "execution_count": 25,
   "id": "3f44d744",
   "metadata": {},
   "outputs": [
    {
     "data": {
      "text/plain": [
       "2509230440704"
      ]
     },
     "execution_count": 25,
     "metadata": {},
     "output_type": "execute_result"
    }
   ],
   "source": [
    "my_list.append(7)\n",
    "id(my_list)\n",
    "\n",
    "# Below u can see the memory address is not changed. So new object is not created then list is mutable"
   ]
  },
  {
   "cell_type": "code",
   "execution_count": 26,
   "id": "71ba061f",
   "metadata": {},
   "outputs": [
    {
     "data": {
      "text/plain": [
       "2509230590784"
      ]
     },
     "execution_count": 26,
     "metadata": {},
     "output_type": "execute_result"
    }
   ],
   "source": [
    "# List is mutable to specific operations.Those are \n",
    "\n",
    "#  1) Changing the elements\n",
    "#  2) Adding or deleting the elements etc.\n",
    "\n",
    "# But in case of concatenation we can see a new list is created with '+' operator.\n",
    "\n",
    "\n",
    "my_list = my_list + [8]\n",
    "\n",
    "id(my_list)\n",
    "\n",
    "# Here u can see the address is different. So new object is created."
   ]
  },
  {
   "cell_type": "code",
   "execution_count": 27,
   "id": "83013afc",
   "metadata": {},
   "outputs": [
    {
     "name": "stdout",
     "output_type": "stream",
     "text": [
      "2509229937792\n",
      "2509229937792\n"
     ]
    }
   ],
   "source": [
    "# But with this operator '+=', list are mutable\n",
    "\n",
    "my_list1 = [1,2,3]\n",
    "print(id(my_list1))\n",
    "\n",
    "my_list1 += [8]\n",
    "\n",
    "print(id(my_list1))\n",
    "\n",
    "# In this type of concatenation new object is not created."
   ]
  },
  {
   "cell_type": "code",
   "execution_count": 28,
   "id": "c0bf6397",
   "metadata": {},
   "outputs": [
    {
     "data": {
      "text/plain": [
       "2509230226432"
      ]
     },
     "execution_count": 28,
     "metadata": {},
     "output_type": "execute_result"
    }
   ],
   "source": [
    "# Now consider tuple\n",
    "\n",
    "my_tuple = (1,2,3)\n",
    "id(my_tuple)"
   ]
  },
  {
   "cell_type": "code",
   "execution_count": 29,
   "id": "322bdfeb",
   "metadata": {},
   "outputs": [
    {
     "name": "stdout",
     "output_type": "stream",
     "text": [
      "(1, 2, 3, 4)\n",
      "2509230508688\n"
     ]
    }
   ],
   "source": [
    "my_tuple +=(4,)\n",
    "print(my_tuple)\n",
    "print(id(my_tuple))\n",
    "\n",
    "# Here u can see both memory addresses are different. So tuple is immutable i.e we cannot change the elements in it."
   ]
  },
  {
   "cell_type": "code",
   "execution_count": 30,
   "id": "13de58da",
   "metadata": {},
   "outputs": [
    {
     "name": "stdout",
     "output_type": "stream",
     "text": [
      "2509230443904\n",
      "([1, 2, 5], [3, 4, 6])\n",
      "2509230443904\n"
     ]
    }
   ],
   "source": [
    "# Eventhough tuple is immutable, we can't say elements in the cannot be changed. \n",
    "# If the elements in the tuple is mutable then tuple also mutable with respect to changing elements only not adding \n",
    "# or deleting  elements\n",
    "\n",
    "my_tuple1 = ([1,2],[3,4])\n",
    "print(id(my_tuple1))\n",
    "\n",
    "my_tuple1[0].append(5)\n",
    "my_tuple1[1].append(6)\n",
    "\n",
    "print(my_tuple1)\n",
    "print(id(my_tuple1))\n",
    "\n",
    "# Here u can address of the tuple object is same.So if in case of collections we can't say this collection is immutable\n",
    "# These cases might arise."
   ]
  },
  {
   "cell_type": "markdown",
   "id": "ad56934e",
   "metadata": {},
   "source": [
    "## 7) Shared References\n",
    "\n",
    "- Shared References is a concept where two variables referencing same object in memory. That means two variables have same memory addresses.\n",
    "\n",
    "- This is generally occurs when we equate two variables explicitly. That means consider `a = 10` and now we equate `b = a` which indicates `b` is also referencing the same memory address that `a` is referencing.\n",
    "\n",
    "- But in case of some strings and integers python automatically creates shared references if their internal state is equal. This occurs only certain strings and integers (These concepts are string interning and interger interning). This occurs because strings and integers are immutable. So they won't create any damage.\n",
    "\n",
    "- But if we consider lists python won't create shared references automatically eventhough they are equal. Becuase lists are mutable."
   ]
  },
  {
   "cell_type": "code",
   "execution_count": 31,
   "id": "c56ad34c",
   "metadata": {},
   "outputs": [
    {
     "data": {
      "text/plain": [
       "'0x248398687b0'"
      ]
     },
     "execution_count": 31,
     "metadata": {},
     "output_type": "execute_result"
    }
   ],
   "source": [
    "my_str1 = \"hello\"\n",
    "hex(id(my_str1))"
   ]
  },
  {
   "cell_type": "code",
   "execution_count": 32,
   "id": "1d8df177",
   "metadata": {},
   "outputs": [
    {
     "data": {
      "text/plain": [
       "'0x248398687b0'"
      ]
     },
     "execution_count": 32,
     "metadata": {},
     "output_type": "execute_result"
    }
   ],
   "source": [
    "my_str2 = \"hello\"\n",
    "hex(id(my_str2))\n",
    "\n",
    "# Here u can see memory address for both of them are same. Similarly for integers"
   ]
  },
  {
   "cell_type": "code",
   "execution_count": 33,
   "id": "df12aceb",
   "metadata": {},
   "outputs": [
    {
     "name": "stdout",
     "output_type": "stream",
     "text": [
      "0x24835320210\n",
      "0x24835320210\n"
     ]
    }
   ],
   "source": [
    "a = 10\n",
    "\n",
    "b = 10\n",
    "\n",
    "print(hex(id(a)))\n",
    "print(hex(id(b)))\n",
    "\n",
    "# For these two python automatically creates shared references. But we can explicitly creates shared references."
   ]
  },
  {
   "cell_type": "code",
   "execution_count": null,
   "id": "0046345c",
   "metadata": {},
   "outputs": [
    {
     "name": "stdout",
     "output_type": "stream",
     "text": [
      "0x24839cc54c0\n",
      "0x24839cc5180\n"
     ]
    }
   ],
   "source": [
    "a = [1,2,3]\n",
    "b = [1,2,3]\n",
    "\n",
    "\n",
    "print(hex(id(a)))\n",
    "print(hex(id(b)))\n",
    "\n",
    "# Here we can see python won't create shared references for lists. The reason is explained below."
   ]
  },
  {
   "cell_type": "code",
   "execution_count": 35,
   "id": "c337ec04",
   "metadata": {},
   "outputs": [
    {
     "name": "stdout",
     "output_type": "stream",
     "text": [
      "[1, 2, 3, 100]\n",
      "[1, 2, 3, 100]\n"
     ]
    }
   ],
   "source": [
    "# For mutable obects it is danger to create shared references.\n",
    "\n",
    "a = [1,2,3]\n",
    "\n",
    "b = a\n",
    "\n",
    "b.append(100)\n",
    "\n",
    "print(a)\n",
    "print(b)\n",
    "\n",
    "# Here u can see even if u change 'b', a is automatically getting changed. So that's why it is danger to create\n",
    "# shared references for mutable objects"
   ]
  },
  {
   "cell_type": "markdown",
   "id": "a3f00491",
   "metadata": {},
   "source": [
    "## 8) Variable Equality\n",
    "\n",
    "- In Python, Variable Equality includes two things :\n",
    "\n",
    "  1. Finding whether two variables share same memory address i.e two variable have same memory addresses or not.\n",
    "\n",
    "  2. Finding whether internal state of two variables are same or not.\n",
    "\n",
    "- To check whether two variables share same memory address, we actually use identity operator (`is`). This operator returns a boolean value which is True or False.\n",
    "\n",
    "  **Syntax** : `<variable1> is <variable2>`\n",
    "\n",
    "- To check whether two variables have same internal state (data), we use equality operator (`==`). \n",
    "\n",
    "  **Syntax** : `<variable1> == <variable2>`\n",
    "\n",
    "- In Python, if you set any variable to `None` then actually use shared references. Because python always store `None` object in its memory. It won't even delete this object from memory even though its reference count is zero. If you assign `None` to multiple variables then all the variable share same memory address."
   ]
  },
  {
   "cell_type": "code",
   "execution_count": 36,
   "id": "5d8f1584",
   "metadata": {},
   "outputs": [
    {
     "name": "stdout",
     "output_type": "stream",
     "text": [
      "a is b : True\n",
      "a == b : True\n"
     ]
    }
   ],
   "source": [
    "a = 10\n",
    "\n",
    "b = 10\n",
    "\n",
    "print('a is b :', a is b)\n",
    "\n",
    "print('a == b :', a == b)"
   ]
  },
  {
   "cell_type": "code",
   "execution_count": 37,
   "id": "17cc0c4c",
   "metadata": {},
   "outputs": [
    {
     "name": "stdout",
     "output_type": "stream",
     "text": [
      "a is b : False\n",
      "a == b : True\n"
     ]
    }
   ],
   "source": [
    "a = [1,2,3]\n",
    "b = [1,2,3]\n",
    "\n",
    "print('a is b :' ,a is b )\n",
    "print('a == b :', a == b)\n",
    "\n",
    "# Here memory address of two lists are not same but contents are same."
   ]
  },
  {
   "cell_type": "code",
   "execution_count": 38,
   "id": "9b5e839f",
   "metadata": {},
   "outputs": [
    {
     "name": "stdout",
     "output_type": "stream",
     "text": [
      "True\n"
     ]
    }
   ],
   "source": [
    "a = None \n",
    "b = None\n",
    "c = None\n",
    "\n",
    "print( (a is b) and (b is c) and (a is c) )"
   ]
  },
  {
   "cell_type": "markdown",
   "id": "08429e0c",
   "metadata": {},
   "source": [
    "## 9) Everything is an Object\n",
    "\n",
    "- In Python, we might encounter so many data types, such as Integers (`int`), Booleans (`bool`), Floats (`float`), Strings, Lists, Tuples etc and we might encounter so many constructors such as Operators (+,-,=,== etc.), Functions, Classes, Types (Data Types) and many more. Once common thing in all these is all of them are Objects. \n",
    "\n",
    "- Functions are instances of `function` class, Class is an instance `class` class. Types are instances of `type` class. To know which object belongs to which class we use `help(<type>)` function. Since all are objects and so we can say that all have memory addresses. \n",
    "\n",
    "- Since everything is an object we can assign anything to variables, like we can assign functions to variables and we can assign classes to variables etc."
   ]
  },
  {
   "cell_type": "code",
   "execution_count": 41,
   "id": "f99923d9",
   "metadata": {},
   "outputs": [
    {
     "name": "stdout",
     "output_type": "stream",
     "text": [
      "<class 'int'>\n"
     ]
    }
   ],
   "source": [
    "a = 10\n",
    "\n",
    "print(type(a))\n",
    "\n",
    "# Here we can see 'a' is instance of class 'int'"
   ]
  },
  {
   "cell_type": "code",
   "execution_count": 42,
   "id": "92c4435c",
   "metadata": {},
   "outputs": [
    {
     "name": "stdout",
     "output_type": "stream",
     "text": [
      "Help on class int in module builtins:\n",
      "\n",
      "class int(object)\n",
      " |  int([x]) -> integer\n",
      " |  int(x, base=10) -> integer\n",
      " |  \n",
      " |  Convert a number or string to an integer, or return 0 if no arguments\n",
      " |  are given.  If x is a number, return x.__int__().  For floating point\n",
      " |  numbers, this truncates towards zero.\n",
      " |  \n",
      " |  If x is not a number or if base is given, then x must be a string,\n",
      " |  bytes, or bytearray instance representing an integer literal in the\n",
      " |  given base.  The literal can be preceded by '+' or '-' and be surrounded\n",
      " |  by whitespace.  The base defaults to 10.  Valid bases are 0 and 2-36.\n",
      " |  Base 0 means to interpret the base from the string as an integer literal.\n",
      " |  >>> int('0b100', base=0)\n",
      " |  4\n",
      " |  \n",
      " |  Built-in subclasses:\n",
      " |      bool\n",
      " |  \n",
      " |  Methods defined here:\n",
      " |  \n",
      " |  __abs__(self, /)\n",
      " |      abs(self)\n",
      " |  \n",
      " |  __add__(self, value, /)\n",
      " |      Return self+value.\n",
      " |  \n",
      " |  __and__(self, value, /)\n",
      " |      Return self&value.\n",
      " |  \n",
      " |  __bool__(self, /)\n",
      " |      self != 0\n",
      " |  \n",
      " |  __ceil__(...)\n",
      " |      Ceiling of an Integral returns itself.\n",
      " |  \n",
      " |  __divmod__(self, value, /)\n",
      " |      Return divmod(self, value).\n",
      " |  \n",
      " |  __eq__(self, value, /)\n",
      " |      Return self==value.\n",
      " |  \n",
      " |  __float__(self, /)\n",
      " |      float(self)\n",
      " |  \n",
      " |  __floor__(...)\n",
      " |      Flooring an Integral returns itself.\n",
      " |  \n",
      " |  __floordiv__(self, value, /)\n",
      " |      Return self//value.\n",
      " |  \n",
      " |  __format__(self, format_spec, /)\n",
      " |      Default object formatter.\n",
      " |  \n",
      " |  __ge__(self, value, /)\n",
      " |      Return self>=value.\n",
      " |  \n",
      " |  __getattribute__(self, name, /)\n",
      " |      Return getattr(self, name).\n",
      " |  \n",
      " |  __getnewargs__(self, /)\n",
      " |  \n",
      " |  __gt__(self, value, /)\n",
      " |      Return self>value.\n",
      " |  \n",
      " |  __hash__(self, /)\n",
      " |      Return hash(self).\n",
      " |  \n",
      " |  __index__(self, /)\n",
      " |      Return self converted to an integer, if self is suitable for use as an index into a list.\n",
      " |  \n",
      " |  __int__(self, /)\n",
      " |      int(self)\n",
      " |  \n",
      " |  __invert__(self, /)\n",
      " |      ~self\n",
      " |  \n",
      " |  __le__(self, value, /)\n",
      " |      Return self<=value.\n",
      " |  \n",
      " |  __lshift__(self, value, /)\n",
      " |      Return self<<value.\n",
      " |  \n",
      " |  __lt__(self, value, /)\n",
      " |      Return self<value.\n",
      " |  \n",
      " |  __mod__(self, value, /)\n",
      " |      Return self%value.\n",
      " |  \n",
      " |  __mul__(self, value, /)\n",
      " |      Return self*value.\n",
      " |  \n",
      " |  __ne__(self, value, /)\n",
      " |      Return self!=value.\n",
      " |  \n",
      " |  __neg__(self, /)\n",
      " |      -self\n",
      " |  \n",
      " |  __or__(self, value, /)\n",
      " |      Return self|value.\n",
      " |  \n",
      " |  __pos__(self, /)\n",
      " |      +self\n",
      " |  \n",
      " |  __pow__(self, value, mod=None, /)\n",
      " |      Return pow(self, value, mod).\n",
      " |  \n",
      " |  __radd__(self, value, /)\n",
      " |      Return value+self.\n",
      " |  \n",
      " |  __rand__(self, value, /)\n",
      " |      Return value&self.\n",
      " |  \n",
      " |  __rdivmod__(self, value, /)\n",
      " |      Return divmod(value, self).\n",
      " |  \n",
      " |  __repr__(self, /)\n",
      " |      Return repr(self).\n",
      " |  \n",
      " |  __rfloordiv__(self, value, /)\n",
      " |      Return value//self.\n",
      " |  \n",
      " |  __rlshift__(self, value, /)\n",
      " |      Return value<<self.\n",
      " |  \n",
      " |  __rmod__(self, value, /)\n",
      " |      Return value%self.\n",
      " |  \n",
      " |  __rmul__(self, value, /)\n",
      " |      Return value*self.\n",
      " |  \n",
      " |  __ror__(self, value, /)\n",
      " |      Return value|self.\n",
      " |  \n",
      " |  __round__(...)\n",
      " |      Rounding an Integral returns itself.\n",
      " |      \n",
      " |      Rounding with an ndigits argument also returns an integer.\n",
      " |  \n",
      " |  __rpow__(self, value, mod=None, /)\n",
      " |      Return pow(value, self, mod).\n",
      " |  \n",
      " |  __rrshift__(self, value, /)\n",
      " |      Return value>>self.\n",
      " |  \n",
      " |  __rshift__(self, value, /)\n",
      " |      Return self>>value.\n",
      " |  \n",
      " |  __rsub__(self, value, /)\n",
      " |      Return value-self.\n",
      " |  \n",
      " |  __rtruediv__(self, value, /)\n",
      " |      Return value/self.\n",
      " |  \n",
      " |  __rxor__(self, value, /)\n",
      " |      Return value^self.\n",
      " |  \n",
      " |  __sizeof__(self, /)\n",
      " |      Returns size in memory, in bytes.\n",
      " |  \n",
      " |  __sub__(self, value, /)\n",
      " |      Return self-value.\n",
      " |  \n",
      " |  __truediv__(self, value, /)\n",
      " |      Return self/value.\n",
      " |  \n",
      " |  __trunc__(...)\n",
      " |      Truncating an Integral returns itself.\n",
      " |  \n",
      " |  __xor__(self, value, /)\n",
      " |      Return self^value.\n",
      " |  \n",
      " |  as_integer_ratio(self, /)\n",
      " |      Return integer ratio.\n",
      " |      \n",
      " |      Return a pair of integers, whose ratio is exactly equal to the original int\n",
      " |      and with a positive denominator.\n",
      " |      \n",
      " |      >>> (10).as_integer_ratio()\n",
      " |      (10, 1)\n",
      " |      >>> (-10).as_integer_ratio()\n",
      " |      (-10, 1)\n",
      " |      >>> (0).as_integer_ratio()\n",
      " |      (0, 1)\n",
      " |  \n",
      " |  bit_count(self, /)\n",
      " |      Number of ones in the binary representation of the absolute value of self.\n",
      " |      \n",
      " |      Also known as the population count.\n",
      " |      \n",
      " |      >>> bin(13)\n",
      " |      '0b1101'\n",
      " |      >>> (13).bit_count()\n",
      " |      3\n",
      " |  \n",
      " |  bit_length(self, /)\n",
      " |      Number of bits necessary to represent self in binary.\n",
      " |      \n",
      " |      >>> bin(37)\n",
      " |      '0b100101'\n",
      " |      >>> (37).bit_length()\n",
      " |      6\n",
      " |  \n",
      " |  conjugate(...)\n",
      " |      Returns self, the complex conjugate of any int.\n",
      " |  \n",
      " |  to_bytes(self, /, length, byteorder, *, signed=False)\n",
      " |      Return an array of bytes representing an integer.\n",
      " |      \n",
      " |      length\n",
      " |        Length of bytes object to use.  An OverflowError is raised if the\n",
      " |        integer is not representable with the given number of bytes.\n",
      " |      byteorder\n",
      " |        The byte order used to represent the integer.  If byteorder is 'big',\n",
      " |        the most significant byte is at the beginning of the byte array.  If\n",
      " |        byteorder is 'little', the most significant byte is at the end of the\n",
      " |        byte array.  To request the native byte order of the host system, use\n",
      " |        `sys.byteorder' as the byte order value.\n",
      " |      signed\n",
      " |        Determines whether two's complement is used to represent the integer.\n",
      " |        If signed is False and a negative integer is given, an OverflowError\n",
      " |        is raised.\n",
      " |  \n",
      " |  ----------------------------------------------------------------------\n",
      " |  Class methods defined here:\n",
      " |  \n",
      " |  from_bytes(bytes, byteorder, *, signed=False) from builtins.type\n",
      " |      Return the integer represented by the given array of bytes.\n",
      " |      \n",
      " |      bytes\n",
      " |        Holds the array of bytes to convert.  The argument must either\n",
      " |        support the buffer protocol or be an iterable object producing bytes.\n",
      " |        Bytes and bytearray are examples of built-in objects that support the\n",
      " |        buffer protocol.\n",
      " |      byteorder\n",
      " |        The byte order used to represent the integer.  If byteorder is 'big',\n",
      " |        the most significant byte is at the beginning of the byte array.  If\n",
      " |        byteorder is 'little', the most significant byte is at the end of the\n",
      " |        byte array.  To request the native byte order of the host system, use\n",
      " |        `sys.byteorder' as the byte order value.\n",
      " |      signed\n",
      " |        Indicates whether two's complement is used to represent the integer.\n",
      " |  \n",
      " |  ----------------------------------------------------------------------\n",
      " |  Static methods defined here:\n",
      " |  \n",
      " |  __new__(*args, **kwargs) from builtins.type\n",
      " |      Create and return a new object.  See help(type) for accurate signature.\n",
      " |  \n",
      " |  ----------------------------------------------------------------------\n",
      " |  Data descriptors defined here:\n",
      " |  \n",
      " |  denominator\n",
      " |      the denominator of a rational number in lowest terms\n",
      " |  \n",
      " |  imag\n",
      " |      the imaginary part of a complex number\n",
      " |  \n",
      " |  numerator\n",
      " |      the numerator of a rational number in lowest terms\n",
      " |  \n",
      " |  real\n",
      " |      the real part of a complex number\n",
      "\n"
     ]
    }
   ],
   "source": [
    "# To get the int class we use this help function.\n",
    "help(int)"
   ]
  },
  {
   "cell_type": "code",
   "execution_count": 43,
   "id": "9e13943d",
   "metadata": {},
   "outputs": [],
   "source": [
    "# Now, lets see about functions\n",
    "\n",
    "def square(a):\n",
    "\n",
    "    return a**2"
   ]
  },
  {
   "cell_type": "code",
   "execution_count": 44,
   "id": "0bf1b36c",
   "metadata": {},
   "outputs": [
    {
     "name": "stdout",
     "output_type": "stream",
     "text": [
      "<class 'function'>\n"
     ]
    }
   ],
   "source": [
    "# If you see type(square) it will return <class 'function'>\n",
    "\n",
    "print(type(square))\n",
    "\n",
    "# So we can see function is also an object. We can assign it to another variable"
   ]
  },
  {
   "cell_type": "code",
   "execution_count": 45,
   "id": "ea85d063",
   "metadata": {},
   "outputs": [
    {
     "data": {
      "text/plain": [
       "4"
      ]
     },
     "execution_count": 45,
     "metadata": {},
     "output_type": "execute_result"
    }
   ],
   "source": [
    "square(2)"
   ]
  },
  {
   "cell_type": "code",
   "execution_count": 46,
   "id": "c1d644f4",
   "metadata": {},
   "outputs": [
    {
     "data": {
      "text/plain": [
       "4"
      ]
     },
     "execution_count": 46,
     "metadata": {},
     "output_type": "execute_result"
    }
   ],
   "source": [
    "f = square\n",
    "\n",
    "f(2)"
   ]
  },
  {
   "cell_type": "code",
   "execution_count": 47,
   "id": "b0eb9d48",
   "metadata": {},
   "outputs": [],
   "source": [
    "# Now lets see how to return functions\n",
    "\n",
    "def cube(a):\n",
    "\n",
    "    return a**3"
   ]
  },
  {
   "cell_type": "code",
   "execution_count": 48,
   "id": "0780b104",
   "metadata": {},
   "outputs": [],
   "source": [
    "def select_function(fun_id):\n",
    "\n",
    "    if fun_id == 1:\n",
    "        return square\n",
    "    else :\n",
    "        return cube"
   ]
  },
  {
   "cell_type": "code",
   "execution_count": 49,
   "id": "22d266fc",
   "metadata": {},
   "outputs": [
    {
     "data": {
      "text/plain": [
       "4"
      ]
     },
     "execution_count": 49,
     "metadata": {},
     "output_type": "execute_result"
    }
   ],
   "source": [
    "f = select_function(1)\n",
    "\n",
    "f(2)"
   ]
  },
  {
   "cell_type": "code",
   "execution_count": 50,
   "id": "667cc9f7",
   "metadata": {},
   "outputs": [
    {
     "data": {
      "text/plain": [
       "4"
      ]
     },
     "execution_count": 50,
     "metadata": {},
     "output_type": "execute_result"
    }
   ],
   "source": [
    "select_function(1)(2)"
   ]
  },
  {
   "cell_type": "code",
   "execution_count": 51,
   "id": "97095343",
   "metadata": {},
   "outputs": [],
   "source": [
    "# Now lets see how to pass functions to functions\n",
    "\n",
    "def do(func, n):\n",
    "\n",
    "    return func(n)"
   ]
  },
  {
   "cell_type": "code",
   "execution_count": 52,
   "id": "22d89000",
   "metadata": {},
   "outputs": [
    {
     "data": {
      "text/plain": [
       "25"
      ]
     },
     "execution_count": 52,
     "metadata": {},
     "output_type": "execute_result"
    }
   ],
   "source": [
    "do(square,5)"
   ]
  },
  {
   "cell_type": "code",
   "execution_count": 53,
   "id": "40b76b96",
   "metadata": {},
   "outputs": [
    {
     "data": {
      "text/plain": [
       "125"
      ]
     },
     "execution_count": 53,
     "metadata": {},
     "output_type": "execute_result"
    }
   ],
   "source": [
    "do(cube,5)"
   ]
  },
  {
   "cell_type": "markdown",
   "id": "aa9ca0e1",
   "metadata": {},
   "source": [
    "## 10) Integer Interning\n",
    "\n",
    "- Interning simply means reusing the objects on demand. At startup, python preloads a global list of integers in the range of [-5,256]. Anytime an integer is referenced in that range, python will find the cached version of that object. That means all the integers in that range are stored as objects by default in python. \n",
    "\n",
    "- That means when assign an integer 10 to variable `a` (a = 10), then python makes variable `a` to refer the existing object of integer `10`.\n",
    "\n",
    "- Suppose if we assign `a = 257` then python create a new integer object i.e 257 and makes `a` to refer the new object.\n",
    "\n",
    "- We might get a doubt, even though integers are immutable objects why can't we make shared references if two integers are equal. This might be a better optimization strategy. But python won't do it. Consider a tuple of lists. Here tuples are immutable. so we think we cannot change the values of it. But lists are mutable. So we can refer list in the tuple and change the values in it. Now you can see the internal state of tuple got changed. So sometimes immutable objects can be mutable if they contains mutable object. That's why python won't create shared memory referen ces to immutable objects eventhough their internal state is same."
   ]
  },
  {
   "cell_type": "code",
   "execution_count": 54,
   "id": "36697c69",
   "metadata": {},
   "outputs": [
    {
     "name": "stdout",
     "output_type": "stream",
     "text": [
      "2509153370640 2509153370640\n"
     ]
    }
   ],
   "source": [
    "a = 10\n",
    "b = 10\n",
    "\n",
    "print(id(a), id(b))\n",
    "\n",
    "# we can see both are same. Since python won't create new object for them."
   ]
  },
  {
   "cell_type": "code",
   "execution_count": null,
   "id": "bd28c5fb",
   "metadata": {},
   "outputs": [
    {
     "name": "stdout",
     "output_type": "stream",
     "text": [
      "2509251921744 2509251935984\n"
     ]
    }
   ],
   "source": [
    "a = 257\n",
    "b = 257\n",
    "\n",
    "print(id(a),id(b))\n",
    "\n",
    "# Here you can see python doesn't create shared memory for both 'a' and 'b'.\n"
   ]
  },
  {
   "cell_type": "markdown",
   "id": "824e650e",
   "metadata": {},
   "source": [
    "## 11) String Interning\n",
    "\n",
    "- String Interning is also same as Integer Interning. That means python reuses te strings on demand. Some strings are automatically interned not all. Such as when python code is compiled, identifiers such as Variables, Functions, Classes names got interned. \n",
    "\n",
    "- Some strings literals gets automatically interned if they follow these rules :\n",
    "\n",
    "  1. String literals that look like identifiers -> That means if they follow conventions of identifiers.\n",
    "  2. Although if it starts with a digit and still it is not a valid identifier, it may still get interned. Because we have explicit interning.\n",
    "\n",
    "- The reason behind why python do this is because of speed and memory optimization. Python, both internally , and in the code you write , deals with lots and lots of dictionary type lookups on string keys , which means a lot  of string equality testing.\n",
    "\n",
    "- Let's say we want to see if you want to check whether two strings are equal: a = 'Some_Long_String'  b = 'Some_Long_String'. Using a == b, we need to compare  the two string charecter by charecter. But if we know that 'Some_Long_String' has been interned , then a and b  are the same string and they both point to the same memory address. In this case we use 'a is b' syntax which compares only two integers(memory addresses). So that we can decrease comparision operations. \n",
    "\n",
    "- For every string `==` operator compares charecter by charecter but if python know if two strings are interned then instead of checking charecter by charecter it actually first perfroms `is` (identity) operator. And this interning is useful for compilers because in code there may be many identifiers that are repeated more than once like if, from, else etc. So instead of storing each identifier seperately python uses these string interning concept there to reduce memory usage.\n",
    "\n",
    "- Python automatically intern few string only if they follow some conventions. But to make string interned explicitly we just use sys module which has a method called intern.\n",
    "\n",
    "  **Syntax** : `sys.intern(<String>)`"
   ]
  },
  {
   "cell_type": "code",
   "execution_count": 56,
   "id": "c3ba719e",
   "metadata": {},
   "outputs": [
    {
     "name": "stdout",
     "output_type": "stream",
     "text": [
      "2509226018736 2509226018736\n"
     ]
    }
   ],
   "source": [
    "a = \"hello\"\n",
    "b = \"hello\"\n",
    "\n",
    "print(id(a),id(b))\n",
    "\n",
    "# Here u can see both a and b have same addresses. Because those string literal 'hello' follows identifier naming \n",
    "# coventions."
   ]
  },
  {
   "cell_type": "code",
   "execution_count": 57,
   "id": "5dded853",
   "metadata": {},
   "outputs": [
    {
     "name": "stdout",
     "output_type": "stream",
     "text": [
      "2509252274352 2509252273840\n"
     ]
    }
   ],
   "source": [
    "a = 'hello world'\n",
    "b = 'hello world'\n",
    "\n",
    "print(id(a),id(b))\n",
    "\n",
    "# Here u can see both address are different. Because if space is there between words, then it is not an identifier."
   ]
  },
  {
   "cell_type": "code",
   "execution_count": 58,
   "id": "7e9ed243",
   "metadata": {},
   "outputs": [
    {
     "name": "stdout",
     "output_type": "stream",
     "text": [
      "2509252403760 2509252403760\n"
     ]
    }
   ],
   "source": [
    "a = 'hello_world'\n",
    "b = 'hello_world'\n",
    "\n",
    "print(id(a),id(b))"
   ]
  },
  {
   "cell_type": "code",
   "execution_count": 59,
   "id": "5153e1af",
   "metadata": {},
   "outputs": [
    {
     "name": "stdout",
     "output_type": "stream",
     "text": [
      "2509252407088 2509252407088\n"
     ]
    }
   ],
   "source": [
    "# To make strings interned we use sys module\n",
    "\n",
    "import sys\n",
    "\n",
    "a = sys.intern('hello world')\n",
    "b = sys.intern('hello world')\n",
    "\n",
    "print(id(a),id(b))\n"
   ]
  },
  {
   "cell_type": "markdown",
   "id": "e86e3334",
   "metadata": {},
   "source": [
    "## Summary\n",
    "\n",
    "- In Python, variables are just references to the memory addresses where actual data is stored. i.e they are just aliases to memory addresses.\n",
    "\n",
    "- Python uses both reference count method and garbage collector to remove the unnecessary objects from te memory. I mean if reference count of any object gets zero then python will free up that memory and may use it for other processes. To get the reference count we use two methods one is `sys.getrefcount()` and another one is `ctypes.c_long.from_address(id(variable)).value`\n",
    "\n",
    "- Python is dynamically typed language which means python won't force a variable to store only particaular data types. \n",
    "\n",
    "- In Python we have two types of objects Mutable and Immutable. Mutable Objects mean we can change the internal state of the object without creating new object. Immutable objects are just opposite to mutable objects.\n",
    "\n",
    "- In Python, we use `is`(identity) and `==` (equality) operator to check the variable equality. Everything we code in python is an object.\n",
    "\n",
    "- Python use an optimization technique called interning to effectively use memory and computational resources.\n"
   ]
  }
 ],
 "metadata": {
  "kernelspec": {
   "display_name": "Python",
   "language": "python",
   "name": "python3"
  },
  "language_info": {
   "codemirror_mode": {
    "name": "ipython",
    "version": 3
   },
   "file_extension": ".py",
   "mimetype": "text/x-python",
   "name": "python",
   "nbconvert_exporter": "python",
   "pygments_lexer": "ipython3",
   "version": "3.10.0"
  }
 },
 "nbformat": 4,
 "nbformat_minor": 5
}
