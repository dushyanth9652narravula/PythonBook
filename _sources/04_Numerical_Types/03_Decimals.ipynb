{
 "cells": [
  {
   "cell_type": "markdown",
   "id": "883cbad2",
   "metadata": {},
   "source": [
    "# Decimals"
   ]
  },
  {
   "cell_type": "markdown",
   "id": "70d9be24",
   "metadata": {},
   "source": [
    "## Need of Decimal Module\n",
    "\n",
    "1. In python we have two data types to represent decimal numbers. Those are Float and Decimal Module. Floats simply converts decimal numbers into binary numbers and then store them into the memory. But there are some disadvantages with with floating point numbers.\n",
    "\n",
    "   - Floating Point Numbers are not exact. We know that some of the numbers have finite decimal representation but have infinite binary representation. \n",
    "\n",
    "     **Ex** : $(0.1)_{10}$ -> finite decimal expansion\n",
    "\n",
    "    <span style=\"margin-left: 73px;\"></span> $(0.1)_{2}$ -> infinite binary representation\n",
    "\n",
    "   - Consider a bank where we need to add up all the financial transactions that took place in a particular time period. The amount is 100.01. But float data type stores it as 100.010000000000051159076975. Now we need to add this amount 1 billion times, then the amount we need to get is 100010000000.0 (exact decimal). But the we might get is 100009998761.1463928222656. Here we have got $1238.85 less which is relatively small (% difference is small) but absolute difference is large.\n",
    "\n",
    "   - To overcome all these issues we use decimal module in python"
   ]
  },
  {
   "cell_type": "markdown",
   "id": "c3866cb8",
   "metadata": {},
   "source": [
    "## Decimal Module\n",
    "\n",
    "1. In python, decimal data type has context that controls certain aspects of working with decimals. It actually controls precision of rounding algorithm used while dealing with decimal datatype. While declaring decimals, we actually set precision and rounding. \n",
    "\n",
    "   **Precision** : Precision generally means how many numbers we need after a decimal point i.e how accurately we need to represent the decimal values\n",
    "\n",
    "   **Rounding Algorithm** :  There are generally diiferent rounding algorithms in python those are the following.\n",
    "\n",
    "   - `ROUND_UP`        : rounds away from zero.\n",
    "   - `ROUND_DOWN`      : rounds towards zero.\n",
    "   - `ROUND_CEILING`   : rounds to ceiling (towards +inf)\n",
    "   - `ROUND_FLOOR`     : rounds to floor (towars -inf)\n",
    "   - `ROUND_HALF_UP`   : rounds to nearest, ties away from zero.\n",
    "   - `ROUND_HALF_DOWN` : rounds to nearest, ties toward zero.\n",
    "   - `ROUND_HALF_EVEN` : rounds to nearest, ties to even (least significant digit is even)\n",
    "\n",
    "2. Generally decimals have two contexts. One is `Global Context` which is default context. Second One is `Local Context` which is used to set the temporary settings locally without effecting global settings. Generally we set the gloable context at top, if we need some other precision or rounding algorithm for particular calculations we actually set these by using local context.\n",
    "\n",
    "3. To set global context we actually use `decimal.getcontext()` and if you want to set local context we use `decimal.localcontext(ctx=None)` which actually copies the context from ctx and apply the changes the original context manager. If ctx is None it actually copies global context and apply changes such as precison and rounding algorithm."
   ]
  },
  {
   "cell_type": "code",
   "execution_count": 1,
   "id": "34434988",
   "metadata": {},
   "outputs": [],
   "source": [
    "# Now lets implement decimal module\n",
    "\n",
    "import decimal\n",
    "\n",
    "from decimal import Decimal"
   ]
  },
  {
   "cell_type": "code",
   "execution_count": null,
   "id": "8de4ee45",
   "metadata": {},
   "outputs": [
    {
     "data": {
      "text/plain": [
       "Context(prec=28, rounding=ROUND_HALF_EVEN, Emin=-999999, Emax=999999, capitals=1, clamp=0, flags=[], traps=[InvalidOperation, DivisionByZero, Overflow])"
      ]
     },
     "execution_count": 2,
     "metadata": {},
     "output_type": "execute_result"
    }
   ],
   "source": [
    "# decimal.getcontext() method actually copies the default context of python and returns it. We actually cange this context.\n",
    "\n",
    "g_ctx = decimal.getcontext()\n",
    "g_ctx"
   ]
  },
  {
   "cell_type": "code",
   "execution_count": 3,
   "id": "874c6733",
   "metadata": {},
   "outputs": [
    {
     "name": "stdout",
     "output_type": "stream",
     "text": [
      "28\n",
      "ROUND_HALF_EVEN\n"
     ]
    }
   ],
   "source": [
    "# Now lets see what is default precision and rounding algorithm\n",
    "\n",
    "print(g_ctx.prec)\n",
    "print(g_ctx.rounding)"
   ]
  },
  {
   "cell_type": "code",
   "execution_count": 4,
   "id": "88381763",
   "metadata": {},
   "outputs": [
    {
     "data": {
      "text/plain": [
       "Context(prec=6, rounding=ROUND_HALF_UP, Emin=-999999, Emax=999999, capitals=1, clamp=0, flags=[], traps=[InvalidOperation, DivisionByZero, Overflow])"
      ]
     },
     "execution_count": 4,
     "metadata": {},
     "output_type": "execute_result"
    }
   ],
   "source": [
    "# Now lets cange the precision and rounding algorithm of global context\n",
    "\n",
    "g_ctx.prec = 6\n",
    "\n",
    "g_ctx.rounding = decimal.ROUND_HALF_UP\n",
    "\n",
    "g_ctx"
   ]
  },
  {
   "cell_type": "code",
   "execution_count": null,
   "id": "18be6b49",
   "metadata": {},
   "outputs": [
    {
     "name": "stdout",
     "output_type": "stream",
     "text": [
      "<decimal.ContextManager object at 0x000001E4FAAC8730>\n"
     ]
    }
   ],
   "source": [
    "# Now lets see the local context and how we actually change the decimal settings in local context\n",
    "\n",
    "ctx = decimal.localcontext() # it actually retured a context manager. We need use with statement to check the settings in it\n",
    "\n",
    "print(ctx)"
   ]
  },
  {
   "cell_type": "code",
   "execution_count": null,
   "id": "52eb93d7",
   "metadata": {},
   "outputs": [
    {
     "name": "stdout",
     "output_type": "stream",
     "text": [
      "Precision of directly copied decimal context :  6\n",
      "Rounding algorithm of directly copied context : ROUND_HALF_UP\n",
      "Precision of local decimal context :  10\n",
      "Rounding algorithm of local decimal context : ROUND_FLOOR\n"
     ]
    }
   ],
   "source": [
    "with ctx as l_ctx:\n",
    "\n",
    "    # Now lets print what context it actually copied if we wont sprecify any decimal context\n",
    "    print(\"Precision of directly copied decimal context : \",l_ctx.prec)\n",
    "    print(\"Rounding algorithm of directly copied context :\", l_ctx.rounding)\n",
    "\n",
    "    # Now lets change the precision and rounding algorithm\n",
    "\n",
    "    l_ctx.prec = 10\n",
    "    l_ctx.rounding = decimal.ROUND_FLOOR\n",
    "\n",
    "    print(\"Precision of local decimal context : \",l_ctx.prec)\n",
    "    print(\"Rounding algorithm of local decimal context :\", l_ctx.rounding)\n",
    "\n",
    "    # Changes might be applied to calculations within the with statement. \n",
    "\n",
    "    # From the output we can see it actually copied global contex initially if we won't specify ctx \n"
   ]
  },
  {
   "cell_type": "code",
   "execution_count": 8,
   "id": "e505afa2",
   "metadata": {},
   "outputs": [
    {
     "name": "stdout",
     "output_type": "stream",
     "text": [
      "1.3500000000000000000000000\n"
     ]
    }
   ],
   "source": [
    "# Now lets see how decimal accurately represents the floating point numbers when compared to floats.\n",
    "\n",
    "x = Decimal('1.35')\n",
    "print(f\"{x:.25f}\")"
   ]
  },
  {
   "cell_type": "code",
   "execution_count": null,
   "id": "5cc8a2c9",
   "metadata": {},
   "outputs": [
    {
     "name": "stdout",
     "output_type": "stream",
     "text": [
      "1.3500000000000000888178420\n"
     ]
    }
   ],
   "source": [
    "x = 1.35 # By default python represent it as float\n",
    "print(f\"{x:.25f}\")\n",
    "\n",
    "# From the ouput we can see the difference between float and decimal module representation of floating point numbers."
   ]
  },
  {
   "cell_type": "markdown",
   "id": "348ee602",
   "metadata": {},
   "source": [
    "## Decimal Constructors and Contexts\n",
    "\n",
    "1. Decimal Objects can be constructed by using decimal class in decimal module. \n",
    "\n",
    "   **Syntax** : Decimal(x) where x can be any data type.\n",
    "\n",
    "   Mostly we pass strings or integers. If we pass floats as input then decimal won't represent it accurately. Since floats are not too accurate then passing inaccurate results to decimal produces the inaccurate representations of the numbers.\n",
    "\n",
    "   Here x can be tuple also. But tuple structure must be like this (sign,digits,place_of_decimal)\n",
    "\n",
    "   If sign = 0 then it is positive number otherwise negative number. Digits must be passed a tuple such as (3,1,4,5,6). Place_of_decimal must be negative if it is -4 then we it place deimal point at 4th position from right side.\n",
    "\n",
    "   (1,(3,1,4,5,6),-4) -> -3.1456\n",
    "\n",
    "2. We know that we will have a default precision and rounding set for Decimals. But that precision doesn't effects the way of storing the decimals. It only effects the arithmetic Operations. Suppose the precsion is 2, Now we are sotring'0.12345' as Decimal, then it would store as 0.12345 only. Here precision doesn't effect the way of decimal is created. If you want to add 0.12345 + 0.12345 the actual answer, you need to get is 0.2649. But for this precision, You will get answer as 0.25 . Because here precsion is 2, so after addition , the result gets roundoff to 2 decimals\n",
    "\n",
    "   "
   ]
  },
  {
   "cell_type": "code",
   "execution_count": 10,
   "id": "d4498d78",
   "metadata": {},
   "outputs": [
    {
     "data": {
      "text/plain": [
       "(Decimal('10'), Decimal('12'))"
      ]
     },
     "execution_count": 10,
     "metadata": {},
     "output_type": "execute_result"
    }
   ],
   "source": [
    "# Now lets create some decimals by using the Decimal Class.\n",
    "\n",
    "# 1) Lets start with Integers\n",
    "\n",
    "a = Decimal(10)\n",
    "\n",
    "b = Decimal(12)\n",
    "\n",
    "a,b"
   ]
  },
  {
   "cell_type": "code",
   "execution_count": 11,
   "id": "a551aec6",
   "metadata": {},
   "outputs": [
    {
     "data": {
      "text/plain": [
       "(Decimal('0.12345'), Decimal('10'))"
      ]
     },
     "execution_count": 11,
     "metadata": {},
     "output_type": "execute_result"
    }
   ],
   "source": [
    "# Lets do with strings\n",
    "\n",
    "a = Decimal('0.12345')\n",
    "\n",
    "b = Decimal('10')\n",
    "\n",
    "a,b"
   ]
  },
  {
   "cell_type": "code",
   "execution_count": 12,
   "id": "6dab448c",
   "metadata": {},
   "outputs": [
    {
     "data": {
      "text/plain": [
       "Decimal('34.567')"
      ]
     },
     "execution_count": 12,
     "metadata": {},
     "output_type": "execute_result"
    }
   ],
   "source": [
    "# Now lets how we can create decimal with tuples\n",
    "\n",
    "a = Decimal((0,(3,4,5,6,7),-3)) # It would result 34.567\n",
    "\n",
    "a"
   ]
  },
  {
   "cell_type": "code",
   "execution_count": 13,
   "id": "696b6020",
   "metadata": {},
   "outputs": [
    {
     "data": {
      "text/plain": [
       "Decimal('-3.4567')"
      ]
     },
     "execution_count": 13,
     "metadata": {},
     "output_type": "execute_result"
    }
   ],
   "source": [
    "b = Decimal((1,(3,4,5,6,7),-4)) # It would result -3.4567\n",
    "\n",
    "b"
   ]
  },
  {
   "cell_type": "code",
   "execution_count": 14,
   "id": "45323542",
   "metadata": {},
   "outputs": [
    {
     "data": {
      "text/plain": [
       "Decimal('0.1000000000000000055511151231257827021181583404541015625')"
      ]
     },
     "execution_count": 14,
     "metadata": {},
     "output_type": "execute_result"
    }
   ],
   "source": [
    "# We know that we donot use floats for creating decimals, becuase floats are inacccurate. \n",
    "\n",
    "a = Decimal(0.1)\n",
    "\n",
    "a"
   ]
  },
  {
   "cell_type": "code",
   "execution_count": 15,
   "id": "78eb8840",
   "metadata": {},
   "outputs": [
    {
     "data": {
      "text/plain": [
       "False"
      ]
     },
     "execution_count": 15,
     "metadata": {},
     "output_type": "execute_result"
    }
   ],
   "source": [
    "# You can see the deciamal that created for float argument is inaccurate.The float 0.1 itself cannot be stored \n",
    "# accurately\n",
    "\n",
    "Decimal(0.1) == Decimal('0.1')"
   ]
  },
  {
   "cell_type": "code",
   "execution_count": 16,
   "id": "7562d1ba",
   "metadata": {},
   "outputs": [
    {
     "name": "stdout",
     "output_type": "stream",
     "text": [
      "0.123456 0.123456\n",
      "0.2469\n",
      "In Local Context 0.25\n",
      "0.25\n"
     ]
    }
   ],
   "source": [
    "# Now lets see how precsion effects the arithmetic operations\n",
    "\n",
    "decimal. getcontext().prec = 4\n",
    "\n",
    "a = Decimal('0.123456')\n",
    "b = Decimal('0.123456')\n",
    "\n",
    "print(a,b)\n",
    "\n",
    "print(a+b)\n",
    "\n",
    "with decimal.localcontext() as ctx:\n",
    "\n",
    "    decimal.getcontext().prec = 2\n",
    "\n",
    "    c = a+b\n",
    "\n",
    "    print(\"In Local Context {0}\".format(c))\n",
    "\n",
    "print(c)"
   ]
  },
  {
   "cell_type": "markdown",
   "id": "67654e27",
   "metadata": {},
   "source": [
    "## Decimal Math Operations\n",
    "\n",
    "- All Math operations are same for both normal integers and decimal integers. But the only difference occurs with two operators only. Tose are floor division (`//`) and modulo operator(` % `).\n",
    "\n",
    "- Because for decimals ints floor divison (`a//b`) does trun(a/b) which means it actually returns integral part only and truncates decimals. If you see trunc(-3.14) , it actually results -3, whereas floor(-3.14) returns -4.\n",
    "\n",
    "- Since both follows euclidean division lemma then a%b also changes."
   ]
  },
  {
   "cell_type": "code",
   "execution_count": 17,
   "id": "58500b66",
   "metadata": {},
   "outputs": [
    {
     "name": "stdout",
     "output_type": "stream",
     "text": [
      "-10 3\n",
      "-4 2\n",
      "(-4, 2)\n",
      "True\n"
     ]
    }
   ],
   "source": [
    "# Now lets first euclidean division lemma for both int and decimals\n",
    "\n",
    "x = -10\n",
    "y = 3\n",
    "\n",
    "print(x,y)\n",
    "print(x//y,x%y)\n",
    "print(divmod(x,y))\n",
    "print(x == y * (x//y) + (x % y))"
   ]
  },
  {
   "cell_type": "code",
   "execution_count": 18,
   "id": "bfd1ff24",
   "metadata": {},
   "outputs": [
    {
     "name": "stdout",
     "output_type": "stream",
     "text": [
      "-10 3\n",
      "-3 -1\n",
      "True\n"
     ]
    }
   ],
   "source": [
    "x = Decimal(-10)\n",
    "y = Decimal(3)\n",
    "\n",
    "print(x,y)\n",
    "print(x//y,x%y)\n",
    "print(x == y * (x//y) + (x % y))\n",
    "\n",
    "# We can see the even though the results are different, but satisfies the euclidean division lemma"
   ]
  },
  {
   "cell_type": "code",
   "execution_count": 19,
   "id": "1188582e",
   "metadata": {},
   "outputs": [
    {
     "name": "stdout",
     "output_type": "stream",
     "text": [
      "Help on class Decimal in module decimal:\n",
      "\n",
      "class Decimal(builtins.object)\n",
      " |  Decimal(value='0', context=None)\n",
      " |  \n",
      " |  Construct a new Decimal object. 'value' can be an integer, string, tuple,\n",
      " |  or another Decimal object. If no value is given, return Decimal('0'). The\n",
      " |  context does not affect the conversion and is only passed to determine if\n",
      " |  the InvalidOperation trap is active.\n",
      " |  \n",
      " |  Methods defined here:\n",
      " |  \n",
      " |  __abs__(self, /)\n",
      " |      abs(self)\n",
      " |  \n",
      " |  __add__(self, value, /)\n",
      " |      Return self+value.\n",
      " |  \n",
      " |  __bool__(self, /)\n",
      " |      self != 0\n",
      " |  \n",
      " |  __ceil__(...)\n",
      " |  \n",
      " |  __complex__(...)\n",
      " |  \n",
      " |  __copy__(...)\n",
      " |  \n",
      " |  __deepcopy__(...)\n",
      " |  \n",
      " |  __divmod__(self, value, /)\n",
      " |      Return divmod(self, value).\n",
      " |  \n",
      " |  __eq__(self, value, /)\n",
      " |      Return self==value.\n",
      " |  \n",
      " |  __float__(self, /)\n",
      " |      float(self)\n",
      " |  \n",
      " |  __floor__(...)\n",
      " |  \n",
      " |  __floordiv__(self, value, /)\n",
      " |      Return self//value.\n",
      " |  \n",
      " |  __format__(...)\n",
      " |      Default object formatter.\n",
      " |  \n",
      " |  __ge__(self, value, /)\n",
      " |      Return self>=value.\n",
      " |  \n",
      " |  __getattribute__(self, name, /)\n",
      " |      Return getattr(self, name).\n",
      " |  \n",
      " |  __gt__(self, value, /)\n",
      " |      Return self>value.\n",
      " |  \n",
      " |  __hash__(self, /)\n",
      " |      Return hash(self).\n",
      " |  \n",
      " |  __int__(self, /)\n",
      " |      int(self)\n",
      " |  \n",
      " |  __le__(self, value, /)\n",
      " |      Return self<=value.\n",
      " |  \n",
      " |  __lt__(self, value, /)\n",
      " |      Return self<value.\n",
      " |  \n",
      " |  __mod__(self, value, /)\n",
      " |      Return self%value.\n",
      " |  \n",
      " |  __mul__(self, value, /)\n",
      " |      Return self*value.\n",
      " |  \n",
      " |  __ne__(self, value, /)\n",
      " |      Return self!=value.\n",
      " |  \n",
      " |  __neg__(self, /)\n",
      " |      -self\n",
      " |  \n",
      " |  __pos__(self, /)\n",
      " |      +self\n",
      " |  \n",
      " |  __pow__(self, value, mod=None, /)\n",
      " |      Return pow(self, value, mod).\n",
      " |  \n",
      " |  __radd__(self, value, /)\n",
      " |      Return value+self.\n",
      " |  \n",
      " |  __rdivmod__(self, value, /)\n",
      " |      Return divmod(value, self).\n",
      " |  \n",
      " |  __reduce__(...)\n",
      " |      Helper for pickle.\n",
      " |  \n",
      " |  __repr__(self, /)\n",
      " |      Return repr(self).\n",
      " |  \n",
      " |  __rfloordiv__(self, value, /)\n",
      " |      Return value//self.\n",
      " |  \n",
      " |  __rmod__(self, value, /)\n",
      " |      Return value%self.\n",
      " |  \n",
      " |  __rmul__(self, value, /)\n",
      " |      Return value*self.\n",
      " |  \n",
      " |  __round__(...)\n",
      " |  \n",
      " |  __rpow__(self, value, mod=None, /)\n",
      " |      Return pow(value, self, mod).\n",
      " |  \n",
      " |  __rsub__(self, value, /)\n",
      " |      Return value-self.\n",
      " |  \n",
      " |  __rtruediv__(self, value, /)\n",
      " |      Return value/self.\n",
      " |  \n",
      " |  __sizeof__(...)\n",
      " |      Size of object in memory, in bytes.\n",
      " |  \n",
      " |  __str__(self, /)\n",
      " |      Return str(self).\n",
      " |  \n",
      " |  __sub__(self, value, /)\n",
      " |      Return self-value.\n",
      " |  \n",
      " |  __truediv__(self, value, /)\n",
      " |      Return self/value.\n",
      " |  \n",
      " |  __trunc__(...)\n",
      " |  \n",
      " |  adjusted(self, /)\n",
      " |      Return the adjusted exponent of the number.  Defined as exp + digits - 1.\n",
      " |  \n",
      " |  as_integer_ratio(self, /)\n",
      " |      Decimal.as_integer_ratio() -> (int, int)\n",
      " |      \n",
      " |      Return a pair of integers, whose ratio is exactly equal to the original\n",
      " |      Decimal and with a positive denominator. The ratio is in lowest terms.\n",
      " |      Raise OverflowError on infinities and a ValueError on NaNs.\n",
      " |  \n",
      " |  as_tuple(self, /)\n",
      " |      Return a tuple representation of the number.\n",
      " |  \n",
      " |  canonical(self, /)\n",
      " |      Return the canonical encoding of the argument.  Currently, the encoding\n",
      " |      of a Decimal instance is always canonical, so this operation returns its\n",
      " |      argument unchanged.\n",
      " |  \n",
      " |  compare(self, /, other, context=None)\n",
      " |      Compare self to other.  Return a decimal value:\n",
      " |      \n",
      " |      a or b is a NaN ==> Decimal('NaN')\n",
      " |      a < b           ==> Decimal('-1')\n",
      " |      a == b          ==> Decimal('0')\n",
      " |      a > b           ==> Decimal('1')\n",
      " |  \n",
      " |  compare_signal(self, /, other, context=None)\n",
      " |      Identical to compare, except that all NaNs signal.\n",
      " |  \n",
      " |  compare_total(self, /, other, context=None)\n",
      " |      Compare two operands using their abstract representation rather than\n",
      " |      their numerical value.  Similar to the compare() method, but the result\n",
      " |      gives a total ordering on Decimal instances.  Two Decimal instances with\n",
      " |      the same numeric value but different representations compare unequal\n",
      " |      in this ordering:\n",
      " |      \n",
      " |          >>> Decimal('12.0').compare_total(Decimal('12'))\n",
      " |          Decimal('-1')\n",
      " |      \n",
      " |      Quiet and signaling NaNs are also included in the total ordering. The result\n",
      " |      of this function is Decimal('0') if both operands have the same representation,\n",
      " |      Decimal('-1') if the first operand is lower in the total order than the second,\n",
      " |      and Decimal('1') if the first operand is higher in the total order than the\n",
      " |      second operand. See the specification for details of the total order.\n",
      " |      \n",
      " |      This operation is unaffected by context and is quiet: no flags are changed\n",
      " |      and no rounding is performed. As an exception, the C version may raise\n",
      " |      InvalidOperation if the second operand cannot be converted exactly.\n",
      " |  \n",
      " |  compare_total_mag(self, /, other, context=None)\n",
      " |      Compare two operands using their abstract representation rather than their\n",
      " |      value as in compare_total(), but ignoring the sign of each operand.\n",
      " |      \n",
      " |      x.compare_total_mag(y) is equivalent to x.copy_abs().compare_total(y.copy_abs()).\n",
      " |      \n",
      " |      This operation is unaffected by context and is quiet: no flags are changed\n",
      " |      and no rounding is performed. As an exception, the C version may raise\n",
      " |      InvalidOperation if the second operand cannot be converted exactly.\n",
      " |  \n",
      " |  conjugate(self, /)\n",
      " |      Return self.\n",
      " |  \n",
      " |  copy_abs(self, /)\n",
      " |      Return the absolute value of the argument.  This operation is unaffected by\n",
      " |      context and is quiet: no flags are changed and no rounding is performed.\n",
      " |  \n",
      " |  copy_negate(self, /)\n",
      " |      Return the negation of the argument.  This operation is unaffected by context\n",
      " |      and is quiet: no flags are changed and no rounding is performed.\n",
      " |  \n",
      " |  copy_sign(self, /, other, context=None)\n",
      " |      Return a copy of the first operand with the sign set to be the same as the\n",
      " |      sign of the second operand. For example:\n",
      " |      \n",
      " |          >>> Decimal('2.3').copy_sign(Decimal('-1.5'))\n",
      " |          Decimal('-2.3')\n",
      " |      \n",
      " |      This operation is unaffected by context and is quiet: no flags are changed\n",
      " |      and no rounding is performed. As an exception, the C version may raise\n",
      " |      InvalidOperation if the second operand cannot be converted exactly.\n",
      " |  \n",
      " |  exp(self, /, context=None)\n",
      " |      Return the value of the (natural) exponential function e**x at the given\n",
      " |      number.  The function always uses the ROUND_HALF_EVEN mode and the result\n",
      " |      is correctly rounded.\n",
      " |  \n",
      " |  fma(self, /, other, third, context=None)\n",
      " |      Fused multiply-add.  Return self*other+third with no rounding of the\n",
      " |      intermediate product self*other.\n",
      " |      \n",
      " |          >>> Decimal(2).fma(3, 5)\n",
      " |          Decimal('11')\n",
      " |  \n",
      " |  is_canonical(self, /)\n",
      " |      Return True if the argument is canonical and False otherwise.  Currently,\n",
      " |      a Decimal instance is always canonical, so this operation always returns\n",
      " |      True.\n",
      " |  \n",
      " |  is_finite(self, /)\n",
      " |      Return True if the argument is a finite number, and False if the argument\n",
      " |      is infinite or a NaN.\n",
      " |  \n",
      " |  is_infinite(self, /)\n",
      " |      Return True if the argument is either positive or negative infinity and\n",
      " |      False otherwise.\n",
      " |  \n",
      " |  is_nan(self, /)\n",
      " |      Return True if the argument is a (quiet or signaling) NaN and False\n",
      " |      otherwise.\n",
      " |  \n",
      " |  is_normal(self, /, context=None)\n",
      " |      Return True if the argument is a normal finite non-zero number with an\n",
      " |      adjusted exponent greater than or equal to Emin. Return False if the\n",
      " |      argument is zero, subnormal, infinite or a NaN.\n",
      " |  \n",
      " |  is_qnan(self, /)\n",
      " |      Return True if the argument is a quiet NaN, and False otherwise.\n",
      " |  \n",
      " |  is_signed(self, /)\n",
      " |      Return True if the argument has a negative sign and False otherwise.\n",
      " |      Note that both zeros and NaNs can carry signs.\n",
      " |  \n",
      " |  is_snan(self, /)\n",
      " |      Return True if the argument is a signaling NaN and False otherwise.\n",
      " |  \n",
      " |  is_subnormal(self, /, context=None)\n",
      " |      Return True if the argument is subnormal, and False otherwise. A number is\n",
      " |      subnormal if it is non-zero, finite, and has an adjusted exponent less\n",
      " |      than Emin.\n",
      " |  \n",
      " |  is_zero(self, /)\n",
      " |      Return True if the argument is a (positive or negative) zero and False\n",
      " |      otherwise.\n",
      " |  \n",
      " |  ln(self, /, context=None)\n",
      " |      Return the natural (base e) logarithm of the operand. The function always\n",
      " |      uses the ROUND_HALF_EVEN mode and the result is correctly rounded.\n",
      " |  \n",
      " |  log10(self, /, context=None)\n",
      " |      Return the base ten logarithm of the operand. The function always uses the\n",
      " |      ROUND_HALF_EVEN mode and the result is correctly rounded.\n",
      " |  \n",
      " |  logb(self, /, context=None)\n",
      " |      For a non-zero number, return the adjusted exponent of the operand as a\n",
      " |      Decimal instance.  If the operand is a zero, then Decimal('-Infinity') is\n",
      " |      returned and the DivisionByZero condition is raised. If the operand is\n",
      " |      an infinity then Decimal('Infinity') is returned.\n",
      " |  \n",
      " |  logical_and(self, /, other, context=None)\n",
      " |      Return the digit-wise 'and' of the two (logical) operands.\n",
      " |  \n",
      " |  logical_invert(self, /, context=None)\n",
      " |      Return the digit-wise inversion of the (logical) operand.\n",
      " |  \n",
      " |  logical_or(self, /, other, context=None)\n",
      " |      Return the digit-wise 'or' of the two (logical) operands.\n",
      " |  \n",
      " |  logical_xor(self, /, other, context=None)\n",
      " |      Return the digit-wise 'exclusive or' of the two (logical) operands.\n",
      " |  \n",
      " |  max(self, /, other, context=None)\n",
      " |      Maximum of self and other.  If one operand is a quiet NaN and the other is\n",
      " |      numeric, the numeric operand is returned.\n",
      " |  \n",
      " |  max_mag(self, /, other, context=None)\n",
      " |      Similar to the max() method, but the comparison is done using the absolute\n",
      " |      values of the operands.\n",
      " |  \n",
      " |  min(self, /, other, context=None)\n",
      " |      Minimum of self and other. If one operand is a quiet NaN and the other is\n",
      " |      numeric, the numeric operand is returned.\n",
      " |  \n",
      " |  min_mag(self, /, other, context=None)\n",
      " |      Similar to the min() method, but the comparison is done using the absolute\n",
      " |      values of the operands.\n",
      " |  \n",
      " |  next_minus(self, /, context=None)\n",
      " |      Return the largest number representable in the given context (or in the\n",
      " |      current default context if no context is given) that is smaller than the\n",
      " |      given operand.\n",
      " |  \n",
      " |  next_plus(self, /, context=None)\n",
      " |      Return the smallest number representable in the given context (or in the\n",
      " |      current default context if no context is given) that is larger than the\n",
      " |      given operand.\n",
      " |  \n",
      " |  next_toward(self, /, other, context=None)\n",
      " |      If the two operands are unequal, return the number closest to the first\n",
      " |      operand in the direction of the second operand.  If both operands are\n",
      " |      numerically equal, return a copy of the first operand with the sign set\n",
      " |      to be the same as the sign of the second operand.\n",
      " |  \n",
      " |  normalize(self, /, context=None)\n",
      " |      Normalize the number by stripping the rightmost trailing zeros and\n",
      " |      converting any result equal to Decimal('0') to Decimal('0e0').  Used\n",
      " |      for producing canonical values for members of an equivalence class.\n",
      " |      For example, Decimal('32.100') and Decimal('0.321000e+2') both normalize\n",
      " |      to the equivalent value Decimal('32.1').\n",
      " |  \n",
      " |  number_class(self, /, context=None)\n",
      " |      Return a string describing the class of the operand.  The returned value\n",
      " |      is one of the following ten strings:\n",
      " |      \n",
      " |          * '-Infinity', indicating that the operand is negative infinity.\n",
      " |          * '-Normal', indicating that the operand is a negative normal number.\n",
      " |          * '-Subnormal', indicating that the operand is negative and subnormal.\n",
      " |          * '-Zero', indicating that the operand is a negative zero.\n",
      " |          * '+Zero', indicating that the operand is a positive zero.\n",
      " |          * '+Subnormal', indicating that the operand is positive and subnormal.\n",
      " |          * '+Normal', indicating that the operand is a positive normal number.\n",
      " |          * '+Infinity', indicating that the operand is positive infinity.\n",
      " |          * 'NaN', indicating that the operand is a quiet NaN (Not a Number).\n",
      " |          * 'sNaN', indicating that the operand is a signaling NaN.\n",
      " |  \n",
      " |  quantize(self, /, exp, rounding=None, context=None)\n",
      " |      Return a value equal to the first operand after rounding and having the\n",
      " |      exponent of the second operand.\n",
      " |      \n",
      " |          >>> Decimal('1.41421356').quantize(Decimal('1.000'))\n",
      " |          Decimal('1.414')\n",
      " |      \n",
      " |      Unlike other operations, if the length of the coefficient after the quantize\n",
      " |      operation would be greater than precision, then an InvalidOperation is signaled.\n",
      " |      This guarantees that, unless there is an error condition, the quantized exponent\n",
      " |      is always equal to that of the right-hand operand.\n",
      " |      \n",
      " |      Also unlike other operations, quantize never signals Underflow, even if the\n",
      " |      result is subnormal and inexact.\n",
      " |      \n",
      " |      If the exponent of the second operand is larger than that of the first, then\n",
      " |      rounding may be necessary. In this case, the rounding mode is determined by the\n",
      " |      rounding argument if given, else by the given context argument; if neither\n",
      " |      argument is given, the rounding mode of the current thread's context is used.\n",
      " |  \n",
      " |  radix(self, /)\n",
      " |      Return Decimal(10), the radix (base) in which the Decimal class does\n",
      " |      all its arithmetic. Included for compatibility with the specification.\n",
      " |  \n",
      " |  remainder_near(self, /, other, context=None)\n",
      " |      Return the remainder from dividing self by other.  This differs from\n",
      " |      self % other in that the sign of the remainder is chosen so as to minimize\n",
      " |      its absolute value. More precisely, the return value is self - n * other\n",
      " |      where n is the integer nearest to the exact value of self / other, and\n",
      " |      if two integers are equally near then the even one is chosen.\n",
      " |      \n",
      " |      If the result is zero then its sign will be the sign of self.\n",
      " |  \n",
      " |  rotate(self, /, other, context=None)\n",
      " |      Return the result of rotating the digits of the first operand by an amount\n",
      " |      specified by the second operand.  The second operand must be an integer in\n",
      " |      the range -precision through precision. The absolute value of the second\n",
      " |      operand gives the number of places to rotate. If the second operand is\n",
      " |      positive then rotation is to the left; otherwise rotation is to the right.\n",
      " |      The coefficient of the first operand is padded on the left with zeros to\n",
      " |      length precision if necessary. The sign and exponent of the first operand are\n",
      " |      unchanged.\n",
      " |  \n",
      " |  same_quantum(self, /, other, context=None)\n",
      " |      Test whether self and other have the same exponent or whether both are NaN.\n",
      " |      \n",
      " |      This operation is unaffected by context and is quiet: no flags are changed\n",
      " |      and no rounding is performed. As an exception, the C version may raise\n",
      " |      InvalidOperation if the second operand cannot be converted exactly.\n",
      " |  \n",
      " |  scaleb(self, /, other, context=None)\n",
      " |      Return the first operand with the exponent adjusted the second.  Equivalently,\n",
      " |      return the first operand multiplied by 10**other. The second operand must be\n",
      " |      an integer.\n",
      " |  \n",
      " |  shift(self, /, other, context=None)\n",
      " |      Return the result of shifting the digits of the first operand by an amount\n",
      " |      specified by the second operand.  The second operand must be an integer in\n",
      " |      the range -precision through precision. The absolute value of the second\n",
      " |      operand gives the number of places to shift. If the second operand is\n",
      " |      positive, then the shift is to the left; otherwise the shift is to the\n",
      " |      right. Digits shifted into the coefficient are zeros. The sign and exponent\n",
      " |      of the first operand are unchanged.\n",
      " |  \n",
      " |  sqrt(self, /, context=None)\n",
      " |      Return the square root of the argument to full precision. The result is\n",
      " |      correctly rounded using the ROUND_HALF_EVEN rounding mode.\n",
      " |  \n",
      " |  to_eng_string(self, /, context=None)\n",
      " |      Convert to an engineering-type string.  Engineering notation has an exponent\n",
      " |      which is a multiple of 3, so there are up to 3 digits left of the decimal\n",
      " |      place. For example, Decimal('123E+1') is converted to Decimal('1.23E+3').\n",
      " |      \n",
      " |      The value of context.capitals determines whether the exponent sign is lower\n",
      " |      or upper case. Otherwise, the context does not affect the operation.\n",
      " |  \n",
      " |  to_integral(self, /, rounding=None, context=None)\n",
      " |      Identical to the to_integral_value() method.  The to_integral() name has been\n",
      " |      kept for compatibility with older versions.\n",
      " |  \n",
      " |  to_integral_exact(self, /, rounding=None, context=None)\n",
      " |      Round to the nearest integer, signaling Inexact or Rounded as appropriate if\n",
      " |      rounding occurs.  The rounding mode is determined by the rounding parameter\n",
      " |      if given, else by the given context. If neither parameter is given, then the\n",
      " |      rounding mode of the current default context is used.\n",
      " |  \n",
      " |  to_integral_value(self, /, rounding=None, context=None)\n",
      " |      Round to the nearest integer without signaling Inexact or Rounded.  The\n",
      " |      rounding mode is determined by the rounding parameter if given, else by\n",
      " |      the given context. If neither parameter is given, then the rounding mode\n",
      " |      of the current default context is used.\n",
      " |  \n",
      " |  ----------------------------------------------------------------------\n",
      " |  Class methods defined here:\n",
      " |  \n",
      " |  from_float(f, /) from builtins.type\n",
      " |      Class method that converts a float to a decimal number, exactly.\n",
      " |      Since 0.1 is not exactly representable in binary floating point,\n",
      " |      Decimal.from_float(0.1) is not the same as Decimal('0.1').\n",
      " |      \n",
      " |          >>> Decimal.from_float(0.1)\n",
      " |          Decimal('0.1000000000000000055511151231257827021181583404541015625')\n",
      " |          >>> Decimal.from_float(float('nan'))\n",
      " |          Decimal('NaN')\n",
      " |          >>> Decimal.from_float(float('inf'))\n",
      " |          Decimal('Infinity')\n",
      " |          >>> Decimal.from_float(float('-inf'))\n",
      " |          Decimal('-Infinity')\n",
      " |  \n",
      " |  ----------------------------------------------------------------------\n",
      " |  Static methods defined here:\n",
      " |  \n",
      " |  __new__(*args, **kwargs) from builtins.type\n",
      " |      Create and return a new object.  See help(type) for accurate signature.\n",
      " |  \n",
      " |  ----------------------------------------------------------------------\n",
      " |  Data descriptors defined here:\n",
      " |  \n",
      " |  imag\n",
      " |  \n",
      " |  real\n",
      "\n"
     ]
    }
   ],
   "source": [
    "# Now lets see some different math operations \n",
    "\n",
    "help(Decimal)\n",
    "\n",
    "# Here we can see the functions offered by decimal class"
   ]
  },
  {
   "cell_type": "code",
   "execution_count": 20,
   "id": "1734c849",
   "metadata": {},
   "outputs": [
    {
     "name": "stdout",
     "output_type": "stream",
     "text": [
      "0.100000000000000005551115123\n",
      "0.100000000000000005551115123\n",
      "0.100000000000000000000000000\n"
     ]
    }
   ],
   "source": [
    "import math\n",
    "\n",
    "x = 0.01\n",
    "\n",
    "x_dec = Decimal('0.01')\n",
    "\n",
    "root_float = math.sqrt(x)\n",
    "\n",
    "root_mixed = math.sqrt(x_dec)\n",
    "\n",
    "root_dec = x_dec.sqrt()\n",
    "\n",
    "print(format(root_float,'1.27f'))\n",
    "print(format(root_mixed,'1.27f'))\n",
    "print(format(root_dec,'1.27f'))\n",
    "\n",
    "# Here we can see that both root_float and root_mixed are same and inaccurate.Because square root of 0.01 is simply 0.1\n",
    "# And we can simply  see that when we are using function from math module for decimals, it first converts decimals to float and \n",
    "# then they perform math operations. So use operators provided by the decimal module"
   ]
  },
  {
   "cell_type": "code",
   "execution_count": 21,
   "id": "ef81da28",
   "metadata": {},
   "outputs": [
    {
     "name": "stdout",
     "output_type": "stream",
     "text": [
      "0.010000000000000001942890293\n",
      "0.010000000000000001942890293\n",
      "0.010000000000000000000000000\n"
     ]
    }
   ],
   "source": [
    "# We can see we are getting accurate results with decimals only not with float. But the only thing is we have only\n",
    "# limited math functions in decimal class\n",
    "\n",
    "print(format(root_float * root_float,'1.27f'))\n",
    "print(format(root_mixed * root_mixed,'1.27f'))\n",
    "print(format(root_dec * root_dec,'1.27f'))"
   ]
  },
  {
   "cell_type": "markdown",
   "id": "6150ea13",
   "metadata": {},
   "source": [
    "### Decimal Performance Considerations\n",
    "\n",
    "1. There are some drawbacks to the Decimal Class vs Float class\n",
    "\n",
    "   - Decimals are not easy to code because the construction of decimals can be done via strings or tuples\n",
    "\n",
    "   - not all the mathematical functions that exist in the math module have a decimal counterpart\n",
    "\n",
    "   - decimals requires more memory to store. So it has more memory overhead\n",
    "\n",
    "   - Deimals are much slower than floats (relatively)."
   ]
  },
  {
   "cell_type": "code",
   "execution_count": 22,
   "id": "38aebe4a",
   "metadata": {},
   "outputs": [],
   "source": [
    "# So lets see how many bytes require to create decimals vs floats\n",
    "\n",
    "import sys\n",
    "\n",
    "from decimal import Decimal"
   ]
  },
  {
   "cell_type": "code",
   "execution_count": 23,
   "id": "1adfa020",
   "metadata": {},
   "outputs": [],
   "source": [
    "a = 3.1456\n",
    "\n",
    "b = Decimal('3.1456')\n",
    "\n"
   ]
  },
  {
   "cell_type": "code",
   "execution_count": 24,
   "id": "8e45c86b",
   "metadata": {},
   "outputs": [
    {
     "data": {
      "text/plain": [
       "24"
      ]
     },
     "execution_count": 24,
     "metadata": {},
     "output_type": "execute_result"
    }
   ],
   "source": [
    "sys.getsizeof(a)"
   ]
  },
  {
   "cell_type": "code",
   "execution_count": null,
   "id": "fa82b83d",
   "metadata": {},
   "outputs": [
    {
     "data": {
      "text/plain": [
       "104"
      ]
     },
     "execution_count": 25,
     "metadata": {},
     "output_type": "execute_result"
    }
   ],
   "source": [
    "sys.getsizeof(b)\n",
    "\n",
    "# Here we can see decimal require more to create. We need 104 bits to create a decimal which is 5 times larger than float "
   ]
  },
  {
   "cell_type": "code",
   "execution_count": 26,
   "id": "6b52b89e",
   "metadata": {},
   "outputs": [
    {
     "name": "stdout",
     "output_type": "stream",
     "text": [
      "Float runtime :  0.03610300016589463\n",
      "Float runtime :  0.2812847001478076\n"
     ]
    }
   ],
   "source": [
    "# Now lets see how much time it requires to create a decimal and float\n",
    "\n",
    "def run_float(n=1):\n",
    "    for i in range(n):\n",
    "        a = 3.1456\n",
    "\n",
    "def run_decimal(n=1):\n",
    "    for i in range(n):\n",
    "        a = Decimal('3.1456')\n",
    "\n",
    "\n",
    "import time\n",
    "\n",
    "n = 1000000\n",
    "\n",
    "start = time.perf_counter()\n",
    "run_float(n)\n",
    "end = time.perf_counter()\n",
    "print(\"Float runtime : \",end-start)\n",
    "\n",
    "start = time.perf_counter()\n",
    "run_decimal(n)\n",
    "end = time.perf_counter()\n",
    "print(\"Float runtime : \",end-start)\n",
    "\n",
    "\n",
    "# We can see that the runtime of decimals is almost 8 times greater than thr runtime of float"
   ]
  },
  {
   "cell_type": "code",
   "execution_count": 27,
   "id": "90aea7ca",
   "metadata": {},
   "outputs": [
    {
     "name": "stdout",
     "output_type": "stream",
     "text": [
      "Float runtime :  0.5841037000063807\n",
      "Decimal runtime :  1.3201500999275595\n"
     ]
    }
   ],
   "source": [
    "# Now lets see the runtime of the arithmetic operations of the Floats and Decimals\n",
    "\n",
    "def run_float(n=1):\n",
    "    a = 3.1456\n",
    "    for i in range(n):\n",
    "        a / a\n",
    "\n",
    "def run_decimal(n=1):\n",
    "    a = Decimal('3.1456')\n",
    "    for i in range(n):\n",
    "        a / a\n",
    "\n",
    "\n",
    "\n",
    "n = 10000000\n",
    "\n",
    "start = time.perf_counter()\n",
    "run_float(n)\n",
    "end = time.perf_counter()\n",
    "print(\"Float runtime : \",end-start)\n",
    "\n",
    "start = time.perf_counter()\n",
    "run_decimal(n)\n",
    "end = time.perf_counter()\n",
    "print(\"Decimal runtime : \",end-start)\n",
    "\n",
    "# As n increases the time requires to perform arithmetic operations also increases when compared to the floats\n"
   ]
  },
  {
   "cell_type": "code",
   "execution_count": 28,
   "id": "ab867f58",
   "metadata": {},
   "outputs": [
    {
     "name": "stdout",
     "output_type": "stream",
     "text": [
      "Float runtime :  0.13182320003397763\n",
      "Decimal runtime :  1.466355700045824\n"
     ]
    }
   ],
   "source": [
    "# Now lets see the performance of some math functions\n",
    "\n",
    "import math\n",
    "def run_float(n=1):\n",
    "    a = 3.1456\n",
    "    for i in range(n):\n",
    "        math.sqrt(a)\n",
    "\n",
    "def run_decimal(n=1):\n",
    "    a = Decimal('3.1456')\n",
    "    for i in range(n):\n",
    "        a.sqrt()\n",
    "\n",
    "\n",
    "\n",
    "n = 1000000\n",
    "\n",
    "start = time.perf_counter()\n",
    "run_float(n)\n",
    "end = time.perf_counter()\n",
    "print(\"Float runtime : \",end-start)\n",
    "\n",
    "start = time.perf_counter()\n",
    "run_decimal(n)\n",
    "end = time.perf_counter()\n",
    "print(\"Decimal runtime : \",end-start)\n",
    "\n",
    "# We can see the comparative difference between the runtime of floats and decimals."
   ]
  },
  {
   "cell_type": "markdown",
   "id": "8be2834b",
   "metadata": {},
   "source": [
    "- If you need more precise and accurate values for calculation then only you should use decimals, if precision and high accuracy is not mandatory then we can simply use floats because they are easy to create and has better performance relative to floats."
   ]
  }
 ],
 "metadata": {
  "kernelspec": {
   "display_name": "Python",
   "language": "python",
   "name": "python3"
  },
  "language_info": {
   "codemirror_mode": {
    "name": "ipython",
    "version": 3
   },
   "file_extension": ".py",
   "mimetype": "text/x-python",
   "name": "python",
   "nbconvert_exporter": "python",
   "pygments_lexer": "ipython3",
   "version": "3.10.0"
  }
 },
 "nbformat": 4,
 "nbformat_minor": 5
}
