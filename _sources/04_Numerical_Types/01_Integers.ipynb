{
 "cells": [
  {
   "cell_type": "markdown",
   "id": "4a055733",
   "metadata": {},
   "source": [
    "# Integers"
   ]
  },
  {
   "cell_type": "markdown",
   "id": "f54502dc",
   "metadata": {},
   "source": [
    "## Introduction\n",
    "\n",
    "- Integers are generally used to represent integral numbers. In Python integers are represented by `int` class. We can represent any kind of integers i.e large numbers also. But in other languages we use different data types such as byte (8-bit signed integer), short(signed 16-bit integer), int(signed 32-bit integer), long(signed 64-bit integers) to represent integers based on their size.\n",
    "\n",
    "- But Python only use one class i.e `int` to represent any kind of integers. But one problem is as size of the integer increase the performance of the operations decreases. "
   ]
  },
  {
   "cell_type": "code",
   "execution_count": null,
   "id": "a0e5f008",
   "metadata": {},
   "outputs": [
    {
     "name": "stdout",
     "output_type": "stream",
     "text": [
      "<class 'int'>\n"
     ]
    }
   ],
   "source": [
    "a = 10\n",
    "\n",
    "print(type(a))"
   ]
  },
  {
   "cell_type": "code",
   "execution_count": 2,
   "id": "bff84b2d",
   "metadata": {},
   "outputs": [
    {
     "data": {
      "text/plain": [
       "28"
      ]
     },
     "execution_count": 2,
     "metadata": {},
     "output_type": "execute_result"
    }
   ],
   "source": [
    "# To know the memory occupied by a variable we use sys.getsizeof() method\n",
    "\n",
    "import sys\n",
    "\n",
    "sys.getsizeof(a)"
   ]
  },
  {
   "cell_type": "code",
   "execution_count": 3,
   "id": "1064a3cd",
   "metadata": {},
   "outputs": [],
   "source": [
    "# Now lets see how much time an operation takes as size of the integer increases.\n",
    "\n",
    "import time\n",
    "\n",
    "def calc(a):\n",
    "\n",
    "    for i in range(10000000):\n",
    "\n",
    "        a*2"
   ]
  },
  {
   "cell_type": "code",
   "execution_count": 5,
   "id": "1d9d0628",
   "metadata": {},
   "outputs": [
    {
     "name": "stdout",
     "output_type": "stream",
     "text": [
      "0.4744923999533057\n"
     ]
    }
   ],
   "source": [
    "start_time = time.perf_counter()\n",
    "\n",
    "calc(10) # Small Number\n",
    "\n",
    "end_time = time.perf_counter()\n",
    "\n",
    "print(end_time - start_time)"
   ]
  },
  {
   "cell_type": "code",
   "execution_count": 6,
   "id": "dbd3bdeb",
   "metadata": {},
   "outputs": [
    {
     "name": "stdout",
     "output_type": "stream",
     "text": [
      "0.44652410014532506\n"
     ]
    }
   ],
   "source": [
    "start_time = time.perf_counter()\n",
    "\n",
    "calc(2*10)  # Medium number\n",
    "\n",
    "end_time = time.perf_counter()\n",
    "\n",
    "print(end_time - start_time)"
   ]
  },
  {
   "cell_type": "code",
   "execution_count": 7,
   "id": "63d2345c",
   "metadata": {},
   "outputs": [
    {
     "name": "stdout",
     "output_type": "stream",
     "text": [
      "1.33190119988285\n"
     ]
    }
   ],
   "source": [
    "start_time = time.perf_counter()\n",
    "\n",
    "calc(2**1000)  # Large Number\n",
    "\n",
    "end_time = time.perf_counter()\n",
    "\n",
    "print(end_time - start_time)"
   ]
  },
  {
   "cell_type": "code",
   "execution_count": 8,
   "id": "ef366884",
   "metadata": {},
   "outputs": [
    {
     "name": "stdout",
     "output_type": "stream",
     "text": [
      "6.74957640003413\n"
     ]
    }
   ],
   "source": [
    "start_time = time.perf_counter()\n",
    "\n",
    "calc(2**10000)  # Mega Large number\n",
    "\n",
    "end_time = time.perf_counter()\n",
    "\n",
    "print(end_time - start_time)\n",
    "\n",
    "# So from this we can understand as integer becomes larger operations speed becomes slower."
   ]
  },
  {
   "cell_type": "markdown",
   "id": "4e5fdca5",
   "metadata": {},
   "source": [
    "## Integer Operations\n",
    "\n",
    "- In Python, we have 7 integer operations. Those are :\n",
    "\n",
    "  **Addition** : a + b\n",
    "\n",
    "  **Subtraction** : a - b\n",
    "\n",
    "  **Multiplication** : a * b\n",
    "\n",
    "  **Division** : a / b (Even though both a and b are integers, `/` always return a float).\n",
    "\n",
    "  **Exponent** : a ** b\n",
    "\n",
    "  **Integral or Floor Division** : a // b or math.floor(a/b) => floor(a) means largest number less than or equal to a ( <=a ). For example a = 3.45. Now math.floor(3.45) is 3. Because 3 is the largest number less than or equal to 3.45. Now  math.floor(-3.45) ->  -4. Because -4 is the largest number less than or equal to -3.45 .\n",
    "\n",
    "  **Modulo** : a % b . Generally everyone think that a % b is remainder of a/b . But it is correct if both a and b are positive numbers. If any one of a or b is negative then that might be violated. Because it must satisfy euclidean division lemma.\n",
    "\n",
    "  Euclidean Division Lemma is : `a = b * (a//b) + (a % b)`. So a % b depends on the result of floor division of a , b."
   ]
  },
  {
   "cell_type": "code",
   "execution_count": 9,
   "id": "ac1d5e11",
   "metadata": {},
   "outputs": [
    {
     "name": "stdout",
     "output_type": "stream",
     "text": [
      "3\n",
      "-4\n",
      "0\n"
     ]
    }
   ],
   "source": [
    "import math \n",
    "\n",
    "print(math.floor(3.45))\n",
    "print(math.floor(-3.45))\n",
    "print(math.floor(2/3))"
   ]
  },
  {
   "cell_type": "code",
   "execution_count": 10,
   "id": "db316874",
   "metadata": {},
   "outputs": [
    {
     "name": "stdout",
     "output_type": "stream",
     "text": [
      "13 / 4 = 3.25\n",
      "13 // 4 = 3\n",
      "13 % 4 = 1\n",
      "True\n"
     ]
    }
   ],
   "source": [
    "# Now lets see some examples f euclidean division lemma\n",
    "\n",
    "a = 13\n",
    "b = 4\n",
    "\n",
    "print(f\"{a} / {b} = {a/b}\")\n",
    "print(f\"{a} // {b} = {a//b}\")\n",
    "print(f\"{a} % {b} = {a%b}\")\n",
    "print(a == b*(a//b) + (a%b))"
   ]
  },
  {
   "cell_type": "code",
   "execution_count": 11,
   "id": "4645e0f3",
   "metadata": {},
   "outputs": [
    {
     "name": "stdout",
     "output_type": "stream",
     "text": [
      "13 / -4 = -3.25\n",
      "13 // -4 = -4\n",
      "13 % -4 = -3\n",
      "True\n"
     ]
    }
   ],
   "source": [
    "# Now lets see some examples f euclidean division lemma\n",
    "\n",
    "a = 13\n",
    "b = -4\n",
    "\n",
    "print(f\"{a} / {b} = {a/b}\")\n",
    "print(f\"{a} // {b} = {a//b}\")\n",
    "print(f\"{a} % {b} = {a%b}\")\n",
    "print(a == b*(a//b) + (a%b))"
   ]
  },
  {
   "cell_type": "code",
   "execution_count": 12,
   "id": "e724a557",
   "metadata": {},
   "outputs": [
    {
     "name": "stdout",
     "output_type": "stream",
     "text": [
      "-13 / 4 = -3.25\n",
      "-13 // 4 = -4\n",
      "-13 % 4 = 3\n",
      "True\n"
     ]
    }
   ],
   "source": [
    "# Now lets see some examples f euclidean division lemma\n",
    "\n",
    "a = -13\n",
    "b = 4\n",
    "\n",
    "print(f\"{a} / {b} = {a/b}\")\n",
    "print(f\"{a} // {b} = {a//b}\")\n",
    "print(f\"{a} % {b} = {a%b}\")\n",
    "print(a == b*(a//b) + (a%b))"
   ]
  },
  {
   "cell_type": "code",
   "execution_count": null,
   "id": "85bb1156",
   "metadata": {},
   "outputs": [
    {
     "name": "stdout",
     "output_type": "stream",
     "text": [
      "-13 / -4 = 3.25\n",
      "-13 // -4 = 3\n",
      "-13 % -4 = -1\n",
      "True\n"
     ]
    }
   ],
   "source": [
    "a = -13\n",
    "b = -4\n",
    "\n",
    "print(f\"{a} / {b} = {a/b}\")\n",
    "print(f\"{a} // {b} = {a//b}\")\n",
    "print(f\"{a} % {b} = {a%b}\")\n",
    "print(a == b*(a//b) + (a%b))\n",
    "\n",
    "# From these 4 examples we can see that a%b not always remainder of a/b. It would be different for negative numbers."
   ]
  },
  {
   "cell_type": "markdown",
   "id": "869254d4",
   "metadata": {},
   "source": [
    "## Integer Constructors and Bases\n",
    "\n",
    "- Python `int` class offers two constructors to create integers. One is `int(<Number>)` and other one is `int(<string>, <base>)`.\n",
    "\n",
    "- **int(<Number>)** : This constructor takes a number and return the integral part of that number. For example `int(20.3)` -> 20. `int(-20.5)` -> -20 .\n",
    "\n",
    "- **int(<string>, <base>)** : This constructor takes two parameters one is string and other is base. By default the base is 10. That means this constructor actually thinks the string is in decimal format and results integer of base 10. If you give the base as 2, it would result think number enclosed in quotes is in binary number and this constructer would convert that binary number into decimal format. So result is always decimal format.\n",
    "\n",
    "- But Python offers some built-in functions to convert a number from base 10 to required base. Those are :\n",
    "\n",
    "  **bin(<Number>)** : It converts base 10 number to base 2\n",
    "\n",
    "  **oct(<Number>)** : It converts base 10 number to base 8\n",
    "\n",
    "  **hex(<Number>)** : It converts base 10 number to base 16."
   ]
  },
  {
   "cell_type": "code",
   "execution_count": null,
   "id": "5937ab83",
   "metadata": {},
   "outputs": [
    {
     "name": "stdout",
     "output_type": "stream",
     "text": [
      "Help on class int in module builtins:\n",
      "\n",
      "class int(object)\n",
      " |  int([x]) -> integer\n",
      " |  int(x, base=10) -> integer\n",
      " |  \n",
      " |  Convert a number or string to an integer, or return 0 if no arguments\n",
      " |  are given.  If x is a number, return x.__int__().  For floating point\n",
      " |  numbers, this truncates towards zero.\n",
      " |  \n",
      " |  If x is not a number or if base is given, then x must be a string,\n",
      " |  bytes, or bytearray instance representing an integer literal in the\n",
      " |  given base.  The literal can be preceded by '+' or '-' and be surrounded\n",
      " |  by whitespace.  The base defaults to 10.  Valid bases are 0 and 2-36.\n",
      " |  Base 0 means to interpret the base from the string as an integer literal.\n",
      " |  >>> int('0b100', base=0)\n",
      " |  4\n",
      " |  \n",
      " |  Built-in subclasses:\n",
      " |      bool\n",
      " |  \n",
      " |  Methods defined here:\n",
      " |  \n",
      " |  __abs__(self, /)\n",
      " |      abs(self)\n",
      " |  \n",
      " |  __add__(self, value, /)\n",
      " |      Return self+value.\n",
      " |  \n",
      " |  __and__(self, value, /)\n",
      " |      Return self&value.\n",
      " |  \n",
      " |  __bool__(self, /)\n",
      " |      self != 0\n",
      " |  \n",
      " |  __ceil__(...)\n",
      " |      Ceiling of an Integral returns itself.\n",
      " |  \n",
      " |  __divmod__(self, value, /)\n",
      " |      Return divmod(self, value).\n",
      " |  \n",
      " |  __eq__(self, value, /)\n",
      " |      Return self==value.\n",
      " |  \n",
      " |  __float__(self, /)\n",
      " |      float(self)\n",
      " |  \n",
      " |  __floor__(...)\n",
      " |      Flooring an Integral returns itself.\n",
      " |  \n",
      " |  __floordiv__(self, value, /)\n",
      " |      Return self//value.\n",
      " |  \n",
      " |  __format__(self, format_spec, /)\n",
      " |      Default object formatter.\n",
      " |  \n",
      " |  __ge__(self, value, /)\n",
      " |      Return self>=value.\n",
      " |  \n",
      " |  __getattribute__(self, name, /)\n",
      " |      Return getattr(self, name).\n",
      " |  \n",
      " |  __getnewargs__(self, /)\n",
      " |  \n",
      " |  __gt__(self, value, /)\n",
      " |      Return self>value.\n",
      " |  \n",
      " |  __hash__(self, /)\n",
      " |      Return hash(self).\n",
      " |  \n",
      " |  __index__(self, /)\n",
      " |      Return self converted to an integer, if self is suitable for use as an index into a list.\n",
      " |  \n",
      " |  __int__(self, /)\n",
      " |      int(self)\n",
      " |  \n",
      " |  __invert__(self, /)\n",
      " |      ~self\n",
      " |  \n",
      " |  __le__(self, value, /)\n",
      " |      Return self<=value.\n",
      " |  \n",
      " |  __lshift__(self, value, /)\n",
      " |      Return self<<value.\n",
      " |  \n",
      " |  __lt__(self, value, /)\n",
      " |      Return self<value.\n",
      " |  \n",
      " |  __mod__(self, value, /)\n",
      " |      Return self%value.\n",
      " |  \n",
      " |  __mul__(self, value, /)\n",
      " |      Return self*value.\n",
      " |  \n",
      " |  __ne__(self, value, /)\n",
      " |      Return self!=value.\n",
      " |  \n",
      " |  __neg__(self, /)\n",
      " |      -self\n",
      " |  \n",
      " |  __or__(self, value, /)\n",
      " |      Return self|value.\n",
      " |  \n",
      " |  __pos__(self, /)\n",
      " |      +self\n",
      " |  \n",
      " |  __pow__(self, value, mod=None, /)\n",
      " |      Return pow(self, value, mod).\n",
      " |  \n",
      " |  __radd__(self, value, /)\n",
      " |      Return value+self.\n",
      " |  \n",
      " |  __rand__(self, value, /)\n",
      " |      Return value&self.\n",
      " |  \n",
      " |  __rdivmod__(self, value, /)\n",
      " |      Return divmod(value, self).\n",
      " |  \n",
      " |  __repr__(self, /)\n",
      " |      Return repr(self).\n",
      " |  \n",
      " |  __rfloordiv__(self, value, /)\n",
      " |      Return value//self.\n",
      " |  \n",
      " |  __rlshift__(self, value, /)\n",
      " |      Return value<<self.\n",
      " |  \n",
      " |  __rmod__(self, value, /)\n",
      " |      Return value%self.\n",
      " |  \n",
      " |  __rmul__(self, value, /)\n",
      " |      Return value*self.\n",
      " |  \n",
      " |  __ror__(self, value, /)\n",
      " |      Return value|self.\n",
      " |  \n",
      " |  __round__(...)\n",
      " |      Rounding an Integral returns itself.\n",
      " |      \n",
      " |      Rounding with an ndigits argument also returns an integer.\n",
      " |  \n",
      " |  __rpow__(self, value, mod=None, /)\n",
      " |      Return pow(value, self, mod).\n",
      " |  \n",
      " |  __rrshift__(self, value, /)\n",
      " |      Return value>>self.\n",
      " |  \n",
      " |  __rshift__(self, value, /)\n",
      " |      Return self>>value.\n",
      " |  \n",
      " |  __rsub__(self, value, /)\n",
      " |      Return value-self.\n",
      " |  \n",
      " |  __rtruediv__(self, value, /)\n",
      " |      Return value/self.\n",
      " |  \n",
      " |  __rxor__(self, value, /)\n",
      " |      Return value^self.\n",
      " |  \n",
      " |  __sizeof__(self, /)\n",
      " |      Returns size in memory, in bytes.\n",
      " |  \n",
      " |  __sub__(self, value, /)\n",
      " |      Return self-value.\n",
      " |  \n",
      " |  __truediv__(self, value, /)\n",
      " |      Return self/value.\n",
      " |  \n",
      " |  __trunc__(...)\n",
      " |      Truncating an Integral returns itself.\n",
      " |  \n",
      " |  __xor__(self, value, /)\n",
      " |      Return self^value.\n",
      " |  \n",
      " |  as_integer_ratio(self, /)\n",
      " |      Return integer ratio.\n",
      " |      \n",
      " |      Return a pair of integers, whose ratio is exactly equal to the original int\n",
      " |      and with a positive denominator.\n",
      " |      \n",
      " |      >>> (10).as_integer_ratio()\n",
      " |      (10, 1)\n",
      " |      >>> (-10).as_integer_ratio()\n",
      " |      (-10, 1)\n",
      " |      >>> (0).as_integer_ratio()\n",
      " |      (0, 1)\n",
      " |  \n",
      " |  bit_count(self, /)\n",
      " |      Number of ones in the binary representation of the absolute value of self.\n",
      " |      \n",
      " |      Also known as the population count.\n",
      " |      \n",
      " |      >>> bin(13)\n",
      " |      '0b1101'\n",
      " |      >>> (13).bit_count()\n",
      " |      3\n",
      " |  \n",
      " |  bit_length(self, /)\n",
      " |      Number of bits necessary to represent self in binary.\n",
      " |      \n",
      " |      >>> bin(37)\n",
      " |      '0b100101'\n",
      " |      >>> (37).bit_length()\n",
      " |      6\n",
      " |  \n",
      " |  conjugate(...)\n",
      " |      Returns self, the complex conjugate of any int.\n",
      " |  \n",
      " |  to_bytes(self, /, length, byteorder, *, signed=False)\n",
      " |      Return an array of bytes representing an integer.\n",
      " |      \n",
      " |      length\n",
      " |        Length of bytes object to use.  An OverflowError is raised if the\n",
      " |        integer is not representable with the given number of bytes.\n",
      " |      byteorder\n",
      " |        The byte order used to represent the integer.  If byteorder is 'big',\n",
      " |        the most significant byte is at the beginning of the byte array.  If\n",
      " |        byteorder is 'little', the most significant byte is at the end of the\n",
      " |        byte array.  To request the native byte order of the host system, use\n",
      " |        `sys.byteorder' as the byte order value.\n",
      " |      signed\n",
      " |        Determines whether two's complement is used to represent the integer.\n",
      " |        If signed is False and a negative integer is given, an OverflowError\n",
      " |        is raised.\n",
      " |  \n",
      " |  ----------------------------------------------------------------------\n",
      " |  Class methods defined here:\n",
      " |  \n",
      " |  from_bytes(bytes, byteorder, *, signed=False) from builtins.type\n",
      " |      Return the integer represented by the given array of bytes.\n",
      " |      \n",
      " |      bytes\n",
      " |        Holds the array of bytes to convert.  The argument must either\n",
      " |        support the buffer protocol or be an iterable object producing bytes.\n",
      " |        Bytes and bytearray are examples of built-in objects that support the\n",
      " |        buffer protocol.\n",
      " |      byteorder\n",
      " |        The byte order used to represent the integer.  If byteorder is 'big',\n",
      " |        the most significant byte is at the beginning of the byte array.  If\n",
      " |        byteorder is 'little', the most significant byte is at the end of the\n",
      " |        byte array.  To request the native byte order of the host system, use\n",
      " |        `sys.byteorder' as the byte order value.\n",
      " |      signed\n",
      " |        Indicates whether two's complement is used to represent the integer.\n",
      " |  \n",
      " |  ----------------------------------------------------------------------\n",
      " |  Static methods defined here:\n",
      " |  \n",
      " |  __new__(*args, **kwargs) from builtins.type\n",
      " |      Create and return a new object.  See help(type) for accurate signature.\n",
      " |  \n",
      " |  ----------------------------------------------------------------------\n",
      " |  Data descriptors defined here:\n",
      " |  \n",
      " |  denominator\n",
      " |      the denominator of a rational number in lowest terms\n",
      " |  \n",
      " |  imag\n",
      " |      the imaginary part of a complex number\n",
      " |  \n",
      " |  numerator\n",
      " |      the numerator of a rational number in lowest terms\n",
      " |  \n",
      " |  real\n",
      " |      the real part of a complex number\n",
      "\n"
     ]
    }
   ],
   "source": [
    "# To see the constructers offered by int class we have help() method.\n",
    "\n",
    "help(int)\n",
    "\n",
    "# In the output we can see two constructors here."
   ]
  },
  {
   "cell_type": "code",
   "execution_count": 16,
   "id": "8881b3d8",
   "metadata": {},
   "outputs": [
    {
     "name": "stdout",
     "output_type": "stream",
     "text": [
      "10\n",
      "22\n",
      "-33\n"
     ]
    }
   ],
   "source": [
    "print(int(10))\n",
    "print(int(22.7))\n",
    "print(int(-33.456))"
   ]
  },
  {
   "cell_type": "code",
   "execution_count": null,
   "id": "f6b60e11",
   "metadata": {},
   "outputs": [
    {
     "name": "stdout",
     "output_type": "stream",
     "text": [
      "1010\n",
      "10\n",
      "2595\n"
     ]
    }
   ],
   "source": [
    "print(int('1010')) # By default base is 10\n",
    "\n",
    "print(int('1010', base = 2))  # 1010 => 10 in decimal\n",
    "\n",
    "print(int('A23', base = 16))  # A23 => 2595 in decimal."
   ]
  },
  {
   "cell_type": "code",
   "execution_count": null,
   "id": "bf784745",
   "metadata": {},
   "outputs": [
    {
     "name": "stdout",
     "output_type": "stream",
     "text": [
      "0b1010\n",
      "0xa23\n",
      "0o354\n"
     ]
    }
   ],
   "source": [
    "# Now lets see how to convert decimal into other bases\n",
    "\n",
    "print(bin(10)) # if you want to make a number as binary number then you need to start that number with 0b\n",
    "\n",
    "print(hex(2595)) # For hexadecimal number it is 0x\n",
    "\n",
    "print(oct(236)) # For octal number it is 0o"
   ]
  },
  {
   "cell_type": "code",
   "execution_count": 19,
   "id": "4105ee26",
   "metadata": {},
   "outputs": [],
   "source": [
    "# Now lets see the algorithm to convert base10 to any kind of bases.\n",
    "\n",
    "def from_base10(n,base):\n",
    "\n",
    "    digit_map = '0123456789ABCDEFGHIJKLMNOPQRSTUVWXYZ'\n",
    "\n",
    "    sign = -1 if n<0 else 1\n",
    "\n",
    "    if base<2 or base >36 :\n",
    "\n",
    "        raise ValueError(\"Invalid Base 2<=base<=36\")\n",
    "    \n",
    "    if n == 0 :\n",
    "        return '0'\n",
    "    \n",
    "    digits  =[]\n",
    "    n = n*sign\n",
    "    while n>0:\n",
    "        m = n % base\n",
    "        n = n // base\n",
    "        digits.insert(0,m)\n",
    "\n",
    "    encoding = ''.join([digit_map[d] for d in digits])\n",
    "\n",
    "    if sign == -1:\n",
    "        \n",
    "        return '-'+ encoding\n",
    "    \n",
    "    return encoding\n",
    "\n"
   ]
  },
  {
   "cell_type": "code",
   "execution_count": 20,
   "id": "926f4024",
   "metadata": {},
   "outputs": [
    {
     "name": "stdout",
     "output_type": "stream",
     "text": [
      "1010\n",
      "10\n"
     ]
    }
   ],
   "source": [
    "a = from_base10(10,2)\n",
    "print(a)\n",
    "print(int(a, base =2))"
   ]
  },
  {
   "cell_type": "code",
   "execution_count": 21,
   "id": "75f1c401",
   "metadata": {},
   "outputs": [
    {
     "name": "stdout",
     "output_type": "stream",
     "text": [
      "-1010\n",
      "-10\n"
     ]
    }
   ],
   "source": [
    "a = from_base10(-10,2)\n",
    "print(a)\n",
    "print(int(a, base =2))"
   ]
  }
 ],
 "metadata": {
  "kernelspec": {
   "display_name": "Python",
   "language": "python",
   "name": "python3"
  },
  "language_info": {
   "codemirror_mode": {
    "name": "ipython",
    "version": 3
   },
   "file_extension": ".py",
   "mimetype": "text/x-python",
   "name": "python",
   "nbconvert_exporter": "python",
   "pygments_lexer": "ipython3",
   "version": "3.10.0"
  }
 },
 "nbformat": 4,
 "nbformat_minor": 5
}
